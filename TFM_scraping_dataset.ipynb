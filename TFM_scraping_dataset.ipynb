{
 "cells": [
  {
   "cell_type": "code",
   "execution_count": 1,
   "metadata": {
    "collapsed": true
   },
   "outputs": [],
   "source": [
    "import pandas as pd\n",
    "import requests as rq\n",
    "from lxml.html import parse\n",
    "from urllib2 import urlopen"
   ]
  },
  {
   "cell_type": "code",
   "execution_count": 10,
   "metadata": {
    "collapsed": false
   },
   "outputs": [],
   "source": [
    "parsed = parse(urlopen('http://www.autodescuento.com'))\n",
    "\n",
    "doc = parsed.getroot()"
   ]
  },
  {
   "cell_type": "code",
   "execution_count": 15,
   "metadata": {
    "collapsed": false
   },
   "outputs": [],
   "source": [
    "h2links = doc.findall(\".//h2\")\n",
    "\n",
    "\n",
    "lista_marcas=[]\n",
    "\n",
    "for h2 in h2links:\n",
    "    marca = h2.text_content().strip()\n",
    "    #print(marca)\n",
    "    lista_marcas.append(marca)\n",
    "    "
   ]
  },
  {
   "cell_type": "code",
   "execution_count": 16,
   "metadata": {
    "collapsed": false
   },
   "outputs": [
    {
     "data": {
      "text/plain": [
       "[u'Los m\\xe1s baratos.',\n",
       " 'Abarth',\n",
       " 'Alfa Romeo',\n",
       " 'Audi',\n",
       " 'Bmw',\n",
       " 'Citroen',\n",
       " 'Dacia',\n",
       " 'Ds',\n",
       " 'Fiat',\n",
       " 'Ford',\n",
       " 'Honda',\n",
       " 'Hyundai',\n",
       " 'Infiniti',\n",
       " 'Jaguar',\n",
       " 'Jeep',\n",
       " 'Kia',\n",
       " 'Land Rover',\n",
       " 'Lexus',\n",
       " 'Maserati',\n",
       " 'Mazda',\n",
       " 'Mercedes',\n",
       " 'Mini',\n",
       " 'Mitsubishi',\n",
       " 'Nissan',\n",
       " 'Opel',\n",
       " 'Peugeot',\n",
       " 'Porsche',\n",
       " 'Renault',\n",
       " 'Seat',\n",
       " 'Skoda',\n",
       " 'Smart',\n",
       " 'Ssangyong',\n",
       " 'Subaru',\n",
       " 'Suzuki',\n",
       " 'Tesla',\n",
       " 'Toyota',\n",
       " 'Volkswagen',\n",
       " 'Volvo',\n",
       " u'Financiaci\\xf3n',\n",
       " 'Renting',\n",
       " u'B\\xfasquedas frecuentes',\n",
       " 'Ofertas de coches nuevos',\n",
       " 'Novedades del motor',\n",
       " u'Diez claves para tener los neum\\xe1ticos siempre a punto',\n",
       " u'Car2Go retira sus veh\\xedculos el\\xe9ctricos en San Diego',\n",
       " u'2016, la transici\\xf3n al veh\\xedculo el\\xe9ctrico en Espa\\xf1a']"
      ]
     },
     "execution_count": 16,
     "metadata": {},
     "output_type": "execute_result"
    }
   ],
   "source": [
    "lista_marcas"
   ]
  },
  {
   "cell_type": "code",
   "execution_count": 19,
   "metadata": {
    "collapsed": true
   },
   "outputs": [],
   "source": [
    "lista_marcas_limpia = lista_marcas[1:38]"
   ]
  },
  {
   "cell_type": "code",
   "execution_count": 20,
   "metadata": {
    "collapsed": false
   },
   "outputs": [
    {
     "data": {
      "text/plain": [
       "['Abarth',\n",
       " 'Alfa Romeo',\n",
       " 'Audi',\n",
       " 'Bmw',\n",
       " 'Citroen',\n",
       " 'Dacia',\n",
       " 'Ds',\n",
       " 'Fiat',\n",
       " 'Ford',\n",
       " 'Honda',\n",
       " 'Hyundai',\n",
       " 'Infiniti',\n",
       " 'Jaguar',\n",
       " 'Jeep',\n",
       " 'Kia',\n",
       " 'Land Rover',\n",
       " 'Lexus',\n",
       " 'Maserati',\n",
       " 'Mazda',\n",
       " 'Mercedes',\n",
       " 'Mini',\n",
       " 'Mitsubishi',\n",
       " 'Nissan',\n",
       " 'Opel',\n",
       " 'Peugeot',\n",
       " 'Porsche',\n",
       " 'Renault',\n",
       " 'Seat',\n",
       " 'Skoda',\n",
       " 'Smart',\n",
       " 'Ssangyong',\n",
       " 'Subaru',\n",
       " 'Suzuki',\n",
       " 'Tesla',\n",
       " 'Toyota',\n",
       " 'Volkswagen',\n",
       " 'Volvo']"
      ]
     },
     "execution_count": 20,
     "metadata": {},
     "output_type": "execute_result"
    }
   ],
   "source": [
    "lista_marcas_limpia"
   ]
  },
  {
   "cell_type": "code",
   "execution_count": 21,
   "metadata": {
    "collapsed": true
   },
   "outputs": [],
   "source": [
    "lista_path_url_marcas = []\n",
    "\n",
    "for marca in lista_marcas_limpia:\n",
    "    url_marca = '/coches-nuevos-'+marca+'.htm'\n",
    "    url_marca_limpia = url_marca.replace(' ','')\n",
    "    lista_path_url_marcas.append(url_marca_limpia)"
   ]
  },
  {
   "cell_type": "code",
   "execution_count": 22,
   "metadata": {
    "collapsed": false
   },
   "outputs": [
    {
     "data": {
      "text/plain": [
       "['/coches-nuevos-Abarth.htm',\n",
       " '/coches-nuevos-AlfaRomeo.htm',\n",
       " '/coches-nuevos-Audi.htm',\n",
       " '/coches-nuevos-Bmw.htm',\n",
       " '/coches-nuevos-Citroen.htm',\n",
       " '/coches-nuevos-Dacia.htm',\n",
       " '/coches-nuevos-Ds.htm',\n",
       " '/coches-nuevos-Fiat.htm',\n",
       " '/coches-nuevos-Ford.htm',\n",
       " '/coches-nuevos-Honda.htm',\n",
       " '/coches-nuevos-Hyundai.htm',\n",
       " '/coches-nuevos-Infiniti.htm',\n",
       " '/coches-nuevos-Jaguar.htm',\n",
       " '/coches-nuevos-Jeep.htm',\n",
       " '/coches-nuevos-Kia.htm',\n",
       " '/coches-nuevos-LandRover.htm',\n",
       " '/coches-nuevos-Lexus.htm',\n",
       " '/coches-nuevos-Maserati.htm',\n",
       " '/coches-nuevos-Mazda.htm',\n",
       " '/coches-nuevos-Mercedes.htm',\n",
       " '/coches-nuevos-Mini.htm',\n",
       " '/coches-nuevos-Mitsubishi.htm',\n",
       " '/coches-nuevos-Nissan.htm',\n",
       " '/coches-nuevos-Opel.htm',\n",
       " '/coches-nuevos-Peugeot.htm',\n",
       " '/coches-nuevos-Porsche.htm',\n",
       " '/coches-nuevos-Renault.htm',\n",
       " '/coches-nuevos-Seat.htm',\n",
       " '/coches-nuevos-Skoda.htm',\n",
       " '/coches-nuevos-Smart.htm',\n",
       " '/coches-nuevos-Ssangyong.htm',\n",
       " '/coches-nuevos-Subaru.htm',\n",
       " '/coches-nuevos-Suzuki.htm',\n",
       " '/coches-nuevos-Tesla.htm',\n",
       " '/coches-nuevos-Toyota.htm',\n",
       " '/coches-nuevos-Volkswagen.htm',\n",
       " '/coches-nuevos-Volvo.htm']"
      ]
     },
     "execution_count": 22,
     "metadata": {},
     "output_type": "execute_result"
    }
   ],
   "source": [
    "lista_path_url_marcas"
   ]
  },
  {
   "cell_type": "code",
   "execution_count": 23,
   "metadata": {
    "collapsed": false
   },
   "outputs": [
    {
     "ename": "NameError",
     "evalue": "name 'urllib2' is not defined",
     "output_type": "error",
     "traceback": [
      "\u001b[0;31m---------------------------------------------------------------------------\u001b[0m",
      "\u001b[0;31mNameError\u001b[0m                                 Traceback (most recent call last)",
      "\u001b[0;32m<ipython-input-23-925296b02350>\u001b[0m in \u001b[0;36m<module>\u001b[0;34m()\u001b[0m\n\u001b[1;32m      1\u001b[0m \u001b[0;32mfor\u001b[0m \u001b[0mmarca\u001b[0m \u001b[0;32min\u001b[0m \u001b[0mlista_path_url_marcas\u001b[0m\u001b[0;34m:\u001b[0m\u001b[0;34m\u001b[0m\u001b[0m\n\u001b[0;32m----> 2\u001b[0;31m     \u001b[0mreq\u001b[0m \u001b[0;34m=\u001b[0m \u001b[0murllib2\u001b[0m\u001b[0;34m.\u001b[0m\u001b[0mRequest\u001b[0m\u001b[0;34m(\u001b[0m\u001b[0;34m'http://www.autodescuento.com'\u001b[0m\u001b[0;34m+\u001b[0m\u001b[0mmarca\u001b[0m\u001b[0;34m,\u001b[0m \u001b[0mheaders\u001b[0m\u001b[0;34m=\u001b[0m\u001b[0;34m{\u001b[0m\u001b[0;34m'User-Agent'\u001b[0m\u001b[0;34m:\u001b[0m \u001b[0;34m'Safari'\u001b[0m\u001b[0;34m}\u001b[0m\u001b[0;34m)\u001b[0m\u001b[0;34m\u001b[0m\u001b[0m\n\u001b[0m\u001b[1;32m      3\u001b[0m     \u001b[0mwebpage\u001b[0m \u001b[0;34m=\u001b[0m \u001b[0mparse\u001b[0m\u001b[0;34m(\u001b[0m\u001b[0murlopen\u001b[0m\u001b[0;34m(\u001b[0m\u001b[0mreq\u001b[0m\u001b[0;34m)\u001b[0m\u001b[0;34m)\u001b[0m\u001b[0;34m\u001b[0m\u001b[0m\n\u001b[1;32m      4\u001b[0m     \u001b[0mdoc\u001b[0m \u001b[0;34m=\u001b[0m \u001b[0mwebpage\u001b[0m\u001b[0;34m.\u001b[0m\u001b[0mgetroot\u001b[0m\u001b[0;34m(\u001b[0m\u001b[0;34m)\u001b[0m\u001b[0;34m\u001b[0m\u001b[0m\n\u001b[1;32m      5\u001b[0m     \u001b[0mdiv_tags\u001b[0m \u001b[0;34m=\u001b[0m \u001b[0mdoc\u001b[0m\u001b[0;34m.\u001b[0m\u001b[0mfindall\u001b[0m\u001b[0;34m(\u001b[0m\u001b[0;34m\".//div\"\u001b[0m\u001b[0;34m)\u001b[0m\u001b[0;34m\u001b[0m\u001b[0m\n",
      "\u001b[0;31mNameError\u001b[0m: name 'urllib2' is not defined"
     ]
    }
   ],
   "source": [
    "for marca in lista_path_url_marcas:\n",
    "    req = urllib2.Request('http://www.autodescuento.com'+marca, headers={'User-Agent': 'Safari'})\n",
    "    webpage = parse(urlopen(req))\n",
    "    doc = webpage.getroot()\n",
    "    div_tags = doc.findall(\".//div\")"
   ]
  },
  {
   "cell_type": "code",
   "execution_count": 24,
   "metadata": {
    "collapsed": false
   },
   "outputs": [
    {
     "ename": "NameError",
     "evalue": "name 'urllib2' is not defined",
     "output_type": "error",
     "traceback": [
      "\u001b[0;31m---------------------------------------------------------------------------\u001b[0m",
      "\u001b[0;31mNameError\u001b[0m                                 Traceback (most recent call last)",
      "\u001b[0;32m<ipython-input-24-e71e8163c545>\u001b[0m in \u001b[0;36m<module>\u001b[0;34m()\u001b[0m\n\u001b[0;32m----> 1\u001b[0;31m \u001b[0mreq\u001b[0m \u001b[0;34m=\u001b[0m \u001b[0murllib2\u001b[0m\u001b[0;34m.\u001b[0m\u001b[0mRequest\u001b[0m\u001b[0;34m(\u001b[0m\u001b[0;34m'http://www.autodescuento.com/coches-nuevos-Subaru.htm'\u001b[0m\u001b[0;34m,\u001b[0m \u001b[0mheaders\u001b[0m\u001b[0;34m=\u001b[0m\u001b[0;34m{\u001b[0m\u001b[0;34m'User-Agent'\u001b[0m\u001b[0;34m:\u001b[0m \u001b[0;34m'Safari'\u001b[0m\u001b[0;34m}\u001b[0m\u001b[0;34m)\u001b[0m\u001b[0;34m\u001b[0m\u001b[0m\n\u001b[0m\u001b[1;32m      2\u001b[0m \u001b[0mwebpage\u001b[0m \u001b[0;34m=\u001b[0m \u001b[0mparse\u001b[0m\u001b[0;34m(\u001b[0m\u001b[0murlopen\u001b[0m\u001b[0;34m(\u001b[0m\u001b[0mreq\u001b[0m\u001b[0;34m)\u001b[0m\u001b[0;34m)\u001b[0m\u001b[0;34m\u001b[0m\u001b[0m\n\u001b[1;32m      3\u001b[0m \u001b[0mdoc\u001b[0m \u001b[0;34m=\u001b[0m \u001b[0mwebpage\u001b[0m\u001b[0;34m.\u001b[0m\u001b[0mgetroot\u001b[0m\u001b[0;34m(\u001b[0m\u001b[0;34m)\u001b[0m\u001b[0;34m\u001b[0m\u001b[0m\n\u001b[1;32m      4\u001b[0m \u001b[0mdiv_tags\u001b[0m \u001b[0;34m=\u001b[0m \u001b[0mdoc\u001b[0m\u001b[0;34m.\u001b[0m\u001b[0mfindall\u001b[0m\u001b[0;34m(\u001b[0m\u001b[0;34m\".//div\"\u001b[0m\u001b[0;34m)\u001b[0m\u001b[0;34m\u001b[0m\u001b[0m\n",
      "\u001b[0;31mNameError\u001b[0m: name 'urllib2' is not defined"
     ]
    }
   ],
   "source": [
    "req = urllib2.Request('http://www.autodescuento.com/coches-nuevos-Subaru.htm', headers={'User-Agent': 'Safari'})\n",
    "webpage = parse(urlopen(req))\n",
    "doc = webpage.getroot()\n",
    "div_tags = doc.findall(\".//div\")"
   ]
  },
  {
   "cell_type": "code",
   "execution_count": null,
   "metadata": {
    "collapsed": true
   },
   "outputs": [],
   "source": []
  }
 ],
 "metadata": {
  "kernelspec": {
   "display_name": "Python 2",
   "language": "python",
   "name": "python2"
  },
  "language_info": {
   "codemirror_mode": {
    "name": "ipython",
    "version": 2
   },
   "file_extension": ".py",
   "mimetype": "text/x-python",
   "name": "python",
   "nbconvert_exporter": "python",
   "pygments_lexer": "ipython2",
   "version": "2.7.13"
  }
 },
 "nbformat": 4,
 "nbformat_minor": 2
}
