{
 "cells": [
  {
   "cell_type": "code",
   "execution_count": null,
   "metadata": {
    "collapsed": false,
    "deletable": true,
    "editable": true
   },
   "outputs": [],
   "source": [
    "!pwd"
   ]
  },
  {
   "cell_type": "code",
   "execution_count": null,
   "metadata": {
    "collapsed": false,
    "deletable": true,
    "editable": true
   },
   "outputs": [],
   "source": [
    "!ls"
   ]
  },
  {
   "cell_type": "markdown",
   "metadata": {
    "deletable": true,
    "editable": true
   },
   "source": [
    "#### Inspecciono los archivos de datos para mirar los posibles separadores"
   ]
  },
  {
   "cell_type": "code",
   "execution_count": 22,
   "metadata": {
    "collapsed": false,
    "deletable": true,
    "editable": true
   },
   "outputs": [
    {
     "name": "stdout",
     "output_type": "stream",
     "text": [
      "Date^Time^TxnCode^OfficeID^Country^Origin^Destination^RoundTrip^NbSegments^Seg1Departure^Seg1Arrival^Seg1Date^Seg1Carrier^Seg1BookingCode^Seg2Departure^Seg2Arrival^Seg2Date^Seg2Carrier^Seg2BookingCode^Seg3Departure^Seg3Arrival^Seg3Date^Seg3Carrier^Seg3BookingCode^Seg4Departure^Seg4Arrival^Seg4Date^Seg4Carrier^Seg4BookingCode^Seg5Departure^Seg5Arrival^Seg5Date^Seg5Carrier^Seg5BookingCode^Seg6Departure^Seg6Arrival^Seg6Date^Seg6Carrier^Seg6BookingCode^From^IsPublishedForNeg^IsFromInternet^IsFromVista^TerminalID^InternetOffice\r\n",
      "2013-01-01^20:25:57^MPT^624d8c3ac0b3a7ca03e3c167e0f48327^DE^TXL^AUH^1^2^TXL^AUH^2013-01-26^D2^^AUH^TXL^2013-02-02^D2^^^^^^^^^^^^^^^^^^^^^^1ASIWS^0^0^0^d41d8cd98f00b204e9800998ecf8427e^FRA\r\n",
      "2013-01-01^10:15:33^MPT^b0af35b31588dc4ab06d5cf2986e8e02^MD^ATH^MIL^0^1^ATH^MIL^2013-01-04^^^^^^^^^^^^^^^^^^^^^^^^^^^^1ASIWS^0^0^0^d41d8cd98f00b204e9800998ecf8427e^KIV\r\n",
      "2013-01-01^18:04:49^MPT^3561a60621de06ab1badc8ca55699ef3^US^ICT^SFO^1^2^ICT^SFO^2013-08-02^^^SFO^ICT^2013-08-09^^^^^^^^^^^^^^^^^^^^^^^1ASIWS^0^0^0^d41d8cd98f00b204e9800998ecf8427e^NYC\r\n",
      "2013-01-01^17:42:40^FXP^1864e5e8013d9414150e91d26b6a558b^SE^RNB^ARN^0^1^RNB^ARN^2013-01-02^DU^W^^^^^^^^^^^^^^^^^^^^^^^^^^1ASI^0^0^0^d41d8cd98f00b204e9800998ecf8427e^STO\r\n",
      "2013-01-01^17:48:29^MPT^1ec336348f44207d2e0027dc3a68c118^NO^OSL^MAD^1^2^OSL^MAD^2013-03-22^^^MAD^OSL^2013-03-31^^^^^^^^^^^^^^^^^^^^^^^1ASIWS^0^0^0^d41d8cd98f00b204e9800998ecf8427e^OSL\r\n",
      "2013-01-01^22:00:28^MPT^3561a60621de06ab1badc8ca55699ef3^US^IAH^BLR^1^2^IAH^BLR^2013-02-14^^^BLR^IAH^2013-02-23^^^^^^^^^^^^^^^^^^^^^^^1ASIWS^0^0^0^d41d8cd98f00b204e9800998ecf8427e^NYC\r\n",
      "2013-01-01^10:47:14^MPT^d327ca6e35cc6732d4709828327ac7c1^DK^CPH^PAR^1^2^CPH^PAR^2013-03-02^^^PAR^CPH^2013-03-07^^^^^^^^^^^^^^^^^^^^^^^1ASI^0^0^0^d41d8cd98f00b204e9800998ecf8427e^CPH\r\n",
      "2013-01-01^23:39:49^MPT^38a3abb0a28e3f00fa79a11f552a5052^FR^PAR^DUB^1^2^PAR^DUB^2013-02-12^^^DUB^PAR^2013-02-17^^^^^^^^^^^^^^^^^^^^^^^1ASIWS^0^0^0^d41d8cd98f00b204e9800998ecf8427e^PAR\r\n",
      "2013-01-01^17:08:46^MPT^c8daef4f8bf73a61aa2c928705f7b82d^ES^DUS^ACE^1^2^DUS^ACE^2013-03-30^^^ACE^DUS^2013-04-06^^^^^^^^^^^^^^^^^^^^^^^1ASIWS^0^0^0^d41d8cd98f00b204e9800998ecf8427e^MAD\r\n",
      "2013-01-01^19:57:57^MPT^28d7a8c95e4db88589d3d35b66920e78^DE^FRA^BGW^1^2^FRA^BGW^2013-02-26^^^BGW^FRA^2013-04-08^^^^^^^^^^^^^^^^^^^^^^^1ASI^0^0^0^d41d8cd98f00b204e9800998ecf8427e^BNJ\r\n",
      "2013-01-01^18:01:31^MPT^b2771a31dc32d1e4af0ea7d758b8442b^FR^PAR^BUD^1^2^PAR^BUD^2013-03-14^^^BUD^PAR^2013-03-17^^^^^^^^^^^^^^^^^^^^^^^1ASIWS^0^0^0^d41d8cd98f00b204e9800998ecf8427e^PAR\r\n",
      "2013-01-01^09:32:18^FFP^53aea156edeed571bbc473c82b01ac4b^BR^RIO^POA^1^2^RIO^POA^2013-02-01^^^POA^RIO^2013-02-18^^^^^^^^^^^^^^^^^^^^^^^1ASIWS^0^0^0^d41d8cd98f00b204e9800998ecf8427e^SAO\r\n",
      "2013-01-01^05:41:14^CAL^dfa4f720052cefaf2e1fe40befc016e6^HK^HKG^MXP^1^2^HKG^MXP^2013-05-21^MI^^MXP^HKG^2013-06-03^MI^^^^^^^^^^^^^^^^^^^^^^1ASIWS^0^0^0^d41d8cd98f00b204e9800998ecf8427e^HKG\r\n",
      "2013-01-01^07:05:45^MPT^d03a30f66f773a65aad66e7bafd1110f^GR^BCN^LON^0^1^BCN^LON^2013-01-30^^^^^^^^^^^^^^^^^^^^^^^^^^^^1ASIWS^0^0^0^d41d8cd98f00b204e9800998ecf8427e^ATH\r\n",
      "2013-01-01^03:30:49^MPT^b04e0620a297a1b50819d31535aa5b61^US^CLE^SNN^1^2^CLE^SNN^2013-06-05^^^SNN^CLE^2013-06-23^^^^^^^^^^^^^^^^^^^^^^^1ASI^0^0^0^d41d8cd98f00b204e9800998ecf8427e^DTW\r\n",
      "2013-01-01^09:19:41^FCP^7da60d9e60a322d3fff7e00cb62baa53^BR^BSB^SLZ^0^1^BSB^SLZ^2013-04-23^TT^^^^^^^^^^^^^^^^^^^^^^^^^^^1ASIWS^0^0^0^d41d8cd98f00b204e9800998ecf8427e^SAO\r\n",
      "2013-01-01^06:20:43^MPT^440642a9bdaeb6287f826cefd73255e8^US^PEK^PHL^0^1^PEK^PHL^2013-02-22^FK^^^^^^^^^^^^^^^^^^^^^^^^^^^1ASIWS^0^0^0^d41d8cd98f00b204e9800998ecf8427e^HPN\r\n",
      "2013-01-01^18:54:24^MPT^8b4fa4e121637f583bfa86ef0fa26c9e^US^BOS^GRU^1^2^BOS^GRU^2013-01-04^^^GRU^BOS^2013-02-04^^^^^^^^^^^^^^^^^^^^^^^1ASIWS^0^0^0^d41d8cd98f00b204e9800998ecf8427e^LAS\r\n",
      "2013-01-01^10:47:24^MPT^b0af35b31588dc4ab06d5cf2986e8e02^MD^TBS^IKT^0^1^TBS^IKT^2013-04-02^^^^^^^^^^^^^^^^^^^^^^^^^^^^1ASIWS^0^0^0^d41d8cd98f00b204e9800998ecf8427e^KIV\r\n",
      "2013-01-01^19:02:13^MPT^cf4ae41b25a075c3a8fee145e1919199^NL^LON^HKG^1^2^LON^HKG^2013-01-05^LE^^HKG^LON^2013-01-11^LE^^^^^^^^^^^^^^^^^^^^^^1ASI^0^0^0^d41d8cd98f00b204e9800998ecf8427e^AMS\r\n",
      "2013-01-01^18:38:29^MPT^ef16c4545ce42ab4c753f44780accf94^ES^MAD^SEA^1^2^MAD^SEA^2013-06-26^^^SEA^MAD^2013-07-26^^^^^^^^^^^^^^^^^^^^^^^1ASIWS^0^0^0^d41d8cd98f00b204e9800998ecf8427e^BCN\r\n",
      "2013-01-01^14:07:13^FXP^8e26311e3f5deaceabc65406c823f84d^DE^DUS^STN^1^2^DUS^STN^2013-03-18^KL^Y^STN^DUS^2013-03-22^KL^Y^^^^^^^^^^^^^^^^^^^^^1ASI^0^0^0^d41d8cd98f00b204e9800998ecf8427e^BER\r\n",
      "2013-01-01^15:14:09^MPT^624d8c3ac0b3a7ca03e3c167e0f48327^DE^PAD^FUE^0^1^PAD^FUE^2013-01-15^I7^^^^^^^^^^^^^^^^^^^^^^^^^^^1ASIWS^0^0^0^d41d8cd98f00b204e9800998ecf8427e^FRA\r\n",
      "2013-01-01^23:32:58^MPT^624d8c3ac0b3a7ca03e3c167e0f48327^DE^DUS^IST^1^2^DUS^IST^2013-03-24^YD^^IST^DUS^2013-03-28^YD^^^^^^^^^^^^^^^^^^^^^^1ASIWS^0^0^0^d41d8cd98f00b204e9800998ecf8427e^FRA\r\n",
      "2013-01-01^10:39:09^MPT^909e0b385888f1305839025d209a5a93^GB^BHX^VIE^1^2^BHX^VIE^2013-01-15^^^VIE^BHX^2013-01-22^^^^^^^^^^^^^^^^^^^^^^^1ASI^0^0^0^d41d8cd98f00b204e9800998ecf8427e^LON\r\n",
      "2013-01-01^13:49:17^MTP^5b0992ae324105dc3d730db5c42569e8^BR^CGB^SAO^0^1^CGB^SAO^2013-01-07^^^^^^^^^^^^^^^^^^^^^^^^^^^^1ASIWS^0^0^0^d41d8cd98f00b204e9800998ecf8427e^RIO\r\n",
      "2013-01-01^21:22:10^MPT^074543ae7a58f4f4c0833d023b2c0db7^CH^ZRH^BRI^1^2^ZRH^BRI^2013-04-06^^^BRI^ZRH^2013-04-14^^^^^^^^^^^^^^^^^^^^^^^1ASI^0^0^0^d41d8cd98f00b204e9800998ecf8427e^GVA\r\n",
      "2013-01-01^18:33:28^CCP^3565e31495ecfd46fa018339d20382b1^SA^RUH^JED^0^1^RUH^JED^2013-01-04^KP^^^^^^^^^^^^^^^^^^^^^^^^^^^1ASIWS^0^0^0^d41d8cd98f00b204e9800998ecf8427e^JED\r\n",
      "2013-01-01^16:59:19^MPT^0c618d30c252b880d8a83ebb76af7643^SE^UME^CPH^1^2^UME^CPH^2013-01-06^^^CPH^UME^2013-01-15^^^^^^^^^^^^^^^^^^^^^^^1ASI^0^0^0^d41d8cd98f00b204e9800998ecf8427e^STO\r\n",
      "2013-01-01^21:25:37^FFP^cb028e2166a95168fee7d483a463ae54^DE^FRA^DRS^0^1^FRA^DRS^2013-04-03^7U^^^^^^^^^^^^^^^^^^^^^^^^^^^1ASIWS^0^0^0^d41d8cd98f00b204e9800998ecf8427e^FRA\r\n",
      "2013-01-01^10:13:02^MPT^0a914cfb66b849dddaa6bb2e66ff0999^DE^BER^DUS^1^2^BER^DUS^2013-02-22^^^DUS^BER^2013-07-24^^^^^^^^^^^^^^^^^^^^^^^1ASI^0^0^0^d41d8cd98f00b204e9800998ecf8427e^BNJ\r\n",
      "2013-01-01^01:47:30^MPT^d03a30f66f773a65aad66e7bafd1110f^GR^WAW^VCE^1^2^WAW^VCE^2013-04-20^^^VCE^WAW^2013-04-27^^^^^^^^^^^^^^^^^^^^^^^1ASIWS^0^0^0^d41d8cd98f00b204e9800998ecf8427e^ATH\r\n",
      "2013-01-01^22:43:07^MPT^cfd7e726d69ea3a852dacad71538a9d0^RU^MOW^NBC^0^1^MOW^NBC^2013-01-05^^^^^^^^^^^^^^^^^^^^^^^^^^^^1ASIWS^0^0^0^d41d8cd98f00b204e9800998ecf8427e^MOW\r\n",
      "2013-01-01^17:09:52^MPT^7bccd1a134d671fd69258d4fa6a006d2^DE^FRA^USM^1^2^FRA^USM^2013-01-02^^^USM^FRA^2013-01-17^^^^^^^^^^^^^^^^^^^^^^^1ASI^0^0^0^d41d8cd98f00b204e9800998ecf8427e^BER\r\n",
      "2013-01-01^17:59:44^MPT^7f45b8c2329242b93ccfcc1082036bc3^IT^FRA^IAD^1^2^FRA^IAD^2013-03-20^KK^^IAD^FRA^2013-03-25^KK^^^^^^^^^^^^^^^^^^^^^^1ASIWS^0^0^0^d41d8cd98f00b204e9800998ecf8427e^ROM\r\n",
      "2013-01-01^16:24:29^MPT^4e05833a9117d44bc8649c315adc12d8^SE^STO^BKK^1^2^STO^BKK^2013-03-04^^^BKK^STO^2013-03-20^^^^^^^^^^^^^^^^^^^^^^^1ASI^0^0^0^d41d8cd98f00b204e9800998ecf8427e^STO\r\n",
      "2013-01-01^16:43:16^MPT^22cf15984f4b13ed8f513a42324666d1^FR^LYS^SIN^1^2^LYS^SIN^2013-04-18^^^SIN^LYS^2013-05-09^^^^^^^^^^^^^^^^^^^^^^^1ASI^0^0^0^d41d8cd98f00b204e9800998ecf8427e^PAR\r\n",
      "2013-01-01^07:25:32^MPT^4d9b402b8d1ec54ee18899df03fb245e^IN^HYD^LKO^0^1^HYD^LKO^2013-01-04^^^^^^^^^^^^^^^^^^^^^^^^^^^^1ASIWS^0^0^0^d41d8cd98f00b204e9800998ecf8427e^AMD\r\n",
      "2013-01-01^01:44:37^MPT^f60e2ae7a4338f72f4b7c36b30a527ec^SE^CPH^BKK^1^2^CPH^BKK^2013-01-09^^^BKK^CPH^2013-02-06^^^^^^^^^^^^^^^^^^^^^^^1ASIWS^0^0^0^d41d8cd98f00b204e9800998ecf8427e^STO\r\n",
      "2013-01-01^18:45:56^FFP^e69e770f8eeedd20c151538923cfb132^AT^GRZ^MUC^1^2^GRZ^MUC^2013-02-23^7U^^MUC^GRZ^2013-03-03^7U^^^^^^^^^^^^^^^^^^^^^^1ASIWS^0^0^0^d41d8cd98f00b204e9800998ecf8427e^VIE\r\n",
      "2013-01-01^06:36:57^FFP^86f167b84e77346849f9439ae87c02a6^SA^DMM^MNL^1^2^DMM^MNL^2013-06-01^OJ^^MNL^DMM^2013-06-30^OJ^^^^^^^^^^^^^^^^^^^^^^1ASIWS^0^0^0^d41d8cd98f00b204e9800998ecf8427e^JED\r\n",
      "2013-01-01^06:31:05^MPT^533d88ecea8b7fb3425bdf1246cb3763^IN^MAA^BBI^0^1^MAA^BBI^2013-02-18^^^^^^^^^^^^^^^^^^^^^^^^^^^^1ASIWS^0^0^0^d41d8cd98f00b204e9800998ecf8427e^DEL\r\n",
      "2013-01-01^12:22:08^MPT^e4cde7323a6845907a1a35648c3d7363^DK^CPH^MNL^1^2^CPH^MNL^2013-01-07^^^MNL^CPH^2013-02-03^^^^^^^^^^^^^^^^^^^^^^^1ASIWS^0^0^0^d41d8cd98f00b204e9800998ecf8427e^CPH\r\n",
      "2013-01-01^16:02:22^MPT^8b4fa4e121637f583bfa86ef0fa26c9e^US^BOS^RSW^1^2^BOS^RSW^2013-04-12^^^RSW^BOS^2013-04-21^^^^^^^^^^^^^^^^^^^^^^^1ASIWS^0^0^0^d41d8cd98f00b204e9800998ecf8427e^LAS\r\n",
      "2013-01-01^07:45:38^MPT^440642a9bdaeb6287f826cefd73255e8^US^PVG^CMH^0^1^PVG^CMH^2013-02-22^FK^^^^^^^^^^^^^^^^^^^^^^^^^^^1ASIWS^0^0^0^d41d8cd98f00b204e9800998ecf8427e^HPN\r\n",
      "2013-01-01^11:48:31^MPT^3561a60621de06ab1badc8ca55699ef3^US^EWR^PLS^1^2^EWR^PLS^2013-01-22^^^PLS^EWR^2013-01-29^^^^^^^^^^^^^^^^^^^^^^^1ASIWS^0^0^0^d41d8cd98f00b204e9800998ecf8427e^NYC\r\n",
      "2013-01-01^13:58:19^MPT^624d8c3ac0b3a7ca03e3c167e0f48327^DE^STR^MIL^1^2^STR^MIL^2013-02-01^G7^^MIL^STR^2013-02-03^G7^^^^^^^^^^^^^^^^^^^^^^1ASIWS^0^0^0^d41d8cd98f00b204e9800998ecf8427e^FRA\r\n",
      "2013-01-01^13:01:06^FQD^ef20b9114af1f9dce772071abde58fcd^DE^TLV^HAJ^1^2^TLV^HAJ^2013-03-26^^^HAJ^TLV^2013-03-26^^^^^^^^^^^^^^^^^^^^^^^1ASI^0^0^0^d41d8cd98f00b204e9800998ecf8427e^BRE\r\n",
      "2013-01-01^19:14:18^MPT^c8daef4f8bf73a61aa2c928705f7b82d^ES^DUS^NKC^0^1^DUS^NKC^2013-01-04^^^^^^^^^^^^^^^^^^^^^^^^^^^^1ASIWS^0^0^0^d41d8cd98f00b204e9800998ecf8427e^MAD\r\n",
      "\r\n",
      "bzcat: I/O or other error, bailing out.  Possible reason follows.\r\n",
      "bzcat: Broken pipe\r\n",
      "\tInput file = searches.csv.bz2, output file = (stdout)\r\n"
     ]
    }
   ],
   "source": [
    "!bzcat searches.csv.bz2 | head -50\n"
   ]
  },
  {
   "cell_type": "code",
   "execution_count": 24,
   "metadata": {
    "collapsed": false,
    "deletable": true,
    "editable": true
   },
   "outputs": [
    {
     "name": "stdout",
     "output_type": "stream",
     "text": [
      "act_date           ^source^pos_ctry^pos_iata^pos_oid  ^rloc          ^cre_date           ^duration^distance^dep_port^dep_city^dep_ctry^arr_port^arr_city^arr_ctry^lst_port^lst_city^lst_ctry^brd_port^brd_city^brd_ctry^off_port^off_city^off_ctry^mkt_port^mkt_city^mkt_ctry^intl^route          ^carrier^bkg_class^cab_class^brd_time           ^off_time           ^pax^year^month^oid      \r\n",
      "2013-03-05 00:00:00^1A    ^DE      ^a68dd7ae953c8acfb187a1af2dcbe123^1a11ae49fcbf545fd2afc1a24d88d2b7^ea65900e72d71f4626378e2ebd298267^2013-02-22 00:00:00^1708^0^ZRH     ^ZRH     ^CH      ^LHR     ^LON     ^GB      ^ZRH     ^ZRH     ^CH      ^LHR     ^LON     ^GB      ^ZRH     ^ZRH     ^CH      ^LHRZRH  ^LONZRH  ^CHGB    ^1^LHRZRH         ^VI^T        ^Y        ^2013-03-07 08:50:00^2013-03-07 11:33:37^-1^2013^3^NULL     \r\n",
      "2013-03-26 00:00:00^1A    ^US      ^e612b9eeeee6f17f42d9b0d3b79e75ca^7437560d8f276d6d05eeb806d9e7edee^737295a86982c941f1c2da9a46a14043^2013-03-26 00:00:00^135270^0^SAL     ^SAL     ^SV      ^CLT     ^CLT     ^US      ^SAL     ^SAL     ^SV      ^SAL     ^SAL     ^SV      ^CLT     ^CLT     ^US      ^CLTSAL  ^CLTSAL  ^SVUS    ^1^SALATLCLT      ^NV^L        ^Y        ^2013-04-12 13:04:00^2013-04-12 22:05:40^1^2013^3^NULL     \r\n",
      "2013-03-26 00:00:00^1A    ^US      ^e612b9eeeee6f17f42d9b0d3b79e75ca^7437560d8f276d6d05eeb806d9e7edee^737295a86982c941f1c2da9a46a14043^2013-03-26 00:00:00^135270^0^SAL     ^SAL     ^SV      ^CLT     ^CLT     ^US      ^SAL     ^SAL     ^SV      ^CLT     ^CLT     ^US      ^SAL     ^SAL     ^SV      ^CLTSAL  ^CLTSAL  ^SVUS    ^1^CLTATLSAL      ^NV^U        ^Y        ^2013-07-15 07:00:00^2013-07-15 11:34:51^1^2013^3^NULL     \r\n",
      "2013-03-26 00:00:00^1A    ^AU      ^0f984b3bb6bd06661c95529bbd6193bc^36472c6dbaf7afec9136ac40364e2794^5ecf00fdcbcec761c43dc7285253d0c1^2013-03-26 00:00:00^30885^0^AKL     ^AKL     ^NZ      ^SVO     ^MOW     ^RU      ^AKL     ^AKL     ^NZ      ^AKL     ^AKL     ^NZ      ^SVO     ^MOW     ^RU      ^AKLSVO  ^AKLMOW  ^NZRU    ^1^AKLHKGSVO      ^XK^G        ^Y        ^2013-04-24 23:59:00^2013-04-25 16:06:31^1^2013^3^SYDA82546\r\n",
      "2013-03-26 00:00:00^1A    ^AU      ^0f984b3bb6bd06661c95529bbd6193bc^36472c6dbaf7afec9136ac40364e2794^5ecf00fdcbcec761c43dc7285253d0c1^2013-03-26 00:00:00^30885^0^AKL     ^AKL     ^NZ      ^SVO     ^MOW     ^RU      ^AKL     ^AKL     ^NZ      ^SVO     ^MOW     ^RU      ^AKL     ^AKL     ^NZ      ^AKLSVO  ^AKLMOW  ^NZRU    ^1^SVOHKGAKL      ^XK^G        ^Y        ^2013-05-14 20:15:00^2013-05-16 10:44:50^1^2013^3^SYDA82546\r\n",
      "2013-03-20 00:00:00^1V    ^US      ^0283592e45e392871f7e14b1e22a9aaf^2d0f8e7e1bb792625d2f34f221bc38f1^d54708298686de200f8270e7c637af5e^2013-03-20 00:00:00^5923^0^DEN     ^DEN     ^US      ^LGA     ^NYC     ^US      ^DEN     ^DEN     ^US      ^DEN     ^DEN     ^US      ^LGA     ^NYC     ^US      ^DENLGA  ^DENNYC  ^USUS    ^0^DENLGA         ^FK^W        ^Y        ^2013-04-07 10:23:00^2013-04-07 16:14:24^1^2013^3^NULL     \r\n",
      "2013-03-20 00:00:00^1V    ^US      ^0283592e45e392871f7e14b1e22a9aaf^2d0f8e7e1bb792625d2f34f221bc38f1^d54708298686de200f8270e7c637af5e^2013-03-20 00:00:00^5923^0^DEN     ^DEN     ^US      ^LGA     ^NYC     ^US      ^DEN     ^DEN     ^US      ^LGA     ^NYC     ^US      ^DEN     ^DEN     ^US      ^DENLGA  ^DENNYC  ^USUS    ^0^LGADEN         ^FK^K        ^Y        ^2013-04-11 11:15:00^2013-04-11 13:06:24^1^2013^3^NULL     \r\n",
      "2013-03-25 00:00:00^1V    ^JP      ^5af045902bd23cab579915611d99e1e0^5073861d8597467c33596bfe16f23c56^a37584d1485cb35991e4ff1a2ba92262^2013-03-25 00:00:00^8371^60^NRT     ^TYO     ^JP      ^SIN     ^SIN     ^SG      ^HND     ^TYO     ^JP      ^NRT     ^TYO     ^JP      ^SIN     ^SIN     ^SG      ^NRTSIN  ^SINTYO  ^JPSG    ^1^NRTSIN         ^XR^Q        ^Y        ^2013-04-14 11:05:00^2013-04-14 17:10:56^2^2013^3^NULL     \r\n",
      "2013-03-25 00:00:00^1V    ^JP      ^5af045902bd23cab579915611d99e1e0^5073861d8597467c33596bfe16f23c56^a37584d1485cb35991e4ff1a2ba92262^2013-03-25 00:00:00^8371^60^NRT     ^TYO     ^JP      ^SIN     ^SIN     ^SG      ^HND     ^TYO     ^JP      ^SIN     ^SIN     ^SG      ^PEN     ^PEN     ^MY      ^PENSIN  ^PENSIN  ^MYSG    ^1^SINPEN         ^WS^Y        ^Y        ^2013-04-16 15:45:00^2013-04-16 17:15:29^2^2013^3^NULL     \r\n"
     ]
    }
   ],
   "source": [
    "!head bookings.csv"
   ]
  },
  {
   "cell_type": "markdown",
   "metadata": {
    "deletable": true,
    "editable": true
   },
   "source": [
    "#### Comenzamos a inspeccionar los datos"
   ]
  },
  {
   "cell_type": "code",
   "execution_count": null,
   "metadata": {
    "collapsed": true,
    "deletable": true,
    "editable": true
   },
   "outputs": [],
   "source": [
    "!gunzip bookings.csv.bz2.gz"
   ]
  },
  {
   "cell_type": "code",
   "execution_count": null,
   "metadata": {
    "collapsed": false,
    "deletable": true,
    "editable": true
   },
   "outputs": [],
   "source": [
    "!ls"
   ]
  },
  {
   "cell_type": "markdown",
   "metadata": {
    "deletable": true,
    "editable": true
   },
   "source": [
    "####  Ya tenemos en el mismo formato ambos archivos"
   ]
  },
  {
   "cell_type": "code",
   "execution_count": 43,
   "metadata": {
    "collapsed": true,
    "deletable": true,
    "editable": true
   },
   "outputs": [],
   "source": [
    "path1='/home/dsc/Data/challenge/bookings.csv.bz2'\n",
    "path2='/home/dsc/Data/challenge/searches.csv.bz2'\n",
    "path3='/home/dsc/Data/challenge/bookings.csv'\n",
    "path4='/home/dsc/Data/challenge/searches.csv'"
   ]
  },
  {
   "cell_type": "code",
   "execution_count": 6,
   "metadata": {
    "collapsed": false,
    "deletable": true,
    "editable": true
   },
   "outputs": [],
   "source": [
    "import pandas as pd\n",
    "import bz2"
   ]
  },
  {
   "cell_type": "code",
   "execution_count": null,
   "metadata": {
    "collapsed": false,
    "deletable": true,
    "editable": true
   },
   "outputs": [],
   "source": [
    "bz = bz2.BZ2File(path1)"
   ]
  },
  {
   "cell_type": "code",
   "execution_count": null,
   "metadata": {
    "collapsed": true,
    "deletable": true,
    "editable": true
   },
   "outputs": [],
   "source": [
    "bz.close()"
   ]
  },
  {
   "cell_type": "code",
   "execution_count": null,
   "metadata": {
    "collapsed": false,
    "deletable": true,
    "editable": true
   },
   "outputs": [],
   "source": [
    "linea1 = bz.readline()\n",
    "\n",
    "\n",
    "linea1\n"
   ]
  },
  {
   "cell_type": "code",
   "execution_count": null,
   "metadata": {
    "collapsed": false,
    "deletable": true,
    "editable": true
   },
   "outputs": [],
   "source": [
    "lineas = bz.readlines()"
   ]
  },
  {
   "cell_type": "code",
   "execution_count": 20,
   "metadata": {
    "collapsed": false,
    "deletable": true,
    "editable": true
   },
   "outputs": [],
   "source": [
    "def count_lines(file):\n",
    "    count=0\n",
    "    chunk = 1000\n",
    "    block1 = pd.read_csv(file,sep='^',iterator=True,chunksize=chunk)\n",
    "    \n",
    "    while (block1.get_chunk().empty==False):\n",
    "        count +=1\n",
    "    \n",
    "    return count\n",
    "\n",
    "    "
   ]
  },
  {
   "cell_type": "code",
   "execution_count": 21,
   "metadata": {
    "collapsed": false,
    "deletable": true,
    "editable": true,
    "scrolled": true
   },
   "outputs": [
    {
     "ename": "StopIteration",
     "evalue": "",
     "output_type": "error",
     "traceback": [
      "\u001b[0;31m---------------------------------------------------------------------------\u001b[0m",
      "\u001b[0;31mStopIteration\u001b[0m                             Traceback (most recent call last)",
      "\u001b[0;32m<ipython-input-21-5822a649195f>\u001b[0m in \u001b[0;36m<module>\u001b[0;34m()\u001b[0m\n\u001b[0;32m----> 1\u001b[0;31m \u001b[0mcount_lines\u001b[0m\u001b[0;34m(\u001b[0m\u001b[0mpath1\u001b[0m\u001b[0;34m)\u001b[0m\u001b[0;34m\u001b[0m\u001b[0m\n\u001b[0m",
      "\u001b[0;32m<ipython-input-20-fc1e201b5364>\u001b[0m in \u001b[0;36mcount_lines\u001b[0;34m(file)\u001b[0m\n\u001b[1;32m      4\u001b[0m     \u001b[0mblock1\u001b[0m \u001b[0;34m=\u001b[0m \u001b[0mpd\u001b[0m\u001b[0;34m.\u001b[0m\u001b[0mread_csv\u001b[0m\u001b[0;34m(\u001b[0m\u001b[0mfile\u001b[0m\u001b[0;34m,\u001b[0m\u001b[0msep\u001b[0m\u001b[0;34m=\u001b[0m\u001b[0;34m'^'\u001b[0m\u001b[0;34m,\u001b[0m\u001b[0miterator\u001b[0m\u001b[0;34m=\u001b[0m\u001b[0mTrue\u001b[0m\u001b[0;34m,\u001b[0m\u001b[0mchunksize\u001b[0m\u001b[0;34m=\u001b[0m\u001b[0mchunk\u001b[0m\u001b[0;34m)\u001b[0m\u001b[0;34m\u001b[0m\u001b[0m\n\u001b[1;32m      5\u001b[0m \u001b[0;34m\u001b[0m\u001b[0m\n\u001b[0;32m----> 6\u001b[0;31m     \u001b[0;32mwhile\u001b[0m \u001b[0;34m(\u001b[0m\u001b[0mblock1\u001b[0m\u001b[0;34m.\u001b[0m\u001b[0mget_chunk\u001b[0m\u001b[0;34m(\u001b[0m\u001b[0;34m)\u001b[0m\u001b[0;34m.\u001b[0m\u001b[0mempty\u001b[0m\u001b[0;34m==\u001b[0m\u001b[0mFalse\u001b[0m\u001b[0;34m)\u001b[0m\u001b[0;34m:\u001b[0m\u001b[0;34m\u001b[0m\u001b[0m\n\u001b[0m\u001b[1;32m      7\u001b[0m         \u001b[0mcount\u001b[0m \u001b[0;34m+=\u001b[0m\u001b[0;36m1\u001b[0m\u001b[0;34m\u001b[0m\u001b[0m\n\u001b[1;32m      8\u001b[0m \u001b[0;34m\u001b[0m\u001b[0m\n",
      "\u001b[0;32m/home/dsc/anaconda2/lib/python2.7/site-packages/pandas/io/parsers.pyc\u001b[0m in \u001b[0;36mget_chunk\u001b[0;34m(self, size)\u001b[0m\n\u001b[1;32m    970\u001b[0m         \u001b[0;32mif\u001b[0m \u001b[0msize\u001b[0m \u001b[0;32mis\u001b[0m \u001b[0mNone\u001b[0m\u001b[0;34m:\u001b[0m\u001b[0;34m\u001b[0m\u001b[0m\n\u001b[1;32m    971\u001b[0m             \u001b[0msize\u001b[0m \u001b[0;34m=\u001b[0m \u001b[0mself\u001b[0m\u001b[0;34m.\u001b[0m\u001b[0mchunksize\u001b[0m\u001b[0;34m\u001b[0m\u001b[0m\n\u001b[0;32m--> 972\u001b[0;31m         \u001b[0;32mreturn\u001b[0m \u001b[0mself\u001b[0m\u001b[0;34m.\u001b[0m\u001b[0mread\u001b[0m\u001b[0;34m(\u001b[0m\u001b[0mnrows\u001b[0m\u001b[0;34m=\u001b[0m\u001b[0msize\u001b[0m\u001b[0;34m)\u001b[0m\u001b[0;34m\u001b[0m\u001b[0m\n\u001b[0m\u001b[1;32m    973\u001b[0m \u001b[0;34m\u001b[0m\u001b[0m\n\u001b[1;32m    974\u001b[0m \u001b[0;34m\u001b[0m\u001b[0m\n",
      "\u001b[0;32m/home/dsc/anaconda2/lib/python2.7/site-packages/pandas/io/parsers.pyc\u001b[0m in \u001b[0;36mread\u001b[0;34m(self, nrows)\u001b[0m\n\u001b[1;32m    937\u001b[0m                 \u001b[0;32mraise\u001b[0m \u001b[0mValueError\u001b[0m\u001b[0;34m(\u001b[0m\u001b[0;34m'skipfooter not supported for iteration'\u001b[0m\u001b[0;34m)\u001b[0m\u001b[0;34m\u001b[0m\u001b[0m\n\u001b[1;32m    938\u001b[0m \u001b[0;34m\u001b[0m\u001b[0m\n\u001b[0;32m--> 939\u001b[0;31m         \u001b[0mret\u001b[0m \u001b[0;34m=\u001b[0m \u001b[0mself\u001b[0m\u001b[0;34m.\u001b[0m\u001b[0m_engine\u001b[0m\u001b[0;34m.\u001b[0m\u001b[0mread\u001b[0m\u001b[0;34m(\u001b[0m\u001b[0mnrows\u001b[0m\u001b[0;34m)\u001b[0m\u001b[0;34m\u001b[0m\u001b[0m\n\u001b[0m\u001b[1;32m    940\u001b[0m \u001b[0;34m\u001b[0m\u001b[0m\n\u001b[1;32m    941\u001b[0m         \u001b[0;32mif\u001b[0m \u001b[0mself\u001b[0m\u001b[0;34m.\u001b[0m\u001b[0moptions\u001b[0m\u001b[0;34m.\u001b[0m\u001b[0mget\u001b[0m\u001b[0;34m(\u001b[0m\u001b[0;34m'as_recarray'\u001b[0m\u001b[0;34m)\u001b[0m\u001b[0;34m:\u001b[0m\u001b[0;34m\u001b[0m\u001b[0m\n",
      "\u001b[0;32m/home/dsc/anaconda2/lib/python2.7/site-packages/pandas/io/parsers.pyc\u001b[0m in \u001b[0;36mread\u001b[0;34m(self, nrows)\u001b[0m\n\u001b[1;32m   1506\u001b[0m     \u001b[0;32mdef\u001b[0m \u001b[0mread\u001b[0m\u001b[0;34m(\u001b[0m\u001b[0mself\u001b[0m\u001b[0;34m,\u001b[0m \u001b[0mnrows\u001b[0m\u001b[0;34m=\u001b[0m\u001b[0mNone\u001b[0m\u001b[0;34m)\u001b[0m\u001b[0;34m:\u001b[0m\u001b[0;34m\u001b[0m\u001b[0m\n\u001b[1;32m   1507\u001b[0m         \u001b[0;32mtry\u001b[0m\u001b[0;34m:\u001b[0m\u001b[0;34m\u001b[0m\u001b[0m\n\u001b[0;32m-> 1508\u001b[0;31m             \u001b[0mdata\u001b[0m \u001b[0;34m=\u001b[0m \u001b[0mself\u001b[0m\u001b[0;34m.\u001b[0m\u001b[0m_reader\u001b[0m\u001b[0;34m.\u001b[0m\u001b[0mread\u001b[0m\u001b[0;34m(\u001b[0m\u001b[0mnrows\u001b[0m\u001b[0;34m)\u001b[0m\u001b[0;34m\u001b[0m\u001b[0m\n\u001b[0m\u001b[1;32m   1509\u001b[0m         \u001b[0;32mexcept\u001b[0m \u001b[0mStopIteration\u001b[0m\u001b[0;34m:\u001b[0m\u001b[0;34m\u001b[0m\u001b[0m\n\u001b[1;32m   1510\u001b[0m             \u001b[0;32mif\u001b[0m \u001b[0mself\u001b[0m\u001b[0;34m.\u001b[0m\u001b[0m_first_chunk\u001b[0m\u001b[0;34m:\u001b[0m\u001b[0;34m\u001b[0m\u001b[0m\n",
      "\u001b[0;32mpandas/parser.pyx\u001b[0m in \u001b[0;36mpandas.parser.TextReader.read (pandas/parser.c:10415)\u001b[0;34m()\u001b[0m\n",
      "\u001b[0;32mpandas/parser.pyx\u001b[0m in \u001b[0;36mpandas.parser.TextReader._read_low_memory (pandas/parser.c:11084)\u001b[0;34m()\u001b[0m\n",
      "\u001b[0;31mStopIteration\u001b[0m: "
     ]
    }
   ],
   "source": [
    "count_lines(path1)"
   ]
  },
  {
   "cell_type": "code",
   "execution_count": 9,
   "metadata": {
    "collapsed": false,
    "deletable": true,
    "editable": true
   },
   "outputs": [],
   "source": [
    "chunk = 1000\n",
    "block1 = pd.read_csv(path1,sep='^',iterator=True,chunksize=chunk)\n"
   ]
  },
  {
   "cell_type": "code",
   "execution_count": 10,
   "metadata": {
    "collapsed": false,
    "deletable": true,
    "editable": true
   },
   "outputs": [
    {
     "data": {
      "text/html": [
       "<div>\n",
       "<table border=\"1\" class=\"dataframe\">\n",
       "  <thead>\n",
       "    <tr style=\"text-align: right;\">\n",
       "      <th></th>\n",
       "      <th>act_date</th>\n",
       "      <th>source</th>\n",
       "      <th>pos_ctry</th>\n",
       "      <th>pos_iata</th>\n",
       "      <th>pos_oid</th>\n",
       "      <th>rloc</th>\n",
       "      <th>cre_date</th>\n",
       "      <th>duration</th>\n",
       "      <th>distance</th>\n",
       "      <th>dep_port</th>\n",
       "      <th>...</th>\n",
       "      <th>route</th>\n",
       "      <th>carrier</th>\n",
       "      <th>bkg_class</th>\n",
       "      <th>cab_class</th>\n",
       "      <th>brd_time</th>\n",
       "      <th>off_time</th>\n",
       "      <th>pax</th>\n",
       "      <th>year</th>\n",
       "      <th>month</th>\n",
       "      <th>oid</th>\n",
       "    </tr>\n",
       "  </thead>\n",
       "  <tbody>\n",
       "    <tr>\n",
       "      <th>0</th>\n",
       "      <td>2013-03-05 00:00:00</td>\n",
       "      <td>1A</td>\n",
       "      <td>DE</td>\n",
       "      <td>a68dd7ae953c8acfb187a1af2dcbe123</td>\n",
       "      <td>1a11ae49fcbf545fd2afc1a24d88d2b7</td>\n",
       "      <td>ea65900e72d71f4626378e2ebd298267</td>\n",
       "      <td>2013-02-22 00:00:00</td>\n",
       "      <td>1708</td>\n",
       "      <td>0</td>\n",
       "      <td>ZRH</td>\n",
       "      <td>...</td>\n",
       "      <td>LHRZRH</td>\n",
       "      <td>VI</td>\n",
       "      <td>T</td>\n",
       "      <td>Y</td>\n",
       "      <td>2013-03-07 08:50:00</td>\n",
       "      <td>2013-03-07 11:33:37</td>\n",
       "      <td>-1</td>\n",
       "      <td>2013</td>\n",
       "      <td>3</td>\n",
       "      <td>NULL</td>\n",
       "    </tr>\n",
       "    <tr>\n",
       "      <th>1</th>\n",
       "      <td>2013-03-26 00:00:00</td>\n",
       "      <td>1A</td>\n",
       "      <td>US</td>\n",
       "      <td>e612b9eeeee6f17f42d9b0d3b79e75ca</td>\n",
       "      <td>7437560d8f276d6d05eeb806d9e7edee</td>\n",
       "      <td>737295a86982c941f1c2da9a46a14043</td>\n",
       "      <td>2013-03-26 00:00:00</td>\n",
       "      <td>135270</td>\n",
       "      <td>0</td>\n",
       "      <td>SAL</td>\n",
       "      <td>...</td>\n",
       "      <td>SALATLCLT</td>\n",
       "      <td>NV</td>\n",
       "      <td>L</td>\n",
       "      <td>Y</td>\n",
       "      <td>2013-04-12 13:04:00</td>\n",
       "      <td>2013-04-12 22:05:40</td>\n",
       "      <td>1</td>\n",
       "      <td>2013</td>\n",
       "      <td>3</td>\n",
       "      <td>NULL</td>\n",
       "    </tr>\n",
       "    <tr>\n",
       "      <th>2</th>\n",
       "      <td>2013-03-26 00:00:00</td>\n",
       "      <td>1A</td>\n",
       "      <td>US</td>\n",
       "      <td>e612b9eeeee6f17f42d9b0d3b79e75ca</td>\n",
       "      <td>7437560d8f276d6d05eeb806d9e7edee</td>\n",
       "      <td>737295a86982c941f1c2da9a46a14043</td>\n",
       "      <td>2013-03-26 00:00:00</td>\n",
       "      <td>135270</td>\n",
       "      <td>0</td>\n",
       "      <td>SAL</td>\n",
       "      <td>...</td>\n",
       "      <td>CLTATLSAL</td>\n",
       "      <td>NV</td>\n",
       "      <td>U</td>\n",
       "      <td>Y</td>\n",
       "      <td>2013-07-15 07:00:00</td>\n",
       "      <td>2013-07-15 11:34:51</td>\n",
       "      <td>1</td>\n",
       "      <td>2013</td>\n",
       "      <td>3</td>\n",
       "      <td>NULL</td>\n",
       "    </tr>\n",
       "    <tr>\n",
       "      <th>3</th>\n",
       "      <td>2013-03-26 00:00:00</td>\n",
       "      <td>1A</td>\n",
       "      <td>AU</td>\n",
       "      <td>0f984b3bb6bd06661c95529bbd6193bc</td>\n",
       "      <td>36472c6dbaf7afec9136ac40364e2794</td>\n",
       "      <td>5ecf00fdcbcec761c43dc7285253d0c1</td>\n",
       "      <td>2013-03-26 00:00:00</td>\n",
       "      <td>30885</td>\n",
       "      <td>0</td>\n",
       "      <td>AKL</td>\n",
       "      <td>...</td>\n",
       "      <td>AKLHKGSVO</td>\n",
       "      <td>XK</td>\n",
       "      <td>G</td>\n",
       "      <td>Y</td>\n",
       "      <td>2013-04-24 23:59:00</td>\n",
       "      <td>2013-04-25 16:06:31</td>\n",
       "      <td>1</td>\n",
       "      <td>2013</td>\n",
       "      <td>3</td>\n",
       "      <td>SYDA82546</td>\n",
       "    </tr>\n",
       "    <tr>\n",
       "      <th>4</th>\n",
       "      <td>2013-03-26 00:00:00</td>\n",
       "      <td>1A</td>\n",
       "      <td>AU</td>\n",
       "      <td>0f984b3bb6bd06661c95529bbd6193bc</td>\n",
       "      <td>36472c6dbaf7afec9136ac40364e2794</td>\n",
       "      <td>5ecf00fdcbcec761c43dc7285253d0c1</td>\n",
       "      <td>2013-03-26 00:00:00</td>\n",
       "      <td>30885</td>\n",
       "      <td>0</td>\n",
       "      <td>AKL</td>\n",
       "      <td>...</td>\n",
       "      <td>SVOHKGAKL</td>\n",
       "      <td>XK</td>\n",
       "      <td>G</td>\n",
       "      <td>Y</td>\n",
       "      <td>2013-05-14 20:15:00</td>\n",
       "      <td>2013-05-16 10:44:50</td>\n",
       "      <td>1</td>\n",
       "      <td>2013</td>\n",
       "      <td>3</td>\n",
       "      <td>SYDA82546</td>\n",
       "    </tr>\n",
       "    <tr>\n",
       "      <th>5</th>\n",
       "      <td>2013-03-20 00:00:00</td>\n",
       "      <td>1V</td>\n",
       "      <td>US</td>\n",
       "      <td>0283592e45e392871f7e14b1e22a9aaf</td>\n",
       "      <td>2d0f8e7e1bb792625d2f34f221bc38f1</td>\n",
       "      <td>d54708298686de200f8270e7c637af5e</td>\n",
       "      <td>2013-03-20 00:00:00</td>\n",
       "      <td>5923</td>\n",
       "      <td>0</td>\n",
       "      <td>DEN</td>\n",
       "      <td>...</td>\n",
       "      <td>DENLGA</td>\n",
       "      <td>FK</td>\n",
       "      <td>W</td>\n",
       "      <td>Y</td>\n",
       "      <td>2013-04-07 10:23:00</td>\n",
       "      <td>2013-04-07 16:14:24</td>\n",
       "      <td>1</td>\n",
       "      <td>2013</td>\n",
       "      <td>3</td>\n",
       "      <td>NULL</td>\n",
       "    </tr>\n",
       "    <tr>\n",
       "      <th>6</th>\n",
       "      <td>2013-03-20 00:00:00</td>\n",
       "      <td>1V</td>\n",
       "      <td>US</td>\n",
       "      <td>0283592e45e392871f7e14b1e22a9aaf</td>\n",
       "      <td>2d0f8e7e1bb792625d2f34f221bc38f1</td>\n",
       "      <td>d54708298686de200f8270e7c637af5e</td>\n",
       "      <td>2013-03-20 00:00:00</td>\n",
       "      <td>5923</td>\n",
       "      <td>0</td>\n",
       "      <td>DEN</td>\n",
       "      <td>...</td>\n",
       "      <td>LGADEN</td>\n",
       "      <td>FK</td>\n",
       "      <td>K</td>\n",
       "      <td>Y</td>\n",
       "      <td>2013-04-11 11:15:00</td>\n",
       "      <td>2013-04-11 13:06:24</td>\n",
       "      <td>1</td>\n",
       "      <td>2013</td>\n",
       "      <td>3</td>\n",
       "      <td>NULL</td>\n",
       "    </tr>\n",
       "    <tr>\n",
       "      <th>7</th>\n",
       "      <td>2013-03-25 00:00:00</td>\n",
       "      <td>1V</td>\n",
       "      <td>JP</td>\n",
       "      <td>5af045902bd23cab579915611d99e1e0</td>\n",
       "      <td>5073861d8597467c33596bfe16f23c56</td>\n",
       "      <td>a37584d1485cb35991e4ff1a2ba92262</td>\n",
       "      <td>2013-03-25 00:00:00</td>\n",
       "      <td>8371</td>\n",
       "      <td>60</td>\n",
       "      <td>NRT</td>\n",
       "      <td>...</td>\n",
       "      <td>NRTSIN</td>\n",
       "      <td>XR</td>\n",
       "      <td>Q</td>\n",
       "      <td>Y</td>\n",
       "      <td>2013-04-14 11:05:00</td>\n",
       "      <td>2013-04-14 17:10:56</td>\n",
       "      <td>2</td>\n",
       "      <td>2013</td>\n",
       "      <td>3</td>\n",
       "      <td>NULL</td>\n",
       "    </tr>\n",
       "    <tr>\n",
       "      <th>8</th>\n",
       "      <td>2013-03-25 00:00:00</td>\n",
       "      <td>1V</td>\n",
       "      <td>JP</td>\n",
       "      <td>5af045902bd23cab579915611d99e1e0</td>\n",
       "      <td>5073861d8597467c33596bfe16f23c56</td>\n",
       "      <td>a37584d1485cb35991e4ff1a2ba92262</td>\n",
       "      <td>2013-03-25 00:00:00</td>\n",
       "      <td>8371</td>\n",
       "      <td>60</td>\n",
       "      <td>NRT</td>\n",
       "      <td>...</td>\n",
       "      <td>SINPEN</td>\n",
       "      <td>WS</td>\n",
       "      <td>Y</td>\n",
       "      <td>Y</td>\n",
       "      <td>2013-04-16 15:45:00</td>\n",
       "      <td>2013-04-16 17:15:29</td>\n",
       "      <td>2</td>\n",
       "      <td>2013</td>\n",
       "      <td>3</td>\n",
       "      <td>NULL</td>\n",
       "    </tr>\n",
       "    <tr>\n",
       "      <th>9</th>\n",
       "      <td>2013-03-25 00:00:00</td>\n",
       "      <td>1V</td>\n",
       "      <td>JP</td>\n",
       "      <td>5af045902bd23cab579915611d99e1e0</td>\n",
       "      <td>5073861d8597467c33596bfe16f23c56</td>\n",
       "      <td>a37584d1485cb35991e4ff1a2ba92262</td>\n",
       "      <td>2013-03-25 00:00:00</td>\n",
       "      <td>8371</td>\n",
       "      <td>60</td>\n",
       "      <td>NRT</td>\n",
       "      <td>...</td>\n",
       "      <td>PENBKK</td>\n",
       "      <td>EQ</td>\n",
       "      <td>Y</td>\n",
       "      <td>Y</td>\n",
       "      <td>2013-04-18 08:00:00</td>\n",
       "      <td>2013-04-18 08:53:56</td>\n",
       "      <td>2</td>\n",
       "      <td>2013</td>\n",
       "      <td>3</td>\n",
       "      <td>NULL</td>\n",
       "    </tr>\n",
       "    <tr>\n",
       "      <th>10</th>\n",
       "      <td>2013-03-25 00:00:00</td>\n",
       "      <td>1V</td>\n",
       "      <td>JP</td>\n",
       "      <td>5af045902bd23cab579915611d99e1e0</td>\n",
       "      <td>5073861d8597467c33596bfe16f23c56</td>\n",
       "      <td>a37584d1485cb35991e4ff1a2ba92262</td>\n",
       "      <td>2013-03-25 00:00:00</td>\n",
       "      <td>8371</td>\n",
       "      <td>60</td>\n",
       "      <td>NRT</td>\n",
       "      <td>...</td>\n",
       "      <td>BKKHND</td>\n",
       "      <td>XR</td>\n",
       "      <td>B</td>\n",
       "      <td>Y</td>\n",
       "      <td>2013-04-19 22:25:00</td>\n",
       "      <td>2013-04-20 06:36:40</td>\n",
       "      <td>2</td>\n",
       "      <td>2013</td>\n",
       "      <td>3</td>\n",
       "      <td>NULL</td>\n",
       "    </tr>\n",
       "    <tr>\n",
       "      <th>11</th>\n",
       "      <td>2013-03-28 00:00:00</td>\n",
       "      <td>1V</td>\n",
       "      <td>JP</td>\n",
       "      <td>5af045902bd23cab579915611d99e1e0</td>\n",
       "      <td>5073861d8597467c33596bfe16f23c56</td>\n",
       "      <td>a37584d1485cb35991e4ff1a2ba92262</td>\n",
       "      <td>2013-03-25 00:00:00</td>\n",
       "      <td>8371</td>\n",
       "      <td>60</td>\n",
       "      <td>NRT</td>\n",
       "      <td>...</td>\n",
       "      <td>NRTSIN</td>\n",
       "      <td>XR</td>\n",
       "      <td>Q</td>\n",
       "      <td>Y</td>\n",
       "      <td>2013-04-14 11:05:00</td>\n",
       "      <td>2013-04-14 17:10:56</td>\n",
       "      <td>-2</td>\n",
       "      <td>2013</td>\n",
       "      <td>3</td>\n",
       "      <td>NULL</td>\n",
       "    </tr>\n",
       "    <tr>\n",
       "      <th>12</th>\n",
       "      <td>2013-03-28 00:00:00</td>\n",
       "      <td>1V</td>\n",
       "      <td>JP</td>\n",
       "      <td>5af045902bd23cab579915611d99e1e0</td>\n",
       "      <td>5073861d8597467c33596bfe16f23c56</td>\n",
       "      <td>a37584d1485cb35991e4ff1a2ba92262</td>\n",
       "      <td>2013-03-25 00:00:00</td>\n",
       "      <td>8371</td>\n",
       "      <td>60</td>\n",
       "      <td>NRT</td>\n",
       "      <td>...</td>\n",
       "      <td>SINPEN</td>\n",
       "      <td>WS</td>\n",
       "      <td>Y</td>\n",
       "      <td>Y</td>\n",
       "      <td>2013-04-16 15:45:00</td>\n",
       "      <td>2013-04-16 17:15:29</td>\n",
       "      <td>-2</td>\n",
       "      <td>2013</td>\n",
       "      <td>3</td>\n",
       "      <td>NULL</td>\n",
       "    </tr>\n",
       "    <tr>\n",
       "      <th>13</th>\n",
       "      <td>2013-03-28 00:00:00</td>\n",
       "      <td>1V</td>\n",
       "      <td>JP</td>\n",
       "      <td>5af045902bd23cab579915611d99e1e0</td>\n",
       "      <td>5073861d8597467c33596bfe16f23c56</td>\n",
       "      <td>a37584d1485cb35991e4ff1a2ba92262</td>\n",
       "      <td>2013-03-25 00:00:00</td>\n",
       "      <td>8371</td>\n",
       "      <td>60</td>\n",
       "      <td>NRT</td>\n",
       "      <td>...</td>\n",
       "      <td>PENBKK</td>\n",
       "      <td>EQ</td>\n",
       "      <td>Y</td>\n",
       "      <td>Y</td>\n",
       "      <td>2013-04-18 08:00:00</td>\n",
       "      <td>2013-04-18 08:53:56</td>\n",
       "      <td>-2</td>\n",
       "      <td>2013</td>\n",
       "      <td>3</td>\n",
       "      <td>NULL</td>\n",
       "    </tr>\n",
       "    <tr>\n",
       "      <th>14</th>\n",
       "      <td>2013-03-28 00:00:00</td>\n",
       "      <td>1V</td>\n",
       "      <td>JP</td>\n",
       "      <td>5af045902bd23cab579915611d99e1e0</td>\n",
       "      <td>5073861d8597467c33596bfe16f23c56</td>\n",
       "      <td>a37584d1485cb35991e4ff1a2ba92262</td>\n",
       "      <td>2013-03-25 00:00:00</td>\n",
       "      <td>8371</td>\n",
       "      <td>60</td>\n",
       "      <td>NRT</td>\n",
       "      <td>...</td>\n",
       "      <td>BKKHND</td>\n",
       "      <td>XR</td>\n",
       "      <td>B</td>\n",
       "      <td>Y</td>\n",
       "      <td>2013-04-19 22:25:00</td>\n",
       "      <td>2013-04-20 06:36:40</td>\n",
       "      <td>-2</td>\n",
       "      <td>2013</td>\n",
       "      <td>3</td>\n",
       "      <td>NULL</td>\n",
       "    </tr>\n",
       "    <tr>\n",
       "      <th>15</th>\n",
       "      <td>2013-03-28 00:00:00</td>\n",
       "      <td>1V</td>\n",
       "      <td>JP</td>\n",
       "      <td>5af045902bd23cab579915611d99e1e0</td>\n",
       "      <td>5073861d8597467c33596bfe16f23c56</td>\n",
       "      <td>a37584d1485cb35991e4ff1a2ba92262</td>\n",
       "      <td>2013-03-25 00:00:00</td>\n",
       "      <td>8371</td>\n",
       "      <td>60</td>\n",
       "      <td>NRT</td>\n",
       "      <td>...</td>\n",
       "      <td>NRTSIN</td>\n",
       "      <td>XR</td>\n",
       "      <td>Q</td>\n",
       "      <td>Y</td>\n",
       "      <td>2013-04-14 11:05:00</td>\n",
       "      <td>2013-04-14 17:10:56</td>\n",
       "      <td>1</td>\n",
       "      <td>2013</td>\n",
       "      <td>3</td>\n",
       "      <td>NULL</td>\n",
       "    </tr>\n",
       "    <tr>\n",
       "      <th>16</th>\n",
       "      <td>2013-03-28 00:00:00</td>\n",
       "      <td>1V</td>\n",
       "      <td>JP</td>\n",
       "      <td>5af045902bd23cab579915611d99e1e0</td>\n",
       "      <td>5073861d8597467c33596bfe16f23c56</td>\n",
       "      <td>a37584d1485cb35991e4ff1a2ba92262</td>\n",
       "      <td>2013-03-25 00:00:00</td>\n",
       "      <td>8371</td>\n",
       "      <td>60</td>\n",
       "      <td>NRT</td>\n",
       "      <td>...</td>\n",
       "      <td>SINPEN</td>\n",
       "      <td>WS</td>\n",
       "      <td>Y</td>\n",
       "      <td>Y</td>\n",
       "      <td>2013-04-16 15:45:00</td>\n",
       "      <td>2013-04-16 17:15:29</td>\n",
       "      <td>1</td>\n",
       "      <td>2013</td>\n",
       "      <td>3</td>\n",
       "      <td>NULL</td>\n",
       "    </tr>\n",
       "    <tr>\n",
       "      <th>17</th>\n",
       "      <td>2013-03-28 00:00:00</td>\n",
       "      <td>1V</td>\n",
       "      <td>JP</td>\n",
       "      <td>5af045902bd23cab579915611d99e1e0</td>\n",
       "      <td>5073861d8597467c33596bfe16f23c56</td>\n",
       "      <td>a37584d1485cb35991e4ff1a2ba92262</td>\n",
       "      <td>2013-03-25 00:00:00</td>\n",
       "      <td>8371</td>\n",
       "      <td>60</td>\n",
       "      <td>NRT</td>\n",
       "      <td>...</td>\n",
       "      <td>PENBKK</td>\n",
       "      <td>EQ</td>\n",
       "      <td>Y</td>\n",
       "      <td>Y</td>\n",
       "      <td>2013-04-18 08:00:00</td>\n",
       "      <td>2013-04-18 08:53:56</td>\n",
       "      <td>1</td>\n",
       "      <td>2013</td>\n",
       "      <td>3</td>\n",
       "      <td>NULL</td>\n",
       "    </tr>\n",
       "    <tr>\n",
       "      <th>18</th>\n",
       "      <td>2013-03-28 00:00:00</td>\n",
       "      <td>1V</td>\n",
       "      <td>JP</td>\n",
       "      <td>5af045902bd23cab579915611d99e1e0</td>\n",
       "      <td>5073861d8597467c33596bfe16f23c56</td>\n",
       "      <td>a37584d1485cb35991e4ff1a2ba92262</td>\n",
       "      <td>2013-03-25 00:00:00</td>\n",
       "      <td>8371</td>\n",
       "      <td>60</td>\n",
       "      <td>NRT</td>\n",
       "      <td>...</td>\n",
       "      <td>BKKHND</td>\n",
       "      <td>XR</td>\n",
       "      <td>B</td>\n",
       "      <td>Y</td>\n",
       "      <td>2013-04-19 22:25:00</td>\n",
       "      <td>2013-04-20 06:36:40</td>\n",
       "      <td>1</td>\n",
       "      <td>2013</td>\n",
       "      <td>3</td>\n",
       "      <td>NULL</td>\n",
       "    </tr>\n",
       "    <tr>\n",
       "      <th>19</th>\n",
       "      <td>2013-03-13 00:00:00</td>\n",
       "      <td>1V</td>\n",
       "      <td>CA</td>\n",
       "      <td>f8d15f8b5e04f0cfcb62f299d059beb3</td>\n",
       "      <td>257170d899c9dc7744a83f18c399bc1c</td>\n",
       "      <td>c302645256976e555e80bc46a3f982d7</td>\n",
       "      <td>2013-03-13 00:00:00</td>\n",
       "      <td>11640</td>\n",
       "      <td>0</td>\n",
       "      <td>YYZ</td>\n",
       "      <td>...</td>\n",
       "      <td>YYZTUS</td>\n",
       "      <td>FK</td>\n",
       "      <td>V</td>\n",
       "      <td>Y</td>\n",
       "      <td>2013-04-06 13:28:00</td>\n",
       "      <td>2013-04-06 14:48:17</td>\n",
       "      <td>1</td>\n",
       "      <td>2013</td>\n",
       "      <td>3</td>\n",
       "      <td>NULL</td>\n",
       "    </tr>\n",
       "    <tr>\n",
       "      <th>20</th>\n",
       "      <td>2013-03-25 00:00:00</td>\n",
       "      <td>1A</td>\n",
       "      <td>IT</td>\n",
       "      <td>f1c9acf55eb44dedd43734952a9138a6</td>\n",
       "      <td>7f3988fed8c1fe28c882eb979acc046c</td>\n",
       "      <td>57af3d59571623b706c04ac178d5900b</td>\n",
       "      <td>2013-03-12 00:00:00</td>\n",
       "      <td>9240</td>\n",
       "      <td>0</td>\n",
       "      <td>FCO</td>\n",
       "      <td>...</td>\n",
       "      <td>FCOCTA</td>\n",
       "      <td>KK</td>\n",
       "      <td>O</td>\n",
       "      <td>Y</td>\n",
       "      <td>2013-05-25 07:25:00</td>\n",
       "      <td>2013-05-25 08:50:57</td>\n",
       "      <td>-2</td>\n",
       "      <td>2013</td>\n",
       "      <td>3</td>\n",
       "      <td>NULL</td>\n",
       "    </tr>\n",
       "    <tr>\n",
       "      <th>21</th>\n",
       "      <td>2013-03-25 00:00:00</td>\n",
       "      <td>1A</td>\n",
       "      <td>IT</td>\n",
       "      <td>f1c9acf55eb44dedd43734952a9138a6</td>\n",
       "      <td>7f3988fed8c1fe28c882eb979acc046c</td>\n",
       "      <td>57af3d59571623b706c04ac178d5900b</td>\n",
       "      <td>2013-03-12 00:00:00</td>\n",
       "      <td>9175</td>\n",
       "      <td>0</td>\n",
       "      <td>FCO</td>\n",
       "      <td>...</td>\n",
       "      <td>FCOCTA</td>\n",
       "      <td>KK</td>\n",
       "      <td>O</td>\n",
       "      <td>Y</td>\n",
       "      <td>2013-05-25 08:30:00</td>\n",
       "      <td>2013-05-25 09:55:57</td>\n",
       "      <td>2</td>\n",
       "      <td>2013</td>\n",
       "      <td>3</td>\n",
       "      <td>NULL</td>\n",
       "    </tr>\n",
       "    <tr>\n",
       "      <th>22</th>\n",
       "      <td>2013-03-12 00:00:00</td>\n",
       "      <td>1A</td>\n",
       "      <td>IN</td>\n",
       "      <td>ce60b5b55af87be62855ef1787b6b13f</td>\n",
       "      <td>4760d231a384bd15c720e217b190bc92</td>\n",
       "      <td>29b689903e7432d637777855f9542d86</td>\n",
       "      <td>2013-03-12 00:00:00</td>\n",
       "      <td>194949</td>\n",
       "      <td>102</td>\n",
       "      <td>BDQ</td>\n",
       "      <td>...</td>\n",
       "      <td>BDQDELYYZYWG</td>\n",
       "      <td>CH</td>\n",
       "      <td>N</td>\n",
       "      <td>Y</td>\n",
       "      <td>2013-03-24 20:50:00</td>\n",
       "      <td>2013-03-25 19:34:05</td>\n",
       "      <td>2</td>\n",
       "      <td>2013</td>\n",
       "      <td>3</td>\n",
       "      <td>BDQAK3101</td>\n",
       "    </tr>\n",
       "    <tr>\n",
       "      <th>23</th>\n",
       "      <td>2013-03-12 00:00:00</td>\n",
       "      <td>1A</td>\n",
       "      <td>IN</td>\n",
       "      <td>ce60b5b55af87be62855ef1787b6b13f</td>\n",
       "      <td>4760d231a384bd15c720e217b190bc92</td>\n",
       "      <td>29b689903e7432d637777855f9542d86</td>\n",
       "      <td>2013-03-12 00:00:00</td>\n",
       "      <td>194949</td>\n",
       "      <td>102</td>\n",
       "      <td>BDQ</td>\n",
       "      <td>...</td>\n",
       "      <td>YWGYYZBRUBOMAMD</td>\n",
       "      <td>CH</td>\n",
       "      <td>K</td>\n",
       "      <td>Y</td>\n",
       "      <td>2013-08-05 12:35:00</td>\n",
       "      <td>2013-08-07 05:59:19</td>\n",
       "      <td>2</td>\n",
       "      <td>2013</td>\n",
       "      <td>3</td>\n",
       "      <td>BDQAK3101</td>\n",
       "    </tr>\n",
       "    <tr>\n",
       "      <th>24</th>\n",
       "      <td>2013-03-13 00:00:00</td>\n",
       "      <td>1A</td>\n",
       "      <td>IN</td>\n",
       "      <td>ce60b5b55af87be62855ef1787b6b13f</td>\n",
       "      <td>4760d231a384bd15c720e217b190bc92</td>\n",
       "      <td>29b689903e7432d637777855f9542d86</td>\n",
       "      <td>2013-03-12 00:00:00</td>\n",
       "      <td>194949</td>\n",
       "      <td>102</td>\n",
       "      <td>BDQ</td>\n",
       "      <td>...</td>\n",
       "      <td>YWGYYZBRUBOMAMD</td>\n",
       "      <td>CH</td>\n",
       "      <td>K</td>\n",
       "      <td>Y</td>\n",
       "      <td>2013-08-05 12:35:00</td>\n",
       "      <td>2013-08-07 05:59:19</td>\n",
       "      <td>-2</td>\n",
       "      <td>2013</td>\n",
       "      <td>3</td>\n",
       "      <td>BDQAK3101</td>\n",
       "    </tr>\n",
       "    <tr>\n",
       "      <th>25</th>\n",
       "      <td>2013-03-13 00:00:00</td>\n",
       "      <td>1A</td>\n",
       "      <td>IN</td>\n",
       "      <td>ce60b5b55af87be62855ef1787b6b13f</td>\n",
       "      <td>4760d231a384bd15c720e217b190bc92</td>\n",
       "      <td>29b689903e7432d637777855f9542d86</td>\n",
       "      <td>2013-03-12 00:00:00</td>\n",
       "      <td>219429</td>\n",
       "      <td>102</td>\n",
       "      <td>BDQ</td>\n",
       "      <td>...</td>\n",
       "      <td>YWGYYZBRUBOMAMD</td>\n",
       "      <td>CH</td>\n",
       "      <td>K</td>\n",
       "      <td>Y</td>\n",
       "      <td>2013-08-22 10:35:00</td>\n",
       "      <td>2013-08-24 05:59:19</td>\n",
       "      <td>2</td>\n",
       "      <td>2013</td>\n",
       "      <td>3</td>\n",
       "      <td>BDQAK3101</td>\n",
       "    </tr>\n",
       "    <tr>\n",
       "      <th>26</th>\n",
       "      <td>2013-03-18 00:00:00</td>\n",
       "      <td>1A</td>\n",
       "      <td>IN</td>\n",
       "      <td>ce60b5b55af87be62855ef1787b6b13f</td>\n",
       "      <td>4760d231a384bd15c720e217b190bc92</td>\n",
       "      <td>29b689903e7432d637777855f9542d86</td>\n",
       "      <td>2013-03-12 00:00:00</td>\n",
       "      <td>219524</td>\n",
       "      <td>102</td>\n",
       "      <td>BDQ</td>\n",
       "      <td>...</td>\n",
       "      <td>BDQBOMDEL</td>\n",
       "      <td>CH</td>\n",
       "      <td>T</td>\n",
       "      <td>Y</td>\n",
       "      <td>2013-03-24 19:15:00</td>\n",
       "      <td>2013-03-25 04:33:17</td>\n",
       "      <td>2</td>\n",
       "      <td>2013</td>\n",
       "      <td>3</td>\n",
       "      <td>BDQAK3101</td>\n",
       "    </tr>\n",
       "    <tr>\n",
       "      <th>27</th>\n",
       "      <td>2013-03-19 00:00:00</td>\n",
       "      <td>1A</td>\n",
       "      <td>IN</td>\n",
       "      <td>ce60b5b55af87be62855ef1787b6b13f</td>\n",
       "      <td>4760d231a384bd15c720e217b190bc92</td>\n",
       "      <td>29b689903e7432d637777855f9542d86</td>\n",
       "      <td>2013-03-12 00:00:00</td>\n",
       "      <td>219524</td>\n",
       "      <td>102</td>\n",
       "      <td>BDQ</td>\n",
       "      <td>...</td>\n",
       "      <td>BDQBOMDEL</td>\n",
       "      <td>CH</td>\n",
       "      <td>T</td>\n",
       "      <td>Y</td>\n",
       "      <td>2013-03-24 19:15:00</td>\n",
       "      <td>2013-03-25 04:33:17</td>\n",
       "      <td>-2</td>\n",
       "      <td>2013</td>\n",
       "      <td>3</td>\n",
       "      <td>BDQAK3101</td>\n",
       "    </tr>\n",
       "    <tr>\n",
       "      <th>28</th>\n",
       "      <td>2013-03-19 00:00:00</td>\n",
       "      <td>1A</td>\n",
       "      <td>IN</td>\n",
       "      <td>ce60b5b55af87be62855ef1787b6b13f</td>\n",
       "      <td>4760d231a384bd15c720e217b190bc92</td>\n",
       "      <td>29b689903e7432d637777855f9542d86</td>\n",
       "      <td>2013-03-12 00:00:00</td>\n",
       "      <td>219524</td>\n",
       "      <td>102</td>\n",
       "      <td>BDQ</td>\n",
       "      <td>...</td>\n",
       "      <td>BDQDELYYZYWG</td>\n",
       "      <td>CH</td>\n",
       "      <td>N</td>\n",
       "      <td>Y</td>\n",
       "      <td>2013-03-24 20:50:00</td>\n",
       "      <td>2013-03-25 19:34:05</td>\n",
       "      <td>-2</td>\n",
       "      <td>2013</td>\n",
       "      <td>3</td>\n",
       "      <td>BDQAK3101</td>\n",
       "    </tr>\n",
       "    <tr>\n",
       "      <th>29</th>\n",
       "      <td>2013-03-19 00:00:00</td>\n",
       "      <td>1A</td>\n",
       "      <td>IN</td>\n",
       "      <td>ce60b5b55af87be62855ef1787b6b13f</td>\n",
       "      <td>4760d231a384bd15c720e217b190bc92</td>\n",
       "      <td>29b689903e7432d637777855f9542d86</td>\n",
       "      <td>2013-03-12 00:00:00</td>\n",
       "      <td>219524</td>\n",
       "      <td>102</td>\n",
       "      <td>BDQ</td>\n",
       "      <td>...</td>\n",
       "      <td>BDQBOMBRUYYZYWG</td>\n",
       "      <td>CH</td>\n",
       "      <td>U</td>\n",
       "      <td>Y</td>\n",
       "      <td>2013-03-24 19:15:00</td>\n",
       "      <td>2013-03-25 19:34:05</td>\n",
       "      <td>2</td>\n",
       "      <td>2013</td>\n",
       "      <td>3</td>\n",
       "      <td>BDQAK3101</td>\n",
       "    </tr>\n",
       "    <tr>\n",
       "      <th>...</th>\n",
       "      <td>...</td>\n",
       "      <td>...</td>\n",
       "      <td>...</td>\n",
       "      <td>...</td>\n",
       "      <td>...</td>\n",
       "      <td>...</td>\n",
       "      <td>...</td>\n",
       "      <td>...</td>\n",
       "      <td>...</td>\n",
       "      <td>...</td>\n",
       "      <td>...</td>\n",
       "      <td>...</td>\n",
       "      <td>...</td>\n",
       "      <td>...</td>\n",
       "      <td>...</td>\n",
       "      <td>...</td>\n",
       "      <td>...</td>\n",
       "      <td>...</td>\n",
       "      <td>...</td>\n",
       "      <td>...</td>\n",
       "      <td>...</td>\n",
       "    </tr>\n",
       "    <tr>\n",
       "      <th>970</th>\n",
       "      <td>2013-03-12 00:00:00</td>\n",
       "      <td>1A</td>\n",
       "      <td>IN</td>\n",
       "      <td>5be7a165172bb56a74615b5e9df4734c</td>\n",
       "      <td>3b3db5aa99c2f9357607751ac2863d98</td>\n",
       "      <td>25683b06cc0cde888f7ae240c4169ca7</td>\n",
       "      <td>2013-03-12 00:00:00</td>\n",
       "      <td>5670</td>\n",
       "      <td>0</td>\n",
       "      <td>DEL</td>\n",
       "      <td>...</td>\n",
       "      <td>SVODEL</td>\n",
       "      <td>DF</td>\n",
       "      <td>Z</td>\n",
       "      <td>C</td>\n",
       "      <td>2013-03-27 20:10:00</td>\n",
       "      <td>2013-03-28 03:35:48</td>\n",
       "      <td>2</td>\n",
       "      <td>2013</td>\n",
       "      <td>3</td>\n",
       "      <td>NULL</td>\n",
       "    </tr>\n",
       "    <tr>\n",
       "      <th>971</th>\n",
       "      <td>2013-03-09 00:00:00</td>\n",
       "      <td>1P</td>\n",
       "      <td>US</td>\n",
       "      <td>83ccf07a55606976f78e63fcc805f58c</td>\n",
       "      <td>1490c3c5f95f04fa076fe15c775a80a9</td>\n",
       "      <td>efb97270bb70f2995385e90d3a45726d</td>\n",
       "      <td>2013-02-07 00:00:00</td>\n",
       "      <td>9295</td>\n",
       "      <td>0</td>\n",
       "      <td>MSP</td>\n",
       "      <td>...</td>\n",
       "      <td>MSPORDDTW</td>\n",
       "      <td>FK</td>\n",
       "      <td>T</td>\n",
       "      <td>Y</td>\n",
       "      <td>2013-06-27 07:00:00</td>\n",
       "      <td>2013-06-27 12:44:33</td>\n",
       "      <td>-1</td>\n",
       "      <td>2013</td>\n",
       "      <td>3</td>\n",
       "      <td>NULL</td>\n",
       "    </tr>\n",
       "    <tr>\n",
       "      <th>972</th>\n",
       "      <td>2013-03-09 00:00:00</td>\n",
       "      <td>1P</td>\n",
       "      <td>US</td>\n",
       "      <td>83ccf07a55606976f78e63fcc805f58c</td>\n",
       "      <td>1490c3c5f95f04fa076fe15c775a80a9</td>\n",
       "      <td>efb97270bb70f2995385e90d3a45726d</td>\n",
       "      <td>2013-02-07 00:00:00</td>\n",
       "      <td>9295</td>\n",
       "      <td>0</td>\n",
       "      <td>MSP</td>\n",
       "      <td>...</td>\n",
       "      <td>DTWORDMSP</td>\n",
       "      <td>FK</td>\n",
       "      <td>T</td>\n",
       "      <td>Y</td>\n",
       "      <td>2013-07-03 13:15:00</td>\n",
       "      <td>2013-07-03 17:55:52</td>\n",
       "      <td>-1</td>\n",
       "      <td>2013</td>\n",
       "      <td>3</td>\n",
       "      <td>NULL</td>\n",
       "    </tr>\n",
       "    <tr>\n",
       "      <th>973</th>\n",
       "      <td>2013-03-09 00:00:00</td>\n",
       "      <td>1P</td>\n",
       "      <td>US</td>\n",
       "      <td>83ccf07a55606976f78e63fcc805f58c</td>\n",
       "      <td>1490c3c5f95f04fa076fe15c775a80a9</td>\n",
       "      <td>efb97270bb70f2995385e90d3a45726d</td>\n",
       "      <td>2013-02-07 00:00:00</td>\n",
       "      <td>9280</td>\n",
       "      <td>0</td>\n",
       "      <td>MSP</td>\n",
       "      <td>...</td>\n",
       "      <td>MSPORDDTW</td>\n",
       "      <td>FK</td>\n",
       "      <td>T</td>\n",
       "      <td>Y</td>\n",
       "      <td>2013-06-27 07:00:00</td>\n",
       "      <td>2013-06-27 13:25:33</td>\n",
       "      <td>1</td>\n",
       "      <td>2013</td>\n",
       "      <td>3</td>\n",
       "      <td>NULL</td>\n",
       "    </tr>\n",
       "    <tr>\n",
       "      <th>974</th>\n",
       "      <td>2013-03-09 00:00:00</td>\n",
       "      <td>1P</td>\n",
       "      <td>US</td>\n",
       "      <td>83ccf07a55606976f78e63fcc805f58c</td>\n",
       "      <td>1490c3c5f95f04fa076fe15c775a80a9</td>\n",
       "      <td>efb97270bb70f2995385e90d3a45726d</td>\n",
       "      <td>2013-02-07 00:00:00</td>\n",
       "      <td>9280</td>\n",
       "      <td>0</td>\n",
       "      <td>MSP</td>\n",
       "      <td>...</td>\n",
       "      <td>DTWORDMSP</td>\n",
       "      <td>FK</td>\n",
       "      <td>T</td>\n",
       "      <td>Y</td>\n",
       "      <td>2013-07-03 13:15:00</td>\n",
       "      <td>2013-07-03 17:40:52</td>\n",
       "      <td>1</td>\n",
       "      <td>2013</td>\n",
       "      <td>3</td>\n",
       "      <td>NULL</td>\n",
       "    </tr>\n",
       "    <tr>\n",
       "      <th>975</th>\n",
       "      <td>2013-03-09 00:00:00</td>\n",
       "      <td>1P</td>\n",
       "      <td>US</td>\n",
       "      <td>72fecda8d2a72c275e70ec38737cb7d9</td>\n",
       "      <td>e9dacda88c2af1783432d5709c6dab24</td>\n",
       "      <td>8a61ed0210951ff95d9f57600902e0a5</td>\n",
       "      <td>2013-02-07 00:00:00</td>\n",
       "      <td>3082</td>\n",
       "      <td>0</td>\n",
       "      <td>RIC</td>\n",
       "      <td>...</td>\n",
       "      <td>RICCLTJAX</td>\n",
       "      <td>FD</td>\n",
       "      <td>K</td>\n",
       "      <td>Y</td>\n",
       "      <td>2013-03-12 09:15:00</td>\n",
       "      <td>2013-03-12 13:15:21</td>\n",
       "      <td>-1</td>\n",
       "      <td>2013</td>\n",
       "      <td>3</td>\n",
       "      <td>NULL</td>\n",
       "    </tr>\n",
       "    <tr>\n",
       "      <th>976</th>\n",
       "      <td>2013-03-09 00:00:00</td>\n",
       "      <td>1P</td>\n",
       "      <td>US</td>\n",
       "      <td>72fecda8d2a72c275e70ec38737cb7d9</td>\n",
       "      <td>e9dacda88c2af1783432d5709c6dab24</td>\n",
       "      <td>8a61ed0210951ff95d9f57600902e0a5</td>\n",
       "      <td>2013-02-07 00:00:00</td>\n",
       "      <td>3082</td>\n",
       "      <td>0</td>\n",
       "      <td>RIC</td>\n",
       "      <td>...</td>\n",
       "      <td>RICCLTJAX</td>\n",
       "      <td>FD</td>\n",
       "      <td>O</td>\n",
       "      <td>Y</td>\n",
       "      <td>2013-03-12 09:15:00</td>\n",
       "      <td>2013-03-12 13:15:21</td>\n",
       "      <td>1</td>\n",
       "      <td>2013</td>\n",
       "      <td>3</td>\n",
       "      <td>NULL</td>\n",
       "    </tr>\n",
       "    <tr>\n",
       "      <th>977</th>\n",
       "      <td>2013-03-10 00:00:00</td>\n",
       "      <td>1P</td>\n",
       "      <td>US</td>\n",
       "      <td>72fecda8d2a72c275e70ec38737cb7d9</td>\n",
       "      <td>e9dacda88c2af1783432d5709c6dab24</td>\n",
       "      <td>8a61ed0210951ff95d9f57600902e0a5</td>\n",
       "      <td>2013-02-07 00:00:00</td>\n",
       "      <td>3082</td>\n",
       "      <td>0</td>\n",
       "      <td>RIC</td>\n",
       "      <td>...</td>\n",
       "      <td>JAXCLT</td>\n",
       "      <td>FD</td>\n",
       "      <td>V</td>\n",
       "      <td>Y</td>\n",
       "      <td>2013-03-13 13:55:00</td>\n",
       "      <td>2013-03-13 15:20:21</td>\n",
       "      <td>-1</td>\n",
       "      <td>2013</td>\n",
       "      <td>3</td>\n",
       "      <td>NULL</td>\n",
       "    </tr>\n",
       "    <tr>\n",
       "      <th>978</th>\n",
       "      <td>2013-03-10 00:00:00</td>\n",
       "      <td>1P</td>\n",
       "      <td>US</td>\n",
       "      <td>72fecda8d2a72c275e70ec38737cb7d9</td>\n",
       "      <td>e9dacda88c2af1783432d5709c6dab24</td>\n",
       "      <td>8a61ed0210951ff95d9f57600902e0a5</td>\n",
       "      <td>2013-02-07 00:00:00</td>\n",
       "      <td>3082</td>\n",
       "      <td>0</td>\n",
       "      <td>RIC</td>\n",
       "      <td>...</td>\n",
       "      <td>JAXCLT</td>\n",
       "      <td>FD</td>\n",
       "      <td>O</td>\n",
       "      <td>Y</td>\n",
       "      <td>2013-03-13 13:55:00</td>\n",
       "      <td>2013-03-13 15:20:21</td>\n",
       "      <td>1</td>\n",
       "      <td>2013</td>\n",
       "      <td>3</td>\n",
       "      <td>NULL</td>\n",
       "    </tr>\n",
       "    <tr>\n",
       "      <th>979</th>\n",
       "      <td>2013-03-27 00:00:00</td>\n",
       "      <td>1A</td>\n",
       "      <td>FR</td>\n",
       "      <td>d73031d78ac10093b29a01a3719adc5f</td>\n",
       "      <td>e64e5ef268c69dc23387a5c84f7cb9ed</td>\n",
       "      <td>ea4898bac1f87e801cb7e751c7bf3491</td>\n",
       "      <td>2013-03-27 00:00:00</td>\n",
       "      <td>4268</td>\n",
       "      <td>0</td>\n",
       "      <td>CDG</td>\n",
       "      <td>...</td>\n",
       "      <td>CDGBCN</td>\n",
       "      <td>KP</td>\n",
       "      <td>N</td>\n",
       "      <td>Y</td>\n",
       "      <td>2013-04-04 12:35:00</td>\n",
       "      <td>2013-04-04 14:23:34</td>\n",
       "      <td>1</td>\n",
       "      <td>2013</td>\n",
       "      <td>3</td>\n",
       "      <td>NULL</td>\n",
       "    </tr>\n",
       "    <tr>\n",
       "      <th>980</th>\n",
       "      <td>2013-03-06 00:00:00</td>\n",
       "      <td>1P</td>\n",
       "      <td>US</td>\n",
       "      <td>0bde7b929573cf16e0d52637cf0735d2</td>\n",
       "      <td>f187f1dfcac9833a7d7f90de67b24181</td>\n",
       "      <td>15eb09a8821a376cd0d856d8a49aa80f</td>\n",
       "      <td>2013-03-06 00:00:00</td>\n",
       "      <td>4955</td>\n",
       "      <td>0</td>\n",
       "      <td>DEN</td>\n",
       "      <td>...</td>\n",
       "      <td>PDXDEN</td>\n",
       "      <td>PC</td>\n",
       "      <td>H</td>\n",
       "      <td>Y</td>\n",
       "      <td>2013-03-24 19:15:00</td>\n",
       "      <td>2013-03-24 22:55:18</td>\n",
       "      <td>1</td>\n",
       "      <td>2013</td>\n",
       "      <td>3</td>\n",
       "      <td>NULL</td>\n",
       "    </tr>\n",
       "    <tr>\n",
       "      <th>981</th>\n",
       "      <td>2013-03-06 00:00:00</td>\n",
       "      <td>1P</td>\n",
       "      <td>US</td>\n",
       "      <td>52f3620dc7828972be9140447ebb12b2</td>\n",
       "      <td>7f359b05059601a5ab5bd1fdf8e4b258</td>\n",
       "      <td>9c11c092e299df08a1baab22d8aeef5f</td>\n",
       "      <td>2013-03-06 00:00:00</td>\n",
       "      <td>6210</td>\n",
       "      <td>0</td>\n",
       "      <td>DEN</td>\n",
       "      <td>...</td>\n",
       "      <td>DENPVR</td>\n",
       "      <td>PC</td>\n",
       "      <td>Q</td>\n",
       "      <td>Y</td>\n",
       "      <td>2013-04-06 08:20:00</td>\n",
       "      <td>2013-04-06 11:38:30</td>\n",
       "      <td>2</td>\n",
       "      <td>2013</td>\n",
       "      <td>3</td>\n",
       "      <td>NULL</td>\n",
       "    </tr>\n",
       "    <tr>\n",
       "      <th>982</th>\n",
       "      <td>2013-03-06 00:00:00</td>\n",
       "      <td>1P</td>\n",
       "      <td>US</td>\n",
       "      <td>52f3620dc7828972be9140447ebb12b2</td>\n",
       "      <td>7f359b05059601a5ab5bd1fdf8e4b258</td>\n",
       "      <td>9c11c092e299df08a1baab22d8aeef5f</td>\n",
       "      <td>2013-03-06 00:00:00</td>\n",
       "      <td>6210</td>\n",
       "      <td>0</td>\n",
       "      <td>DEN</td>\n",
       "      <td>...</td>\n",
       "      <td>PVRDEN</td>\n",
       "      <td>PC</td>\n",
       "      <td>D</td>\n",
       "      <td>C</td>\n",
       "      <td>2013-04-10 13:32:00</td>\n",
       "      <td>2013-04-10 15:50:30</td>\n",
       "      <td>2</td>\n",
       "      <td>2013</td>\n",
       "      <td>3</td>\n",
       "      <td>NULL</td>\n",
       "    </tr>\n",
       "    <tr>\n",
       "      <th>983</th>\n",
       "      <td>2013-03-06 00:00:00</td>\n",
       "      <td>1P</td>\n",
       "      <td>US</td>\n",
       "      <td>eecca103daab4a0181d1c101525e1a6d</td>\n",
       "      <td>dfd895013d723f19c2926e695c009e31</td>\n",
       "      <td>5fd9fc2edb172e9d0993b629d6e54e4a</td>\n",
       "      <td>2013-03-06 00:00:00</td>\n",
       "      <td>11044</td>\n",
       "      <td>0</td>\n",
       "      <td>ORD</td>\n",
       "      <td>...</td>\n",
       "      <td>ORDDFWBJX</td>\n",
       "      <td>KK</td>\n",
       "      <td>Q</td>\n",
       "      <td>Y</td>\n",
       "      <td>2013-03-07 06:00:00</td>\n",
       "      <td>2013-03-07 12:11:22</td>\n",
       "      <td>1</td>\n",
       "      <td>2013</td>\n",
       "      <td>3</td>\n",
       "      <td>NULL</td>\n",
       "    </tr>\n",
       "    <tr>\n",
       "      <th>984</th>\n",
       "      <td>2013-03-06 00:00:00</td>\n",
       "      <td>1P</td>\n",
       "      <td>US</td>\n",
       "      <td>eecca103daab4a0181d1c101525e1a6d</td>\n",
       "      <td>dfd895013d723f19c2926e695c009e31</td>\n",
       "      <td>5fd9fc2edb172e9d0993b629d6e54e4a</td>\n",
       "      <td>2013-03-06 00:00:00</td>\n",
       "      <td>11044</td>\n",
       "      <td>0</td>\n",
       "      <td>ORD</td>\n",
       "      <td>...</td>\n",
       "      <td>BJXDFWORD</td>\n",
       "      <td>KK</td>\n",
       "      <td>Q</td>\n",
       "      <td>Y</td>\n",
       "      <td>2013-03-14 15:30:00</td>\n",
       "      <td>2013-03-14 23:04:02</td>\n",
       "      <td>1</td>\n",
       "      <td>2013</td>\n",
       "      <td>3</td>\n",
       "      <td>NULL</td>\n",
       "    </tr>\n",
       "    <tr>\n",
       "      <th>985</th>\n",
       "      <td>2013-03-10 00:00:00</td>\n",
       "      <td>1P</td>\n",
       "      <td>US</td>\n",
       "      <td>0bde7b929573cf16e0d52637cf0735d2</td>\n",
       "      <td>f187f1dfcac9833a7d7f90de67b24181</td>\n",
       "      <td>f015a292e783632fcb6b76205b8019d3</td>\n",
       "      <td>2013-01-13 00:00:00</td>\n",
       "      <td>14484</td>\n",
       "      <td>0</td>\n",
       "      <td>LAX</td>\n",
       "      <td>...</td>\n",
       "      <td>SJOMEXLAX</td>\n",
       "      <td>KW</td>\n",
       "      <td>N</td>\n",
       "      <td>Y</td>\n",
       "      <td>2013-06-29 07:00:00</td>\n",
       "      <td>2013-06-29 15:59:21</td>\n",
       "      <td>-1</td>\n",
       "      <td>2013</td>\n",
       "      <td>3</td>\n",
       "      <td>NULL</td>\n",
       "    </tr>\n",
       "    <tr>\n",
       "      <th>986</th>\n",
       "      <td>2013-03-10 00:00:00</td>\n",
       "      <td>1P</td>\n",
       "      <td>US</td>\n",
       "      <td>0bde7b929573cf16e0d52637cf0735d2</td>\n",
       "      <td>f187f1dfcac9833a7d7f90de67b24181</td>\n",
       "      <td>f015a292e783632fcb6b76205b8019d3</td>\n",
       "      <td>2013-01-13 00:00:00</td>\n",
       "      <td>14759</td>\n",
       "      <td>0</td>\n",
       "      <td>LAX</td>\n",
       "      <td>...</td>\n",
       "      <td>SJOMEXLAX</td>\n",
       "      <td>KW</td>\n",
       "      <td>N</td>\n",
       "      <td>Y</td>\n",
       "      <td>2013-06-29 07:00:00</td>\n",
       "      <td>2013-06-29 20:34:21</td>\n",
       "      <td>1</td>\n",
       "      <td>2013</td>\n",
       "      <td>3</td>\n",
       "      <td>NULL</td>\n",
       "    </tr>\n",
       "    <tr>\n",
       "      <th>987</th>\n",
       "      <td>2013-03-06 00:00:00</td>\n",
       "      <td>1P</td>\n",
       "      <td>US</td>\n",
       "      <td>83ccf07a55606976f78e63fcc805f58c</td>\n",
       "      <td>1490c3c5f95f04fa076fe15c775a80a9</td>\n",
       "      <td>f7ef6d78c33e77e3a090e069175c7576</td>\n",
       "      <td>2013-03-06 00:00:00</td>\n",
       "      <td>3082</td>\n",
       "      <td>0</td>\n",
       "      <td>TPA</td>\n",
       "      <td>...</td>\n",
       "      <td>TPALGA</td>\n",
       "      <td>NV</td>\n",
       "      <td>T</td>\n",
       "      <td>Y</td>\n",
       "      <td>2013-05-17 18:50:00</td>\n",
       "      <td>2013-05-17 21:32:51</td>\n",
       "      <td>1</td>\n",
       "      <td>2013</td>\n",
       "      <td>3</td>\n",
       "      <td>NULL</td>\n",
       "    </tr>\n",
       "    <tr>\n",
       "      <th>988</th>\n",
       "      <td>2013-03-06 00:00:00</td>\n",
       "      <td>1P</td>\n",
       "      <td>US</td>\n",
       "      <td>83ccf07a55606976f78e63fcc805f58c</td>\n",
       "      <td>1490c3c5f95f04fa076fe15c775a80a9</td>\n",
       "      <td>f7ef6d78c33e77e3a090e069175c7576</td>\n",
       "      <td>2013-03-06 00:00:00</td>\n",
       "      <td>3082</td>\n",
       "      <td>0</td>\n",
       "      <td>TPA</td>\n",
       "      <td>...</td>\n",
       "      <td>LGATPA</td>\n",
       "      <td>NV</td>\n",
       "      <td>T</td>\n",
       "      <td>Y</td>\n",
       "      <td>2013-05-19 19:30:00</td>\n",
       "      <td>2013-05-19 22:12:51</td>\n",
       "      <td>1</td>\n",
       "      <td>2013</td>\n",
       "      <td>3</td>\n",
       "      <td>NULL</td>\n",
       "    </tr>\n",
       "    <tr>\n",
       "      <th>989</th>\n",
       "      <td>2013-03-23 00:00:00</td>\n",
       "      <td>1P</td>\n",
       "      <td>US</td>\n",
       "      <td>83ccf07a55606976f78e63fcc805f58c</td>\n",
       "      <td>1490c3c5f95f04fa076fe15c775a80a9</td>\n",
       "      <td>f7ef6d78c33e77e3a090e069175c7576</td>\n",
       "      <td>2013-03-06 00:00:00</td>\n",
       "      <td>3082</td>\n",
       "      <td>0</td>\n",
       "      <td>TPA</td>\n",
       "      <td>...</td>\n",
       "      <td>TPALGA</td>\n",
       "      <td>NV</td>\n",
       "      <td>T</td>\n",
       "      <td>Y</td>\n",
       "      <td>2013-05-17 18:50:00</td>\n",
       "      <td>2013-05-17 21:32:51</td>\n",
       "      <td>-1</td>\n",
       "      <td>2013</td>\n",
       "      <td>3</td>\n",
       "      <td>NULL</td>\n",
       "    </tr>\n",
       "    <tr>\n",
       "      <th>990</th>\n",
       "      <td>2013-03-23 00:00:00</td>\n",
       "      <td>1P</td>\n",
       "      <td>US</td>\n",
       "      <td>83ccf07a55606976f78e63fcc805f58c</td>\n",
       "      <td>1490c3c5f95f04fa076fe15c775a80a9</td>\n",
       "      <td>f7ef6d78c33e77e3a090e069175c7576</td>\n",
       "      <td>2013-03-06 00:00:00</td>\n",
       "      <td>3078</td>\n",
       "      <td>0</td>\n",
       "      <td>TPA</td>\n",
       "      <td>...</td>\n",
       "      <td>TPALGA</td>\n",
       "      <td>NV</td>\n",
       "      <td>T</td>\n",
       "      <td>Y</td>\n",
       "      <td>2013-05-17 18:54:00</td>\n",
       "      <td>2013-05-17 21:36:51</td>\n",
       "      <td>1</td>\n",
       "      <td>2013</td>\n",
       "      <td>3</td>\n",
       "      <td>NULL</td>\n",
       "    </tr>\n",
       "    <tr>\n",
       "      <th>991</th>\n",
       "      <td>2013-03-06 00:00:00</td>\n",
       "      <td>1P</td>\n",
       "      <td>US</td>\n",
       "      <td>798bf627c8e44de15455e77f59c5559e</td>\n",
       "      <td>20c6de8d68e5ab4eb4fa9ce9cdf12f6c</td>\n",
       "      <td>0f0c2181cb39797da6073b28675cbb66</td>\n",
       "      <td>2013-03-06 00:00:00</td>\n",
       "      <td>74</td>\n",
       "      <td>380</td>\n",
       "      <td>LAX</td>\n",
       "      <td>...</td>\n",
       "      <td>LAXLAS</td>\n",
       "      <td>NV</td>\n",
       "      <td>K</td>\n",
       "      <td>Y</td>\n",
       "      <td>2013-03-07 20:49:00</td>\n",
       "      <td>2013-03-07 22:03:48</td>\n",
       "      <td>1</td>\n",
       "      <td>2013</td>\n",
       "      <td>3</td>\n",
       "      <td>NULL</td>\n",
       "    </tr>\n",
       "    <tr>\n",
       "      <th>992</th>\n",
       "      <td>2013-03-06 00:00:00</td>\n",
       "      <td>1P</td>\n",
       "      <td>US</td>\n",
       "      <td>bfafedb1505531ad8e70e176941a7ad0</td>\n",
       "      <td>804deeaddf16e6a93d36e5d046040d60</td>\n",
       "      <td>be83fd657625d53f58c5d3070cdb41b8</td>\n",
       "      <td>2013-03-06 00:00:00</td>\n",
       "      <td>5570</td>\n",
       "      <td>0</td>\n",
       "      <td>SLC</td>\n",
       "      <td>...</td>\n",
       "      <td>SLCMSN</td>\n",
       "      <td>NV</td>\n",
       "      <td>K</td>\n",
       "      <td>Y</td>\n",
       "      <td>2013-05-20 14:00:00</td>\n",
       "      <td>2013-05-20 18:00:55</td>\n",
       "      <td>1</td>\n",
       "      <td>2013</td>\n",
       "      <td>3</td>\n",
       "      <td>NULL</td>\n",
       "    </tr>\n",
       "    <tr>\n",
       "      <th>993</th>\n",
       "      <td>2013-03-06 00:00:00</td>\n",
       "      <td>1P</td>\n",
       "      <td>US</td>\n",
       "      <td>bfafedb1505531ad8e70e176941a7ad0</td>\n",
       "      <td>804deeaddf16e6a93d36e5d046040d60</td>\n",
       "      <td>be83fd657625d53f58c5d3070cdb41b8</td>\n",
       "      <td>2013-03-06 00:00:00</td>\n",
       "      <td>5570</td>\n",
       "      <td>0</td>\n",
       "      <td>SLC</td>\n",
       "      <td>...</td>\n",
       "      <td>MSNMSPSLC</td>\n",
       "      <td>NV</td>\n",
       "      <td>Y</td>\n",
       "      <td>Y</td>\n",
       "      <td>2013-05-24 07:15:00</td>\n",
       "      <td>2013-05-24 10:50:16</td>\n",
       "      <td>1</td>\n",
       "      <td>2013</td>\n",
       "      <td>3</td>\n",
       "      <td>NULL</td>\n",
       "    </tr>\n",
       "    <tr>\n",
       "      <th>994</th>\n",
       "      <td>2013-03-23 00:00:00</td>\n",
       "      <td>1P</td>\n",
       "      <td>US</td>\n",
       "      <td>bfafedb1505531ad8e70e176941a7ad0</td>\n",
       "      <td>804deeaddf16e6a93d36e5d046040d60</td>\n",
       "      <td>be83fd657625d53f58c5d3070cdb41b8</td>\n",
       "      <td>2013-03-06 00:00:00</td>\n",
       "      <td>5570</td>\n",
       "      <td>0</td>\n",
       "      <td>SLC</td>\n",
       "      <td>...</td>\n",
       "      <td>SLCMSN</td>\n",
       "      <td>NV</td>\n",
       "      <td>K</td>\n",
       "      <td>Y</td>\n",
       "      <td>2013-05-20 14:00:00</td>\n",
       "      <td>2013-05-20 18:00:55</td>\n",
       "      <td>-1</td>\n",
       "      <td>2013</td>\n",
       "      <td>3</td>\n",
       "      <td>NULL</td>\n",
       "    </tr>\n",
       "    <tr>\n",
       "      <th>995</th>\n",
       "      <td>2013-03-23 00:00:00</td>\n",
       "      <td>1P</td>\n",
       "      <td>US</td>\n",
       "      <td>bfafedb1505531ad8e70e176941a7ad0</td>\n",
       "      <td>804deeaddf16e6a93d36e5d046040d60</td>\n",
       "      <td>be83fd657625d53f58c5d3070cdb41b8</td>\n",
       "      <td>2013-03-06 00:00:00</td>\n",
       "      <td>5570</td>\n",
       "      <td>0</td>\n",
       "      <td>SLC</td>\n",
       "      <td>...</td>\n",
       "      <td>SLCMSN</td>\n",
       "      <td>NV</td>\n",
       "      <td>K</td>\n",
       "      <td>Y</td>\n",
       "      <td>2013-05-20 14:00:00</td>\n",
       "      <td>2013-05-20 18:00:55</td>\n",
       "      <td>1</td>\n",
       "      <td>2013</td>\n",
       "      <td>3</td>\n",
       "      <td>NULL</td>\n",
       "    </tr>\n",
       "    <tr>\n",
       "      <th>996</th>\n",
       "      <td>2013-03-06 00:00:00</td>\n",
       "      <td>1P</td>\n",
       "      <td>US</td>\n",
       "      <td>83ccf07a55606976f78e63fcc805f58c</td>\n",
       "      <td>1490c3c5f95f04fa076fe15c775a80a9</td>\n",
       "      <td>691f15622668e671f51ba033ea904398</td>\n",
       "      <td>2013-03-06 00:00:00</td>\n",
       "      <td>4664</td>\n",
       "      <td>0</td>\n",
       "      <td>SNA</td>\n",
       "      <td>...</td>\n",
       "      <td>SNASFO</td>\n",
       "      <td>FK</td>\n",
       "      <td>V</td>\n",
       "      <td>Y</td>\n",
       "      <td>2013-03-17 13:31:00</td>\n",
       "      <td>2013-03-17 15:01:12</td>\n",
       "      <td>1</td>\n",
       "      <td>2013</td>\n",
       "      <td>3</td>\n",
       "      <td>NULL</td>\n",
       "    </tr>\n",
       "    <tr>\n",
       "      <th>997</th>\n",
       "      <td>2013-03-06 00:00:00</td>\n",
       "      <td>1P</td>\n",
       "      <td>US</td>\n",
       "      <td>83ccf07a55606976f78e63fcc805f58c</td>\n",
       "      <td>1490c3c5f95f04fa076fe15c775a80a9</td>\n",
       "      <td>691f15622668e671f51ba033ea904398</td>\n",
       "      <td>2013-03-06 00:00:00</td>\n",
       "      <td>4664</td>\n",
       "      <td>0</td>\n",
       "      <td>SNA</td>\n",
       "      <td>...</td>\n",
       "      <td>SFOSNA</td>\n",
       "      <td>FK</td>\n",
       "      <td>W</td>\n",
       "      <td>Y</td>\n",
       "      <td>2013-03-20 17:45:00</td>\n",
       "      <td>2013-03-20 19:15:12</td>\n",
       "      <td>1</td>\n",
       "      <td>2013</td>\n",
       "      <td>3</td>\n",
       "      <td>NULL</td>\n",
       "    </tr>\n",
       "    <tr>\n",
       "      <th>998</th>\n",
       "      <td>2013-03-06 00:00:00</td>\n",
       "      <td>1P</td>\n",
       "      <td>US</td>\n",
       "      <td>0deb0937d0f143f79505297b235eaeeb</td>\n",
       "      <td>f4ae494f0ebec1d84f6e01750d61747d</td>\n",
       "      <td>bed521f09feee94fcb87f705267b0327</td>\n",
       "      <td>2013-03-06 00:00:00</td>\n",
       "      <td>331</td>\n",
       "      <td>2598</td>\n",
       "      <td>LAX</td>\n",
       "      <td>...</td>\n",
       "      <td>LAXDFWMEM</td>\n",
       "      <td>KK</td>\n",
       "      <td>Y</td>\n",
       "      <td>Y</td>\n",
       "      <td>2013-03-09 07:30:00</td>\n",
       "      <td>2013-03-09 15:01:52</td>\n",
       "      <td>1</td>\n",
       "      <td>2013</td>\n",
       "      <td>3</td>\n",
       "      <td>NULL</td>\n",
       "    </tr>\n",
       "    <tr>\n",
       "      <th>999</th>\n",
       "      <td>2013-03-07 00:00:00</td>\n",
       "      <td>1P</td>\n",
       "      <td>US</td>\n",
       "      <td>0deb0937d0f143f79505297b235eaeeb</td>\n",
       "      <td>f4ae494f0ebec1d84f6e01750d61747d</td>\n",
       "      <td>bed521f09feee94fcb87f705267b0327</td>\n",
       "      <td>2013-03-06 00:00:00</td>\n",
       "      <td>331</td>\n",
       "      <td>2598</td>\n",
       "      <td>LAX</td>\n",
       "      <td>...</td>\n",
       "      <td>LAXDFWMEM</td>\n",
       "      <td>KK</td>\n",
       "      <td>Y</td>\n",
       "      <td>Y</td>\n",
       "      <td>2013-03-09 07:30:00</td>\n",
       "      <td>2013-03-09 15:01:52</td>\n",
       "      <td>-1</td>\n",
       "      <td>2013</td>\n",
       "      <td>3</td>\n",
       "      <td>NULL</td>\n",
       "    </tr>\n",
       "  </tbody>\n",
       "</table>\n",
       "<p>1000 rows × 38 columns</p>\n",
       "</div>"
      ],
      "text/plain": [
       "     act_date             source  pos_ctry                          pos_iata  \\\n",
       "0    2013-03-05 00:00:00  1A      DE        a68dd7ae953c8acfb187a1af2dcbe123   \n",
       "1    2013-03-26 00:00:00  1A      US        e612b9eeeee6f17f42d9b0d3b79e75ca   \n",
       "2    2013-03-26 00:00:00  1A      US        e612b9eeeee6f17f42d9b0d3b79e75ca   \n",
       "3    2013-03-26 00:00:00  1A      AU        0f984b3bb6bd06661c95529bbd6193bc   \n",
       "4    2013-03-26 00:00:00  1A      AU        0f984b3bb6bd06661c95529bbd6193bc   \n",
       "5    2013-03-20 00:00:00  1V      US        0283592e45e392871f7e14b1e22a9aaf   \n",
       "6    2013-03-20 00:00:00  1V      US        0283592e45e392871f7e14b1e22a9aaf   \n",
       "7    2013-03-25 00:00:00  1V      JP        5af045902bd23cab579915611d99e1e0   \n",
       "8    2013-03-25 00:00:00  1V      JP        5af045902bd23cab579915611d99e1e0   \n",
       "9    2013-03-25 00:00:00  1V      JP        5af045902bd23cab579915611d99e1e0   \n",
       "10   2013-03-25 00:00:00  1V      JP        5af045902bd23cab579915611d99e1e0   \n",
       "11   2013-03-28 00:00:00  1V      JP        5af045902bd23cab579915611d99e1e0   \n",
       "12   2013-03-28 00:00:00  1V      JP        5af045902bd23cab579915611d99e1e0   \n",
       "13   2013-03-28 00:00:00  1V      JP        5af045902bd23cab579915611d99e1e0   \n",
       "14   2013-03-28 00:00:00  1V      JP        5af045902bd23cab579915611d99e1e0   \n",
       "15   2013-03-28 00:00:00  1V      JP        5af045902bd23cab579915611d99e1e0   \n",
       "16   2013-03-28 00:00:00  1V      JP        5af045902bd23cab579915611d99e1e0   \n",
       "17   2013-03-28 00:00:00  1V      JP        5af045902bd23cab579915611d99e1e0   \n",
       "18   2013-03-28 00:00:00  1V      JP        5af045902bd23cab579915611d99e1e0   \n",
       "19   2013-03-13 00:00:00  1V      CA        f8d15f8b5e04f0cfcb62f299d059beb3   \n",
       "20   2013-03-25 00:00:00  1A      IT        f1c9acf55eb44dedd43734952a9138a6   \n",
       "21   2013-03-25 00:00:00  1A      IT        f1c9acf55eb44dedd43734952a9138a6   \n",
       "22   2013-03-12 00:00:00  1A      IN        ce60b5b55af87be62855ef1787b6b13f   \n",
       "23   2013-03-12 00:00:00  1A      IN        ce60b5b55af87be62855ef1787b6b13f   \n",
       "24   2013-03-13 00:00:00  1A      IN        ce60b5b55af87be62855ef1787b6b13f   \n",
       "25   2013-03-13 00:00:00  1A      IN        ce60b5b55af87be62855ef1787b6b13f   \n",
       "26   2013-03-18 00:00:00  1A      IN        ce60b5b55af87be62855ef1787b6b13f   \n",
       "27   2013-03-19 00:00:00  1A      IN        ce60b5b55af87be62855ef1787b6b13f   \n",
       "28   2013-03-19 00:00:00  1A      IN        ce60b5b55af87be62855ef1787b6b13f   \n",
       "29   2013-03-19 00:00:00  1A      IN        ce60b5b55af87be62855ef1787b6b13f   \n",
       "..                   ...     ...       ...                               ...   \n",
       "970  2013-03-12 00:00:00  1A      IN        5be7a165172bb56a74615b5e9df4734c   \n",
       "971  2013-03-09 00:00:00  1P      US        83ccf07a55606976f78e63fcc805f58c   \n",
       "972  2013-03-09 00:00:00  1P      US        83ccf07a55606976f78e63fcc805f58c   \n",
       "973  2013-03-09 00:00:00  1P      US        83ccf07a55606976f78e63fcc805f58c   \n",
       "974  2013-03-09 00:00:00  1P      US        83ccf07a55606976f78e63fcc805f58c   \n",
       "975  2013-03-09 00:00:00  1P      US        72fecda8d2a72c275e70ec38737cb7d9   \n",
       "976  2013-03-09 00:00:00  1P      US        72fecda8d2a72c275e70ec38737cb7d9   \n",
       "977  2013-03-10 00:00:00  1P      US        72fecda8d2a72c275e70ec38737cb7d9   \n",
       "978  2013-03-10 00:00:00  1P      US        72fecda8d2a72c275e70ec38737cb7d9   \n",
       "979  2013-03-27 00:00:00  1A      FR        d73031d78ac10093b29a01a3719adc5f   \n",
       "980  2013-03-06 00:00:00  1P      US        0bde7b929573cf16e0d52637cf0735d2   \n",
       "981  2013-03-06 00:00:00  1P      US        52f3620dc7828972be9140447ebb12b2   \n",
       "982  2013-03-06 00:00:00  1P      US        52f3620dc7828972be9140447ebb12b2   \n",
       "983  2013-03-06 00:00:00  1P      US        eecca103daab4a0181d1c101525e1a6d   \n",
       "984  2013-03-06 00:00:00  1P      US        eecca103daab4a0181d1c101525e1a6d   \n",
       "985  2013-03-10 00:00:00  1P      US        0bde7b929573cf16e0d52637cf0735d2   \n",
       "986  2013-03-10 00:00:00  1P      US        0bde7b929573cf16e0d52637cf0735d2   \n",
       "987  2013-03-06 00:00:00  1P      US        83ccf07a55606976f78e63fcc805f58c   \n",
       "988  2013-03-06 00:00:00  1P      US        83ccf07a55606976f78e63fcc805f58c   \n",
       "989  2013-03-23 00:00:00  1P      US        83ccf07a55606976f78e63fcc805f58c   \n",
       "990  2013-03-23 00:00:00  1P      US        83ccf07a55606976f78e63fcc805f58c   \n",
       "991  2013-03-06 00:00:00  1P      US        798bf627c8e44de15455e77f59c5559e   \n",
       "992  2013-03-06 00:00:00  1P      US        bfafedb1505531ad8e70e176941a7ad0   \n",
       "993  2013-03-06 00:00:00  1P      US        bfafedb1505531ad8e70e176941a7ad0   \n",
       "994  2013-03-23 00:00:00  1P      US        bfafedb1505531ad8e70e176941a7ad0   \n",
       "995  2013-03-23 00:00:00  1P      US        bfafedb1505531ad8e70e176941a7ad0   \n",
       "996  2013-03-06 00:00:00  1P      US        83ccf07a55606976f78e63fcc805f58c   \n",
       "997  2013-03-06 00:00:00  1P      US        83ccf07a55606976f78e63fcc805f58c   \n",
       "998  2013-03-06 00:00:00  1P      US        0deb0937d0f143f79505297b235eaeeb   \n",
       "999  2013-03-07 00:00:00  1P      US        0deb0937d0f143f79505297b235eaeeb   \n",
       "\n",
       "                            pos_oid                      rloc            \\\n",
       "0    1a11ae49fcbf545fd2afc1a24d88d2b7  ea65900e72d71f4626378e2ebd298267   \n",
       "1    7437560d8f276d6d05eeb806d9e7edee  737295a86982c941f1c2da9a46a14043   \n",
       "2    7437560d8f276d6d05eeb806d9e7edee  737295a86982c941f1c2da9a46a14043   \n",
       "3    36472c6dbaf7afec9136ac40364e2794  5ecf00fdcbcec761c43dc7285253d0c1   \n",
       "4    36472c6dbaf7afec9136ac40364e2794  5ecf00fdcbcec761c43dc7285253d0c1   \n",
       "5    2d0f8e7e1bb792625d2f34f221bc38f1  d54708298686de200f8270e7c637af5e   \n",
       "6    2d0f8e7e1bb792625d2f34f221bc38f1  d54708298686de200f8270e7c637af5e   \n",
       "7    5073861d8597467c33596bfe16f23c56  a37584d1485cb35991e4ff1a2ba92262   \n",
       "8    5073861d8597467c33596bfe16f23c56  a37584d1485cb35991e4ff1a2ba92262   \n",
       "9    5073861d8597467c33596bfe16f23c56  a37584d1485cb35991e4ff1a2ba92262   \n",
       "10   5073861d8597467c33596bfe16f23c56  a37584d1485cb35991e4ff1a2ba92262   \n",
       "11   5073861d8597467c33596bfe16f23c56  a37584d1485cb35991e4ff1a2ba92262   \n",
       "12   5073861d8597467c33596bfe16f23c56  a37584d1485cb35991e4ff1a2ba92262   \n",
       "13   5073861d8597467c33596bfe16f23c56  a37584d1485cb35991e4ff1a2ba92262   \n",
       "14   5073861d8597467c33596bfe16f23c56  a37584d1485cb35991e4ff1a2ba92262   \n",
       "15   5073861d8597467c33596bfe16f23c56  a37584d1485cb35991e4ff1a2ba92262   \n",
       "16   5073861d8597467c33596bfe16f23c56  a37584d1485cb35991e4ff1a2ba92262   \n",
       "17   5073861d8597467c33596bfe16f23c56  a37584d1485cb35991e4ff1a2ba92262   \n",
       "18   5073861d8597467c33596bfe16f23c56  a37584d1485cb35991e4ff1a2ba92262   \n",
       "19   257170d899c9dc7744a83f18c399bc1c  c302645256976e555e80bc46a3f982d7   \n",
       "20   7f3988fed8c1fe28c882eb979acc046c  57af3d59571623b706c04ac178d5900b   \n",
       "21   7f3988fed8c1fe28c882eb979acc046c  57af3d59571623b706c04ac178d5900b   \n",
       "22   4760d231a384bd15c720e217b190bc92  29b689903e7432d637777855f9542d86   \n",
       "23   4760d231a384bd15c720e217b190bc92  29b689903e7432d637777855f9542d86   \n",
       "24   4760d231a384bd15c720e217b190bc92  29b689903e7432d637777855f9542d86   \n",
       "25   4760d231a384bd15c720e217b190bc92  29b689903e7432d637777855f9542d86   \n",
       "26   4760d231a384bd15c720e217b190bc92  29b689903e7432d637777855f9542d86   \n",
       "27   4760d231a384bd15c720e217b190bc92  29b689903e7432d637777855f9542d86   \n",
       "28   4760d231a384bd15c720e217b190bc92  29b689903e7432d637777855f9542d86   \n",
       "29   4760d231a384bd15c720e217b190bc92  29b689903e7432d637777855f9542d86   \n",
       "..                                ...                               ...   \n",
       "970  3b3db5aa99c2f9357607751ac2863d98  25683b06cc0cde888f7ae240c4169ca7   \n",
       "971  1490c3c5f95f04fa076fe15c775a80a9  efb97270bb70f2995385e90d3a45726d   \n",
       "972  1490c3c5f95f04fa076fe15c775a80a9  efb97270bb70f2995385e90d3a45726d   \n",
       "973  1490c3c5f95f04fa076fe15c775a80a9  efb97270bb70f2995385e90d3a45726d   \n",
       "974  1490c3c5f95f04fa076fe15c775a80a9  efb97270bb70f2995385e90d3a45726d   \n",
       "975  e9dacda88c2af1783432d5709c6dab24  8a61ed0210951ff95d9f57600902e0a5   \n",
       "976  e9dacda88c2af1783432d5709c6dab24  8a61ed0210951ff95d9f57600902e0a5   \n",
       "977  e9dacda88c2af1783432d5709c6dab24  8a61ed0210951ff95d9f57600902e0a5   \n",
       "978  e9dacda88c2af1783432d5709c6dab24  8a61ed0210951ff95d9f57600902e0a5   \n",
       "979  e64e5ef268c69dc23387a5c84f7cb9ed  ea4898bac1f87e801cb7e751c7bf3491   \n",
       "980  f187f1dfcac9833a7d7f90de67b24181  15eb09a8821a376cd0d856d8a49aa80f   \n",
       "981  7f359b05059601a5ab5bd1fdf8e4b258  9c11c092e299df08a1baab22d8aeef5f   \n",
       "982  7f359b05059601a5ab5bd1fdf8e4b258  9c11c092e299df08a1baab22d8aeef5f   \n",
       "983  dfd895013d723f19c2926e695c009e31  5fd9fc2edb172e9d0993b629d6e54e4a   \n",
       "984  dfd895013d723f19c2926e695c009e31  5fd9fc2edb172e9d0993b629d6e54e4a   \n",
       "985  f187f1dfcac9833a7d7f90de67b24181  f015a292e783632fcb6b76205b8019d3   \n",
       "986  f187f1dfcac9833a7d7f90de67b24181  f015a292e783632fcb6b76205b8019d3   \n",
       "987  1490c3c5f95f04fa076fe15c775a80a9  f7ef6d78c33e77e3a090e069175c7576   \n",
       "988  1490c3c5f95f04fa076fe15c775a80a9  f7ef6d78c33e77e3a090e069175c7576   \n",
       "989  1490c3c5f95f04fa076fe15c775a80a9  f7ef6d78c33e77e3a090e069175c7576   \n",
       "990  1490c3c5f95f04fa076fe15c775a80a9  f7ef6d78c33e77e3a090e069175c7576   \n",
       "991  20c6de8d68e5ab4eb4fa9ce9cdf12f6c  0f0c2181cb39797da6073b28675cbb66   \n",
       "992  804deeaddf16e6a93d36e5d046040d60  be83fd657625d53f58c5d3070cdb41b8   \n",
       "993  804deeaddf16e6a93d36e5d046040d60  be83fd657625d53f58c5d3070cdb41b8   \n",
       "994  804deeaddf16e6a93d36e5d046040d60  be83fd657625d53f58c5d3070cdb41b8   \n",
       "995  804deeaddf16e6a93d36e5d046040d60  be83fd657625d53f58c5d3070cdb41b8   \n",
       "996  1490c3c5f95f04fa076fe15c775a80a9  691f15622668e671f51ba033ea904398   \n",
       "997  1490c3c5f95f04fa076fe15c775a80a9  691f15622668e671f51ba033ea904398   \n",
       "998  f4ae494f0ebec1d84f6e01750d61747d  bed521f09feee94fcb87f705267b0327   \n",
       "999  f4ae494f0ebec1d84f6e01750d61747d  bed521f09feee94fcb87f705267b0327   \n",
       "\n",
       "     cre_date             duration  distance  dep_port    ...      \\\n",
       "0    2013-02-22 00:00:00      1708         0  ZRH         ...       \n",
       "1    2013-03-26 00:00:00    135270         0  SAL         ...       \n",
       "2    2013-03-26 00:00:00    135270         0  SAL         ...       \n",
       "3    2013-03-26 00:00:00     30885         0  AKL         ...       \n",
       "4    2013-03-26 00:00:00     30885         0  AKL         ...       \n",
       "5    2013-03-20 00:00:00      5923         0  DEN         ...       \n",
       "6    2013-03-20 00:00:00      5923         0  DEN         ...       \n",
       "7    2013-03-25 00:00:00      8371        60  NRT         ...       \n",
       "8    2013-03-25 00:00:00      8371        60  NRT         ...       \n",
       "9    2013-03-25 00:00:00      8371        60  NRT         ...       \n",
       "10   2013-03-25 00:00:00      8371        60  NRT         ...       \n",
       "11   2013-03-25 00:00:00      8371        60  NRT         ...       \n",
       "12   2013-03-25 00:00:00      8371        60  NRT         ...       \n",
       "13   2013-03-25 00:00:00      8371        60  NRT         ...       \n",
       "14   2013-03-25 00:00:00      8371        60  NRT         ...       \n",
       "15   2013-03-25 00:00:00      8371        60  NRT         ...       \n",
       "16   2013-03-25 00:00:00      8371        60  NRT         ...       \n",
       "17   2013-03-25 00:00:00      8371        60  NRT         ...       \n",
       "18   2013-03-25 00:00:00      8371        60  NRT         ...       \n",
       "19   2013-03-13 00:00:00     11640         0  YYZ         ...       \n",
       "20   2013-03-12 00:00:00      9240         0  FCO         ...       \n",
       "21   2013-03-12 00:00:00      9175         0  FCO         ...       \n",
       "22   2013-03-12 00:00:00    194949       102  BDQ         ...       \n",
       "23   2013-03-12 00:00:00    194949       102  BDQ         ...       \n",
       "24   2013-03-12 00:00:00    194949       102  BDQ         ...       \n",
       "25   2013-03-12 00:00:00    219429       102  BDQ         ...       \n",
       "26   2013-03-12 00:00:00    219524       102  BDQ         ...       \n",
       "27   2013-03-12 00:00:00    219524       102  BDQ         ...       \n",
       "28   2013-03-12 00:00:00    219524       102  BDQ         ...       \n",
       "29   2013-03-12 00:00:00    219524       102  BDQ         ...       \n",
       "..                   ...       ...       ...       ...    ...       \n",
       "970  2013-03-12 00:00:00      5670         0  DEL         ...       \n",
       "971  2013-02-07 00:00:00      9295         0  MSP         ...       \n",
       "972  2013-02-07 00:00:00      9295         0  MSP         ...       \n",
       "973  2013-02-07 00:00:00      9280         0  MSP         ...       \n",
       "974  2013-02-07 00:00:00      9280         0  MSP         ...       \n",
       "975  2013-02-07 00:00:00      3082         0  RIC         ...       \n",
       "976  2013-02-07 00:00:00      3082         0  RIC         ...       \n",
       "977  2013-02-07 00:00:00      3082         0  RIC         ...       \n",
       "978  2013-02-07 00:00:00      3082         0  RIC         ...       \n",
       "979  2013-03-27 00:00:00      4268         0  CDG         ...       \n",
       "980  2013-03-06 00:00:00      4955         0  DEN         ...       \n",
       "981  2013-03-06 00:00:00      6210         0  DEN         ...       \n",
       "982  2013-03-06 00:00:00      6210         0  DEN         ...       \n",
       "983  2013-03-06 00:00:00     11044         0  ORD         ...       \n",
       "984  2013-03-06 00:00:00     11044         0  ORD         ...       \n",
       "985  2013-01-13 00:00:00     14484         0  LAX         ...       \n",
       "986  2013-01-13 00:00:00     14759         0  LAX         ...       \n",
       "987  2013-03-06 00:00:00      3082         0  TPA         ...       \n",
       "988  2013-03-06 00:00:00      3082         0  TPA         ...       \n",
       "989  2013-03-06 00:00:00      3082         0  TPA         ...       \n",
       "990  2013-03-06 00:00:00      3078         0  TPA         ...       \n",
       "991  2013-03-06 00:00:00        74       380  LAX         ...       \n",
       "992  2013-03-06 00:00:00      5570         0  SLC         ...       \n",
       "993  2013-03-06 00:00:00      5570         0  SLC         ...       \n",
       "994  2013-03-06 00:00:00      5570         0  SLC         ...       \n",
       "995  2013-03-06 00:00:00      5570         0  SLC         ...       \n",
       "996  2013-03-06 00:00:00      4664         0  SNA         ...       \n",
       "997  2013-03-06 00:00:00      4664         0  SNA         ...       \n",
       "998  2013-03-06 00:00:00       331      2598  LAX         ...       \n",
       "999  2013-03-06 00:00:00       331      2598  LAX         ...       \n",
       "\n",
       "     route           carrier  bkg_class  cab_class  brd_time             \\\n",
       "0    LHRZRH               VI  T          Y          2013-03-07 08:50:00   \n",
       "1    SALATLCLT            NV  L          Y          2013-04-12 13:04:00   \n",
       "2    CLTATLSAL            NV  U          Y          2013-07-15 07:00:00   \n",
       "3    AKLHKGSVO            XK  G          Y          2013-04-24 23:59:00   \n",
       "4    SVOHKGAKL            XK  G          Y          2013-05-14 20:15:00   \n",
       "5    DENLGA               FK  W          Y          2013-04-07 10:23:00   \n",
       "6    LGADEN               FK  K          Y          2013-04-11 11:15:00   \n",
       "7    NRTSIN               XR  Q          Y          2013-04-14 11:05:00   \n",
       "8    SINPEN               WS  Y          Y          2013-04-16 15:45:00   \n",
       "9    PENBKK               EQ  Y          Y          2013-04-18 08:00:00   \n",
       "10   BKKHND               XR  B          Y          2013-04-19 22:25:00   \n",
       "11   NRTSIN               XR  Q          Y          2013-04-14 11:05:00   \n",
       "12   SINPEN               WS  Y          Y          2013-04-16 15:45:00   \n",
       "13   PENBKK               EQ  Y          Y          2013-04-18 08:00:00   \n",
       "14   BKKHND               XR  B          Y          2013-04-19 22:25:00   \n",
       "15   NRTSIN               XR  Q          Y          2013-04-14 11:05:00   \n",
       "16   SINPEN               WS  Y          Y          2013-04-16 15:45:00   \n",
       "17   PENBKK               EQ  Y          Y          2013-04-18 08:00:00   \n",
       "18   BKKHND               XR  B          Y          2013-04-19 22:25:00   \n",
       "19   YYZTUS               FK  V          Y          2013-04-06 13:28:00   \n",
       "20   FCOCTA               KK  O          Y          2013-05-25 07:25:00   \n",
       "21   FCOCTA               KK  O          Y          2013-05-25 08:30:00   \n",
       "22   BDQDELYYZYWG         CH  N          Y          2013-03-24 20:50:00   \n",
       "23   YWGYYZBRUBOMAMD      CH  K          Y          2013-08-05 12:35:00   \n",
       "24   YWGYYZBRUBOMAMD      CH  K          Y          2013-08-05 12:35:00   \n",
       "25   YWGYYZBRUBOMAMD      CH  K          Y          2013-08-22 10:35:00   \n",
       "26   BDQBOMDEL            CH  T          Y          2013-03-24 19:15:00   \n",
       "27   BDQBOMDEL            CH  T          Y          2013-03-24 19:15:00   \n",
       "28   BDQDELYYZYWG         CH  N          Y          2013-03-24 20:50:00   \n",
       "29   BDQBOMBRUYYZYWG      CH  U          Y          2013-03-24 19:15:00   \n",
       "..               ...     ...        ...        ...                  ...   \n",
       "970  SVODEL               DF  Z          C          2013-03-27 20:10:00   \n",
       "971  MSPORDDTW            FK  T          Y          2013-06-27 07:00:00   \n",
       "972  DTWORDMSP            FK  T          Y          2013-07-03 13:15:00   \n",
       "973  MSPORDDTW            FK  T          Y          2013-06-27 07:00:00   \n",
       "974  DTWORDMSP            FK  T          Y          2013-07-03 13:15:00   \n",
       "975  RICCLTJAX            FD  K          Y          2013-03-12 09:15:00   \n",
       "976  RICCLTJAX            FD  O          Y          2013-03-12 09:15:00   \n",
       "977  JAXCLT               FD  V          Y          2013-03-13 13:55:00   \n",
       "978  JAXCLT               FD  O          Y          2013-03-13 13:55:00   \n",
       "979  CDGBCN               KP  N          Y          2013-04-04 12:35:00   \n",
       "980  PDXDEN               PC  H          Y          2013-03-24 19:15:00   \n",
       "981  DENPVR               PC  Q          Y          2013-04-06 08:20:00   \n",
       "982  PVRDEN               PC  D          C          2013-04-10 13:32:00   \n",
       "983  ORDDFWBJX            KK  Q          Y          2013-03-07 06:00:00   \n",
       "984  BJXDFWORD            KK  Q          Y          2013-03-14 15:30:00   \n",
       "985  SJOMEXLAX            KW  N          Y          2013-06-29 07:00:00   \n",
       "986  SJOMEXLAX            KW  N          Y          2013-06-29 07:00:00   \n",
       "987  TPALGA               NV  T          Y          2013-05-17 18:50:00   \n",
       "988  LGATPA               NV  T          Y          2013-05-19 19:30:00   \n",
       "989  TPALGA               NV  T          Y          2013-05-17 18:50:00   \n",
       "990  TPALGA               NV  T          Y          2013-05-17 18:54:00   \n",
       "991  LAXLAS               NV  K          Y          2013-03-07 20:49:00   \n",
       "992  SLCMSN               NV  K          Y          2013-05-20 14:00:00   \n",
       "993  MSNMSPSLC            NV  Y          Y          2013-05-24 07:15:00   \n",
       "994  SLCMSN               NV  K          Y          2013-05-20 14:00:00   \n",
       "995  SLCMSN               NV  K          Y          2013-05-20 14:00:00   \n",
       "996  SNASFO               FK  V          Y          2013-03-17 13:31:00   \n",
       "997  SFOSNA               FK  W          Y          2013-03-20 17:45:00   \n",
       "998  LAXDFWMEM            KK  Y          Y          2013-03-09 07:30:00   \n",
       "999  LAXDFWMEM            KK  Y          Y          2013-03-09 07:30:00   \n",
       "\n",
       "     off_time            pax  year month  oid        \n",
       "0    2013-03-07 11:33:37  -1  2013     3  NULL       \n",
       "1    2013-04-12 22:05:40   1  2013     3  NULL       \n",
       "2    2013-07-15 11:34:51   1  2013     3  NULL       \n",
       "3    2013-04-25 16:06:31   1  2013     3  SYDA82546  \n",
       "4    2013-05-16 10:44:50   1  2013     3  SYDA82546  \n",
       "5    2013-04-07 16:14:24   1  2013     3  NULL       \n",
       "6    2013-04-11 13:06:24   1  2013     3  NULL       \n",
       "7    2013-04-14 17:10:56   2  2013     3  NULL       \n",
       "8    2013-04-16 17:15:29   2  2013     3  NULL       \n",
       "9    2013-04-18 08:53:56   2  2013     3  NULL       \n",
       "10   2013-04-20 06:36:40   2  2013     3  NULL       \n",
       "11   2013-04-14 17:10:56  -2  2013     3  NULL       \n",
       "12   2013-04-16 17:15:29  -2  2013     3  NULL       \n",
       "13   2013-04-18 08:53:56  -2  2013     3  NULL       \n",
       "14   2013-04-20 06:36:40  -2  2013     3  NULL       \n",
       "15   2013-04-14 17:10:56   1  2013     3  NULL       \n",
       "16   2013-04-16 17:15:29   1  2013     3  NULL       \n",
       "17   2013-04-18 08:53:56   1  2013     3  NULL       \n",
       "18   2013-04-20 06:36:40   1  2013     3  NULL       \n",
       "19   2013-04-06 14:48:17   1  2013     3  NULL       \n",
       "20   2013-05-25 08:50:57  -2  2013     3  NULL       \n",
       "21   2013-05-25 09:55:57   2  2013     3  NULL       \n",
       "22   2013-03-25 19:34:05   2  2013     3  BDQAK3101  \n",
       "23   2013-08-07 05:59:19   2  2013     3  BDQAK3101  \n",
       "24   2013-08-07 05:59:19  -2  2013     3  BDQAK3101  \n",
       "25   2013-08-24 05:59:19   2  2013     3  BDQAK3101  \n",
       "26   2013-03-25 04:33:17   2  2013     3  BDQAK3101  \n",
       "27   2013-03-25 04:33:17  -2  2013     3  BDQAK3101  \n",
       "28   2013-03-25 19:34:05  -2  2013     3  BDQAK3101  \n",
       "29   2013-03-25 19:34:05   2  2013     3  BDQAK3101  \n",
       "..                   ...  ..   ...   ...        ...  \n",
       "970  2013-03-28 03:35:48   2  2013     3  NULL       \n",
       "971  2013-06-27 12:44:33  -1  2013     3  NULL       \n",
       "972  2013-07-03 17:55:52  -1  2013     3  NULL       \n",
       "973  2013-06-27 13:25:33   1  2013     3  NULL       \n",
       "974  2013-07-03 17:40:52   1  2013     3  NULL       \n",
       "975  2013-03-12 13:15:21  -1  2013     3  NULL       \n",
       "976  2013-03-12 13:15:21   1  2013     3  NULL       \n",
       "977  2013-03-13 15:20:21  -1  2013     3  NULL       \n",
       "978  2013-03-13 15:20:21   1  2013     3  NULL       \n",
       "979  2013-04-04 14:23:34   1  2013     3  NULL       \n",
       "980  2013-03-24 22:55:18   1  2013     3  NULL       \n",
       "981  2013-04-06 11:38:30   2  2013     3  NULL       \n",
       "982  2013-04-10 15:50:30   2  2013     3  NULL       \n",
       "983  2013-03-07 12:11:22   1  2013     3  NULL       \n",
       "984  2013-03-14 23:04:02   1  2013     3  NULL       \n",
       "985  2013-06-29 15:59:21  -1  2013     3  NULL       \n",
       "986  2013-06-29 20:34:21   1  2013     3  NULL       \n",
       "987  2013-05-17 21:32:51   1  2013     3  NULL       \n",
       "988  2013-05-19 22:12:51   1  2013     3  NULL       \n",
       "989  2013-05-17 21:32:51  -1  2013     3  NULL       \n",
       "990  2013-05-17 21:36:51   1  2013     3  NULL       \n",
       "991  2013-03-07 22:03:48   1  2013     3  NULL       \n",
       "992  2013-05-20 18:00:55   1  2013     3  NULL       \n",
       "993  2013-05-24 10:50:16   1  2013     3  NULL       \n",
       "994  2013-05-20 18:00:55  -1  2013     3  NULL       \n",
       "995  2013-05-20 18:00:55   1  2013     3  NULL       \n",
       "996  2013-03-17 15:01:12   1  2013     3  NULL       \n",
       "997  2013-03-20 19:15:12   1  2013     3  NULL       \n",
       "998  2013-03-09 15:01:52   1  2013     3  NULL       \n",
       "999  2013-03-09 15:01:52  -1  2013     3  NULL       \n",
       "\n",
       "[1000 rows x 38 columns]"
      ]
     },
     "execution_count": 10,
     "metadata": {},
     "output_type": "execute_result"
    }
   ],
   "source": [
    "block1.get_chunk()"
   ]
  },
  {
   "cell_type": "code",
   "execution_count": null,
   "metadata": {
    "collapsed": true,
    "deletable": true,
    "editable": true
   },
   "outputs": [],
   "source": [
    "for chunk in "
   ]
  },
  {
   "cell_type": "code",
   "execution_count": 30,
   "metadata": {
    "collapsed": false,
    "deletable": true,
    "editable": true
   },
   "outputs": [],
   "source": [
    "bookings = pd.read_csv(path1, usecols=[\"pos_iata\"], sep='^')"
   ]
  },
  {
   "cell_type": "code",
   "execution_count": 31,
   "metadata": {
    "collapsed": false,
    "deletable": true,
    "editable": true
   },
   "outputs": [
    {
     "ename": "AttributeError",
     "evalue": "'DataFrame' object has no attribute 'len'",
     "output_type": "error",
     "traceback": [
      "\u001b[0;31m---------------------------------------------------------------------------\u001b[0m",
      "\u001b[0;31mAttributeError\u001b[0m                            Traceback (most recent call last)",
      "\u001b[0;32m<ipython-input-31-9fb4beae5864>\u001b[0m in \u001b[0;36m<module>\u001b[0;34m()\u001b[0m\n\u001b[0;32m----> 1\u001b[0;31m \u001b[0mbookings\u001b[0m\u001b[0;34m.\u001b[0m\u001b[0mlen\u001b[0m\u001b[0;34m\u001b[0m\u001b[0m\n\u001b[0m",
      "\u001b[0;32m/home/dsc/anaconda2/lib/python2.7/site-packages/pandas/core/generic.pyc\u001b[0m in \u001b[0;36m__getattr__\u001b[0;34m(self, name)\u001b[0m\n\u001b[1;32m   2742\u001b[0m             \u001b[0;32mif\u001b[0m \u001b[0mname\u001b[0m \u001b[0;32min\u001b[0m \u001b[0mself\u001b[0m\u001b[0;34m.\u001b[0m\u001b[0m_info_axis\u001b[0m\u001b[0;34m:\u001b[0m\u001b[0;34m\u001b[0m\u001b[0m\n\u001b[1;32m   2743\u001b[0m                 \u001b[0;32mreturn\u001b[0m \u001b[0mself\u001b[0m\u001b[0;34m[\u001b[0m\u001b[0mname\u001b[0m\u001b[0;34m]\u001b[0m\u001b[0;34m\u001b[0m\u001b[0m\n\u001b[0;32m-> 2744\u001b[0;31m             \u001b[0;32mreturn\u001b[0m \u001b[0mobject\u001b[0m\u001b[0;34m.\u001b[0m\u001b[0m__getattribute__\u001b[0m\u001b[0;34m(\u001b[0m\u001b[0mself\u001b[0m\u001b[0;34m,\u001b[0m \u001b[0mname\u001b[0m\u001b[0;34m)\u001b[0m\u001b[0;34m\u001b[0m\u001b[0m\n\u001b[0m\u001b[1;32m   2745\u001b[0m \u001b[0;34m\u001b[0m\u001b[0m\n\u001b[1;32m   2746\u001b[0m     \u001b[0;32mdef\u001b[0m \u001b[0m__setattr__\u001b[0m\u001b[0;34m(\u001b[0m\u001b[0mself\u001b[0m\u001b[0;34m,\u001b[0m \u001b[0mname\u001b[0m\u001b[0;34m,\u001b[0m \u001b[0mvalue\u001b[0m\u001b[0;34m)\u001b[0m\u001b[0;34m:\u001b[0m\u001b[0;34m\u001b[0m\u001b[0m\n",
      "\u001b[0;31mAttributeError\u001b[0m: 'DataFrame' object has no attribute 'len'"
     ]
    }
   ],
   "source": [
    "bookings.len"
   ]
  },
  {
   "cell_type": "code",
   "execution_count": 3,
   "metadata": {
    "collapsed": true,
    "deletable": true,
    "editable": true
   },
   "outputs": [],
   "source": [
    "bookings = pd.read_csv(path3, sep='^', usecols=['pos_iata'])"
   ]
  },
  {
   "cell_type": "code",
   "execution_count": 4,
   "metadata": {
    "collapsed": true,
    "deletable": true,
    "editable": true
   },
   "outputs": [],
   "source": [
    "searches = pd.read_csv(path4, sep='^', usecols=['Destination'])"
   ]
  },
  {
   "cell_type": "code",
   "execution_count": 5,
   "metadata": {
    "collapsed": false,
    "deletable": true,
    "editable": true
   },
   "outputs": [
    {
     "data": {
      "text/plain": [
       "RangeIndex(start=0, stop=10000010, step=1)"
      ]
     },
     "execution_count": 5,
     "metadata": {},
     "output_type": "execute_result"
    }
   ],
   "source": [
    "bookings.index"
   ]
  },
  {
   "cell_type": "code",
   "execution_count": 6,
   "metadata": {
    "collapsed": false,
    "deletable": true,
    "editable": true
   },
   "outputs": [
    {
     "data": {
      "text/plain": [
       "RangeIndex(start=0, stop=20390198, step=1)"
      ]
     },
     "execution_count": 6,
     "metadata": {},
     "output_type": "execute_result"
    }
   ],
   "source": [
    "searches.index"
   ]
  },
  {
   "cell_type": "markdown",
   "metadata": {
    "collapsed": true,
    "deletable": true,
    "editable": true
   },
   "source": [
    "# Solución"
   ]
  },
  {
   "cell_type": "code",
   "execution_count": 2,
   "metadata": {
    "collapsed": false,
    "deletable": true,
    "editable": true
   },
   "outputs": [
    {
     "name": "stdout",
     "output_type": "stream",
     "text": [
      "/home/dsc/Repositories/M-ster---Data-Science\r\n"
     ]
    }
   ],
   "source": [
    "!pwd"
   ]
  },
  {
   "cell_type": "code",
   "execution_count": 28,
   "metadata": {
    "collapsed": true,
    "deletable": true,
    "editable": true
   },
   "outputs": [],
   "source": [
    "!touch sample_bookings.csv"
   ]
  },
  {
   "cell_type": "code",
   "execution_count": 30,
   "metadata": {
    "collapsed": false,
    "deletable": true,
    "editable": true
   },
   "outputs": [],
   "source": [
    "!head -10000 /home/dsc/Data/challenge/bookings.csv > sample_bookings.csv"
   ]
  },
  {
   "cell_type": "code",
   "execution_count": 10,
   "metadata": {
    "collapsed": true,
    "deletable": true,
    "editable": true
   },
   "outputs": [],
   "source": [
    "bookings_sample = pd.read_csv('./sample_bookings.csv', sep='^')"
   ]
  },
  {
   "cell_type": "code",
   "execution_count": 16,
   "metadata": {
    "collapsed": false,
    "deletable": true,
    "editable": true
   },
   "outputs": [
    {
     "data": {
      "text/html": [
       "<div>\n",
       "<table border=\"1\" class=\"dataframe\">\n",
       "  <thead>\n",
       "    <tr style=\"text-align: right;\">\n",
       "      <th></th>\n",
       "      <th>act_date</th>\n",
       "      <th>source</th>\n",
       "      <th>pos_ctry</th>\n",
       "      <th>pos_iata</th>\n",
       "      <th>pos_oid</th>\n",
       "      <th>rloc</th>\n",
       "      <th>cre_date</th>\n",
       "      <th>duration</th>\n",
       "      <th>distance</th>\n",
       "      <th>dep_port</th>\n",
       "      <th>...</th>\n",
       "      <th>route</th>\n",
       "      <th>carrier</th>\n",
       "      <th>bkg_class</th>\n",
       "      <th>cab_class</th>\n",
       "      <th>brd_time</th>\n",
       "      <th>off_time</th>\n",
       "      <th>pax</th>\n",
       "      <th>year</th>\n",
       "      <th>month</th>\n",
       "      <th>oid</th>\n",
       "    </tr>\n",
       "  </thead>\n",
       "  <tbody>\n",
       "    <tr>\n",
       "      <th>0</th>\n",
       "      <td>2013-03-05 00:00:00</td>\n",
       "      <td>1A</td>\n",
       "      <td>DE</td>\n",
       "      <td>a68dd7ae953c8acfb187a1af2dcbe123</td>\n",
       "      <td>1a11ae49fcbf545fd2afc1a24d88d2b7</td>\n",
       "      <td>ea65900e72d71f4626378e2ebd298267</td>\n",
       "      <td>2013-02-22 00:00:00</td>\n",
       "      <td>1708</td>\n",
       "      <td>0</td>\n",
       "      <td>ZRH</td>\n",
       "      <td>...</td>\n",
       "      <td>LHRZRH</td>\n",
       "      <td>VI</td>\n",
       "      <td>T</td>\n",
       "      <td>Y</td>\n",
       "      <td>2013-03-07 08:50:00</td>\n",
       "      <td>2013-03-07 11:33:37</td>\n",
       "      <td>-1</td>\n",
       "      <td>2013</td>\n",
       "      <td>3</td>\n",
       "      <td>NULL</td>\n",
       "    </tr>\n",
       "    <tr>\n",
       "      <th>1</th>\n",
       "      <td>2013-03-26 00:00:00</td>\n",
       "      <td>1A</td>\n",
       "      <td>US</td>\n",
       "      <td>e612b9eeeee6f17f42d9b0d3b79e75ca</td>\n",
       "      <td>7437560d8f276d6d05eeb806d9e7edee</td>\n",
       "      <td>737295a86982c941f1c2da9a46a14043</td>\n",
       "      <td>2013-03-26 00:00:00</td>\n",
       "      <td>135270</td>\n",
       "      <td>0</td>\n",
       "      <td>SAL</td>\n",
       "      <td>...</td>\n",
       "      <td>SALATLCLT</td>\n",
       "      <td>NV</td>\n",
       "      <td>L</td>\n",
       "      <td>Y</td>\n",
       "      <td>2013-04-12 13:04:00</td>\n",
       "      <td>2013-04-12 22:05:40</td>\n",
       "      <td>1</td>\n",
       "      <td>2013</td>\n",
       "      <td>3</td>\n",
       "      <td>NULL</td>\n",
       "    </tr>\n",
       "    <tr>\n",
       "      <th>2</th>\n",
       "      <td>2013-03-26 00:00:00</td>\n",
       "      <td>1A</td>\n",
       "      <td>US</td>\n",
       "      <td>e612b9eeeee6f17f42d9b0d3b79e75ca</td>\n",
       "      <td>7437560d8f276d6d05eeb806d9e7edee</td>\n",
       "      <td>737295a86982c941f1c2da9a46a14043</td>\n",
       "      <td>2013-03-26 00:00:00</td>\n",
       "      <td>135270</td>\n",
       "      <td>0</td>\n",
       "      <td>SAL</td>\n",
       "      <td>...</td>\n",
       "      <td>CLTATLSAL</td>\n",
       "      <td>NV</td>\n",
       "      <td>U</td>\n",
       "      <td>Y</td>\n",
       "      <td>2013-07-15 07:00:00</td>\n",
       "      <td>2013-07-15 11:34:51</td>\n",
       "      <td>1</td>\n",
       "      <td>2013</td>\n",
       "      <td>3</td>\n",
       "      <td>NULL</td>\n",
       "    </tr>\n",
       "    <tr>\n",
       "      <th>3</th>\n",
       "      <td>2013-03-26 00:00:00</td>\n",
       "      <td>1A</td>\n",
       "      <td>AU</td>\n",
       "      <td>0f984b3bb6bd06661c95529bbd6193bc</td>\n",
       "      <td>36472c6dbaf7afec9136ac40364e2794</td>\n",
       "      <td>5ecf00fdcbcec761c43dc7285253d0c1</td>\n",
       "      <td>2013-03-26 00:00:00</td>\n",
       "      <td>30885</td>\n",
       "      <td>0</td>\n",
       "      <td>AKL</td>\n",
       "      <td>...</td>\n",
       "      <td>AKLHKGSVO</td>\n",
       "      <td>XK</td>\n",
       "      <td>G</td>\n",
       "      <td>Y</td>\n",
       "      <td>2013-04-24 23:59:00</td>\n",
       "      <td>2013-04-25 16:06:31</td>\n",
       "      <td>1</td>\n",
       "      <td>2013</td>\n",
       "      <td>3</td>\n",
       "      <td>SYDA82546</td>\n",
       "    </tr>\n",
       "    <tr>\n",
       "      <th>4</th>\n",
       "      <td>2013-03-26 00:00:00</td>\n",
       "      <td>1A</td>\n",
       "      <td>AU</td>\n",
       "      <td>0f984b3bb6bd06661c95529bbd6193bc</td>\n",
       "      <td>36472c6dbaf7afec9136ac40364e2794</td>\n",
       "      <td>5ecf00fdcbcec761c43dc7285253d0c1</td>\n",
       "      <td>2013-03-26 00:00:00</td>\n",
       "      <td>30885</td>\n",
       "      <td>0</td>\n",
       "      <td>AKL</td>\n",
       "      <td>...</td>\n",
       "      <td>SVOHKGAKL</td>\n",
       "      <td>XK</td>\n",
       "      <td>G</td>\n",
       "      <td>Y</td>\n",
       "      <td>2013-05-14 20:15:00</td>\n",
       "      <td>2013-05-16 10:44:50</td>\n",
       "      <td>1</td>\n",
       "      <td>2013</td>\n",
       "      <td>3</td>\n",
       "      <td>SYDA82546</td>\n",
       "    </tr>\n",
       "    <tr>\n",
       "      <th>5</th>\n",
       "      <td>2013-03-20 00:00:00</td>\n",
       "      <td>1V</td>\n",
       "      <td>US</td>\n",
       "      <td>0283592e45e392871f7e14b1e22a9aaf</td>\n",
       "      <td>2d0f8e7e1bb792625d2f34f221bc38f1</td>\n",
       "      <td>d54708298686de200f8270e7c637af5e</td>\n",
       "      <td>2013-03-20 00:00:00</td>\n",
       "      <td>5923</td>\n",
       "      <td>0</td>\n",
       "      <td>DEN</td>\n",
       "      <td>...</td>\n",
       "      <td>DENLGA</td>\n",
       "      <td>FK</td>\n",
       "      <td>W</td>\n",
       "      <td>Y</td>\n",
       "      <td>2013-04-07 10:23:00</td>\n",
       "      <td>2013-04-07 16:14:24</td>\n",
       "      <td>1</td>\n",
       "      <td>2013</td>\n",
       "      <td>3</td>\n",
       "      <td>NULL</td>\n",
       "    </tr>\n",
       "    <tr>\n",
       "      <th>6</th>\n",
       "      <td>2013-03-20 00:00:00</td>\n",
       "      <td>1V</td>\n",
       "      <td>US</td>\n",
       "      <td>0283592e45e392871f7e14b1e22a9aaf</td>\n",
       "      <td>2d0f8e7e1bb792625d2f34f221bc38f1</td>\n",
       "      <td>d54708298686de200f8270e7c637af5e</td>\n",
       "      <td>2013-03-20 00:00:00</td>\n",
       "      <td>5923</td>\n",
       "      <td>0</td>\n",
       "      <td>DEN</td>\n",
       "      <td>...</td>\n",
       "      <td>LGADEN</td>\n",
       "      <td>FK</td>\n",
       "      <td>K</td>\n",
       "      <td>Y</td>\n",
       "      <td>2013-04-11 11:15:00</td>\n",
       "      <td>2013-04-11 13:06:24</td>\n",
       "      <td>1</td>\n",
       "      <td>2013</td>\n",
       "      <td>3</td>\n",
       "      <td>NULL</td>\n",
       "    </tr>\n",
       "    <tr>\n",
       "      <th>7</th>\n",
       "      <td>2013-03-25 00:00:00</td>\n",
       "      <td>1V</td>\n",
       "      <td>JP</td>\n",
       "      <td>5af045902bd23cab579915611d99e1e0</td>\n",
       "      <td>5073861d8597467c33596bfe16f23c56</td>\n",
       "      <td>a37584d1485cb35991e4ff1a2ba92262</td>\n",
       "      <td>2013-03-25 00:00:00</td>\n",
       "      <td>8371</td>\n",
       "      <td>60</td>\n",
       "      <td>NRT</td>\n",
       "      <td>...</td>\n",
       "      <td>NRTSIN</td>\n",
       "      <td>XR</td>\n",
       "      <td>Q</td>\n",
       "      <td>Y</td>\n",
       "      <td>2013-04-14 11:05:00</td>\n",
       "      <td>2013-04-14 17:10:56</td>\n",
       "      <td>2</td>\n",
       "      <td>2013</td>\n",
       "      <td>3</td>\n",
       "      <td>NULL</td>\n",
       "    </tr>\n",
       "    <tr>\n",
       "      <th>8</th>\n",
       "      <td>2013-03-25 00:00:00</td>\n",
       "      <td>1V</td>\n",
       "      <td>JP</td>\n",
       "      <td>5af045902bd23cab579915611d99e1e0</td>\n",
       "      <td>5073861d8597467c33596bfe16f23c56</td>\n",
       "      <td>a37584d1485cb35991e4ff1a2ba92262</td>\n",
       "      <td>2013-03-25 00:00:00</td>\n",
       "      <td>8371</td>\n",
       "      <td>60</td>\n",
       "      <td>NRT</td>\n",
       "      <td>...</td>\n",
       "      <td>SINPEN</td>\n",
       "      <td>WS</td>\n",
       "      <td>Y</td>\n",
       "      <td>Y</td>\n",
       "      <td>2013-04-16 15:45:00</td>\n",
       "      <td>2013-04-16 17:15:29</td>\n",
       "      <td>2</td>\n",
       "      <td>2013</td>\n",
       "      <td>3</td>\n",
       "      <td>NULL</td>\n",
       "    </tr>\n",
       "    <tr>\n",
       "      <th>9</th>\n",
       "      <td>2013-03-25 00:00:00</td>\n",
       "      <td>1V</td>\n",
       "      <td>JP</td>\n",
       "      <td>5af045902bd23cab579915611d99e1e0</td>\n",
       "      <td>5073861d8597467c33596bfe16f23c56</td>\n",
       "      <td>a37584d1485cb35991e4ff1a2ba92262</td>\n",
       "      <td>2013-03-25 00:00:00</td>\n",
       "      <td>8371</td>\n",
       "      <td>60</td>\n",
       "      <td>NRT</td>\n",
       "      <td>...</td>\n",
       "      <td>PENBKK</td>\n",
       "      <td>EQ</td>\n",
       "      <td>Y</td>\n",
       "      <td>Y</td>\n",
       "      <td>2013-04-18 08:00:00</td>\n",
       "      <td>2013-04-18 08:53:56</td>\n",
       "      <td>2</td>\n",
       "      <td>2013</td>\n",
       "      <td>3</td>\n",
       "      <td>NULL</td>\n",
       "    </tr>\n",
       "  </tbody>\n",
       "</table>\n",
       "<p>10 rows × 38 columns</p>\n",
       "</div>"
      ],
      "text/plain": [
       "   act_date             source  pos_ctry                          pos_iata  \\\n",
       "0  2013-03-05 00:00:00  1A      DE        a68dd7ae953c8acfb187a1af2dcbe123   \n",
       "1  2013-03-26 00:00:00  1A      US        e612b9eeeee6f17f42d9b0d3b79e75ca   \n",
       "2  2013-03-26 00:00:00  1A      US        e612b9eeeee6f17f42d9b0d3b79e75ca   \n",
       "3  2013-03-26 00:00:00  1A      AU        0f984b3bb6bd06661c95529bbd6193bc   \n",
       "4  2013-03-26 00:00:00  1A      AU        0f984b3bb6bd06661c95529bbd6193bc   \n",
       "5  2013-03-20 00:00:00  1V      US        0283592e45e392871f7e14b1e22a9aaf   \n",
       "6  2013-03-20 00:00:00  1V      US        0283592e45e392871f7e14b1e22a9aaf   \n",
       "7  2013-03-25 00:00:00  1V      JP        5af045902bd23cab579915611d99e1e0   \n",
       "8  2013-03-25 00:00:00  1V      JP        5af045902bd23cab579915611d99e1e0   \n",
       "9  2013-03-25 00:00:00  1V      JP        5af045902bd23cab579915611d99e1e0   \n",
       "\n",
       "                          pos_oid                      rloc            \\\n",
       "0  1a11ae49fcbf545fd2afc1a24d88d2b7  ea65900e72d71f4626378e2ebd298267   \n",
       "1  7437560d8f276d6d05eeb806d9e7edee  737295a86982c941f1c2da9a46a14043   \n",
       "2  7437560d8f276d6d05eeb806d9e7edee  737295a86982c941f1c2da9a46a14043   \n",
       "3  36472c6dbaf7afec9136ac40364e2794  5ecf00fdcbcec761c43dc7285253d0c1   \n",
       "4  36472c6dbaf7afec9136ac40364e2794  5ecf00fdcbcec761c43dc7285253d0c1   \n",
       "5  2d0f8e7e1bb792625d2f34f221bc38f1  d54708298686de200f8270e7c637af5e   \n",
       "6  2d0f8e7e1bb792625d2f34f221bc38f1  d54708298686de200f8270e7c637af5e   \n",
       "7  5073861d8597467c33596bfe16f23c56  a37584d1485cb35991e4ff1a2ba92262   \n",
       "8  5073861d8597467c33596bfe16f23c56  a37584d1485cb35991e4ff1a2ba92262   \n",
       "9  5073861d8597467c33596bfe16f23c56  a37584d1485cb35991e4ff1a2ba92262   \n",
       "\n",
       "   cre_date             duration  distance  dep_port    ...      \\\n",
       "0  2013-02-22 00:00:00      1708         0  ZRH         ...       \n",
       "1  2013-03-26 00:00:00    135270         0  SAL         ...       \n",
       "2  2013-03-26 00:00:00    135270         0  SAL         ...       \n",
       "3  2013-03-26 00:00:00     30885         0  AKL         ...       \n",
       "4  2013-03-26 00:00:00     30885         0  AKL         ...       \n",
       "5  2013-03-20 00:00:00      5923         0  DEN         ...       \n",
       "6  2013-03-20 00:00:00      5923         0  DEN         ...       \n",
       "7  2013-03-25 00:00:00      8371        60  NRT         ...       \n",
       "8  2013-03-25 00:00:00      8371        60  NRT         ...       \n",
       "9  2013-03-25 00:00:00      8371        60  NRT         ...       \n",
       "\n",
       "   route           carrier  bkg_class  cab_class  brd_time             \\\n",
       "0  LHRZRH               VI  T          Y          2013-03-07 08:50:00   \n",
       "1  SALATLCLT            NV  L          Y          2013-04-12 13:04:00   \n",
       "2  CLTATLSAL            NV  U          Y          2013-07-15 07:00:00   \n",
       "3  AKLHKGSVO            XK  G          Y          2013-04-24 23:59:00   \n",
       "4  SVOHKGAKL            XK  G          Y          2013-05-14 20:15:00   \n",
       "5  DENLGA               FK  W          Y          2013-04-07 10:23:00   \n",
       "6  LGADEN               FK  K          Y          2013-04-11 11:15:00   \n",
       "7  NRTSIN               XR  Q          Y          2013-04-14 11:05:00   \n",
       "8  SINPEN               WS  Y          Y          2013-04-16 15:45:00   \n",
       "9  PENBKK               EQ  Y          Y          2013-04-18 08:00:00   \n",
       "\n",
       "   off_time            pax  year month  oid        \n",
       "0  2013-03-07 11:33:37  -1  2013     3  NULL       \n",
       "1  2013-04-12 22:05:40   1  2013     3  NULL       \n",
       "2  2013-07-15 11:34:51   1  2013     3  NULL       \n",
       "3  2013-04-25 16:06:31   1  2013     3  SYDA82546  \n",
       "4  2013-05-16 10:44:50   1  2013     3  SYDA82546  \n",
       "5  2013-04-07 16:14:24   1  2013     3  NULL       \n",
       "6  2013-04-11 13:06:24   1  2013     3  NULL       \n",
       "7  2013-04-14 17:10:56   2  2013     3  NULL       \n",
       "8  2013-04-16 17:15:29   2  2013     3  NULL       \n",
       "9  2013-04-18 08:53:56   2  2013     3  NULL       \n",
       "\n",
       "[10 rows x 38 columns]"
      ]
     },
     "execution_count": 16,
     "metadata": {},
     "output_type": "execute_result"
    }
   ],
   "source": [
    "bookings_sample.head(10)"
   ]
  },
  {
   "cell_type": "code",
   "execution_count": 12,
   "metadata": {
    "collapsed": true,
    "deletable": true,
    "editable": true
   },
   "outputs": [],
   "source": [
    "!rm -f sample_bookings.txt"
   ]
  },
  {
   "cell_type": "code",
   "execution_count": 35,
   "metadata": {
    "collapsed": false,
    "deletable": true,
    "editable": true
   },
   "outputs": [],
   "source": [
    "!head -10000 /home/dsc/Data/challenge/searches.csv > sample_searches.csv"
   ]
  },
  {
   "cell_type": "code",
   "execution_count": 36,
   "metadata": {
    "collapsed": false,
    "deletable": true,
    "editable": true
   },
   "outputs": [],
   "source": [
    "searches_sample = pd.read_csv('./sample_searches.csv', sep='^')"
   ]
  },
  {
   "cell_type": "code",
   "execution_count": 15,
   "metadata": {
    "collapsed": false,
    "deletable": true,
    "editable": true
   },
   "outputs": [
    {
     "data": {
      "text/html": [
       "<div>\n",
       "<table border=\"1\" class=\"dataframe\">\n",
       "  <thead>\n",
       "    <tr style=\"text-align: right;\">\n",
       "      <th></th>\n",
       "      <th>Date</th>\n",
       "      <th>Time</th>\n",
       "      <th>TxnCode</th>\n",
       "      <th>OfficeID</th>\n",
       "      <th>Country</th>\n",
       "      <th>Origin</th>\n",
       "      <th>Destination</th>\n",
       "      <th>RoundTrip</th>\n",
       "      <th>NbSegments</th>\n",
       "      <th>Seg1Departure</th>\n",
       "      <th>...</th>\n",
       "      <th>Seg6Arrival</th>\n",
       "      <th>Seg6Date</th>\n",
       "      <th>Seg6Carrier</th>\n",
       "      <th>Seg6BookingCode</th>\n",
       "      <th>From</th>\n",
       "      <th>IsPublishedForNeg</th>\n",
       "      <th>IsFromInternet</th>\n",
       "      <th>IsFromVista</th>\n",
       "      <th>TerminalID</th>\n",
       "      <th>InternetOffice</th>\n",
       "    </tr>\n",
       "  </thead>\n",
       "  <tbody>\n",
       "    <tr>\n",
       "      <th>0</th>\n",
       "      <td>2013-01-01</td>\n",
       "      <td>20:25:57</td>\n",
       "      <td>MPT</td>\n",
       "      <td>624d8c3ac0b3a7ca03e3c167e0f48327</td>\n",
       "      <td>DE</td>\n",
       "      <td>TXL</td>\n",
       "      <td>AUH</td>\n",
       "      <td>1</td>\n",
       "      <td>2</td>\n",
       "      <td>TXL</td>\n",
       "      <td>...</td>\n",
       "      <td>NaN</td>\n",
       "      <td>NaN</td>\n",
       "      <td>NaN</td>\n",
       "      <td>NaN</td>\n",
       "      <td>1ASIWS</td>\n",
       "      <td>0</td>\n",
       "      <td>0</td>\n",
       "      <td>0</td>\n",
       "      <td>d41d8cd98f00b204e9800998ecf8427e</td>\n",
       "      <td>FRA</td>\n",
       "    </tr>\n",
       "    <tr>\n",
       "      <th>1</th>\n",
       "      <td>2013-01-01</td>\n",
       "      <td>10:15:33</td>\n",
       "      <td>MPT</td>\n",
       "      <td>b0af35b31588dc4ab06d5cf2986e8e02</td>\n",
       "      <td>MD</td>\n",
       "      <td>ATH</td>\n",
       "      <td>MIL</td>\n",
       "      <td>0</td>\n",
       "      <td>1</td>\n",
       "      <td>ATH</td>\n",
       "      <td>...</td>\n",
       "      <td>NaN</td>\n",
       "      <td>NaN</td>\n",
       "      <td>NaN</td>\n",
       "      <td>NaN</td>\n",
       "      <td>1ASIWS</td>\n",
       "      <td>0</td>\n",
       "      <td>0</td>\n",
       "      <td>0</td>\n",
       "      <td>d41d8cd98f00b204e9800998ecf8427e</td>\n",
       "      <td>KIV</td>\n",
       "    </tr>\n",
       "    <tr>\n",
       "      <th>2</th>\n",
       "      <td>2013-01-01</td>\n",
       "      <td>18:04:49</td>\n",
       "      <td>MPT</td>\n",
       "      <td>3561a60621de06ab1badc8ca55699ef3</td>\n",
       "      <td>US</td>\n",
       "      <td>ICT</td>\n",
       "      <td>SFO</td>\n",
       "      <td>1</td>\n",
       "      <td>2</td>\n",
       "      <td>ICT</td>\n",
       "      <td>...</td>\n",
       "      <td>NaN</td>\n",
       "      <td>NaN</td>\n",
       "      <td>NaN</td>\n",
       "      <td>NaN</td>\n",
       "      <td>1ASIWS</td>\n",
       "      <td>0</td>\n",
       "      <td>0</td>\n",
       "      <td>0</td>\n",
       "      <td>d41d8cd98f00b204e9800998ecf8427e</td>\n",
       "      <td>NYC</td>\n",
       "    </tr>\n",
       "    <tr>\n",
       "      <th>3</th>\n",
       "      <td>2013-01-01</td>\n",
       "      <td>17:42:40</td>\n",
       "      <td>FXP</td>\n",
       "      <td>1864e5e8013d9414150e91d26b6a558b</td>\n",
       "      <td>SE</td>\n",
       "      <td>RNB</td>\n",
       "      <td>ARN</td>\n",
       "      <td>0</td>\n",
       "      <td>1</td>\n",
       "      <td>RNB</td>\n",
       "      <td>...</td>\n",
       "      <td>NaN</td>\n",
       "      <td>NaN</td>\n",
       "      <td>NaN</td>\n",
       "      <td>NaN</td>\n",
       "      <td>1ASI</td>\n",
       "      <td>0</td>\n",
       "      <td>0</td>\n",
       "      <td>0</td>\n",
       "      <td>d41d8cd98f00b204e9800998ecf8427e</td>\n",
       "      <td>STO</td>\n",
       "    </tr>\n",
       "    <tr>\n",
       "      <th>4</th>\n",
       "      <td>2013-01-01</td>\n",
       "      <td>17:48:29</td>\n",
       "      <td>MPT</td>\n",
       "      <td>1ec336348f44207d2e0027dc3a68c118</td>\n",
       "      <td>NO</td>\n",
       "      <td>OSL</td>\n",
       "      <td>MAD</td>\n",
       "      <td>1</td>\n",
       "      <td>2</td>\n",
       "      <td>OSL</td>\n",
       "      <td>...</td>\n",
       "      <td>NaN</td>\n",
       "      <td>NaN</td>\n",
       "      <td>NaN</td>\n",
       "      <td>NaN</td>\n",
       "      <td>1ASIWS</td>\n",
       "      <td>0</td>\n",
       "      <td>0</td>\n",
       "      <td>0</td>\n",
       "      <td>d41d8cd98f00b204e9800998ecf8427e</td>\n",
       "      <td>OSL</td>\n",
       "    </tr>\n",
       "    <tr>\n",
       "      <th>5</th>\n",
       "      <td>2013-01-01</td>\n",
       "      <td>22:00:28</td>\n",
       "      <td>MPT</td>\n",
       "      <td>3561a60621de06ab1badc8ca55699ef3</td>\n",
       "      <td>US</td>\n",
       "      <td>IAH</td>\n",
       "      <td>BLR</td>\n",
       "      <td>1</td>\n",
       "      <td>2</td>\n",
       "      <td>IAH</td>\n",
       "      <td>...</td>\n",
       "      <td>NaN</td>\n",
       "      <td>NaN</td>\n",
       "      <td>NaN</td>\n",
       "      <td>NaN</td>\n",
       "      <td>1ASIWS</td>\n",
       "      <td>0</td>\n",
       "      <td>0</td>\n",
       "      <td>0</td>\n",
       "      <td>d41d8cd98f00b204e9800998ecf8427e</td>\n",
       "      <td>NYC</td>\n",
       "    </tr>\n",
       "    <tr>\n",
       "      <th>6</th>\n",
       "      <td>2013-01-01</td>\n",
       "      <td>10:47:14</td>\n",
       "      <td>MPT</td>\n",
       "      <td>d327ca6e35cc6732d4709828327ac7c1</td>\n",
       "      <td>DK</td>\n",
       "      <td>CPH</td>\n",
       "      <td>PAR</td>\n",
       "      <td>1</td>\n",
       "      <td>2</td>\n",
       "      <td>CPH</td>\n",
       "      <td>...</td>\n",
       "      <td>NaN</td>\n",
       "      <td>NaN</td>\n",
       "      <td>NaN</td>\n",
       "      <td>NaN</td>\n",
       "      <td>1ASI</td>\n",
       "      <td>0</td>\n",
       "      <td>0</td>\n",
       "      <td>0</td>\n",
       "      <td>d41d8cd98f00b204e9800998ecf8427e</td>\n",
       "      <td>CPH</td>\n",
       "    </tr>\n",
       "    <tr>\n",
       "      <th>7</th>\n",
       "      <td>2013-01-01</td>\n",
       "      <td>23:39:49</td>\n",
       "      <td>MPT</td>\n",
       "      <td>38a3abb0a28e3f00fa79a11f552a5052</td>\n",
       "      <td>FR</td>\n",
       "      <td>PAR</td>\n",
       "      <td>DUB</td>\n",
       "      <td>1</td>\n",
       "      <td>2</td>\n",
       "      <td>PAR</td>\n",
       "      <td>...</td>\n",
       "      <td>NaN</td>\n",
       "      <td>NaN</td>\n",
       "      <td>NaN</td>\n",
       "      <td>NaN</td>\n",
       "      <td>1ASIWS</td>\n",
       "      <td>0</td>\n",
       "      <td>0</td>\n",
       "      <td>0</td>\n",
       "      <td>d41d8cd98f00b204e9800998ecf8427e</td>\n",
       "      <td>PAR</td>\n",
       "    </tr>\n",
       "    <tr>\n",
       "      <th>8</th>\n",
       "      <td>2013-01-01</td>\n",
       "      <td>17:08:46</td>\n",
       "      <td>MPT</td>\n",
       "      <td>c8daef4f8bf73a61aa2c928705f7b82d</td>\n",
       "      <td>ES</td>\n",
       "      <td>DUS</td>\n",
       "      <td>ACE</td>\n",
       "      <td>1</td>\n",
       "      <td>2</td>\n",
       "      <td>DUS</td>\n",
       "      <td>...</td>\n",
       "      <td>NaN</td>\n",
       "      <td>NaN</td>\n",
       "      <td>NaN</td>\n",
       "      <td>NaN</td>\n",
       "      <td>1ASIWS</td>\n",
       "      <td>0</td>\n",
       "      <td>0</td>\n",
       "      <td>0</td>\n",
       "      <td>d41d8cd98f00b204e9800998ecf8427e</td>\n",
       "      <td>MAD</td>\n",
       "    </tr>\n",
       "    <tr>\n",
       "      <th>9</th>\n",
       "      <td>2013-01-01</td>\n",
       "      <td>19:57:57</td>\n",
       "      <td>MPT</td>\n",
       "      <td>28d7a8c95e4db88589d3d35b66920e78</td>\n",
       "      <td>DE</td>\n",
       "      <td>FRA</td>\n",
       "      <td>BGW</td>\n",
       "      <td>1</td>\n",
       "      <td>2</td>\n",
       "      <td>FRA</td>\n",
       "      <td>...</td>\n",
       "      <td>NaN</td>\n",
       "      <td>NaN</td>\n",
       "      <td>NaN</td>\n",
       "      <td>NaN</td>\n",
       "      <td>1ASI</td>\n",
       "      <td>0</td>\n",
       "      <td>0</td>\n",
       "      <td>0</td>\n",
       "      <td>d41d8cd98f00b204e9800998ecf8427e</td>\n",
       "      <td>BNJ</td>\n",
       "    </tr>\n",
       "  </tbody>\n",
       "</table>\n",
       "<p>10 rows × 45 columns</p>\n",
       "</div>"
      ],
      "text/plain": [
       "         Date      Time TxnCode                          OfficeID Country  \\\n",
       "0  2013-01-01  20:25:57     MPT  624d8c3ac0b3a7ca03e3c167e0f48327      DE   \n",
       "1  2013-01-01  10:15:33     MPT  b0af35b31588dc4ab06d5cf2986e8e02      MD   \n",
       "2  2013-01-01  18:04:49     MPT  3561a60621de06ab1badc8ca55699ef3      US   \n",
       "3  2013-01-01  17:42:40     FXP  1864e5e8013d9414150e91d26b6a558b      SE   \n",
       "4  2013-01-01  17:48:29     MPT  1ec336348f44207d2e0027dc3a68c118      NO   \n",
       "5  2013-01-01  22:00:28     MPT  3561a60621de06ab1badc8ca55699ef3      US   \n",
       "6  2013-01-01  10:47:14     MPT  d327ca6e35cc6732d4709828327ac7c1      DK   \n",
       "7  2013-01-01  23:39:49     MPT  38a3abb0a28e3f00fa79a11f552a5052      FR   \n",
       "8  2013-01-01  17:08:46     MPT  c8daef4f8bf73a61aa2c928705f7b82d      ES   \n",
       "9  2013-01-01  19:57:57     MPT  28d7a8c95e4db88589d3d35b66920e78      DE   \n",
       "\n",
       "  Origin Destination  RoundTrip  NbSegments Seg1Departure      ...        \\\n",
       "0    TXL         AUH          1           2           TXL      ...         \n",
       "1    ATH         MIL          0           1           ATH      ...         \n",
       "2    ICT         SFO          1           2           ICT      ...         \n",
       "3    RNB         ARN          0           1           RNB      ...         \n",
       "4    OSL         MAD          1           2           OSL      ...         \n",
       "5    IAH         BLR          1           2           IAH      ...         \n",
       "6    CPH         PAR          1           2           CPH      ...         \n",
       "7    PAR         DUB          1           2           PAR      ...         \n",
       "8    DUS         ACE          1           2           DUS      ...         \n",
       "9    FRA         BGW          1           2           FRA      ...         \n",
       "\n",
       "  Seg6Arrival Seg6Date Seg6Carrier Seg6BookingCode    From IsPublishedForNeg  \\\n",
       "0         NaN      NaN         NaN             NaN  1ASIWS                 0   \n",
       "1         NaN      NaN         NaN             NaN  1ASIWS                 0   \n",
       "2         NaN      NaN         NaN             NaN  1ASIWS                 0   \n",
       "3         NaN      NaN         NaN             NaN    1ASI                 0   \n",
       "4         NaN      NaN         NaN             NaN  1ASIWS                 0   \n",
       "5         NaN      NaN         NaN             NaN  1ASIWS                 0   \n",
       "6         NaN      NaN         NaN             NaN    1ASI                 0   \n",
       "7         NaN      NaN         NaN             NaN  1ASIWS                 0   \n",
       "8         NaN      NaN         NaN             NaN  1ASIWS                 0   \n",
       "9         NaN      NaN         NaN             NaN    1ASI                 0   \n",
       "\n",
       "  IsFromInternet IsFromVista                        TerminalID InternetOffice  \n",
       "0              0           0  d41d8cd98f00b204e9800998ecf8427e            FRA  \n",
       "1              0           0  d41d8cd98f00b204e9800998ecf8427e            KIV  \n",
       "2              0           0  d41d8cd98f00b204e9800998ecf8427e            NYC  \n",
       "3              0           0  d41d8cd98f00b204e9800998ecf8427e            STO  \n",
       "4              0           0  d41d8cd98f00b204e9800998ecf8427e            OSL  \n",
       "5              0           0  d41d8cd98f00b204e9800998ecf8427e            NYC  \n",
       "6              0           0  d41d8cd98f00b204e9800998ecf8427e            CPH  \n",
       "7              0           0  d41d8cd98f00b204e9800998ecf8427e            PAR  \n",
       "8              0           0  d41d8cd98f00b204e9800998ecf8427e            MAD  \n",
       "9              0           0  d41d8cd98f00b204e9800998ecf8427e            BNJ  \n",
       "\n",
       "[10 rows x 45 columns]"
      ]
     },
     "execution_count": 15,
     "metadata": {},
     "output_type": "execute_result"
    }
   ],
   "source": [
    "searches_sample.head(10)"
   ]
  },
  {
   "cell_type": "code",
   "execution_count": 18,
   "metadata": {
    "collapsed": false,
    "deletable": true,
    "editable": true
   },
   "outputs": [
    {
     "name": "stdout",
     "output_type": "stream",
     "text": [
      "10000 sample_searches.csv\r\n"
     ]
    }
   ],
   "source": [
    "!wc -l sample_searches.csv"
   ]
  },
  {
   "cell_type": "code",
   "execution_count": 19,
   "metadata": {
    "collapsed": false,
    "deletable": true,
    "editable": true
   },
   "outputs": [
    {
     "name": "stdout",
     "output_type": "stream",
     "text": [
      "10000 sample_bookings.csv\r\n"
     ]
    }
   ],
   "source": [
    "!wc -l sample_bookings.csv"
   ]
  },
  {
   "cell_type": "code",
   "execution_count": 20,
   "metadata": {
    "collapsed": true,
    "deletable": true,
    "editable": true
   },
   "outputs": [],
   "source": [
    "!bzip2 sample_searches.csv"
   ]
  },
  {
   "cell_type": "code",
   "execution_count": 21,
   "metadata": {
    "collapsed": true,
    "deletable": true,
    "editable": true
   },
   "outputs": [],
   "source": [
    "!bzip2 sample_bookings.csv"
   ]
  },
  {
   "cell_type": "code",
   "execution_count": 22,
   "metadata": {
    "collapsed": false,
    "deletable": true,
    "editable": true
   },
   "outputs": [
    {
     "name": "stdout",
     "output_type": "stream",
     "text": [
      "total 912\r\n",
      "-rw-rw-r-- 1 dsc dsc     38 Mar 24 20:57 README.md\r\n",
      "-rw-rw-r-- 1 dsc dsc 535893 May 19 17:17 sample_bookings.csv.bz2\r\n",
      "-rw-rw-r-- 1 dsc dsc 244720 May 19 17:19 sample_searches.csv.bz2\r\n",
      "-rw-rw-r-- 1 dsc dsc 139710 May 19 17:22 solucion_challenge_Pablo_Real.ipynb\r\n",
      "-rw-rw-r-- 1 dsc dsc     33 Mar 24 21:28 test.txt\r\n"
     ]
    }
   ],
   "source": [
    "!ls -l"
   ]
  },
  {
   "cell_type": "markdown",
   "metadata": {
    "deletable": true,
    "editable": true
   },
   "source": [
    "## Exercise 1"
   ]
  },
  {
   "cell_type": "code",
   "execution_count": 23,
   "metadata": {
    "collapsed": true,
    "deletable": true,
    "editable": true
   },
   "outputs": [],
   "source": [
    "import bz2"
   ]
  },
  {
   "cell_type": "code",
   "execution_count": 24,
   "metadata": {
    "collapsed": true,
    "deletable": true,
    "editable": true
   },
   "outputs": [],
   "source": [
    "fileBz2=bz2.BZ2File('./sample_bookings.csv.bz2')"
   ]
  },
  {
   "cell_type": "code",
   "execution_count": 34,
   "metadata": {
    "collapsed": false,
    "deletable": true,
    "editable": true
   },
   "outputs": [
    {
     "name": "stdout",
     "output_type": "stream",
     "text": [
      "./sample_bookings.csv.bz2 has 0 lines\n"
     ]
    }
   ],
   "source": [
    "fileName = './sample_bookings.csv'\n",
    "fileB=open(fileName,'r')\n",
    "k=0\n",
    "for line in fileBz2:\n",
    "    k+=1\n",
    "print \"%s has %d lines\" % (fileBz2.name,k)"
   ]
  },
  {
   "cell_type": "code",
   "execution_count": 35,
   "metadata": {
    "collapsed": false,
    "deletable": true,
    "editable": true
   },
   "outputs": [
    {
     "name": "stdout",
     "output_type": "stream",
     "text": [
      "./sample_bookings.csv has 10 lines\n"
     ]
    }
   ],
   "source": [
    "fileName='./sample_bookings.csv'\n",
    "with open(fileName) as file_input:\n",
    "    k=0\n",
    "    for line in file_input:\n",
    "        k+=1\n",
    "        if k==10:\n",
    "            break\n",
    "            \n",
    "print \"%s has %d lines\" % (fileName,k)"
   ]
  },
  {
   "cell_type": "code",
   "execution_count": 36,
   "metadata": {
    "collapsed": false,
    "deletable": true,
    "editable": true
   },
   "outputs": [
    {
     "name": "stdout",
     "output_type": "stream",
     "text": [
      "total 6828\r\n",
      "-rw-rw-r-- 1 dsc dsc      38 Mar 24 20:57 README.md\r\n",
      "-rw-rw-r-- 1 dsc dsc 4232732 May 19 17:51 sample_bookings.csv\r\n",
      "-rw-rw-r-- 1 dsc dsc  535893 May 19 17:17 sample_bookings.csv.bz2\r\n",
      "-rw-rw-r-- 1 dsc dsc 1824927 May 19 17:51 sample_searches.csv\r\n",
      "-rw-rw-r-- 1 dsc dsc  244720 May 19 17:19 sample_searches.csv.bz2\r\n",
      "-rw-rw-r-- 1 dsc dsc  142213 May 19 17:52 solucion_challenge_Pablo_Real.ipynb\r\n"
     ]
    }
   ],
   "source": [
    "!ls -l"
   ]
  },
  {
   "cell_type": "code",
   "execution_count": 41,
   "metadata": {
    "collapsed": false,
    "deletable": true,
    "editable": true
   },
   "outputs": [
    {
     "name": "stdout",
     "output_type": "stream",
     "text": [
      "./sample_bookings.csv has 10 lines\n"
     ]
    }
   ],
   "source": [
    "try:\n",
    "    fileName='./sample_bookings.csv'\n",
    "    with open(fileName) as file_input:\n",
    "        k=0\n",
    "        for line in file_input:\n",
    "            k+=1\n",
    "            if k==10:\n",
    "                break\n",
    "            \n",
    "    print \"%s has %d lines\" % (fileName,k)\n",
    "except IOError:\n",
    "    print \"File error\"\n",
    "except ValueError:\n",
    "    print \"Cannot convert data\"\n",
    "except:\n",
    "    print \"unexpected error\""
   ]
  },
  {
   "cell_type": "markdown",
   "metadata": {
    "deletable": true,
    "editable": true
   },
   "source": [
    "#### Este método no consume apenas memoria, coge línea por línea, desechando la anterior"
   ]
  },
  {
   "cell_type": "code",
   "execution_count": 42,
   "metadata": {
    "collapsed": false,
    "deletable": true,
    "editable": true
   },
   "outputs": [
    {
     "name": "stdout",
     "output_type": "stream",
     "text": [
      "./sample_bookings.csv has 9999 lines\n"
     ]
    }
   ],
   "source": [
    "fileName='./sample_bookings.csv'\n",
    "with open(fileName) as file_input:\n",
    "    for k,line in enumerate(file_input):\n",
    "        pass\n",
    "print \"%s has %d lines\" % (fileName,k)"
   ]
  },
  {
   "cell_type": "code",
   "execution_count": 44,
   "metadata": {
    "collapsed": false,
    "deletable": true,
    "editable": true
   },
   "outputs": [
    {
     "name": "stdout",
     "output_type": "stream",
     "text": [
      "./sample_bookings.csv has 10000010 lines\n"
     ]
    }
   ],
   "source": [
    "with open(path3) as file_input:\n",
    "    for k,line in enumerate(file_input):\n",
    "        pass\n",
    "print \"%s has %d lines\" % (fileName,k)"
   ]
  },
  {
   "cell_type": "code",
   "execution_count": 45,
   "metadata": {
    "collapsed": false,
    "deletable": true,
    "editable": true
   },
   "outputs": [
    {
     "name": "stdout",
     "output_type": "stream",
     "text": [
      "./sample_bookings.csv has 20390198 lines\n"
     ]
    }
   ],
   "source": [
    "with open(path4) as file_input:\n",
    "    for k,line in enumerate(file_input):\n",
    "        pass\n",
    "print \"%s has %d lines\" % (fileName,k)"
   ]
  },
  {
   "cell_type": "markdown",
   "metadata": {
    "deletable": true,
    "editable": true
   },
   "source": [
    "# Exercise 2"
   ]
  },
  {
   "cell_type": "code",
   "execution_count": 47,
   "metadata": {
    "collapsed": false,
    "deletable": true,
    "editable": true
   },
   "outputs": [],
   "source": [
    "b = pd.read_csv('sample_bookings.csv.bz2', sep='^', nrows=1000)"
   ]
  },
  {
   "cell_type": "code",
   "execution_count": 51,
   "metadata": {
    "collapsed": false,
    "deletable": true,
    "editable": true
   },
   "outputs": [
    {
     "data": {
      "text/plain": [
       "['act_date           ',\n",
       " 'source',\n",
       " 'pos_ctry',\n",
       " 'pos_iata',\n",
       " 'pos_oid  ',\n",
       " 'rloc          ',\n",
       " 'cre_date           ',\n",
       " 'duration',\n",
       " 'distance',\n",
       " 'dep_port',\n",
       " 'dep_city',\n",
       " 'dep_ctry',\n",
       " 'arr_port',\n",
       " 'arr_city',\n",
       " 'arr_ctry',\n",
       " 'lst_port',\n",
       " 'lst_city',\n",
       " 'lst_ctry',\n",
       " 'brd_port',\n",
       " 'brd_city',\n",
       " 'brd_ctry',\n",
       " 'off_port',\n",
       " 'off_city',\n",
       " 'off_ctry',\n",
       " 'mkt_port',\n",
       " 'mkt_city',\n",
       " 'mkt_ctry',\n",
       " 'intl',\n",
       " 'route          ',\n",
       " 'carrier',\n",
       " 'bkg_class',\n",
       " 'cab_class',\n",
       " 'brd_time           ',\n",
       " 'off_time           ',\n",
       " 'pax',\n",
       " 'year',\n",
       " 'month',\n",
       " 'oid      ']"
      ]
     },
     "execution_count": 51,
     "metadata": {},
     "output_type": "execute_result"
    }
   ],
   "source": [
    "b.columns.tolist()"
   ]
  },
  {
   "cell_type": "code",
   "execution_count": 53,
   "metadata": {
    "collapsed": false,
    "deletable": true,
    "editable": true
   },
   "outputs": [
    {
     "data": {
      "text/html": [
       "<div>\n",
       "<table border=\"1\" class=\"dataframe\">\n",
       "  <thead>\n",
       "    <tr style=\"text-align: right;\">\n",
       "      <th></th>\n",
       "      <th>act_date</th>\n",
       "      <th>source</th>\n",
       "      <th>pos_ctry</th>\n",
       "      <th>pos_iata</th>\n",
       "      <th>pos_oid</th>\n",
       "      <th>rloc</th>\n",
       "      <th>cre_date</th>\n",
       "      <th>duration</th>\n",
       "      <th>distance</th>\n",
       "      <th>dep_port</th>\n",
       "      <th>...</th>\n",
       "      <th>route</th>\n",
       "      <th>carrier</th>\n",
       "      <th>bkg_class</th>\n",
       "      <th>cab_class</th>\n",
       "      <th>brd_time</th>\n",
       "      <th>off_time</th>\n",
       "      <th>pax</th>\n",
       "      <th>year</th>\n",
       "      <th>month</th>\n",
       "      <th>oid</th>\n",
       "    </tr>\n",
       "  </thead>\n",
       "  <tbody>\n",
       "    <tr>\n",
       "      <th>0</th>\n",
       "      <td>2013-03-05 00:00:00</td>\n",
       "      <td>1A</td>\n",
       "      <td>DE</td>\n",
       "      <td>a68dd7ae953c8acfb187a1af2dcbe123</td>\n",
       "      <td>1a11ae49fcbf545fd2afc1a24d88d2b7</td>\n",
       "      <td>ea65900e72d71f4626378e2ebd298267</td>\n",
       "      <td>2013-02-22 00:00:00</td>\n",
       "      <td>1708</td>\n",
       "      <td>0</td>\n",
       "      <td>ZRH</td>\n",
       "      <td>...</td>\n",
       "      <td>LHRZRH</td>\n",
       "      <td>VI</td>\n",
       "      <td>T</td>\n",
       "      <td>Y</td>\n",
       "      <td>2013-03-07 08:50:00</td>\n",
       "      <td>2013-03-07 11:33:37</td>\n",
       "      <td>-1</td>\n",
       "      <td>2013</td>\n",
       "      <td>3</td>\n",
       "      <td>NULL</td>\n",
       "    </tr>\n",
       "    <tr>\n",
       "      <th>1</th>\n",
       "      <td>2013-03-26 00:00:00</td>\n",
       "      <td>1A</td>\n",
       "      <td>US</td>\n",
       "      <td>e612b9eeeee6f17f42d9b0d3b79e75ca</td>\n",
       "      <td>7437560d8f276d6d05eeb806d9e7edee</td>\n",
       "      <td>737295a86982c941f1c2da9a46a14043</td>\n",
       "      <td>2013-03-26 00:00:00</td>\n",
       "      <td>135270</td>\n",
       "      <td>0</td>\n",
       "      <td>SAL</td>\n",
       "      <td>...</td>\n",
       "      <td>SALATLCLT</td>\n",
       "      <td>NV</td>\n",
       "      <td>L</td>\n",
       "      <td>Y</td>\n",
       "      <td>2013-04-12 13:04:00</td>\n",
       "      <td>2013-04-12 22:05:40</td>\n",
       "      <td>1</td>\n",
       "      <td>2013</td>\n",
       "      <td>3</td>\n",
       "      <td>NULL</td>\n",
       "    </tr>\n",
       "    <tr>\n",
       "      <th>2</th>\n",
       "      <td>2013-03-26 00:00:00</td>\n",
       "      <td>1A</td>\n",
       "      <td>US</td>\n",
       "      <td>e612b9eeeee6f17f42d9b0d3b79e75ca</td>\n",
       "      <td>7437560d8f276d6d05eeb806d9e7edee</td>\n",
       "      <td>737295a86982c941f1c2da9a46a14043</td>\n",
       "      <td>2013-03-26 00:00:00</td>\n",
       "      <td>135270</td>\n",
       "      <td>0</td>\n",
       "      <td>SAL</td>\n",
       "      <td>...</td>\n",
       "      <td>CLTATLSAL</td>\n",
       "      <td>NV</td>\n",
       "      <td>U</td>\n",
       "      <td>Y</td>\n",
       "      <td>2013-07-15 07:00:00</td>\n",
       "      <td>2013-07-15 11:34:51</td>\n",
       "      <td>1</td>\n",
       "      <td>2013</td>\n",
       "      <td>3</td>\n",
       "      <td>NULL</td>\n",
       "    </tr>\n",
       "    <tr>\n",
       "      <th>3</th>\n",
       "      <td>2013-03-26 00:00:00</td>\n",
       "      <td>1A</td>\n",
       "      <td>AU</td>\n",
       "      <td>0f984b3bb6bd06661c95529bbd6193bc</td>\n",
       "      <td>36472c6dbaf7afec9136ac40364e2794</td>\n",
       "      <td>5ecf00fdcbcec761c43dc7285253d0c1</td>\n",
       "      <td>2013-03-26 00:00:00</td>\n",
       "      <td>30885</td>\n",
       "      <td>0</td>\n",
       "      <td>AKL</td>\n",
       "      <td>...</td>\n",
       "      <td>AKLHKGSVO</td>\n",
       "      <td>XK</td>\n",
       "      <td>G</td>\n",
       "      <td>Y</td>\n",
       "      <td>2013-04-24 23:59:00</td>\n",
       "      <td>2013-04-25 16:06:31</td>\n",
       "      <td>1</td>\n",
       "      <td>2013</td>\n",
       "      <td>3</td>\n",
       "      <td>SYDA82546</td>\n",
       "    </tr>\n",
       "    <tr>\n",
       "      <th>4</th>\n",
       "      <td>2013-03-26 00:00:00</td>\n",
       "      <td>1A</td>\n",
       "      <td>AU</td>\n",
       "      <td>0f984b3bb6bd06661c95529bbd6193bc</td>\n",
       "      <td>36472c6dbaf7afec9136ac40364e2794</td>\n",
       "      <td>5ecf00fdcbcec761c43dc7285253d0c1</td>\n",
       "      <td>2013-03-26 00:00:00</td>\n",
       "      <td>30885</td>\n",
       "      <td>0</td>\n",
       "      <td>AKL</td>\n",
       "      <td>...</td>\n",
       "      <td>SVOHKGAKL</td>\n",
       "      <td>XK</td>\n",
       "      <td>G</td>\n",
       "      <td>Y</td>\n",
       "      <td>2013-05-14 20:15:00</td>\n",
       "      <td>2013-05-16 10:44:50</td>\n",
       "      <td>1</td>\n",
       "      <td>2013</td>\n",
       "      <td>3</td>\n",
       "      <td>SYDA82546</td>\n",
       "    </tr>\n",
       "    <tr>\n",
       "      <th>5</th>\n",
       "      <td>2013-03-20 00:00:00</td>\n",
       "      <td>1V</td>\n",
       "      <td>US</td>\n",
       "      <td>0283592e45e392871f7e14b1e22a9aaf</td>\n",
       "      <td>2d0f8e7e1bb792625d2f34f221bc38f1</td>\n",
       "      <td>d54708298686de200f8270e7c637af5e</td>\n",
       "      <td>2013-03-20 00:00:00</td>\n",
       "      <td>5923</td>\n",
       "      <td>0</td>\n",
       "      <td>DEN</td>\n",
       "      <td>...</td>\n",
       "      <td>DENLGA</td>\n",
       "      <td>FK</td>\n",
       "      <td>W</td>\n",
       "      <td>Y</td>\n",
       "      <td>2013-04-07 10:23:00</td>\n",
       "      <td>2013-04-07 16:14:24</td>\n",
       "      <td>1</td>\n",
       "      <td>2013</td>\n",
       "      <td>3</td>\n",
       "      <td>NULL</td>\n",
       "    </tr>\n",
       "    <tr>\n",
       "      <th>6</th>\n",
       "      <td>2013-03-20 00:00:00</td>\n",
       "      <td>1V</td>\n",
       "      <td>US</td>\n",
       "      <td>0283592e45e392871f7e14b1e22a9aaf</td>\n",
       "      <td>2d0f8e7e1bb792625d2f34f221bc38f1</td>\n",
       "      <td>d54708298686de200f8270e7c637af5e</td>\n",
       "      <td>2013-03-20 00:00:00</td>\n",
       "      <td>5923</td>\n",
       "      <td>0</td>\n",
       "      <td>DEN</td>\n",
       "      <td>...</td>\n",
       "      <td>LGADEN</td>\n",
       "      <td>FK</td>\n",
       "      <td>K</td>\n",
       "      <td>Y</td>\n",
       "      <td>2013-04-11 11:15:00</td>\n",
       "      <td>2013-04-11 13:06:24</td>\n",
       "      <td>1</td>\n",
       "      <td>2013</td>\n",
       "      <td>3</td>\n",
       "      <td>NULL</td>\n",
       "    </tr>\n",
       "    <tr>\n",
       "      <th>7</th>\n",
       "      <td>2013-03-25 00:00:00</td>\n",
       "      <td>1V</td>\n",
       "      <td>JP</td>\n",
       "      <td>5af045902bd23cab579915611d99e1e0</td>\n",
       "      <td>5073861d8597467c33596bfe16f23c56</td>\n",
       "      <td>a37584d1485cb35991e4ff1a2ba92262</td>\n",
       "      <td>2013-03-25 00:00:00</td>\n",
       "      <td>8371</td>\n",
       "      <td>60</td>\n",
       "      <td>NRT</td>\n",
       "      <td>...</td>\n",
       "      <td>NRTSIN</td>\n",
       "      <td>XR</td>\n",
       "      <td>Q</td>\n",
       "      <td>Y</td>\n",
       "      <td>2013-04-14 11:05:00</td>\n",
       "      <td>2013-04-14 17:10:56</td>\n",
       "      <td>2</td>\n",
       "      <td>2013</td>\n",
       "      <td>3</td>\n",
       "      <td>NULL</td>\n",
       "    </tr>\n",
       "    <tr>\n",
       "      <th>8</th>\n",
       "      <td>2013-03-25 00:00:00</td>\n",
       "      <td>1V</td>\n",
       "      <td>JP</td>\n",
       "      <td>5af045902bd23cab579915611d99e1e0</td>\n",
       "      <td>5073861d8597467c33596bfe16f23c56</td>\n",
       "      <td>a37584d1485cb35991e4ff1a2ba92262</td>\n",
       "      <td>2013-03-25 00:00:00</td>\n",
       "      <td>8371</td>\n",
       "      <td>60</td>\n",
       "      <td>NRT</td>\n",
       "      <td>...</td>\n",
       "      <td>SINPEN</td>\n",
       "      <td>WS</td>\n",
       "      <td>Y</td>\n",
       "      <td>Y</td>\n",
       "      <td>2013-04-16 15:45:00</td>\n",
       "      <td>2013-04-16 17:15:29</td>\n",
       "      <td>2</td>\n",
       "      <td>2013</td>\n",
       "      <td>3</td>\n",
       "      <td>NULL</td>\n",
       "    </tr>\n",
       "    <tr>\n",
       "      <th>9</th>\n",
       "      <td>2013-03-25 00:00:00</td>\n",
       "      <td>1V</td>\n",
       "      <td>JP</td>\n",
       "      <td>5af045902bd23cab579915611d99e1e0</td>\n",
       "      <td>5073861d8597467c33596bfe16f23c56</td>\n",
       "      <td>a37584d1485cb35991e4ff1a2ba92262</td>\n",
       "      <td>2013-03-25 00:00:00</td>\n",
       "      <td>8371</td>\n",
       "      <td>60</td>\n",
       "      <td>NRT</td>\n",
       "      <td>...</td>\n",
       "      <td>PENBKK</td>\n",
       "      <td>EQ</td>\n",
       "      <td>Y</td>\n",
       "      <td>Y</td>\n",
       "      <td>2013-04-18 08:00:00</td>\n",
       "      <td>2013-04-18 08:53:56</td>\n",
       "      <td>2</td>\n",
       "      <td>2013</td>\n",
       "      <td>3</td>\n",
       "      <td>NULL</td>\n",
       "    </tr>\n",
       "  </tbody>\n",
       "</table>\n",
       "<p>10 rows × 38 columns</p>\n",
       "</div>"
      ],
      "text/plain": [
       "   act_date             source  pos_ctry                          pos_iata  \\\n",
       "0  2013-03-05 00:00:00  1A      DE        a68dd7ae953c8acfb187a1af2dcbe123   \n",
       "1  2013-03-26 00:00:00  1A      US        e612b9eeeee6f17f42d9b0d3b79e75ca   \n",
       "2  2013-03-26 00:00:00  1A      US        e612b9eeeee6f17f42d9b0d3b79e75ca   \n",
       "3  2013-03-26 00:00:00  1A      AU        0f984b3bb6bd06661c95529bbd6193bc   \n",
       "4  2013-03-26 00:00:00  1A      AU        0f984b3bb6bd06661c95529bbd6193bc   \n",
       "5  2013-03-20 00:00:00  1V      US        0283592e45e392871f7e14b1e22a9aaf   \n",
       "6  2013-03-20 00:00:00  1V      US        0283592e45e392871f7e14b1e22a9aaf   \n",
       "7  2013-03-25 00:00:00  1V      JP        5af045902bd23cab579915611d99e1e0   \n",
       "8  2013-03-25 00:00:00  1V      JP        5af045902bd23cab579915611d99e1e0   \n",
       "9  2013-03-25 00:00:00  1V      JP        5af045902bd23cab579915611d99e1e0   \n",
       "\n",
       "                          pos_oid                      rloc            \\\n",
       "0  1a11ae49fcbf545fd2afc1a24d88d2b7  ea65900e72d71f4626378e2ebd298267   \n",
       "1  7437560d8f276d6d05eeb806d9e7edee  737295a86982c941f1c2da9a46a14043   \n",
       "2  7437560d8f276d6d05eeb806d9e7edee  737295a86982c941f1c2da9a46a14043   \n",
       "3  36472c6dbaf7afec9136ac40364e2794  5ecf00fdcbcec761c43dc7285253d0c1   \n",
       "4  36472c6dbaf7afec9136ac40364e2794  5ecf00fdcbcec761c43dc7285253d0c1   \n",
       "5  2d0f8e7e1bb792625d2f34f221bc38f1  d54708298686de200f8270e7c637af5e   \n",
       "6  2d0f8e7e1bb792625d2f34f221bc38f1  d54708298686de200f8270e7c637af5e   \n",
       "7  5073861d8597467c33596bfe16f23c56  a37584d1485cb35991e4ff1a2ba92262   \n",
       "8  5073861d8597467c33596bfe16f23c56  a37584d1485cb35991e4ff1a2ba92262   \n",
       "9  5073861d8597467c33596bfe16f23c56  a37584d1485cb35991e4ff1a2ba92262   \n",
       "\n",
       "   cre_date             duration  distance  dep_port    ...      \\\n",
       "0  2013-02-22 00:00:00      1708         0  ZRH         ...       \n",
       "1  2013-03-26 00:00:00    135270         0  SAL         ...       \n",
       "2  2013-03-26 00:00:00    135270         0  SAL         ...       \n",
       "3  2013-03-26 00:00:00     30885         0  AKL         ...       \n",
       "4  2013-03-26 00:00:00     30885         0  AKL         ...       \n",
       "5  2013-03-20 00:00:00      5923         0  DEN         ...       \n",
       "6  2013-03-20 00:00:00      5923         0  DEN         ...       \n",
       "7  2013-03-25 00:00:00      8371        60  NRT         ...       \n",
       "8  2013-03-25 00:00:00      8371        60  NRT         ...       \n",
       "9  2013-03-25 00:00:00      8371        60  NRT         ...       \n",
       "\n",
       "   route           carrier  bkg_class  cab_class  brd_time             \\\n",
       "0  LHRZRH               VI  T          Y          2013-03-07 08:50:00   \n",
       "1  SALATLCLT            NV  L          Y          2013-04-12 13:04:00   \n",
       "2  CLTATLSAL            NV  U          Y          2013-07-15 07:00:00   \n",
       "3  AKLHKGSVO            XK  G          Y          2013-04-24 23:59:00   \n",
       "4  SVOHKGAKL            XK  G          Y          2013-05-14 20:15:00   \n",
       "5  DENLGA               FK  W          Y          2013-04-07 10:23:00   \n",
       "6  LGADEN               FK  K          Y          2013-04-11 11:15:00   \n",
       "7  NRTSIN               XR  Q          Y          2013-04-14 11:05:00   \n",
       "8  SINPEN               WS  Y          Y          2013-04-16 15:45:00   \n",
       "9  PENBKK               EQ  Y          Y          2013-04-18 08:00:00   \n",
       "\n",
       "   off_time            pax  year month  oid        \n",
       "0  2013-03-07 11:33:37  -1  2013     3  NULL       \n",
       "1  2013-04-12 22:05:40   1  2013     3  NULL       \n",
       "2  2013-07-15 11:34:51   1  2013     3  NULL       \n",
       "3  2013-04-25 16:06:31   1  2013     3  SYDA82546  \n",
       "4  2013-05-16 10:44:50   1  2013     3  SYDA82546  \n",
       "5  2013-04-07 16:14:24   1  2013     3  NULL       \n",
       "6  2013-04-11 13:06:24   1  2013     3  NULL       \n",
       "7  2013-04-14 17:10:56   2  2013     3  NULL       \n",
       "8  2013-04-16 17:15:29   2  2013     3  NULL       \n",
       "9  2013-04-18 08:53:56   2  2013     3  NULL       \n",
       "\n",
       "[10 rows x 38 columns]"
      ]
     },
     "execution_count": 53,
     "metadata": {},
     "output_type": "execute_result"
    }
   ],
   "source": [
    "b.head(10)"
   ]
  },
  {
   "cell_type": "code",
   "execution_count": 56,
   "metadata": {
    "collapsed": true,
    "deletable": true,
    "editable": true
   },
   "outputs": [],
   "source": [
    "pd.set_option('display.max_columns',None)"
   ]
  },
  {
   "cell_type": "code",
   "execution_count": 57,
   "metadata": {
    "collapsed": false,
    "deletable": true,
    "editable": true
   },
   "outputs": [
    {
     "data": {
      "text/html": [
       "<div>\n",
       "<table border=\"1\" class=\"dataframe\">\n",
       "  <thead>\n",
       "    <tr style=\"text-align: right;\">\n",
       "      <th></th>\n",
       "      <th>act_date</th>\n",
       "      <th>source</th>\n",
       "      <th>pos_ctry</th>\n",
       "      <th>pos_iata</th>\n",
       "      <th>pos_oid</th>\n",
       "      <th>rloc</th>\n",
       "      <th>cre_date</th>\n",
       "      <th>duration</th>\n",
       "      <th>distance</th>\n",
       "      <th>dep_port</th>\n",
       "      <th>dep_city</th>\n",
       "      <th>dep_ctry</th>\n",
       "      <th>arr_port</th>\n",
       "      <th>arr_city</th>\n",
       "      <th>arr_ctry</th>\n",
       "      <th>lst_port</th>\n",
       "      <th>lst_city</th>\n",
       "      <th>lst_ctry</th>\n",
       "      <th>brd_port</th>\n",
       "      <th>brd_city</th>\n",
       "      <th>brd_ctry</th>\n",
       "      <th>off_port</th>\n",
       "      <th>off_city</th>\n",
       "      <th>off_ctry</th>\n",
       "      <th>mkt_port</th>\n",
       "      <th>mkt_city</th>\n",
       "      <th>mkt_ctry</th>\n",
       "      <th>intl</th>\n",
       "      <th>route</th>\n",
       "      <th>carrier</th>\n",
       "      <th>bkg_class</th>\n",
       "      <th>cab_class</th>\n",
       "      <th>brd_time</th>\n",
       "      <th>off_time</th>\n",
       "      <th>pax</th>\n",
       "      <th>year</th>\n",
       "      <th>month</th>\n",
       "      <th>oid</th>\n",
       "    </tr>\n",
       "  </thead>\n",
       "  <tbody>\n",
       "    <tr>\n",
       "      <th>0</th>\n",
       "      <td>2013-03-05 00:00:00</td>\n",
       "      <td>1A</td>\n",
       "      <td>DE</td>\n",
       "      <td>a68dd7ae953c8acfb187a1af2dcbe123</td>\n",
       "      <td>1a11ae49fcbf545fd2afc1a24d88d2b7</td>\n",
       "      <td>ea65900e72d71f4626378e2ebd298267</td>\n",
       "      <td>2013-02-22 00:00:00</td>\n",
       "      <td>1708</td>\n",
       "      <td>0</td>\n",
       "      <td>ZRH</td>\n",
       "      <td>ZRH</td>\n",
       "      <td>CH</td>\n",
       "      <td>LHR</td>\n",
       "      <td>LON</td>\n",
       "      <td>GB</td>\n",
       "      <td>ZRH</td>\n",
       "      <td>ZRH</td>\n",
       "      <td>CH</td>\n",
       "      <td>LHR</td>\n",
       "      <td>LON</td>\n",
       "      <td>GB</td>\n",
       "      <td>ZRH</td>\n",
       "      <td>ZRH</td>\n",
       "      <td>CH</td>\n",
       "      <td>LHRZRH</td>\n",
       "      <td>LONZRH</td>\n",
       "      <td>CHGB</td>\n",
       "      <td>1</td>\n",
       "      <td>LHRZRH</td>\n",
       "      <td>VI</td>\n",
       "      <td>T</td>\n",
       "      <td>Y</td>\n",
       "      <td>2013-03-07 08:50:00</td>\n",
       "      <td>2013-03-07 11:33:37</td>\n",
       "      <td>-1</td>\n",
       "      <td>2013</td>\n",
       "      <td>3</td>\n",
       "      <td>NULL</td>\n",
       "    </tr>\n",
       "    <tr>\n",
       "      <th>1</th>\n",
       "      <td>2013-03-26 00:00:00</td>\n",
       "      <td>1A</td>\n",
       "      <td>US</td>\n",
       "      <td>e612b9eeeee6f17f42d9b0d3b79e75ca</td>\n",
       "      <td>7437560d8f276d6d05eeb806d9e7edee</td>\n",
       "      <td>737295a86982c941f1c2da9a46a14043</td>\n",
       "      <td>2013-03-26 00:00:00</td>\n",
       "      <td>135270</td>\n",
       "      <td>0</td>\n",
       "      <td>SAL</td>\n",
       "      <td>SAL</td>\n",
       "      <td>SV</td>\n",
       "      <td>CLT</td>\n",
       "      <td>CLT</td>\n",
       "      <td>US</td>\n",
       "      <td>SAL</td>\n",
       "      <td>SAL</td>\n",
       "      <td>SV</td>\n",
       "      <td>SAL</td>\n",
       "      <td>SAL</td>\n",
       "      <td>SV</td>\n",
       "      <td>CLT</td>\n",
       "      <td>CLT</td>\n",
       "      <td>US</td>\n",
       "      <td>CLTSAL</td>\n",
       "      <td>CLTSAL</td>\n",
       "      <td>SVUS</td>\n",
       "      <td>1</td>\n",
       "      <td>SALATLCLT</td>\n",
       "      <td>NV</td>\n",
       "      <td>L</td>\n",
       "      <td>Y</td>\n",
       "      <td>2013-04-12 13:04:00</td>\n",
       "      <td>2013-04-12 22:05:40</td>\n",
       "      <td>1</td>\n",
       "      <td>2013</td>\n",
       "      <td>3</td>\n",
       "      <td>NULL</td>\n",
       "    </tr>\n",
       "    <tr>\n",
       "      <th>2</th>\n",
       "      <td>2013-03-26 00:00:00</td>\n",
       "      <td>1A</td>\n",
       "      <td>US</td>\n",
       "      <td>e612b9eeeee6f17f42d9b0d3b79e75ca</td>\n",
       "      <td>7437560d8f276d6d05eeb806d9e7edee</td>\n",
       "      <td>737295a86982c941f1c2da9a46a14043</td>\n",
       "      <td>2013-03-26 00:00:00</td>\n",
       "      <td>135270</td>\n",
       "      <td>0</td>\n",
       "      <td>SAL</td>\n",
       "      <td>SAL</td>\n",
       "      <td>SV</td>\n",
       "      <td>CLT</td>\n",
       "      <td>CLT</td>\n",
       "      <td>US</td>\n",
       "      <td>SAL</td>\n",
       "      <td>SAL</td>\n",
       "      <td>SV</td>\n",
       "      <td>CLT</td>\n",
       "      <td>CLT</td>\n",
       "      <td>US</td>\n",
       "      <td>SAL</td>\n",
       "      <td>SAL</td>\n",
       "      <td>SV</td>\n",
       "      <td>CLTSAL</td>\n",
       "      <td>CLTSAL</td>\n",
       "      <td>SVUS</td>\n",
       "      <td>1</td>\n",
       "      <td>CLTATLSAL</td>\n",
       "      <td>NV</td>\n",
       "      <td>U</td>\n",
       "      <td>Y</td>\n",
       "      <td>2013-07-15 07:00:00</td>\n",
       "      <td>2013-07-15 11:34:51</td>\n",
       "      <td>1</td>\n",
       "      <td>2013</td>\n",
       "      <td>3</td>\n",
       "      <td>NULL</td>\n",
       "    </tr>\n",
       "    <tr>\n",
       "      <th>3</th>\n",
       "      <td>2013-03-26 00:00:00</td>\n",
       "      <td>1A</td>\n",
       "      <td>AU</td>\n",
       "      <td>0f984b3bb6bd06661c95529bbd6193bc</td>\n",
       "      <td>36472c6dbaf7afec9136ac40364e2794</td>\n",
       "      <td>5ecf00fdcbcec761c43dc7285253d0c1</td>\n",
       "      <td>2013-03-26 00:00:00</td>\n",
       "      <td>30885</td>\n",
       "      <td>0</td>\n",
       "      <td>AKL</td>\n",
       "      <td>AKL</td>\n",
       "      <td>NZ</td>\n",
       "      <td>SVO</td>\n",
       "      <td>MOW</td>\n",
       "      <td>RU</td>\n",
       "      <td>AKL</td>\n",
       "      <td>AKL</td>\n",
       "      <td>NZ</td>\n",
       "      <td>AKL</td>\n",
       "      <td>AKL</td>\n",
       "      <td>NZ</td>\n",
       "      <td>SVO</td>\n",
       "      <td>MOW</td>\n",
       "      <td>RU</td>\n",
       "      <td>AKLSVO</td>\n",
       "      <td>AKLMOW</td>\n",
       "      <td>NZRU</td>\n",
       "      <td>1</td>\n",
       "      <td>AKLHKGSVO</td>\n",
       "      <td>XK</td>\n",
       "      <td>G</td>\n",
       "      <td>Y</td>\n",
       "      <td>2013-04-24 23:59:00</td>\n",
       "      <td>2013-04-25 16:06:31</td>\n",
       "      <td>1</td>\n",
       "      <td>2013</td>\n",
       "      <td>3</td>\n",
       "      <td>SYDA82546</td>\n",
       "    </tr>\n",
       "    <tr>\n",
       "      <th>4</th>\n",
       "      <td>2013-03-26 00:00:00</td>\n",
       "      <td>1A</td>\n",
       "      <td>AU</td>\n",
       "      <td>0f984b3bb6bd06661c95529bbd6193bc</td>\n",
       "      <td>36472c6dbaf7afec9136ac40364e2794</td>\n",
       "      <td>5ecf00fdcbcec761c43dc7285253d0c1</td>\n",
       "      <td>2013-03-26 00:00:00</td>\n",
       "      <td>30885</td>\n",
       "      <td>0</td>\n",
       "      <td>AKL</td>\n",
       "      <td>AKL</td>\n",
       "      <td>NZ</td>\n",
       "      <td>SVO</td>\n",
       "      <td>MOW</td>\n",
       "      <td>RU</td>\n",
       "      <td>AKL</td>\n",
       "      <td>AKL</td>\n",
       "      <td>NZ</td>\n",
       "      <td>SVO</td>\n",
       "      <td>MOW</td>\n",
       "      <td>RU</td>\n",
       "      <td>AKL</td>\n",
       "      <td>AKL</td>\n",
       "      <td>NZ</td>\n",
       "      <td>AKLSVO</td>\n",
       "      <td>AKLMOW</td>\n",
       "      <td>NZRU</td>\n",
       "      <td>1</td>\n",
       "      <td>SVOHKGAKL</td>\n",
       "      <td>XK</td>\n",
       "      <td>G</td>\n",
       "      <td>Y</td>\n",
       "      <td>2013-05-14 20:15:00</td>\n",
       "      <td>2013-05-16 10:44:50</td>\n",
       "      <td>1</td>\n",
       "      <td>2013</td>\n",
       "      <td>3</td>\n",
       "      <td>SYDA82546</td>\n",
       "    </tr>\n",
       "  </tbody>\n",
       "</table>\n",
       "</div>"
      ],
      "text/plain": [
       "   act_date             source  pos_ctry                          pos_iata  \\\n",
       "0  2013-03-05 00:00:00  1A      DE        a68dd7ae953c8acfb187a1af2dcbe123   \n",
       "1  2013-03-26 00:00:00  1A      US        e612b9eeeee6f17f42d9b0d3b79e75ca   \n",
       "2  2013-03-26 00:00:00  1A      US        e612b9eeeee6f17f42d9b0d3b79e75ca   \n",
       "3  2013-03-26 00:00:00  1A      AU        0f984b3bb6bd06661c95529bbd6193bc   \n",
       "4  2013-03-26 00:00:00  1A      AU        0f984b3bb6bd06661c95529bbd6193bc   \n",
       "\n",
       "                          pos_oid                      rloc            \\\n",
       "0  1a11ae49fcbf545fd2afc1a24d88d2b7  ea65900e72d71f4626378e2ebd298267   \n",
       "1  7437560d8f276d6d05eeb806d9e7edee  737295a86982c941f1c2da9a46a14043   \n",
       "2  7437560d8f276d6d05eeb806d9e7edee  737295a86982c941f1c2da9a46a14043   \n",
       "3  36472c6dbaf7afec9136ac40364e2794  5ecf00fdcbcec761c43dc7285253d0c1   \n",
       "4  36472c6dbaf7afec9136ac40364e2794  5ecf00fdcbcec761c43dc7285253d0c1   \n",
       "\n",
       "   cre_date             duration  distance  dep_port  dep_city  dep_ctry  \\\n",
       "0  2013-02-22 00:00:00      1708         0  ZRH       ZRH       CH         \n",
       "1  2013-03-26 00:00:00    135270         0  SAL       SAL       SV         \n",
       "2  2013-03-26 00:00:00    135270         0  SAL       SAL       SV         \n",
       "3  2013-03-26 00:00:00     30885         0  AKL       AKL       NZ         \n",
       "4  2013-03-26 00:00:00     30885         0  AKL       AKL       NZ         \n",
       "\n",
       "   arr_port  arr_city  arr_ctry  lst_port  lst_city  lst_ctry  brd_port  \\\n",
       "0  LHR       LON       GB        ZRH       ZRH       CH        LHR        \n",
       "1  CLT       CLT       US        SAL       SAL       SV        SAL        \n",
       "2  CLT       CLT       US        SAL       SAL       SV        CLT        \n",
       "3  SVO       MOW       RU        AKL       AKL       NZ        AKL        \n",
       "4  SVO       MOW       RU        AKL       AKL       NZ        SVO        \n",
       "\n",
       "   brd_city  brd_ctry  off_port  off_city  off_ctry  mkt_port  mkt_city  \\\n",
       "0  LON       GB        ZRH       ZRH       CH        LHRZRH    LONZRH     \n",
       "1  SAL       SV        CLT       CLT       US        CLTSAL    CLTSAL     \n",
       "2  CLT       US        SAL       SAL       SV        CLTSAL    CLTSAL     \n",
       "3  AKL       NZ        SVO       MOW       RU        AKLSVO    AKLMOW     \n",
       "4  MOW       RU        AKL       AKL       NZ        AKLSVO    AKLMOW     \n",
       "\n",
       "   mkt_ctry  intl  route           carrier  bkg_class  cab_class  \\\n",
       "0  CHGB         1  LHRZRH               VI  T          Y           \n",
       "1  SVUS         1  SALATLCLT            NV  L          Y           \n",
       "2  SVUS         1  CLTATLSAL            NV  U          Y           \n",
       "3  NZRU         1  AKLHKGSVO            XK  G          Y           \n",
       "4  NZRU         1  SVOHKGAKL            XK  G          Y           \n",
       "\n",
       "   brd_time             off_time             pax  year  month  oid        \n",
       "0  2013-03-07 08:50:00  2013-03-07 11:33:37   -1  2013      3  NULL       \n",
       "1  2013-04-12 13:04:00  2013-04-12 22:05:40    1  2013      3  NULL       \n",
       "2  2013-07-15 07:00:00  2013-07-15 11:34:51    1  2013      3  NULL       \n",
       "3  2013-04-24 23:59:00  2013-04-25 16:06:31    1  2013      3  SYDA82546  \n",
       "4  2013-05-14 20:15:00  2013-05-16 10:44:50    1  2013      3  SYDA82546  "
      ]
     },
     "execution_count": 57,
     "metadata": {},
     "output_type": "execute_result"
    }
   ],
   "source": [
    "b.head()"
   ]
  },
  {
   "cell_type": "code",
   "execution_count": 58,
   "metadata": {
    "collapsed": false,
    "deletable": true,
    "editable": true
   },
   "outputs": [
    {
     "data": {
      "text/plain": [
       "act_date               object\n",
       "source                 object\n",
       "pos_ctry               object\n",
       "pos_iata               object\n",
       "pos_oid                object\n",
       "rloc                   object\n",
       "cre_date               object\n",
       "duration                int64\n",
       "distance                int64\n",
       "dep_port               object\n",
       "dep_city               object\n",
       "dep_ctry               object\n",
       "arr_port               object\n",
       "arr_city               object\n",
       "arr_ctry               object\n",
       "lst_port               object\n",
       "lst_city               object\n",
       "lst_ctry               object\n",
       "brd_port               object\n",
       "brd_city               object\n",
       "brd_ctry               object\n",
       "off_port               object\n",
       "off_city               object\n",
       "off_ctry               object\n",
       "mkt_port               object\n",
       "mkt_city               object\n",
       "mkt_ctry               object\n",
       "intl                    int64\n",
       "route                  object\n",
       "carrier                object\n",
       "bkg_class              object\n",
       "cab_class              object\n",
       "brd_time               object\n",
       "off_time               object\n",
       "pax                     int64\n",
       "year                    int64\n",
       "month                   int64\n",
       "oid                    object\n",
       "dtype: object"
      ]
     },
     "execution_count": 58,
     "metadata": {},
     "output_type": "execute_result"
    }
   ],
   "source": [
    "b.dtypes"
   ]
  },
  {
   "cell_type": "code",
   "execution_count": 59,
   "metadata": {
    "collapsed": false,
    "deletable": true,
    "editable": true
   },
   "outputs": [
    {
     "data": {
      "text/plain": [
       "act_date               0\n",
       "source                 0\n",
       "pos_ctry               0\n",
       "pos_iata               0\n",
       "pos_oid                0\n",
       "rloc                   0\n",
       "cre_date               0\n",
       "duration               0\n",
       "distance               0\n",
       "dep_port               0\n",
       "dep_city               0\n",
       "dep_ctry               0\n",
       "arr_port               0\n",
       "arr_city               0\n",
       "arr_ctry               0\n",
       "lst_port               0\n",
       "lst_city               0\n",
       "lst_ctry               0\n",
       "brd_port               0\n",
       "brd_city               0\n",
       "brd_ctry               0\n",
       "off_port               0\n",
       "off_city               0\n",
       "off_ctry               0\n",
       "mkt_port               0\n",
       "mkt_city               0\n",
       "mkt_ctry               0\n",
       "intl                   0\n",
       "route                  0\n",
       "carrier                0\n",
       "bkg_class              0\n",
       "cab_class              0\n",
       "brd_time               0\n",
       "off_time               0\n",
       "pax                    0\n",
       "year                   0\n",
       "month                  0\n",
       "oid                    0\n",
       "dtype: int64"
      ]
     },
     "execution_count": 59,
     "metadata": {},
     "output_type": "execute_result"
    }
   ],
   "source": [
    "b.isnull().sum()"
   ]
  },
  {
   "cell_type": "code",
   "execution_count": 60,
   "metadata": {
    "collapsed": false,
    "deletable": true,
    "editable": true
   },
   "outputs": [
    {
     "data": {
      "text/html": [
       "<div>\n",
       "<table border=\"1\" class=\"dataframe\">\n",
       "  <thead>\n",
       "    <tr style=\"text-align: right;\">\n",
       "      <th></th>\n",
       "      <th>duration</th>\n",
       "      <th>distance</th>\n",
       "      <th>intl</th>\n",
       "      <th>pax</th>\n",
       "      <th>year</th>\n",
       "      <th>month</th>\n",
       "    </tr>\n",
       "  </thead>\n",
       "  <tbody>\n",
       "    <tr>\n",
       "      <th>count</th>\n",
       "      <td>1000.000000</td>\n",
       "      <td>1000.000000</td>\n",
       "      <td>1000.000000</td>\n",
       "      <td>1000.000000</td>\n",
       "      <td>1000.0</td>\n",
       "      <td>1000.0</td>\n",
       "    </tr>\n",
       "    <tr>\n",
       "      <th>mean</th>\n",
       "      <td>23935.433000</td>\n",
       "      <td>407.569000</td>\n",
       "      <td>0.643000</td>\n",
       "      <td>0.532000</td>\n",
       "      <td>2013.0</td>\n",
       "      <td>3.0</td>\n",
       "    </tr>\n",
       "    <tr>\n",
       "      <th>std</th>\n",
       "      <td>54459.101785</td>\n",
       "      <td>1490.087967</td>\n",
       "      <td>0.479355</td>\n",
       "      <td>1.976077</td>\n",
       "      <td>0.0</td>\n",
       "      <td>0.0</td>\n",
       "    </tr>\n",
       "    <tr>\n",
       "      <th>min</th>\n",
       "      <td>61.000000</td>\n",
       "      <td>0.000000</td>\n",
       "      <td>0.000000</td>\n",
       "      <td>-8.000000</td>\n",
       "      <td>2013.0</td>\n",
       "      <td>3.0</td>\n",
       "    </tr>\n",
       "    <tr>\n",
       "      <th>25%</th>\n",
       "      <td>3493.000000</td>\n",
       "      <td>0.000000</td>\n",
       "      <td>0.000000</td>\n",
       "      <td>-1.000000</td>\n",
       "      <td>2013.0</td>\n",
       "      <td>3.0</td>\n",
       "    </tr>\n",
       "    <tr>\n",
       "      <th>50%</th>\n",
       "      <td>6891.000000</td>\n",
       "      <td>0.000000</td>\n",
       "      <td>1.000000</td>\n",
       "      <td>1.000000</td>\n",
       "      <td>2013.0</td>\n",
       "      <td>3.0</td>\n",
       "    </tr>\n",
       "    <tr>\n",
       "      <th>75%</th>\n",
       "      <td>17940.000000</td>\n",
       "      <td>0.000000</td>\n",
       "      <td>1.000000</td>\n",
       "      <td>1.000000</td>\n",
       "      <td>2013.0</td>\n",
       "      <td>3.0</td>\n",
       "    </tr>\n",
       "    <tr>\n",
       "      <th>max</th>\n",
       "      <td>482174.000000</td>\n",
       "      <td>10995.000000</td>\n",
       "      <td>1.000000</td>\n",
       "      <td>21.000000</td>\n",
       "      <td>2013.0</td>\n",
       "      <td>3.0</td>\n",
       "    </tr>\n",
       "  </tbody>\n",
       "</table>\n",
       "</div>"
      ],
      "text/plain": [
       "            duration      distance         intl          pax    year   month\n",
       "count    1000.000000   1000.000000  1000.000000  1000.000000  1000.0  1000.0\n",
       "mean    23935.433000    407.569000     0.643000     0.532000  2013.0     3.0\n",
       "std     54459.101785   1490.087967     0.479355     1.976077     0.0     0.0\n",
       "min        61.000000      0.000000     0.000000    -8.000000  2013.0     3.0\n",
       "25%      3493.000000      0.000000     0.000000    -1.000000  2013.0     3.0\n",
       "50%      6891.000000      0.000000     1.000000     1.000000  2013.0     3.0\n",
       "75%     17940.000000      0.000000     1.000000     1.000000  2013.0     3.0\n",
       "max    482174.000000  10995.000000     1.000000    21.000000  2013.0     3.0"
      ]
     },
     "execution_count": 60,
     "metadata": {},
     "output_type": "execute_result"
    }
   ],
   "source": [
    "b.describe()"
   ]
  },
  {
   "cell_type": "markdown",
   "metadata": {
    "deletable": true,
    "editable": true
   },
   "source": [
    "## Select the columns of interest "
   ]
  },
  {
   "cell_type": "code",
   "execution_count": 61,
   "metadata": {
    "collapsed": true,
    "deletable": true,
    "editable": true
   },
   "outputs": [],
   "source": [
    "b = pd.read_csv('./sample_bookings.csv.bz2',sep='^', usecols=['arr_port','pax','year'], nrows=1000)"
   ]
  },
  {
   "cell_type": "code",
   "execution_count": 62,
   "metadata": {
    "collapsed": false,
    "deletable": true,
    "editable": true
   },
   "outputs": [
    {
     "data": {
      "text/html": [
       "<div>\n",
       "<table border=\"1\" class=\"dataframe\">\n",
       "  <thead>\n",
       "    <tr style=\"text-align: right;\">\n",
       "      <th></th>\n",
       "      <th>arr_port</th>\n",
       "      <th>pax</th>\n",
       "      <th>year</th>\n",
       "    </tr>\n",
       "  </thead>\n",
       "  <tbody>\n",
       "    <tr>\n",
       "      <th>0</th>\n",
       "      <td>LHR</td>\n",
       "      <td>-1</td>\n",
       "      <td>2013</td>\n",
       "    </tr>\n",
       "    <tr>\n",
       "      <th>1</th>\n",
       "      <td>CLT</td>\n",
       "      <td>1</td>\n",
       "      <td>2013</td>\n",
       "    </tr>\n",
       "    <tr>\n",
       "      <th>2</th>\n",
       "      <td>CLT</td>\n",
       "      <td>1</td>\n",
       "      <td>2013</td>\n",
       "    </tr>\n",
       "    <tr>\n",
       "      <th>3</th>\n",
       "      <td>SVO</td>\n",
       "      <td>1</td>\n",
       "      <td>2013</td>\n",
       "    </tr>\n",
       "    <tr>\n",
       "      <th>4</th>\n",
       "      <td>SVO</td>\n",
       "      <td>1</td>\n",
       "      <td>2013</td>\n",
       "    </tr>\n",
       "  </tbody>\n",
       "</table>\n",
       "</div>"
      ],
      "text/plain": [
       "   arr_port  pax  year\n",
       "0  LHR        -1  2013\n",
       "1  CLT         1  2013\n",
       "2  CLT         1  2013\n",
       "3  SVO         1  2013\n",
       "4  SVO         1  2013"
      ]
     },
     "execution_count": 62,
     "metadata": {},
     "output_type": "execute_result"
    }
   ],
   "source": [
    "b.head()"
   ]
  },
  {
   "cell_type": "markdown",
   "metadata": {
    "deletable": true,
    "editable": true
   },
   "source": [
    "## What to do with NaN?"
   ]
  },
  {
   "cell_type": "markdown",
   "metadata": {
    "deletable": true,
    "editable": true
   },
   "source": [
    "#### In the sample everything might be ok, but we should prepare for NaN case "
   ]
  },
  {
   "cell_type": "code",
   "execution_count": 63,
   "metadata": {
    "collapsed": true,
    "deletable": true,
    "editable": true
   },
   "outputs": [],
   "source": [
    "b = b.dropna()"
   ]
  },
  {
   "cell_type": "code",
   "execution_count": null,
   "metadata": {
    "collapsed": true,
    "deletable": true,
    "editable": true
   },
   "outputs": [],
   "source": []
  },
  {
   "cell_type": "markdown",
   "metadata": {
    "deletable": true,
    "editable": true
   },
   "source": [
    "## Ready to code "
   ]
  },
  {
   "cell_type": "markdown",
   "metadata": {
    "deletable": true,
    "editable": true
   },
   "source": [
    "#### What do we have so far? "
   ]
  },
  {
   "cell_type": "code",
   "execution_count": 64,
   "metadata": {
    "collapsed": true,
    "deletable": true,
    "editable": true
   },
   "outputs": [],
   "source": [
    "b = pd.read_csv('./sample_bookings.csv.bz2',sep='^', usecols=['arr_port','pax','year'], nrows=1000)"
   ]
  },
  {
   "cell_type": "code",
   "execution_count": 65,
   "metadata": {
    "collapsed": true,
    "deletable": true,
    "editable": true
   },
   "outputs": [],
   "source": [
    "b = b.dropna()"
   ]
  },
  {
   "cell_type": "markdown",
   "metadata": {
    "deletable": true,
    "editable": true
   },
   "source": [
    "#### Make action plan"
   ]
  },
  {
   "cell_type": "markdown",
   "metadata": {
    "deletable": true,
    "editable": true
   },
   "source": [
    "#####  1) filter 2013  2) group by arr_port  3) sum pax  4) sort  5) get top10\n"
   ]
  },
  {
   "cell_type": "code",
   "execution_count": 66,
   "metadata": {
    "collapsed": true,
    "deletable": true,
    "editable": true
   },
   "outputs": [],
   "source": [
    "b = b[b['year']==2013]"
   ]
  },
  {
   "cell_type": "code",
   "execution_count": 67,
   "metadata": {
    "collapsed": true,
    "deletable": true,
    "editable": true
   },
   "outputs": [],
   "source": [
    "b.drop('year', axis=1, inplace=True)"
   ]
  },
  {
   "cell_type": "code",
   "execution_count": 68,
   "metadata": {
    "collapsed": false,
    "deletable": true,
    "editable": true
   },
   "outputs": [
    {
     "data": {
      "text/html": [
       "<div>\n",
       "<table border=\"1\" class=\"dataframe\">\n",
       "  <thead>\n",
       "    <tr style=\"text-align: right;\">\n",
       "      <th></th>\n",
       "      <th>arr_port</th>\n",
       "      <th>pax</th>\n",
       "    </tr>\n",
       "  </thead>\n",
       "  <tbody>\n",
       "    <tr>\n",
       "      <th>0</th>\n",
       "      <td>LHR</td>\n",
       "      <td>-1</td>\n",
       "    </tr>\n",
       "    <tr>\n",
       "      <th>1</th>\n",
       "      <td>CLT</td>\n",
       "      <td>1</td>\n",
       "    </tr>\n",
       "    <tr>\n",
       "      <th>2</th>\n",
       "      <td>CLT</td>\n",
       "      <td>1</td>\n",
       "    </tr>\n",
       "    <tr>\n",
       "      <th>3</th>\n",
       "      <td>SVO</td>\n",
       "      <td>1</td>\n",
       "    </tr>\n",
       "    <tr>\n",
       "      <th>4</th>\n",
       "      <td>SVO</td>\n",
       "      <td>1</td>\n",
       "    </tr>\n",
       "  </tbody>\n",
       "</table>\n",
       "</div>"
      ],
      "text/plain": [
       "   arr_port  pax\n",
       "0  LHR        -1\n",
       "1  CLT         1\n",
       "2  CLT         1\n",
       "3  SVO         1\n",
       "4  SVO         1"
      ]
     },
     "execution_count": 68,
     "metadata": {},
     "output_type": "execute_result"
    }
   ],
   "source": [
    "b.head()"
   ]
  },
  {
   "cell_type": "code",
   "execution_count": 69,
   "metadata": {
    "collapsed": true,
    "deletable": true,
    "editable": true
   },
   "outputs": [],
   "source": [
    "arr_ports = b.groupby('arr_port')"
   ]
  },
  {
   "cell_type": "code",
   "execution_count": 70,
   "metadata": {
    "collapsed": false,
    "deletable": true,
    "editable": true
   },
   "outputs": [
    {
     "data": {
      "text/plain": [
       "{'ACC     ': Int64Index([118, 119], dtype='int64'),\n",
       " 'ADD     ': Int64Index([207, 208, 301, 302], dtype='int64'),\n",
       " 'AGP     ': Int64Index([397, 398], dtype='int64'),\n",
       " 'ALA     ': Int64Index([76, 77], dtype='int64'),\n",
       " 'ALC     ': Int64Index([909, 910], dtype='int64'),\n",
       " 'ALG     ': Int64Index([34, 35, 36, 37, 558, 559], dtype='int64'),\n",
       " 'AMD     ': Int64Index([732], dtype='int64'),\n",
       " 'AMS     ': Int64Index([494, 888, 889, 890, 891], dtype='int64'),\n",
       " 'ANC     ': Int64Index([432, 433], dtype='int64'),\n",
       " 'ASU     ': Int64Index([548, 549, 550, 551, 724, 725], dtype='int64'),\n",
       " 'ATH     ': Int64Index([313, 314, 739, 748], dtype='int64'),\n",
       " 'ATL     ': Int64Index([147, 404, 908], dtype='int64'),\n",
       " 'ATQ     ': Int64Index([801, 802, 803], dtype='int64'),\n",
       " 'AUH     ': Int64Index([733, 734], dtype='int64'),\n",
       " 'AUS     ': Int64Index([380, 381], dtype='int64'),\n",
       " 'AYT     ': Int64Index([81, 82, 83, 500], dtype='int64'),\n",
       " 'BBI     ': Int64Index([151, 152], dtype='int64'),\n",
       " 'BCN     ': Int64Index([320, 321, 979], dtype='int64'),\n",
       " 'BEY     ': Int64Index([415, 416, 509, 510], dtype='int64'),\n",
       " 'BHM     ': Int64Index([497, 498, 499], dtype='int64'),\n",
       " 'BJV     ': Int64Index([695, 696], dtype='int64'),\n",
       " 'BJX     ': Int64Index([983, 984], dtype='int64'),\n",
       " 'BKK     ': Int64Index([100, 101], dtype='int64'),\n",
       " 'BLQ     ': Int64Index([718, 719], dtype='int64'),\n",
       " 'BLR     ': Int64Index([49, 50, 51, 308], dtype='int64'),\n",
       " 'BNA     ': Int64Index([372, 373, 374, 375, 376, 377, 774, 775, 776, 777], dtype='int64'),\n",
       " 'BNE     ': Int64Index([335, 336, 337, 338, 795, 796], dtype='int64'),\n",
       " 'BOG     ': Int64Index([602, 603, 604, 605, 606, 607, 608, 609], dtype='int64'),\n",
       " 'BOI     ': Int64Index([143, 144, 567], dtype='int64'),\n",
       " 'BOM     ': Int64Index([576, 577, 622, 623, 624], dtype='int64'),\n",
       " 'BOS     ': Int64Index([182, 183, 221, 222, 463, 586, 587, 588, 589], dtype='int64'),\n",
       " 'BRD     ': Int64Index([455, 456], dtype='int64'),\n",
       " 'BRU     ': Int64Index([262, 263, 264, 265, 735, 736], dtype='int64'),\n",
       " 'BUD     ': Int64Index([957, 958, 959, 960], dtype='int64'),\n",
       " 'BUF     ': Int64Index([358, 359], dtype='int64'),\n",
       " 'BWI     ': Int64Index([52, 53, 102, 103], dtype='int64'),\n",
       " 'CAG     ': Int64Index([164, 165, 166, 167], dtype='int64'),\n",
       " 'CAI     ': Int64Index([126, 127, 554, 555], dtype='int64'),\n",
       " 'CAN     ': Int64Index([728, 729, 730, 731], dtype='int64'),\n",
       " 'CBR     ': Int64Index([656, 657, 658, 659], dtype='int64'),\n",
       " 'CCJ     ': Int64Index([324, 325, 326, 327, 477, 478, 479, 480, 481, 482, 483], dtype='int64'),\n",
       " 'CCS     ': Int64Index([354, 355], dtype='int64'),\n",
       " 'CDG     ': Int64Index([ 93,  94, 124, 125, 244, 255, 758, 759, 760, 761, 762, 763, 764,\n",
       "             765, 766, 767, 808, 809, 810, 811],\n",
       "            dtype='int64'),\n",
       " 'CGK     ': Int64Index([328, 329, 330, 331, 360, 361, 362, 363], dtype='int64'),\n",
       " 'CHQ     ': Int64Index([594, 595], dtype='int64'),\n",
       " 'CLT     ': Int64Index([1, 2, 501, 502, 503, 504, 688, 689, 714, 715, 716, 717, 794], dtype='int64'),\n",
       " 'CMB     ': Int64Index([740, 741, 742, 743], dtype='int64'),\n",
       " 'COK     ': Int64Index([332, 552, 553], dtype='int64'),\n",
       " 'COS     ': Int64Index([170, 171], dtype='int64'),\n",
       " 'CTA     ': Int64Index([20, 21], dtype='int64'),\n",
       " 'CUN     ': Int64Index([570, 571, 631, 632, 633, 634], dtype='int64'),\n",
       " 'CUR     ': Int64Index([421, 422, 423, 424], dtype='int64'),\n",
       " 'CUZ     ': Int64Index([572, 573, 574, 575], dtype='int64'),\n",
       " 'CVG     ': Int64Index([85, 86, 87, 88, 89, 90, 662, 663, 664, 665], dtype='int64'),\n",
       " 'CZM     ': Int64Index([368, 369], dtype='int64'),\n",
       " 'DAB     ': Int64Index([797], dtype='int64'),\n",
       " 'DAC     ': Int64Index([652, 653], dtype='int64'),\n",
       " 'DAY     ': Int64Index([176, 177], dtype='int64'),\n",
       " 'DCA     ': Int64Index([168, 169, 223, 224, 399, 400, 772, 773, 790, 791, 792, 793], dtype='int64'),\n",
       " 'DEL     ': Int64Index([54, 55, 56, 57, 192, 282, 283, 284, 285, 846, 847, 864, 967, 968], dtype='int64'),\n",
       " 'DEN     ': Int64Index([434, 435, 580, 581, 786, 787], dtype='int64'),\n",
       " 'DFW     ': Int64Index([193, 194, 195, 196, 619, 620, 746, 747], dtype='int64'),\n",
       " 'DMM     ': Int64Index([38, 39, 40, 41, 42, 43], dtype='int64'),\n",
       " 'DOH     ': Int64Index([315, 737, 738], dtype='int64'),\n",
       " 'DTW     ': Int64Index([109, 110, 382, 971, 972, 973, 974], dtype='int64'),\n",
       " 'DXB     ': Int64Index([342, 343, 344, 345, 346, 347, 348, 349, 484, 485, 486, 487, 488,\n",
       "             489, 505, 506, 507, 508, 744, 745],\n",
       "            dtype='int64'),\n",
       " 'ELP     ': Int64Index([132, 133, 134, 135, 136, 137, 138, 139], dtype='int64'),\n",
       " 'EWR     ': Int64Index([106, 107, 225, 226, 616, 617], dtype='int64'),\n",
       " 'EZE     ': Int64Index([816, 817, 818, 819], dtype='int64'),\n",
       " 'FAI     ': Int64Index([274, 275], dtype='int64'),\n",
       " 'FAO     ': Int64Index([322, 323], dtype='int64'),\n",
       " 'FCO     ': Int64Index([78, 79, 80, 865, 866, 867, 868], dtype='int64'),\n",
       " 'FLL     ': Int64Index([691, 913, 914, 931, 932], dtype='int64'),\n",
       " 'FRA     ': Int64Index([162, 163, 297, 298], dtype='int64'),\n",
       " 'FUE     ': Int64Index([646, 647, 648, 649], dtype='int64'),\n",
       " 'GAU     ': Int64Index([271, 272, 273], dtype='int64'),\n",
       " 'GIZ     ': Int64Index([880, 881, 882, 883], dtype='int64'),\n",
       " 'GRU     ': Int64Index([565, 566, 933, 934, 935, 936, 937, 938], dtype='int64'),\n",
       " 'GUM     ': Int64Index([339, 692], dtype='int64'),\n",
       " 'HAV     ': Int64Index([95, 96, 97, 98], dtype='int64'),\n",
       " 'HER     ': Int64Index([900, 901], dtype='int64'),\n",
       " 'HKG     ': Int64Index([233, 234, 473, 474], dtype='int64'),\n",
       " 'HMO     ': Int64Index([140], dtype='int64'),\n",
       " 'HNL     ': Int64Index([441, 442, 443, 444], dtype='int64'),\n",
       " 'ICN     ': Int64Index([517, 518, 519, 520], dtype='int64'),\n",
       " 'IND     ': Int64Index([750, 751, 752], dtype='int64'),\n",
       " 'ISB     ': Int64Index([153, 154, 155, 156], dtype='int64'),\n",
       " 'IST     ': Int64Index([148, 235, 236, 650, 651, 955, 956], dtype='int64'),\n",
       " 'ISU     ': Int64Index([635, 636, 637, 638, 639, 640], dtype='int64'),\n",
       " 'IXE     ': Int64Index([256, 257, 258, 259, 260, 261], dtype='int64'),\n",
       " 'JAC     ': Int64Index([307, 395, 396, 436], dtype='int64'),\n",
       " 'JAX     ': Int64Index([975, 976, 977, 978], dtype='int64'),\n",
       " 'JED     ': Int64Index([268, 269, 309, 310, 311, 312, 707, 896, 897, 898, 899], dtype='int64'),\n",
       " 'JFK     ': Int64Index([597, 598, 712, 713, 871, 872, 873, 874, 875, 876, 877, 878, 911,\n",
       "             912, 919, 920],\n",
       "            dtype='int64'),\n",
       " 'JNB     ': Int64Index([965, 966], dtype='int64'),\n",
       " 'KHI     ': Int64Index([850, 851], dtype='int64'),\n",
       " 'KIV     ': Int64Index([364, 365, 366, 367], dtype='int64'),\n",
       " 'KUL     ': Int64Index([451, 452, 453, 454, 610, 611], dtype='int64'),\n",
       " 'LAO     ': Int64Index([641], dtype='int64'),\n",
       " 'LAS     ': Int64Index([141, 142, 445, 446, 590, 591, 768, 769, 806, 807, 991], dtype='int64'),\n",
       " 'LAX     ': Int64Index([197, 198, 199, 200, 201, 202, 203, 204, 205, 206, 291, 292, 293,\n",
       "             294, 511],\n",
       "            dtype='int64'),\n",
       " 'LCA     ': Int64Index([157], dtype='int64'),\n",
       " 'LCY     ': Int64Index([187, 188], dtype='int64'),\n",
       " 'LED     ': Int64Index([44, 316, 317, 318, 319], dtype='int64'),\n",
       " 'LGA     ': Int64Index([5, 6, 122, 123, 191, 431, 464, 465, 469, 470, 987, 988, 989, 990], dtype='int64'),\n",
       " 'LHR     ': Int64Index([0, 158, 159, 160, 161, 350, 351, 844, 845, 869, 870, 944, 945, 946,\n",
       "             947],\n",
       "            dtype='int64'),\n",
       " 'LIM     ': Int64Index([525, 526, 560, 561, 562, 563, 852, 853, 854, 855, 856, 857, 858,\n",
       "             859],\n",
       "            dtype='int64'),\n",
       " 'LIN     ': Int64Index([654, 655], dtype='int64'),\n",
       " 'LIR     ': Int64Index([211, 788, 789], dtype='int64'),\n",
       " 'LIS     ': Int64Index([45, 46, 47, 48, 270, 916, 917], dtype='int64'),\n",
       " 'LIT     ': Int64Index([295, 296], dtype='int64'),\n",
       " 'LOS     ': Int64Index([753, 754, 755], dtype='int64'),\n",
       " 'LYR     ': Int64Index([245, 246, 247, 248], dtype='int64'),\n",
       " 'MAA     ': Int64Index([703, 704, 705, 706], dtype='int64'),\n",
       " 'MAD     ': Int64Index([462], dtype='int64'),\n",
       " 'MAN     ': Int64Index([535, 536], dtype='int64'),\n",
       " 'MCI     ': Int64Index([215, 216, 834, 835], dtype='int64'),\n",
       " 'MCO     ': Int64Index([180, 181, 495, 496, 537, 538, 539, 540, 541, 542, 680, 681, 682,\n",
       "             683],\n",
       "            dtype='int64'),\n",
       " 'MCT     ': Int64Index([848, 849], dtype='int64'),\n",
       " 'MDZ     ': Int64Index([627, 820, 821, 822], dtype='int64'),\n",
       " 'MED     ': Int64Index([556, 557], dtype='int64'),\n",
       " 'MEL     ': Int64Index([492, 493, 592, 593], dtype='int64'),\n",
       " 'MEM     ': Int64Index([998, 999], dtype='int64'),\n",
       " 'MEX     ': Int64Index([104, 276, 277, 612, 613, 614, 615, 840, 841, 842, 843], dtype='int64'),\n",
       " 'MGW     ': Int64Index([823, 824, 825, 826, 827, 828], dtype='int64'),\n",
       " 'MIA     ': Int64Index([213, 214, 596, 673, 674, 812, 813, 814, 815, 830, 831, 832, 833,\n",
       "             904, 905, 906, 907, 941, 942],\n",
       "            dtype='int64'),\n",
       " 'MLX     ': Int64Index([628, 629, 630], dtype='int64'),\n",
       " 'MNL     ': Int64Index([ 59,  60,  61,  62,  63,  64, 642, 643, 701, 702, 921, 922, 923,\n",
       "             924, 925, 926, 927, 928, 929, 930],\n",
       "            dtype='int64'),\n",
       " 'MQN     ': Int64Index([266, 267], dtype='int64'),\n",
       " 'MRS     ': Int64Index([249, 250, 251, 252, 253, 254, 918, 939, 940], dtype='int64'),\n",
       " 'MSN     ': Int64Index([992, 993, 994, 995], dtype='int64'),\n",
       " 'MSO     ': Int64Index([578, 579], dtype='int64'),\n",
       " 'MSY     ': Int64Index([475, 476], dtype='int64'),\n",
       " 'MUC     ': Int64Index([290, 708, 709], dtype='int64'),\n",
       " 'MVD     ': Int64Index([84], dtype='int64'),\n",
       " 'NAS     ': Int64Index([466, 467, 660, 661, 710, 711, 860, 861, 862, 863], dtype='int64'),\n",
       " 'NBO     ': Int64Index([545, 546, 547], dtype='int64'),\n",
       " 'NRT     ': Int64Index([99, 953, 954], dtype='int64'),\n",
       " 'OAK     ': Int64Index([798, 799], dtype='int64'),\n",
       " 'OGG     ': Int64Index([231, 232, 693, 694], dtype='int64'),\n",
       " 'OMA     ': Int64Index([111, 112, 113, 114, 115], dtype='int64'),\n",
       " 'ORD     ': Int64Index([401, 402, 403, 471, 472, 532, 533, 534, 666, 667, 668, 690, 800], dtype='int64'),\n",
       " 'ORY     ': Int64Index([407, 408, 409, 410, 411, 412], dtype='int64'),\n",
       " 'OTP     ': Int64Index([91, 92, 149, 150, 490, 491, 902, 903], dtype='int64'),\n",
       " 'PBI     ': Int64Index([425, 426], dtype='int64'),\n",
       " 'PDX     ': Int64Index([299, 300, 669, 670, 915, 980], dtype='int64'),\n",
       " 'PHL     ': Int64Index([599, 600], dtype='int64'),\n",
       " 'PHX     ': Int64Index([209, 210, 227, 228, 229, 230, 671, 672, 684, 685, 686, 687], dtype='int64'),\n",
       " 'PVG     ': Int64Index([30, 31, 32, 172, 173, 174, 178, 179, 352, 353, 447, 448, 449, 450], dtype='int64'),\n",
       " 'PVR     ': Int64Index([981, 982], dtype='int64'),\n",
       " 'RAK     ': Int64Index([948, 949, 950, 951], dtype='int64'),\n",
       " 'REN     ': Int64Index([527, 528], dtype='int64'),\n",
       " 'RUH     ': Int64Index([356, 357], dtype='int64'),\n",
       " 'SAN     ': Int64Index([582, 583], dtype='int64'),\n",
       " 'SAT     ': Int64Index([625, 626], dtype='int64'),\n",
       " 'SAV     ': Int64Index([105], dtype='int64'),\n",
       " 'SDF     ': Int64Index([120, 121, 618], dtype='int64'),\n",
       " 'SDQ     ': Int64Index([943], dtype='int64'),\n",
       " 'SDU     ': Int64Index([427, 428, 429, 430], dtype='int64'),\n",
       " 'SFO     ': Int64Index([108, 370, 371, 584, 585, 601, 697, 698, 699, 700, 829, 996, 997], dtype='int64'),\n",
       " 'SGC     ': Int64Index([33], dtype='int64'),\n",
       " 'SGN     ': Int64Index([378, 379, 383, 384, 385, 386, 387, 388, 389, 390, 720, 721, 722,\n",
       "             723],\n",
       "            dtype='int64'),\n",
       " 'SHA     ': Int64Index([175], dtype='int64'),\n",
       " 'SHV     ': Int64Index([892, 893, 894, 895], dtype='int64'),\n",
       " 'SIN     ': Int64Index([7, 8, 9, 10, 11, 12, 13, 14, 15, 16, 17, 18, 340, 341], dtype='int64'),\n",
       " 'SJD     ': Int64Index([189, 190], dtype='int64'),\n",
       " 'SJO     ': Int64Index([985, 986], dtype='int64'),\n",
       " 'SJU     ': Int64Index([278, 279, 280, 281, 405, 406], dtype='int64'),\n",
       " 'SKG     ': Int64Index([186], dtype='int64'),\n",
       " 'SMI     ': Int64Index([749], dtype='int64'),\n",
       " 'SNA     ': Int64Index([413, 414, 568, 569], dtype='int64'),\n",
       " 'SOF     ': Int64Index([512, 513, 514, 515, 516, 770, 771, 778, 779, 780, 781, 782, 783,\n",
       "             784, 785],\n",
       "            dtype='int64'),\n",
       " 'SSA     ': Int64Index([644, 645], dtype='int64'),\n",
       " 'STL     ': Int64Index([219, 220], dtype='int64'),\n",
       " 'SVO     ': Int64Index([3, 4, 457, 458, 459, 460, 461, 969, 970], dtype='int64'),\n",
       " 'SVQ     ': Int64Index([529], dtype='int64'),\n",
       " 'SXM     ': Int64Index([303, 304, 305, 306], dtype='int64'),\n",
       " 'SYD     ': Int64Index([212, 530, 531, 756, 757], dtype='int64'),\n",
       " 'TIA     ': Int64Index([184, 185], dtype='int64'),\n",
       " 'TLS     ': Int64Index([543, 544, 836, 837, 838, 839], dtype='int64'),\n",
       " 'TLV     ': Int64Index([128, 129, 130, 131, 952], dtype='int64'),\n",
       " 'TPA     ': Int64Index([58], dtype='int64'),\n",
       " 'TUS     ': Int64Index([19, 468], dtype='int64'),\n",
       " 'TXL     ': Int64Index([237, 238, 239, 240], dtype='int64'),\n",
       " 'TYR     ': Int64Index([145, 146], dtype='int64'),\n",
       " 'ULN     ': Int64Index([65, 66], dtype='int64'),\n",
       " 'UVF     ': Int64Index([437, 438, 439, 440], dtype='int64'),\n",
       " 'VPS     ': Int64Index([417, 418, 419, 420], dtype='int64'),\n",
       " 'VVI     ': Int64Index([726, 727], dtype='int64'),\n",
       " 'WAW     ': Int64Index([241, 242, 243, 564], dtype='int64'),\n",
       " 'WDH     ': Int64Index([521, 522, 523, 524], dtype='int64'),\n",
       " 'WRO     ': Int64Index([879], dtype='int64'),\n",
       " 'YHZ     ': Int64Index([217, 218], dtype='int64'),\n",
       " 'YNB     ': Int64Index([884, 885, 886, 887], dtype='int64'),\n",
       " 'YUL     ': Int64Index([333, 334], dtype='int64'),\n",
       " 'YVR     ': Int64Index([116, 117, 675, 676, 677, 804, 805], dtype='int64'),\n",
       " 'YWG     ': Int64Index([22, 23, 24, 25, 26, 27, 28, 29, 391, 392, 393, 394], dtype='int64'),\n",
       " 'YXE     ': Int64Index([621], dtype='int64'),\n",
       " 'YYC     ': Int64Index([961, 962, 963, 964], dtype='int64'),\n",
       " 'YYZ     ': Int64Index([678, 679], dtype='int64'),\n",
       " 'ZRH     ': Int64Index([67, 68, 69, 70, 71, 72, 73, 74, 75, 286, 287, 288, 289], dtype='int64')}"
      ]
     },
     "execution_count": 70,
     "metadata": {},
     "output_type": "execute_result"
    }
   ],
   "source": [
    "arr_ports.groups"
   ]
  },
  {
   "cell_type": "code",
   "execution_count": 79,
   "metadata": {
    "collapsed": false,
    "deletable": true,
    "editable": true
   },
   "outputs": [
    {
     "data": {
      "text/html": [
       "<div>\n",
       "<table border=\"1\" class=\"dataframe\">\n",
       "  <thead>\n",
       "    <tr style=\"text-align: right;\">\n",
       "      <th></th>\n",
       "      <th>pax</th>\n",
       "    </tr>\n",
       "    <tr>\n",
       "      <th>arr_port</th>\n",
       "      <th></th>\n",
       "    </tr>\n",
       "  </thead>\n",
       "  <tbody>\n",
       "    <tr>\n",
       "      <th>DCA</th>\n",
       "      <td>50</td>\n",
       "    </tr>\n",
       "    <tr>\n",
       "      <th>JFK</th>\n",
       "      <td>14</td>\n",
       "    </tr>\n",
       "    <tr>\n",
       "      <th>FLL</th>\n",
       "      <td>13</td>\n",
       "    </tr>\n",
       "    <tr>\n",
       "      <th>PVG</th>\n",
       "      <td>13</td>\n",
       "    </tr>\n",
       "    <tr>\n",
       "      <th>CGK</th>\n",
       "      <td>12</td>\n",
       "    </tr>\n",
       "    <tr>\n",
       "      <th>LGA</th>\n",
       "      <td>12</td>\n",
       "    </tr>\n",
       "    <tr>\n",
       "      <th>SVO</th>\n",
       "      <td>12</td>\n",
       "    </tr>\n",
       "    <tr>\n",
       "      <th>LAS</th>\n",
       "      <td>11</td>\n",
       "    </tr>\n",
       "    <tr>\n",
       "      <th>BOS</th>\n",
       "      <td>11</td>\n",
       "    </tr>\n",
       "    <tr>\n",
       "      <th>MIA</th>\n",
       "      <td>11</td>\n",
       "    </tr>\n",
       "    <tr>\n",
       "      <th>BWI</th>\n",
       "      <td>10</td>\n",
       "    </tr>\n",
       "    <tr>\n",
       "      <th>SFO</th>\n",
       "      <td>9</td>\n",
       "    </tr>\n",
       "    <tr>\n",
       "      <th>ORD</th>\n",
       "      <td>9</td>\n",
       "    </tr>\n",
       "    <tr>\n",
       "      <th>NRT</th>\n",
       "      <td>8</td>\n",
       "    </tr>\n",
       "    <tr>\n",
       "      <th>BJV</th>\n",
       "      <td>8</td>\n",
       "    </tr>\n",
       "    <tr>\n",
       "      <th>EWR</th>\n",
       "      <td>8</td>\n",
       "    </tr>\n",
       "    <tr>\n",
       "      <th>DEL</th>\n",
       "      <td>7</td>\n",
       "    </tr>\n",
       "    <tr>\n",
       "      <th>IST</th>\n",
       "      <td>7</td>\n",
       "    </tr>\n",
       "    <tr>\n",
       "      <th>COK</th>\n",
       "      <td>7</td>\n",
       "    </tr>\n",
       "    <tr>\n",
       "      <th>LHR</th>\n",
       "      <td>7</td>\n",
       "    </tr>\n",
       "  </tbody>\n",
       "</table>\n",
       "</div>"
      ],
      "text/plain": [
       "          pax\n",
       "arr_port     \n",
       "DCA        50\n",
       "JFK        14\n",
       "FLL        13\n",
       "PVG        13\n",
       "CGK        12\n",
       "LGA        12\n",
       "SVO        12\n",
       "LAS        11\n",
       "BOS        11\n",
       "MIA        11\n",
       "BWI        10\n",
       "SFO         9\n",
       "ORD         9\n",
       "NRT         8\n",
       "BJV         8\n",
       "EWR         8\n",
       "DEL         7\n",
       "IST         7\n",
       "COK         7\n",
       "LHR         7"
      ]
     },
     "execution_count": 79,
     "metadata": {},
     "output_type": "execute_result"
    }
   ],
   "source": [
    "arr_ports.sum().sort_values('pax',ascending=False).head(20)"
   ]
  },
  {
   "cell_type": "code",
   "execution_count": null,
   "metadata": {
    "collapsed": true,
    "deletable": true,
    "editable": true
   },
   "outputs": [],
   "source": []
  },
  {
   "cell_type": "code",
   "execution_count": null,
   "metadata": {
    "collapsed": true,
    "deletable": true,
    "editable": true
   },
   "outputs": [],
   "source": []
  },
  {
   "cell_type": "code",
   "execution_count": null,
   "metadata": {
    "collapsed": true,
    "deletable": true,
    "editable": true
   },
   "outputs": [],
   "source": []
  },
  {
   "cell_type": "markdown",
   "metadata": {
    "deletable": true,
    "editable": true
   },
   "source": [
    "## Adjust de code to work with Big Data "
   ]
  },
  {
   "cell_type": "code",
   "execution_count": 80,
   "metadata": {
    "collapsed": false,
    "deletable": true,
    "editable": true
   },
   "outputs": [
    {
     "data": {
      "text/html": [
       "<div>\n",
       "<table border=\"1\" class=\"dataframe\">\n",
       "  <thead>\n",
       "    <tr style=\"text-align: right;\">\n",
       "      <th></th>\n",
       "      <th>pax</th>\n",
       "    </tr>\n",
       "    <tr>\n",
       "      <th>arr_port</th>\n",
       "      <th></th>\n",
       "    </tr>\n",
       "  </thead>\n",
       "  <tbody>\n",
       "    <tr>\n",
       "      <th>DCA</th>\n",
       "      <td>50</td>\n",
       "    </tr>\n",
       "    <tr>\n",
       "      <th>JFK</th>\n",
       "      <td>14</td>\n",
       "    </tr>\n",
       "    <tr>\n",
       "      <th>FLL</th>\n",
       "      <td>13</td>\n",
       "    </tr>\n",
       "    <tr>\n",
       "      <th>PVG</th>\n",
       "      <td>13</td>\n",
       "    </tr>\n",
       "    <tr>\n",
       "      <th>CGK</th>\n",
       "      <td>12</td>\n",
       "    </tr>\n",
       "    <tr>\n",
       "      <th>LGA</th>\n",
       "      <td>12</td>\n",
       "    </tr>\n",
       "    <tr>\n",
       "      <th>SVO</th>\n",
       "      <td>12</td>\n",
       "    </tr>\n",
       "    <tr>\n",
       "      <th>LAS</th>\n",
       "      <td>11</td>\n",
       "    </tr>\n",
       "    <tr>\n",
       "      <th>BOS</th>\n",
       "      <td>11</td>\n",
       "    </tr>\n",
       "    <tr>\n",
       "      <th>MIA</th>\n",
       "      <td>11</td>\n",
       "    </tr>\n",
       "    <tr>\n",
       "      <th>BWI</th>\n",
       "      <td>10</td>\n",
       "    </tr>\n",
       "    <tr>\n",
       "      <th>SFO</th>\n",
       "      <td>9</td>\n",
       "    </tr>\n",
       "    <tr>\n",
       "      <th>ORD</th>\n",
       "      <td>9</td>\n",
       "    </tr>\n",
       "    <tr>\n",
       "      <th>NRT</th>\n",
       "      <td>8</td>\n",
       "    </tr>\n",
       "    <tr>\n",
       "      <th>BJV</th>\n",
       "      <td>8</td>\n",
       "    </tr>\n",
       "    <tr>\n",
       "      <th>EWR</th>\n",
       "      <td>8</td>\n",
       "    </tr>\n",
       "    <tr>\n",
       "      <th>DEL</th>\n",
       "      <td>7</td>\n",
       "    </tr>\n",
       "    <tr>\n",
       "      <th>IST</th>\n",
       "      <td>7</td>\n",
       "    </tr>\n",
       "    <tr>\n",
       "      <th>COK</th>\n",
       "      <td>7</td>\n",
       "    </tr>\n",
       "    <tr>\n",
       "      <th>LHR</th>\n",
       "      <td>7</td>\n",
       "    </tr>\n",
       "  </tbody>\n",
       "</table>\n",
       "</div>"
      ],
      "text/plain": [
       "          pax\n",
       "arr_port     \n",
       "DCA        50\n",
       "JFK        14\n",
       "FLL        13\n",
       "PVG        13\n",
       "CGK        12\n",
       "LGA        12\n",
       "SVO        12\n",
       "LAS        11\n",
       "BOS        11\n",
       "MIA        11\n",
       "BWI        10\n",
       "SFO         9\n",
       "ORD         9\n",
       "NRT         8\n",
       "BJV         8\n",
       "EWR         8\n",
       "DEL         7\n",
       "IST         7\n",
       "COK         7\n",
       "LHR         7"
      ]
     },
     "execution_count": 80,
     "metadata": {},
     "output_type": "execute_result"
    }
   ],
   "source": [
    "b = pd.read_csv('./sample_bookings.csv.bz2',sep='^', usecols=['arr_port','pax','year'], nrows=1000)\n",
    "b=b.dropna()\n",
    "b = b[b['year']==2013]\n",
    "b.drop('year', axis=1, inplace=True)\n",
    "arr_ports = b.groupby('arr_port')\n",
    "arr_ports.sum().sort_values('pax',ascending=False).head(20)"
   ]
  },
  {
   "cell_type": "code",
   "execution_count": 81,
   "metadata": {
    "collapsed": true,
    "deletable": true,
    "editable": true
   },
   "outputs": [],
   "source": [
    "b = pd.read_csv('sample_bookings.csv.bz2',sep='^',usecols=['arr_port','pax','year'], iterator=True)"
   ]
  },
  {
   "cell_type": "code",
   "execution_count": 83,
   "metadata": {
    "collapsed": false,
    "deletable": true,
    "editable": true
   },
   "outputs": [],
   "source": [
    "b0 = b.get_chunk(1000)"
   ]
  },
  {
   "cell_type": "code",
   "execution_count": 84,
   "metadata": {
    "collapsed": true,
    "deletable": true,
    "editable": true
   },
   "outputs": [],
   "source": [
    "b1 = b.get_chunk(8000)"
   ]
  },
  {
   "cell_type": "code",
   "execution_count": 85,
   "metadata": {
    "collapsed": true,
    "deletable": true,
    "editable": true
   },
   "outputs": [],
   "source": [
    "b3 = b.get_chunk(3000)"
   ]
  },
  {
   "cell_type": "code",
   "execution_count": 87,
   "metadata": {
    "collapsed": false,
    "deletable": true,
    "editable": true
   },
   "outputs": [
    {
     "data": {
      "text/plain": [
       "999"
      ]
     },
     "execution_count": 87,
     "metadata": {},
     "output_type": "execute_result"
    }
   ],
   "source": [
    "len(b3)\n"
   ]
  },
  {
   "cell_type": "code",
   "execution_count": 97,
   "metadata": {
    "collapsed": true,
    "deletable": true,
    "editable": true
   },
   "outputs": [],
   "source": [
    "b = pd.read_csv('sample_bookings.csv.bz2',sep='^',usecols=['arr_port','pax','year'], chunksize=4000)"
   ]
  },
  {
   "cell_type": "code",
   "execution_count": 98,
   "metadata": {
    "collapsed": false,
    "deletable": true,
    "editable": true
   },
   "outputs": [
    {
     "data": {
      "text/plain": [
       "pandas.io.parsers.TextFileReader"
      ]
     },
     "execution_count": 98,
     "metadata": {},
     "output_type": "execute_result"
    }
   ],
   "source": [
    "type(b)"
   ]
  },
  {
   "cell_type": "code",
   "execution_count": 99,
   "metadata": {
    "collapsed": true,
    "deletable": true,
    "editable": true
   },
   "outputs": [],
   "source": [
    "b0 = b.next()"
   ]
  },
  {
   "cell_type": "code",
   "execution_count": 100,
   "metadata": {
    "collapsed": true,
    "deletable": true,
    "editable": true
   },
   "outputs": [],
   "source": [
    "b1 = b.next()"
   ]
  },
  {
   "cell_type": "code",
   "execution_count": 101,
   "metadata": {
    "collapsed": true,
    "deletable": true,
    "editable": true
   },
   "outputs": [],
   "source": [
    "b2 = b.get_chunk(4000)"
   ]
  },
  {
   "cell_type": "code",
   "execution_count": 102,
   "metadata": {
    "collapsed": false,
    "deletable": true,
    "editable": true
   },
   "outputs": [
    {
     "data": {
      "text/plain": [
       "1999"
      ]
     },
     "execution_count": 102,
     "metadata": {},
     "output_type": "execute_result"
    }
   ],
   "source": [
    "len(b2)"
   ]
  },
  {
   "cell_type": "code",
   "execution_count": 105,
   "metadata": {
    "collapsed": false,
    "deletable": true,
    "editable": true
   },
   "outputs": [
    {
     "name": "stdout",
     "output_type": "stream",
     "text": [
      "Chunk: 1 size of chunk 4000\n",
      "Chunk: 2 size of chunk 4000\n",
      "Chunk: 3 size of chunk 1999\n"
     ]
    },
    {
     "data": {
      "text/html": [
       "<div>\n",
       "<table border=\"1\" class=\"dataframe\">\n",
       "  <thead>\n",
       "    <tr style=\"text-align: right;\">\n",
       "      <th></th>\n",
       "      <th>pax</th>\n",
       "    </tr>\n",
       "    <tr>\n",
       "      <th>arr_port</th>\n",
       "      <th></th>\n",
       "    </tr>\n",
       "  </thead>\n",
       "  <tbody>\n",
       "    <tr>\n",
       "      <th>ABQ</th>\n",
       "      <td>4</td>\n",
       "    </tr>\n",
       "    <tr>\n",
       "      <th>ABV</th>\n",
       "      <td>0</td>\n",
       "    </tr>\n",
       "    <tr>\n",
       "      <th>ABZ</th>\n",
       "      <td>-2</td>\n",
       "    </tr>\n",
       "    <tr>\n",
       "      <th>ACC</th>\n",
       "      <td>0</td>\n",
       "    </tr>\n",
       "    <tr>\n",
       "      <th>ADD</th>\n",
       "      <td>4</td>\n",
       "    </tr>\n",
       "  </tbody>\n",
       "</table>\n",
       "</div>"
      ],
      "text/plain": [
       "          pax\n",
       "arr_port     \n",
       "ABQ         4\n",
       "ABV         0\n",
       "ABZ        -2\n",
       "ACC         0\n",
       "ADD         4"
      ]
     },
     "execution_count": 105,
     "metadata": {},
     "output_type": "execute_result"
    }
   ],
   "source": [
    "bc = pd.read_csv('sample_bookings.csv.bz2',sep='^',usecols=['arr_port','pax','year'], chunksize=4000)\n",
    "\n",
    "sum_chunks = pd.DataFrame()\n",
    "\n",
    "for i, b in enumerate(bc):\n",
    "    print \"Chunk: %d size of chunk %d\" % (i+1, len(b))\n",
    "    b = b.dropna()\n",
    "    b = b[b['year']==2013]\n",
    "    b.drop('year', axis=1, inplace=True)\n",
    "    arr_ports = b.groupby('arr_port')\n",
    "    chunk_result = arr_ports.sum()\n",
    "    sum_chunks = sum_chunks.append(chunk_result)\n",
    "    \n",
    "sum_chunks.head()"
   ]
  },
  {
   "cell_type": "code",
   "execution_count": 106,
   "metadata": {
    "collapsed": false,
    "deletable": true,
    "editable": true
   },
   "outputs": [
    {
     "data": {
      "text/plain": [
       "arr_port\n",
       "HKG         112\n",
       "LGA          95\n",
       "ORD          94\n",
       "JFK          92\n",
       "SFO          91\n",
       "LAX          91\n",
       "MCO          90\n",
       "DCA          82\n",
       "DEN          79\n",
       "LHR          76\n",
       "Name: pax, dtype: int64"
      ]
     },
     "execution_count": 106,
     "metadata": {},
     "output_type": "execute_result"
    }
   ],
   "source": [
    "sum_chunks.groupby(sum_chunks.index).pax.sum().sort_values(ascending=False).head(10)"
   ]
  },
  {
   "cell_type": "code",
   "execution_count": 108,
   "metadata": {
    "collapsed": false,
    "deletable": true,
    "editable": true
   },
   "outputs": [],
   "source": [
    "Top_airports = sum_chunks.groupby(sum_chunks.index).pax.sum().sort_values(ascending=False).reset_index()"
   ]
  },
  {
   "cell_type": "code",
   "execution_count": 109,
   "metadata": {
    "collapsed": false,
    "deletable": true,
    "editable": true
   },
   "outputs": [
    {
     "data": {
      "text/html": [
       "<div>\n",
       "<table border=\"1\" class=\"dataframe\">\n",
       "  <thead>\n",
       "    <tr style=\"text-align: right;\">\n",
       "      <th></th>\n",
       "      <th>arr_port</th>\n",
       "      <th>pax</th>\n",
       "    </tr>\n",
       "  </thead>\n",
       "  <tbody>\n",
       "    <tr>\n",
       "      <th>0</th>\n",
       "      <td>HKG</td>\n",
       "      <td>112</td>\n",
       "    </tr>\n",
       "    <tr>\n",
       "      <th>1</th>\n",
       "      <td>LGA</td>\n",
       "      <td>95</td>\n",
       "    </tr>\n",
       "    <tr>\n",
       "      <th>2</th>\n",
       "      <td>ORD</td>\n",
       "      <td>94</td>\n",
       "    </tr>\n",
       "    <tr>\n",
       "      <th>3</th>\n",
       "      <td>JFK</td>\n",
       "      <td>92</td>\n",
       "    </tr>\n",
       "    <tr>\n",
       "      <th>4</th>\n",
       "      <td>SFO</td>\n",
       "      <td>91</td>\n",
       "    </tr>\n",
       "  </tbody>\n",
       "</table>\n",
       "</div>"
      ],
      "text/plain": [
       "   arr_port  pax\n",
       "0  HKG       112\n",
       "1  LGA        95\n",
       "2  ORD        94\n",
       "3  JFK        92\n",
       "4  SFO        91"
      ]
     },
     "execution_count": 109,
     "metadata": {},
     "output_type": "execute_result"
    }
   ],
   "source": [
    "Top_airports.head()"
   ]
  },
  {
   "cell_type": "code",
   "execution_count": 110,
   "metadata": {
    "collapsed": false,
    "deletable": true,
    "editable": true
   },
   "outputs": [
    {
     "name": "stdout",
     "output_type": "stream",
     "text": [
      "Chunk: 1 size of chunk 1000000\n",
      "Chunk: 2 size of chunk 1000000\n",
      "Chunk: 3 size of chunk 1000000\n",
      "Chunk: 4 size of chunk 1000000\n",
      "Chunk: 5 size of chunk 1000000\n",
      "Chunk: 6 size of chunk 1000000\n",
      "Chunk: 7 size of chunk 1000000\n",
      "Chunk: 8 size of chunk 1000000\n",
      "Chunk: 9 size of chunk 1000000\n",
      "Chunk: 10 size of chunk 1000000\n",
      "Chunk: 11 size of chunk 10\n",
      "CPU times: user 3min 9s, sys: 9.97 s, total: 3min 19s\n",
      "Wall time: 3min 24s\n"
     ]
    }
   ],
   "source": [
    "%%time\n",
    "bc = pd.read_csv(path1,sep='^',usecols=['arr_port','pax','year'], chunksize=1000000)\n",
    "\n",
    "sum_chunks = pd.DataFrame()\n",
    "\n",
    "for i, b in enumerate(bc):\n",
    "    print \"Chunk: %d size of chunk %d\" % (i+1, len(b))\n",
    "    b = b.dropna()\n",
    "    b = b[b['year']==2013]\n",
    "    b.drop('year', axis=1, inplace=True)\n",
    "    arr_ports = b.groupby('arr_port')\n",
    "    chunk_result = arr_ports.sum()\n",
    "    sum_chunks = sum_chunks.append(chunk_result)\n",
    "    \n",
    "Top_airports = sum_chunks.groupby(sum_chunks.index).pax.sum().sort_values(ascending=False).reset_index()"
   ]
  },
  {
   "cell_type": "code",
   "execution_count": 111,
   "metadata": {
    "collapsed": false,
    "deletable": true,
    "editable": true
   },
   "outputs": [
    {
     "data": {
      "text/html": [
       "<div>\n",
       "<table border=\"1\" class=\"dataframe\">\n",
       "  <thead>\n",
       "    <tr style=\"text-align: right;\">\n",
       "      <th></th>\n",
       "      <th>arr_port</th>\n",
       "      <th>pax</th>\n",
       "    </tr>\n",
       "  </thead>\n",
       "  <tbody>\n",
       "    <tr>\n",
       "      <th>0</th>\n",
       "      <td>LHR</td>\n",
       "      <td>88809.0</td>\n",
       "    </tr>\n",
       "    <tr>\n",
       "      <th>1</th>\n",
       "      <td>MCO</td>\n",
       "      <td>70930.0</td>\n",
       "    </tr>\n",
       "    <tr>\n",
       "      <th>2</th>\n",
       "      <td>LAX</td>\n",
       "      <td>70530.0</td>\n",
       "    </tr>\n",
       "    <tr>\n",
       "      <th>3</th>\n",
       "      <td>LAS</td>\n",
       "      <td>69630.0</td>\n",
       "    </tr>\n",
       "    <tr>\n",
       "      <th>4</th>\n",
       "      <td>JFK</td>\n",
       "      <td>66270.0</td>\n",
       "    </tr>\n",
       "  </tbody>\n",
       "</table>\n",
       "</div>"
      ],
      "text/plain": [
       "   arr_port      pax\n",
       "0  LHR       88809.0\n",
       "1  MCO       70930.0\n",
       "2  LAX       70530.0\n",
       "3  LAS       69630.0\n",
       "4  JFK       66270.0"
      ]
     },
     "execution_count": 111,
     "metadata": {},
     "output_type": "execute_result"
    }
   ],
   "source": [
    "Top_airports.head()"
   ]
  },
  {
   "cell_type": "code",
   "execution_count": 112,
   "metadata": {
    "collapsed": false,
    "deletable": true,
    "editable": true
   },
   "outputs": [
    {
     "data": {
      "text/plain": [
       "2274"
      ]
     },
     "execution_count": 112,
     "metadata": {},
     "output_type": "execute_result"
    }
   ],
   "source": [
    "len(Top_airports)"
   ]
  },
  {
   "cell_type": "code",
   "execution_count": 113,
   "metadata": {
    "collapsed": true,
    "deletable": true,
    "editable": true
   },
   "outputs": [],
   "source": [
    "from GeoBases import GeoBase"
   ]
  },
  {
   "cell_type": "code",
   "execution_count": 114,
   "metadata": {
    "collapsed": true,
    "deletable": true,
    "editable": true
   },
   "outputs": [],
   "source": [
    "geoDict=GeoBase(data='ori_por',verbose=False)"
   ]
  },
  {
   "cell_type": "code",
   "execution_count": 115,
   "metadata": {
    "collapsed": false,
    "deletable": true,
    "editable": true
   },
   "outputs": [
    {
     "data": {
      "text/plain": [
       "'London'"
      ]
     },
     "execution_count": 115,
     "metadata": {},
     "output_type": "execute_result"
    }
   ],
   "source": [
    "geoDict.get('LHR', 'city_name_utf')"
   ]
  },
  {
   "cell_type": "code",
   "execution_count": 116,
   "metadata": {
    "collapsed": false,
    "deletable": true,
    "editable": true
   },
   "outputs": [
    {
     "data": {
      "text/plain": [
       "'London Heathrow Airport'"
      ]
     },
     "execution_count": 116,
     "metadata": {},
     "output_type": "execute_result"
    }
   ],
   "source": [
    "geoDict.get('LHR')['name']"
   ]
  },
  {
   "cell_type": "code",
   "execution_count": 117,
   "metadata": {
    "collapsed": false,
    "deletable": true,
    "editable": true
   },
   "outputs": [
    {
     "data": {
      "text/plain": [
       "'LHR     '"
      ]
     },
     "execution_count": 117,
     "metadata": {},
     "output_type": "execute_result"
    }
   ],
   "source": [
    "Top_airports['arr_port'][0]"
   ]
  },
  {
   "cell_type": "code",
   "execution_count": 118,
   "metadata": {
    "collapsed": false,
    "deletable": true,
    "editable": true
   },
   "outputs": [
    {
     "data": {
      "text/plain": [
       "'London Heathrow Airport'"
      ]
     },
     "execution_count": 118,
     "metadata": {},
     "output_type": "execute_result"
    }
   ],
   "source": [
    "geoDict.get(Top_airports['arr_port'][0].strip())['name']"
   ]
  },
  {
   "cell_type": "code",
   "execution_count": 121,
   "metadata": {
    "collapsed": false,
    "deletable": true,
    "editable": true
   },
   "outputs": [],
   "source": [
    "Top_airports['Airport Name']=Top_airports['arr_port'].\\\n",
    "map(lambda x: geoDict.get(x.strip())['name'])"
   ]
  },
  {
   "cell_type": "code",
   "execution_count": 122,
   "metadata": {
    "collapsed": false,
    "deletable": true,
    "editable": true
   },
   "outputs": [
    {
     "data": {
      "text/html": [
       "<div>\n",
       "<table border=\"1\" class=\"dataframe\">\n",
       "  <thead>\n",
       "    <tr style=\"text-align: right;\">\n",
       "      <th></th>\n",
       "      <th>arr_port</th>\n",
       "      <th>pax</th>\n",
       "      <th>Airport Name</th>\n",
       "    </tr>\n",
       "  </thead>\n",
       "  <tbody>\n",
       "    <tr>\n",
       "      <th>0</th>\n",
       "      <td>LHR</td>\n",
       "      <td>88809.0</td>\n",
       "      <td>London Heathrow Airport</td>\n",
       "    </tr>\n",
       "    <tr>\n",
       "      <th>1</th>\n",
       "      <td>MCO</td>\n",
       "      <td>70930.0</td>\n",
       "      <td>Orlando International Airport</td>\n",
       "    </tr>\n",
       "    <tr>\n",
       "      <th>2</th>\n",
       "      <td>LAX</td>\n",
       "      <td>70530.0</td>\n",
       "      <td>Los Angeles International Airport</td>\n",
       "    </tr>\n",
       "    <tr>\n",
       "      <th>3</th>\n",
       "      <td>LAS</td>\n",
       "      <td>69630.0</td>\n",
       "      <td>Mc Carran International Airport</td>\n",
       "    </tr>\n",
       "    <tr>\n",
       "      <th>4</th>\n",
       "      <td>JFK</td>\n",
       "      <td>66270.0</td>\n",
       "      <td>John F Kennedy International Airport</td>\n",
       "    </tr>\n",
       "  </tbody>\n",
       "</table>\n",
       "</div>"
      ],
      "text/plain": [
       "   arr_port      pax                          Airport Name\n",
       "0  LHR       88809.0               London Heathrow Airport\n",
       "1  MCO       70930.0         Orlando International Airport\n",
       "2  LAX       70530.0     Los Angeles International Airport\n",
       "3  LAS       69630.0       Mc Carran International Airport\n",
       "4  JFK       66270.0  John F Kennedy International Airport"
      ]
     },
     "execution_count": 122,
     "metadata": {},
     "output_type": "execute_result"
    }
   ],
   "source": [
    "Top_airports.head()"
   ]
  },
  {
   "cell_type": "code",
   "execution_count": 123,
   "metadata": {
    "collapsed": true,
    "deletable": true,
    "editable": true
   },
   "outputs": [],
   "source": [
    "Top_airports.to_csv('top_airports.csv', sep='^', index=False)"
   ]
  },
  {
   "cell_type": "code",
   "execution_count": 124,
   "metadata": {
    "collapsed": false,
    "deletable": true,
    "editable": true
   },
   "outputs": [
    {
     "name": "stdout",
     "output_type": "stream",
     "text": [
      "total 6996\r\n",
      "-rw-rw-r-- 1 dsc dsc      38 Mar 24 20:57 README.md\r\n",
      "-rw-rw-r-- 1 dsc dsc 4232732 May 19 17:51 sample_bookings.csv\r\n",
      "-rw-rw-r-- 1 dsc dsc  535893 May 19 17:17 sample_bookings.csv.bz2\r\n",
      "-rw-rw-r-- 1 dsc dsc 1824927 May 19 17:51 sample_searches.csv\r\n",
      "-rw-rw-r-- 1 dsc dsc  244720 May 19 17:19 sample_searches.csv.bz2\r\n",
      "-rw-rw-r-- 1 dsc dsc  227049 May 19 20:54 solucion_challenge_Pablo_Real.ipynb\r\n",
      "-rw-rw-r-- 1 dsc dsc   84696 May 19 20:56 top_airports.csv\r\n"
     ]
    }
   ],
   "source": [
    "!ls -l"
   ]
  },
  {
   "cell_type": "code",
   "execution_count": null,
   "metadata": {
    "collapsed": true,
    "deletable": true,
    "editable": true
   },
   "outputs": [],
   "source": []
  },
  {
   "cell_type": "markdown",
   "metadata": {
    "deletable": true,
    "editable": true
   },
   "source": [
    "# Write a Web Service "
   ]
  },
  {
   "cell_type": "code",
   "execution_count": 7,
   "metadata": {
    "collapsed": true,
    "deletable": true,
    "editable": true
   },
   "outputs": [],
   "source": [
    "from flask import Flask"
   ]
  },
  {
   "cell_type": "code",
   "execution_count": 126,
   "metadata": {
    "collapsed": true,
    "deletable": true,
    "editable": true
   },
   "outputs": [],
   "source": [
    "app = Flask ('First web service')\n",
    "@app.route('/hello',methods=['GET'])\n",
    "\n",
    "def get_hello():\n",
    "    return \"Hello from the service!\""
   ]
  },
  {
   "cell_type": "code",
   "execution_count": 2,
   "metadata": {
    "collapsed": false,
    "deletable": true,
    "editable": true,
    "scrolled": true
   },
   "outputs": [],
   "source": [
    "import pandas as pd"
   ]
  },
  {
   "cell_type": "code",
   "execution_count": 3,
   "metadata": {
    "collapsed": true,
    "deletable": true,
    "editable": true
   },
   "outputs": [],
   "source": [
    "top = pd.read_csv('./top_airports.csv', sep='^')"
   ]
  },
  {
   "cell_type": "code",
   "execution_count": 5,
   "metadata": {
    "collapsed": false,
    "deletable": true,
    "editable": true
   },
   "outputs": [
    {
     "data": {
      "text/plain": [
       "'{\"arr_port\":{\"0\":\"LHR     \",\"1\":\"MCO     \",\"2\":\"LAX     \",\"3\":\"LAS     \",\"4\":\"JFK     \"},\"pax\":{\"0\":88809.0,\"1\":70930.0,\"2\":70530.0,\"3\":69630.0,\"4\":66270.0},\"Airport Name\":{\"0\":\"London Heathrow Airport\",\"1\":\"Orlando International Airport\",\"2\":\"Los Angeles International Airport\",\"3\":\"Mc Carran International Airport\",\"4\":\"John F Kennedy International Airport\"}}'"
      ]
     },
     "execution_count": 5,
     "metadata": {},
     "output_type": "execute_result"
    }
   ],
   "source": [
    "top.head().to_json()"
   ]
  },
  {
   "cell_type": "code",
   "execution_count": 9,
   "metadata": {
    "collapsed": false,
    "deletable": true,
    "editable": true
   },
   "outputs": [],
   "source": [
    "app = Flask ('Second web service')\n",
    "@app.route('/ret_number/<n>',methods=['GET'])\n",
    "\n",
    "def get_hello(n):\n",
    "    try:\n",
    "        numb=int(n)\n",
    "        if numb>0:\n",
    "            return \"The number is: %d\" %numb\n",
    "        else:\n",
    "            return \"The number is negative\"\n",
    "    except:\n",
    "        return \"Could not find a number\"\n",
    "\n",
    "@app.route('/', methods=['GET'])\n",
    "def default_page():\n",
    "    return \"Thanks for stopping by\""
   ]
  },
  {
   "cell_type": "code",
   "execution_count": null,
   "metadata": {
    "collapsed": false,
    "deletable": true,
    "editable": true
   },
   "outputs": [
    {
     "name": "stderr",
     "output_type": "stream",
     "text": [
      " * Running on http://127.0.0.1:5000/ (Press CTRL+C to quit)\n",
      "127.0.0.1 - - [19/May/2017 21:47:22] \"\u001b[37mGET / HTTP/1.1\u001b[0m\" 200 -\n",
      "127.0.0.1 - - [19/May/2017 21:47:29] \"\u001b[37mGET /ret_number/10 HTTP/1.1\u001b[0m\" 200 -\n",
      "127.0.0.1 - - [19/May/2017 21:49:01] \"\u001b[37mGET /ret_number/10 HTTP/1.1\u001b[0m\" 200 -\n",
      "127.0.0.1 - - [19/May/2017 21:49:20] \"\u001b[37mGET /ret_number/100 HTTP/1.1\u001b[0m\" 200 -\n"
     ]
    }
   ],
   "source": [
    "app.run()"
   ]
  },
  {
   "cell_type": "code",
   "execution_count": null,
   "metadata": {
    "collapsed": true,
    "deletable": true,
    "editable": true
   },
   "outputs": [],
   "source": []
  },
  {
   "cell_type": "markdown",
   "metadata": {
    "collapsed": true,
    "deletable": true,
    "editable": true
   },
   "source": [
    "# Plot the monthly number of searches for flights arriving at Málaga, Madrid and Barcelona "
   ]
  },
  {
   "cell_type": "markdown",
   "metadata": {},
   "source": [
    "## Analyze data"
   ]
  },
  {
   "cell_type": "code",
   "execution_count": 1,
   "metadata": {
    "collapsed": true
   },
   "outputs": [],
   "source": [
    "import pandas as pd\n",
    "import numpy as np"
   ]
  },
  {
   "cell_type": "code",
   "execution_count": 22,
   "metadata": {
    "collapsed": true
   },
   "outputs": [],
   "source": [
    "searches_samples = pd.read_csv('~/Data/challenge/searches.csv.bz2', sep='^',nrows=1000)"
   ]
  },
  {
   "cell_type": "code",
   "execution_count": 23,
   "metadata": {
    "collapsed": false
   },
   "outputs": [
    {
     "data": {
      "text/html": [
       "<div>\n",
       "<table border=\"1\" class=\"dataframe\">\n",
       "  <thead>\n",
       "    <tr style=\"text-align: right;\">\n",
       "      <th></th>\n",
       "      <th>Date</th>\n",
       "      <th>Time</th>\n",
       "      <th>TxnCode</th>\n",
       "      <th>OfficeID</th>\n",
       "      <th>Country</th>\n",
       "      <th>Origin</th>\n",
       "      <th>Destination</th>\n",
       "      <th>RoundTrip</th>\n",
       "      <th>NbSegments</th>\n",
       "      <th>Seg1Departure</th>\n",
       "      <th>Seg1Arrival</th>\n",
       "      <th>Seg1Date</th>\n",
       "      <th>Seg1Carrier</th>\n",
       "      <th>Seg1BookingCode</th>\n",
       "      <th>Seg2Departure</th>\n",
       "      <th>Seg2Arrival</th>\n",
       "      <th>Seg2Date</th>\n",
       "      <th>Seg2Carrier</th>\n",
       "      <th>Seg2BookingCode</th>\n",
       "      <th>Seg3Departure</th>\n",
       "      <th>Seg3Arrival</th>\n",
       "      <th>Seg3Date</th>\n",
       "      <th>Seg3Carrier</th>\n",
       "      <th>Seg3BookingCode</th>\n",
       "      <th>Seg4Departure</th>\n",
       "      <th>Seg4Arrival</th>\n",
       "      <th>Seg4Date</th>\n",
       "      <th>Seg4Carrier</th>\n",
       "      <th>Seg4BookingCode</th>\n",
       "      <th>Seg5Departure</th>\n",
       "      <th>Seg5Arrival</th>\n",
       "      <th>Seg5Date</th>\n",
       "      <th>Seg5Carrier</th>\n",
       "      <th>Seg5BookingCode</th>\n",
       "      <th>Seg6Departure</th>\n",
       "      <th>Seg6Arrival</th>\n",
       "      <th>Seg6Date</th>\n",
       "      <th>Seg6Carrier</th>\n",
       "      <th>Seg6BookingCode</th>\n",
       "      <th>From</th>\n",
       "      <th>IsPublishedForNeg</th>\n",
       "      <th>IsFromInternet</th>\n",
       "      <th>IsFromVista</th>\n",
       "      <th>TerminalID</th>\n",
       "      <th>InternetOffice</th>\n",
       "    </tr>\n",
       "  </thead>\n",
       "  <tbody>\n",
       "    <tr>\n",
       "      <th>0</th>\n",
       "      <td>2013-01-01</td>\n",
       "      <td>20:25:57</td>\n",
       "      <td>MPT</td>\n",
       "      <td>624d8c3ac0b3a7ca03e3c167e0f48327</td>\n",
       "      <td>DE</td>\n",
       "      <td>TXL</td>\n",
       "      <td>AUH</td>\n",
       "      <td>1</td>\n",
       "      <td>2</td>\n",
       "      <td>TXL</td>\n",
       "      <td>AUH</td>\n",
       "      <td>2013-01-26</td>\n",
       "      <td>D2</td>\n",
       "      <td>NaN</td>\n",
       "      <td>AUH</td>\n",
       "      <td>TXL</td>\n",
       "      <td>2013-02-02</td>\n",
       "      <td>D2</td>\n",
       "      <td>NaN</td>\n",
       "      <td>NaN</td>\n",
       "      <td>NaN</td>\n",
       "      <td>NaN</td>\n",
       "      <td>NaN</td>\n",
       "      <td>NaN</td>\n",
       "      <td>NaN</td>\n",
       "      <td>NaN</td>\n",
       "      <td>NaN</td>\n",
       "      <td>NaN</td>\n",
       "      <td>NaN</td>\n",
       "      <td>NaN</td>\n",
       "      <td>NaN</td>\n",
       "      <td>NaN</td>\n",
       "      <td>NaN</td>\n",
       "      <td>NaN</td>\n",
       "      <td>NaN</td>\n",
       "      <td>NaN</td>\n",
       "      <td>NaN</td>\n",
       "      <td>NaN</td>\n",
       "      <td>NaN</td>\n",
       "      <td>1ASIWS</td>\n",
       "      <td>0</td>\n",
       "      <td>0</td>\n",
       "      <td>0</td>\n",
       "      <td>d41d8cd98f00b204e9800998ecf8427e</td>\n",
       "      <td>FRA</td>\n",
       "    </tr>\n",
       "    <tr>\n",
       "      <th>1</th>\n",
       "      <td>2013-01-01</td>\n",
       "      <td>10:15:33</td>\n",
       "      <td>MPT</td>\n",
       "      <td>b0af35b31588dc4ab06d5cf2986e8e02</td>\n",
       "      <td>MD</td>\n",
       "      <td>ATH</td>\n",
       "      <td>MIL</td>\n",
       "      <td>0</td>\n",
       "      <td>1</td>\n",
       "      <td>ATH</td>\n",
       "      <td>MIL</td>\n",
       "      <td>2013-01-04</td>\n",
       "      <td>NaN</td>\n",
       "      <td>NaN</td>\n",
       "      <td>NaN</td>\n",
       "      <td>NaN</td>\n",
       "      <td>NaN</td>\n",
       "      <td>NaN</td>\n",
       "      <td>NaN</td>\n",
       "      <td>NaN</td>\n",
       "      <td>NaN</td>\n",
       "      <td>NaN</td>\n",
       "      <td>NaN</td>\n",
       "      <td>NaN</td>\n",
       "      <td>NaN</td>\n",
       "      <td>NaN</td>\n",
       "      <td>NaN</td>\n",
       "      <td>NaN</td>\n",
       "      <td>NaN</td>\n",
       "      <td>NaN</td>\n",
       "      <td>NaN</td>\n",
       "      <td>NaN</td>\n",
       "      <td>NaN</td>\n",
       "      <td>NaN</td>\n",
       "      <td>NaN</td>\n",
       "      <td>NaN</td>\n",
       "      <td>NaN</td>\n",
       "      <td>NaN</td>\n",
       "      <td>NaN</td>\n",
       "      <td>1ASIWS</td>\n",
       "      <td>0</td>\n",
       "      <td>0</td>\n",
       "      <td>0</td>\n",
       "      <td>d41d8cd98f00b204e9800998ecf8427e</td>\n",
       "      <td>KIV</td>\n",
       "    </tr>\n",
       "    <tr>\n",
       "      <th>2</th>\n",
       "      <td>2013-01-01</td>\n",
       "      <td>18:04:49</td>\n",
       "      <td>MPT</td>\n",
       "      <td>3561a60621de06ab1badc8ca55699ef3</td>\n",
       "      <td>US</td>\n",
       "      <td>ICT</td>\n",
       "      <td>SFO</td>\n",
       "      <td>1</td>\n",
       "      <td>2</td>\n",
       "      <td>ICT</td>\n",
       "      <td>SFO</td>\n",
       "      <td>2013-08-02</td>\n",
       "      <td>NaN</td>\n",
       "      <td>NaN</td>\n",
       "      <td>SFO</td>\n",
       "      <td>ICT</td>\n",
       "      <td>2013-08-09</td>\n",
       "      <td>NaN</td>\n",
       "      <td>NaN</td>\n",
       "      <td>NaN</td>\n",
       "      <td>NaN</td>\n",
       "      <td>NaN</td>\n",
       "      <td>NaN</td>\n",
       "      <td>NaN</td>\n",
       "      <td>NaN</td>\n",
       "      <td>NaN</td>\n",
       "      <td>NaN</td>\n",
       "      <td>NaN</td>\n",
       "      <td>NaN</td>\n",
       "      <td>NaN</td>\n",
       "      <td>NaN</td>\n",
       "      <td>NaN</td>\n",
       "      <td>NaN</td>\n",
       "      <td>NaN</td>\n",
       "      <td>NaN</td>\n",
       "      <td>NaN</td>\n",
       "      <td>NaN</td>\n",
       "      <td>NaN</td>\n",
       "      <td>NaN</td>\n",
       "      <td>1ASIWS</td>\n",
       "      <td>0</td>\n",
       "      <td>0</td>\n",
       "      <td>0</td>\n",
       "      <td>d41d8cd98f00b204e9800998ecf8427e</td>\n",
       "      <td>NYC</td>\n",
       "    </tr>\n",
       "    <tr>\n",
       "      <th>3</th>\n",
       "      <td>2013-01-01</td>\n",
       "      <td>17:42:40</td>\n",
       "      <td>FXP</td>\n",
       "      <td>1864e5e8013d9414150e91d26b6a558b</td>\n",
       "      <td>SE</td>\n",
       "      <td>RNB</td>\n",
       "      <td>ARN</td>\n",
       "      <td>0</td>\n",
       "      <td>1</td>\n",
       "      <td>RNB</td>\n",
       "      <td>ARN</td>\n",
       "      <td>2013-01-02</td>\n",
       "      <td>DU</td>\n",
       "      <td>W</td>\n",
       "      <td>NaN</td>\n",
       "      <td>NaN</td>\n",
       "      <td>NaN</td>\n",
       "      <td>NaN</td>\n",
       "      <td>NaN</td>\n",
       "      <td>NaN</td>\n",
       "      <td>NaN</td>\n",
       "      <td>NaN</td>\n",
       "      <td>NaN</td>\n",
       "      <td>NaN</td>\n",
       "      <td>NaN</td>\n",
       "      <td>NaN</td>\n",
       "      <td>NaN</td>\n",
       "      <td>NaN</td>\n",
       "      <td>NaN</td>\n",
       "      <td>NaN</td>\n",
       "      <td>NaN</td>\n",
       "      <td>NaN</td>\n",
       "      <td>NaN</td>\n",
       "      <td>NaN</td>\n",
       "      <td>NaN</td>\n",
       "      <td>NaN</td>\n",
       "      <td>NaN</td>\n",
       "      <td>NaN</td>\n",
       "      <td>NaN</td>\n",
       "      <td>1ASI</td>\n",
       "      <td>0</td>\n",
       "      <td>0</td>\n",
       "      <td>0</td>\n",
       "      <td>d41d8cd98f00b204e9800998ecf8427e</td>\n",
       "      <td>STO</td>\n",
       "    </tr>\n",
       "    <tr>\n",
       "      <th>4</th>\n",
       "      <td>2013-01-01</td>\n",
       "      <td>17:48:29</td>\n",
       "      <td>MPT</td>\n",
       "      <td>1ec336348f44207d2e0027dc3a68c118</td>\n",
       "      <td>NO</td>\n",
       "      <td>OSL</td>\n",
       "      <td>MAD</td>\n",
       "      <td>1</td>\n",
       "      <td>2</td>\n",
       "      <td>OSL</td>\n",
       "      <td>MAD</td>\n",
       "      <td>2013-03-22</td>\n",
       "      <td>NaN</td>\n",
       "      <td>NaN</td>\n",
       "      <td>MAD</td>\n",
       "      <td>OSL</td>\n",
       "      <td>2013-03-31</td>\n",
       "      <td>NaN</td>\n",
       "      <td>NaN</td>\n",
       "      <td>NaN</td>\n",
       "      <td>NaN</td>\n",
       "      <td>NaN</td>\n",
       "      <td>NaN</td>\n",
       "      <td>NaN</td>\n",
       "      <td>NaN</td>\n",
       "      <td>NaN</td>\n",
       "      <td>NaN</td>\n",
       "      <td>NaN</td>\n",
       "      <td>NaN</td>\n",
       "      <td>NaN</td>\n",
       "      <td>NaN</td>\n",
       "      <td>NaN</td>\n",
       "      <td>NaN</td>\n",
       "      <td>NaN</td>\n",
       "      <td>NaN</td>\n",
       "      <td>NaN</td>\n",
       "      <td>NaN</td>\n",
       "      <td>NaN</td>\n",
       "      <td>NaN</td>\n",
       "      <td>1ASIWS</td>\n",
       "      <td>0</td>\n",
       "      <td>0</td>\n",
       "      <td>0</td>\n",
       "      <td>d41d8cd98f00b204e9800998ecf8427e</td>\n",
       "      <td>OSL</td>\n",
       "    </tr>\n",
       "  </tbody>\n",
       "</table>\n",
       "</div>"
      ],
      "text/plain": [
       "         Date      Time TxnCode                          OfficeID Country  \\\n",
       "0  2013-01-01  20:25:57     MPT  624d8c3ac0b3a7ca03e3c167e0f48327      DE   \n",
       "1  2013-01-01  10:15:33     MPT  b0af35b31588dc4ab06d5cf2986e8e02      MD   \n",
       "2  2013-01-01  18:04:49     MPT  3561a60621de06ab1badc8ca55699ef3      US   \n",
       "3  2013-01-01  17:42:40     FXP  1864e5e8013d9414150e91d26b6a558b      SE   \n",
       "4  2013-01-01  17:48:29     MPT  1ec336348f44207d2e0027dc3a68c118      NO   \n",
       "\n",
       "  Origin Destination  RoundTrip  NbSegments Seg1Departure Seg1Arrival  \\\n",
       "0    TXL         AUH          1           2           TXL         AUH   \n",
       "1    ATH         MIL          0           1           ATH         MIL   \n",
       "2    ICT         SFO          1           2           ICT         SFO   \n",
       "3    RNB         ARN          0           1           RNB         ARN   \n",
       "4    OSL         MAD          1           2           OSL         MAD   \n",
       "\n",
       "     Seg1Date Seg1Carrier Seg1BookingCode Seg2Departure Seg2Arrival  \\\n",
       "0  2013-01-26          D2             NaN           AUH         TXL   \n",
       "1  2013-01-04         NaN             NaN           NaN         NaN   \n",
       "2  2013-08-02         NaN             NaN           SFO         ICT   \n",
       "3  2013-01-02          DU               W           NaN         NaN   \n",
       "4  2013-03-22         NaN             NaN           MAD         OSL   \n",
       "\n",
       "     Seg2Date Seg2Carrier Seg2BookingCode Seg3Departure Seg3Arrival Seg3Date  \\\n",
       "0  2013-02-02          D2             NaN           NaN         NaN      NaN   \n",
       "1         NaN         NaN             NaN           NaN         NaN      NaN   \n",
       "2  2013-08-09         NaN             NaN           NaN         NaN      NaN   \n",
       "3         NaN         NaN             NaN           NaN         NaN      NaN   \n",
       "4  2013-03-31         NaN             NaN           NaN         NaN      NaN   \n",
       "\n",
       "  Seg3Carrier Seg3BookingCode Seg4Departure Seg4Arrival Seg4Date Seg4Carrier  \\\n",
       "0         NaN             NaN           NaN         NaN      NaN         NaN   \n",
       "1         NaN             NaN           NaN         NaN      NaN         NaN   \n",
       "2         NaN             NaN           NaN         NaN      NaN         NaN   \n",
       "3         NaN             NaN           NaN         NaN      NaN         NaN   \n",
       "4         NaN             NaN           NaN         NaN      NaN         NaN   \n",
       "\n",
       "  Seg4BookingCode Seg5Departure Seg5Arrival Seg5Date Seg5Carrier  \\\n",
       "0             NaN           NaN         NaN      NaN         NaN   \n",
       "1             NaN           NaN         NaN      NaN         NaN   \n",
       "2             NaN           NaN         NaN      NaN         NaN   \n",
       "3             NaN           NaN         NaN      NaN         NaN   \n",
       "4             NaN           NaN         NaN      NaN         NaN   \n",
       "\n",
       "  Seg5BookingCode Seg6Departure Seg6Arrival Seg6Date Seg6Carrier  \\\n",
       "0             NaN           NaN         NaN      NaN         NaN   \n",
       "1             NaN           NaN         NaN      NaN         NaN   \n",
       "2             NaN           NaN         NaN      NaN         NaN   \n",
       "3             NaN           NaN         NaN      NaN         NaN   \n",
       "4             NaN           NaN         NaN      NaN         NaN   \n",
       "\n",
       "  Seg6BookingCode    From  IsPublishedForNeg  IsFromInternet  IsFromVista  \\\n",
       "0             NaN  1ASIWS                  0               0            0   \n",
       "1             NaN  1ASIWS                  0               0            0   \n",
       "2             NaN  1ASIWS                  0               0            0   \n",
       "3             NaN    1ASI                  0               0            0   \n",
       "4             NaN  1ASIWS                  0               0            0   \n",
       "\n",
       "                         TerminalID InternetOffice  \n",
       "0  d41d8cd98f00b204e9800998ecf8427e            FRA  \n",
       "1  d41d8cd98f00b204e9800998ecf8427e            KIV  \n",
       "2  d41d8cd98f00b204e9800998ecf8427e            NYC  \n",
       "3  d41d8cd98f00b204e9800998ecf8427e            STO  \n",
       "4  d41d8cd98f00b204e9800998ecf8427e            OSL  "
      ]
     },
     "execution_count": 23,
     "metadata": {},
     "output_type": "execute_result"
    }
   ],
   "source": [
    "searches_samples.head()"
   ]
  },
  {
   "cell_type": "code",
   "execution_count": 37,
   "metadata": {
    "collapsed": false
   },
   "outputs": [],
   "source": [
    "s = pd.read_csv('~/Data/challenge/searches.csv', sep='^',usecols=['Date','Destination'],nrows=1000)"
   ]
  },
  {
   "cell_type": "code",
   "execution_count": 9,
   "metadata": {
    "collapsed": true
   },
   "outputs": [],
   "source": [
    "pd.set_option('display.max_columns',None)"
   ]
  },
  {
   "cell_type": "code",
   "execution_count": 17,
   "metadata": {
    "collapsed": false
   },
   "outputs": [
    {
     "data": {
      "text/html": [
       "<div>\n",
       "<table border=\"1\" class=\"dataframe\">\n",
       "  <thead>\n",
       "    <tr style=\"text-align: right;\">\n",
       "      <th></th>\n",
       "      <th>Date</th>\n",
       "      <th>Destination</th>\n",
       "    </tr>\n",
       "  </thead>\n",
       "  <tbody>\n",
       "    <tr>\n",
       "      <th>0</th>\n",
       "      <td>2013-01-01</td>\n",
       "      <td>AUH</td>\n",
       "    </tr>\n",
       "    <tr>\n",
       "      <th>1</th>\n",
       "      <td>2013-01-01</td>\n",
       "      <td>MIL</td>\n",
       "    </tr>\n",
       "    <tr>\n",
       "      <th>2</th>\n",
       "      <td>2013-01-01</td>\n",
       "      <td>SFO</td>\n",
       "    </tr>\n",
       "    <tr>\n",
       "      <th>3</th>\n",
       "      <td>2013-01-01</td>\n",
       "      <td>ARN</td>\n",
       "    </tr>\n",
       "    <tr>\n",
       "      <th>4</th>\n",
       "      <td>2013-01-01</td>\n",
       "      <td>MAD</td>\n",
       "    </tr>\n",
       "  </tbody>\n",
       "</table>\n",
       "</div>"
      ],
      "text/plain": [
       "         Date Destination\n",
       "0  2013-01-01         AUH\n",
       "1  2013-01-01         MIL\n",
       "2  2013-01-01         SFO\n",
       "3  2013-01-01         ARN\n",
       "4  2013-01-01         MAD"
      ]
     },
     "execution_count": 17,
     "metadata": {},
     "output_type": "execute_result"
    }
   ],
   "source": [
    "s.head()"
   ]
  },
  {
   "cell_type": "markdown",
   "metadata": {},
   "source": [
    "### What to do with NaN?"
   ]
  },
  {
   "cell_type": "code",
   "execution_count": 38,
   "metadata": {
    "collapsed": true
   },
   "outputs": [],
   "source": [
    "s = s.dropna()"
   ]
  },
  {
   "cell_type": "code",
   "execution_count": 19,
   "metadata": {
    "collapsed": false
   },
   "outputs": [
    {
     "data": {
      "text/plain": [
       "Date           object\n",
       "Destination    object\n",
       "dtype: object"
      ]
     },
     "execution_count": 19,
     "metadata": {},
     "output_type": "execute_result"
    }
   ],
   "source": [
    "s.dtypes"
   ]
  },
  {
   "cell_type": "markdown",
   "metadata": {},
   "source": [
    "##  Making a plan for the sample"
   ]
  },
  {
   "cell_type": "markdown",
   "metadata": {},
   "source": [
    "1) get iata_codes of the cities\n",
    "2) filter using iata_codes\n",
    "3) get months out of date\n",
    "4) group by (airport,month)\n",
    "5) sum\n",
    "6) plot"
   ]
  },
  {
   "cell_type": "markdown",
   "metadata": {},
   "source": [
    "iata codes: [MAD, BCN, AGP]"
   ]
  },
  {
   "cell_type": "code",
   "execution_count": 25,
   "metadata": {
    "collapsed": false
   },
   "outputs": [
    {
     "name": "stderr",
     "output_type": "stream",
     "text": [
      "/home/dsc/anaconda2/lib/python2.7/site-packages/IPython/core/interactiveshell.py:2717: DtypeWarning: Columns (27) have mixed types. Specify dtype option on import or set low_memory=False.\n",
      "  interactivity=interactivity, compiler=compiler, result=result)\n"
     ]
    }
   ],
   "source": [
    "optd_public = pd.read_csv('/home/dsc/Data/opentraveldata/optd_por_public.csv', sep='^')"
   ]
  },
  {
   "cell_type": "code",
   "execution_count": 26,
   "metadata": {
    "collapsed": false
   },
   "outputs": [
    {
     "data": {
      "text/html": [
       "<div>\n",
       "<table border=\"1\" class=\"dataframe\">\n",
       "  <thead>\n",
       "    <tr style=\"text-align: right;\">\n",
       "      <th></th>\n",
       "      <th>iata_code</th>\n",
       "      <th>icao_code</th>\n",
       "      <th>faa_code</th>\n",
       "      <th>is_geonames</th>\n",
       "      <th>geoname_id</th>\n",
       "      <th>envelope_id</th>\n",
       "      <th>name</th>\n",
       "      <th>asciiname</th>\n",
       "      <th>latitude</th>\n",
       "      <th>longitude</th>\n",
       "      <th>fclass</th>\n",
       "      <th>fcode</th>\n",
       "      <th>page_rank</th>\n",
       "      <th>date_from</th>\n",
       "      <th>date_until</th>\n",
       "      <th>comment</th>\n",
       "      <th>country_code</th>\n",
       "      <th>cc2</th>\n",
       "      <th>country_name</th>\n",
       "      <th>continent_name</th>\n",
       "      <th>adm1_code</th>\n",
       "      <th>adm1_name_utf</th>\n",
       "      <th>adm1_name_ascii</th>\n",
       "      <th>adm2_code</th>\n",
       "      <th>adm2_name_utf</th>\n",
       "      <th>adm2_name_ascii</th>\n",
       "      <th>adm3_code</th>\n",
       "      <th>adm4_code</th>\n",
       "      <th>population</th>\n",
       "      <th>elevation</th>\n",
       "      <th>gtopo30</th>\n",
       "      <th>timezone</th>\n",
       "      <th>gmt_offset</th>\n",
       "      <th>dst_offset</th>\n",
       "      <th>raw_offset</th>\n",
       "      <th>moddate</th>\n",
       "      <th>city_code_list</th>\n",
       "      <th>city_name_list</th>\n",
       "      <th>city_detail_list</th>\n",
       "      <th>tvl_por_list</th>\n",
       "      <th>state_code</th>\n",
       "      <th>location_type</th>\n",
       "      <th>wiki_link</th>\n",
       "      <th>alt_name_section</th>\n",
       "      <th>wac</th>\n",
       "      <th>wac_name</th>\n",
       "    </tr>\n",
       "  </thead>\n",
       "  <tbody>\n",
       "    <tr>\n",
       "      <th>0</th>\n",
       "      <td>AAA</td>\n",
       "      <td>NTGA</td>\n",
       "      <td>NaN</td>\n",
       "      <td>Y</td>\n",
       "      <td>6947726</td>\n",
       "      <td>NaN</td>\n",
       "      <td>Anaa Airport</td>\n",
       "      <td>Anaa Airport</td>\n",
       "      <td>-17.352606</td>\n",
       "      <td>-145.509956</td>\n",
       "      <td>S</td>\n",
       "      <td>AIRP</td>\n",
       "      <td>NaN</td>\n",
       "      <td>NaN</td>\n",
       "      <td>NaN</td>\n",
       "      <td>NaN</td>\n",
       "      <td>PF</td>\n",
       "      <td>NaN</td>\n",
       "      <td>French Polynesia</td>\n",
       "      <td>Oceania</td>\n",
       "      <td>NaN</td>\n",
       "      <td>NaN</td>\n",
       "      <td>NaN</td>\n",
       "      <td>NaN</td>\n",
       "      <td>NaN</td>\n",
       "      <td>NaN</td>\n",
       "      <td>NaN</td>\n",
       "      <td>NaN</td>\n",
       "      <td>0.0</td>\n",
       "      <td>NaN</td>\n",
       "      <td>8.0</td>\n",
       "      <td>Pacific/Tahiti</td>\n",
       "      <td>-10.0</td>\n",
       "      <td>-10.0</td>\n",
       "      <td>-10.0</td>\n",
       "      <td>2012-04-29</td>\n",
       "      <td>AAA</td>\n",
       "      <td>Anaa</td>\n",
       "      <td>AAA|4034700|Anaa|Anaa</td>\n",
       "      <td>NaN</td>\n",
       "      <td>NaN</td>\n",
       "      <td>A</td>\n",
       "      <td>http://en.wikipedia.org/wiki/Anaa_Airport</td>\n",
       "      <td>ru|Анаа|</td>\n",
       "      <td>823.0</td>\n",
       "      <td>French Polynesia</td>\n",
       "    </tr>\n",
       "    <tr>\n",
       "      <th>1</th>\n",
       "      <td>AAA</td>\n",
       "      <td>NaN</td>\n",
       "      <td>NaN</td>\n",
       "      <td>Y</td>\n",
       "      <td>4034700</td>\n",
       "      <td>NaN</td>\n",
       "      <td>Anaa</td>\n",
       "      <td>Anaa</td>\n",
       "      <td>-17.416670</td>\n",
       "      <td>-145.500000</td>\n",
       "      <td>T</td>\n",
       "      <td>ATOL</td>\n",
       "      <td>NaN</td>\n",
       "      <td>NaN</td>\n",
       "      <td>NaN</td>\n",
       "      <td>NaN</td>\n",
       "      <td>PF</td>\n",
       "      <td>NaN</td>\n",
       "      <td>French Polynesia</td>\n",
       "      <td>Oceania</td>\n",
       "      <td>00</td>\n",
       "      <td>NaN</td>\n",
       "      <td>NaN</td>\n",
       "      <td>NaN</td>\n",
       "      <td>NaN</td>\n",
       "      <td>NaN</td>\n",
       "      <td>NaN</td>\n",
       "      <td>NaN</td>\n",
       "      <td>0.0</td>\n",
       "      <td>NaN</td>\n",
       "      <td>-9999.0</td>\n",
       "      <td>Pacific/Tahiti</td>\n",
       "      <td>-10.0</td>\n",
       "      <td>-10.0</td>\n",
       "      <td>-10.0</td>\n",
       "      <td>2013-05-12</td>\n",
       "      <td>AAA</td>\n",
       "      <td>Anaa</td>\n",
       "      <td>AAA|4034700|Anaa|Anaa</td>\n",
       "      <td>AAA</td>\n",
       "      <td>NaN</td>\n",
       "      <td>C</td>\n",
       "      <td>http://en.wikipedia.org/wiki/Anaa</td>\n",
       "      <td>|Anaa|=es|Isla de Todos Santos|=|Anau|=|Tapuho...</td>\n",
       "      <td>823.0</td>\n",
       "      <td>French Polynesia</td>\n",
       "    </tr>\n",
       "    <tr>\n",
       "      <th>2</th>\n",
       "      <td>AAB</td>\n",
       "      <td>YARY</td>\n",
       "      <td>NaN</td>\n",
       "      <td>Y</td>\n",
       "      <td>7730796</td>\n",
       "      <td>NaN</td>\n",
       "      <td>Arrabury Airport</td>\n",
       "      <td>Arrabury Airport</td>\n",
       "      <td>-26.750000</td>\n",
       "      <td>141.000000</td>\n",
       "      <td>S</td>\n",
       "      <td>AIRP</td>\n",
       "      <td>NaN</td>\n",
       "      <td>NaN</td>\n",
       "      <td>NaN</td>\n",
       "      <td>NaN</td>\n",
       "      <td>AU</td>\n",
       "      <td>NaN</td>\n",
       "      <td>Australia</td>\n",
       "      <td>Oceania</td>\n",
       "      <td>04</td>\n",
       "      <td>Queensland</td>\n",
       "      <td>Queensland</td>\n",
       "      <td>30450</td>\n",
       "      <td>Barcoo</td>\n",
       "      <td>Barcoo</td>\n",
       "      <td>NaN</td>\n",
       "      <td>NaN</td>\n",
       "      <td>0.0</td>\n",
       "      <td>NaN</td>\n",
       "      <td>108.0</td>\n",
       "      <td>Australia/Brisbane</td>\n",
       "      <td>10.0</td>\n",
       "      <td>10.0</td>\n",
       "      <td>10.0</td>\n",
       "      <td>2012-05-12</td>\n",
       "      <td>AAB</td>\n",
       "      <td>Arrabury Airport</td>\n",
       "      <td>AAB|7730796|Arrabury Airport|Arrabury Airport</td>\n",
       "      <td>AAB</td>\n",
       "      <td>QL</td>\n",
       "      <td>CA</td>\n",
       "      <td>http://en.wikipedia.org/wiki/Arrabury_Airport</td>\n",
       "      <td>NaN</td>\n",
       "      <td>802.0</td>\n",
       "      <td>Australia</td>\n",
       "    </tr>\n",
       "    <tr>\n",
       "      <th>3</th>\n",
       "      <td>AAC</td>\n",
       "      <td>HEAR</td>\n",
       "      <td>NaN</td>\n",
       "      <td>Y</td>\n",
       "      <td>6297289</td>\n",
       "      <td>NaN</td>\n",
       "      <td>El Arish International Airport</td>\n",
       "      <td>El Arish International Airport</td>\n",
       "      <td>31.073330</td>\n",
       "      <td>33.835830</td>\n",
       "      <td>S</td>\n",
       "      <td>AIRP</td>\n",
       "      <td>NaN</td>\n",
       "      <td>NaN</td>\n",
       "      <td>NaN</td>\n",
       "      <td>NaN</td>\n",
       "      <td>EG</td>\n",
       "      <td>NaN</td>\n",
       "      <td>Egypt</td>\n",
       "      <td>Africa</td>\n",
       "      <td>NaN</td>\n",
       "      <td>NaN</td>\n",
       "      <td>NaN</td>\n",
       "      <td>NaN</td>\n",
       "      <td>NaN</td>\n",
       "      <td>NaN</td>\n",
       "      <td>NaN</td>\n",
       "      <td>NaN</td>\n",
       "      <td>0.0</td>\n",
       "      <td>36.0</td>\n",
       "      <td>36.0</td>\n",
       "      <td>Africa/Cairo</td>\n",
       "      <td>2.0</td>\n",
       "      <td>2.0</td>\n",
       "      <td>2.0</td>\n",
       "      <td>2013-05-12</td>\n",
       "      <td>AAC</td>\n",
       "      <td>Arish</td>\n",
       "      <td>AAC|361546|Arish|Arish</td>\n",
       "      <td>NaN</td>\n",
       "      <td>NaN</td>\n",
       "      <td>A</td>\n",
       "      <td>http://en.wikipedia.org/wiki/El_Arish_Internat...</td>\n",
       "      <td>ar|مطار العريش الدولي|=en|El Arish Internation...</td>\n",
       "      <td>591.0</td>\n",
       "      <td>Egypt</td>\n",
       "    </tr>\n",
       "    <tr>\n",
       "      <th>4</th>\n",
       "      <td>AAC</td>\n",
       "      <td>NaN</td>\n",
       "      <td>NaN</td>\n",
       "      <td>Y</td>\n",
       "      <td>361546</td>\n",
       "      <td>NaN</td>\n",
       "      <td>Arish</td>\n",
       "      <td>Arish</td>\n",
       "      <td>31.131590</td>\n",
       "      <td>33.798440</td>\n",
       "      <td>P</td>\n",
       "      <td>PPLA</td>\n",
       "      <td>NaN</td>\n",
       "      <td>NaN</td>\n",
       "      <td>NaN</td>\n",
       "      <td>NaN</td>\n",
       "      <td>EG</td>\n",
       "      <td>NaN</td>\n",
       "      <td>Egypt</td>\n",
       "      <td>Africa</td>\n",
       "      <td>27</td>\n",
       "      <td>Shamāl Sīnāʼ</td>\n",
       "      <td>Muhafazat Shamal Sina'</td>\n",
       "      <td>NaN</td>\n",
       "      <td>NaN</td>\n",
       "      <td>NaN</td>\n",
       "      <td>NaN</td>\n",
       "      <td>NaN</td>\n",
       "      <td>128855.0</td>\n",
       "      <td>NaN</td>\n",
       "      <td>15.0</td>\n",
       "      <td>Africa/Cairo</td>\n",
       "      <td>2.0</td>\n",
       "      <td>2.0</td>\n",
       "      <td>2.0</td>\n",
       "      <td>2014-05-28</td>\n",
       "      <td>AAC</td>\n",
       "      <td>Arish</td>\n",
       "      <td>AAC|361546|Arish|Arish</td>\n",
       "      <td>AAC</td>\n",
       "      <td>NaN</td>\n",
       "      <td>C</td>\n",
       "      <td>http://en.wikipedia.org/wiki/Arish</td>\n",
       "      <td>|Rhinocolura|=en|City of Cut Noses|h=|Rhinocol...</td>\n",
       "      <td>591.0</td>\n",
       "      <td>Egypt</td>\n",
       "    </tr>\n",
       "  </tbody>\n",
       "</table>\n",
       "</div>"
      ],
      "text/plain": [
       "  iata_code icao_code faa_code is_geonames  geoname_id  envelope_id  \\\n",
       "0       AAA      NTGA      NaN           Y     6947726          NaN   \n",
       "1       AAA       NaN      NaN           Y     4034700          NaN   \n",
       "2       AAB      YARY      NaN           Y     7730796          NaN   \n",
       "3       AAC      HEAR      NaN           Y     6297289          NaN   \n",
       "4       AAC       NaN      NaN           Y      361546          NaN   \n",
       "\n",
       "                             name                       asciiname   latitude  \\\n",
       "0                    Anaa Airport                    Anaa Airport -17.352606   \n",
       "1                            Anaa                            Anaa -17.416670   \n",
       "2                Arrabury Airport                Arrabury Airport -26.750000   \n",
       "3  El Arish International Airport  El Arish International Airport  31.073330   \n",
       "4                           Arish                           Arish  31.131590   \n",
       "\n",
       "    longitude fclass fcode  page_rank date_from date_until comment  \\\n",
       "0 -145.509956      S  AIRP        NaN       NaN        NaN     NaN   \n",
       "1 -145.500000      T  ATOL        NaN       NaN        NaN     NaN   \n",
       "2  141.000000      S  AIRP        NaN       NaN        NaN     NaN   \n",
       "3   33.835830      S  AIRP        NaN       NaN        NaN     NaN   \n",
       "4   33.798440      P  PPLA        NaN       NaN        NaN     NaN   \n",
       "\n",
       "  country_code  cc2      country_name continent_name adm1_code adm1_name_utf  \\\n",
       "0           PF  NaN  French Polynesia        Oceania       NaN           NaN   \n",
       "1           PF  NaN  French Polynesia        Oceania        00           NaN   \n",
       "2           AU  NaN         Australia        Oceania        04    Queensland   \n",
       "3           EG  NaN             Egypt         Africa       NaN           NaN   \n",
       "4           EG  NaN             Egypt         Africa        27  Shamāl Sīnāʼ   \n",
       "\n",
       "          adm1_name_ascii adm2_code adm2_name_utf adm2_name_ascii adm3_code  \\\n",
       "0                     NaN       NaN           NaN             NaN       NaN   \n",
       "1                     NaN       NaN           NaN             NaN       NaN   \n",
       "2              Queensland     30450        Barcoo          Barcoo       NaN   \n",
       "3                     NaN       NaN           NaN             NaN       NaN   \n",
       "4  Muhafazat Shamal Sina'       NaN           NaN             NaN       NaN   \n",
       "\n",
       "  adm4_code  population  elevation  gtopo30            timezone  gmt_offset  \\\n",
       "0       NaN         0.0        NaN      8.0      Pacific/Tahiti       -10.0   \n",
       "1       NaN         0.0        NaN  -9999.0      Pacific/Tahiti       -10.0   \n",
       "2       NaN         0.0        NaN    108.0  Australia/Brisbane        10.0   \n",
       "3       NaN         0.0       36.0     36.0        Africa/Cairo         2.0   \n",
       "4       NaN    128855.0        NaN     15.0        Africa/Cairo         2.0   \n",
       "\n",
       "   dst_offset  raw_offset     moddate city_code_list    city_name_list  \\\n",
       "0       -10.0       -10.0  2012-04-29            AAA              Anaa   \n",
       "1       -10.0       -10.0  2013-05-12            AAA              Anaa   \n",
       "2        10.0        10.0  2012-05-12            AAB  Arrabury Airport   \n",
       "3         2.0         2.0  2013-05-12            AAC             Arish   \n",
       "4         2.0         2.0  2014-05-28            AAC             Arish   \n",
       "\n",
       "                                city_detail_list tvl_por_list state_code  \\\n",
       "0                          AAA|4034700|Anaa|Anaa          NaN        NaN   \n",
       "1                          AAA|4034700|Anaa|Anaa          AAA        NaN   \n",
       "2  AAB|7730796|Arrabury Airport|Arrabury Airport          AAB         QL   \n",
       "3                         AAC|361546|Arish|Arish          NaN        NaN   \n",
       "4                         AAC|361546|Arish|Arish          AAC        NaN   \n",
       "\n",
       "  location_type                                          wiki_link  \\\n",
       "0             A          http://en.wikipedia.org/wiki/Anaa_Airport   \n",
       "1             C                  http://en.wikipedia.org/wiki/Anaa   \n",
       "2            CA      http://en.wikipedia.org/wiki/Arrabury_Airport   \n",
       "3             A  http://en.wikipedia.org/wiki/El_Arish_Internat...   \n",
       "4             C                 http://en.wikipedia.org/wiki/Arish   \n",
       "\n",
       "                                    alt_name_section    wac          wac_name  \n",
       "0                                           ru|Анаа|  823.0  French Polynesia  \n",
       "1  |Anaa|=es|Isla de Todos Santos|=|Anau|=|Tapuho...  823.0  French Polynesia  \n",
       "2                                                NaN  802.0         Australia  \n",
       "3  ar|مطار العريش الدولي|=en|El Arish Internation...  591.0             Egypt  \n",
       "4  |Rhinocolura|=en|City of Cut Noses|h=|Rhinocol...  591.0             Egypt  "
      ]
     },
     "execution_count": 26,
     "metadata": {},
     "output_type": "execute_result"
    }
   ],
   "source": [
    "optd_public.head()"
   ]
  },
  {
   "cell_type": "code",
   "execution_count": 11,
   "metadata": {
    "collapsed": true
   },
   "outputs": [],
   "source": [
    "path1='/home/dsc/Data/challenge/bookings.csv.bz2'\n",
    "path2='/home/dsc/Data/challenge/searches.csv'\n"
   ]
  },
  {
   "cell_type": "markdown",
   "metadata": {},
   "source": [
    "iata codes: [MAD, BCN, AGP]"
   ]
  },
  {
   "cell_type": "markdown",
   "metadata": {},
   "source": [
    "### Adding columns with 'YYYY-MM' info\n"
   ]
  },
  {
   "cell_type": "code",
   "execution_count": 27,
   "metadata": {
    "collapsed": true
   },
   "outputs": [],
   "source": [
    "sfilter=s[(s['Destination']=='MAD') | (s['Destination']=='BCN') | (s['Destination']=='AGP')]"
   ]
  },
  {
   "cell_type": "code",
   "execution_count": 39,
   "metadata": {
    "collapsed": false
   },
   "outputs": [],
   "source": [
    "s['Year-Month']=s['Date'].str[0:7]"
   ]
  },
  {
   "cell_type": "code",
   "execution_count": 40,
   "metadata": {
    "collapsed": false
   },
   "outputs": [
    {
     "data": {
      "text/html": [
       "<div>\n",
       "<table border=\"1\" class=\"dataframe\">\n",
       "  <thead>\n",
       "    <tr style=\"text-align: right;\">\n",
       "      <th></th>\n",
       "      <th>Date</th>\n",
       "      <th>Destination</th>\n",
       "      <th>Year-Month</th>\n",
       "    </tr>\n",
       "  </thead>\n",
       "  <tbody>\n",
       "    <tr>\n",
       "      <th>0</th>\n",
       "      <td>2013-01-01</td>\n",
       "      <td>AUH</td>\n",
       "      <td>2013-01</td>\n",
       "    </tr>\n",
       "    <tr>\n",
       "      <th>1</th>\n",
       "      <td>2013-01-01</td>\n",
       "      <td>MIL</td>\n",
       "      <td>2013-01</td>\n",
       "    </tr>\n",
       "    <tr>\n",
       "      <th>2</th>\n",
       "      <td>2013-01-01</td>\n",
       "      <td>SFO</td>\n",
       "      <td>2013-01</td>\n",
       "    </tr>\n",
       "    <tr>\n",
       "      <th>3</th>\n",
       "      <td>2013-01-01</td>\n",
       "      <td>ARN</td>\n",
       "      <td>2013-01</td>\n",
       "    </tr>\n",
       "    <tr>\n",
       "      <th>4</th>\n",
       "      <td>2013-01-01</td>\n",
       "      <td>MAD</td>\n",
       "      <td>2013-01</td>\n",
       "    </tr>\n",
       "  </tbody>\n",
       "</table>\n",
       "</div>"
      ],
      "text/plain": [
       "         Date Destination Year-Month\n",
       "0  2013-01-01         AUH    2013-01\n",
       "1  2013-01-01         MIL    2013-01\n",
       "2  2013-01-01         SFO    2013-01\n",
       "3  2013-01-01         ARN    2013-01\n",
       "4  2013-01-01         MAD    2013-01"
      ]
     },
     "execution_count": 40,
     "metadata": {},
     "output_type": "execute_result"
    }
   ],
   "source": [
    "s.head()"
   ]
  },
  {
   "cell_type": "code",
   "execution_count": 41,
   "metadata": {
    "collapsed": true
   },
   "outputs": [],
   "source": [
    "s.drop('Date', axis=1, inplace=True)"
   ]
  },
  {
   "cell_type": "code",
   "execution_count": 42,
   "metadata": {
    "collapsed": false
   },
   "outputs": [
    {
     "data": {
      "text/html": [
       "<div>\n",
       "<table border=\"1\" class=\"dataframe\">\n",
       "  <thead>\n",
       "    <tr style=\"text-align: right;\">\n",
       "      <th></th>\n",
       "      <th>Destination</th>\n",
       "      <th>Year-Month</th>\n",
       "    </tr>\n",
       "  </thead>\n",
       "  <tbody>\n",
       "    <tr>\n",
       "      <th>0</th>\n",
       "      <td>AUH</td>\n",
       "      <td>2013-01</td>\n",
       "    </tr>\n",
       "    <tr>\n",
       "      <th>1</th>\n",
       "      <td>MIL</td>\n",
       "      <td>2013-01</td>\n",
       "    </tr>\n",
       "    <tr>\n",
       "      <th>2</th>\n",
       "      <td>SFO</td>\n",
       "      <td>2013-01</td>\n",
       "    </tr>\n",
       "    <tr>\n",
       "      <th>3</th>\n",
       "      <td>ARN</td>\n",
       "      <td>2013-01</td>\n",
       "    </tr>\n",
       "    <tr>\n",
       "      <th>4</th>\n",
       "      <td>MAD</td>\n",
       "      <td>2013-01</td>\n",
       "    </tr>\n",
       "  </tbody>\n",
       "</table>\n",
       "</div>"
      ],
      "text/plain": [
       "  Destination Year-Month\n",
       "0         AUH    2013-01\n",
       "1         MIL    2013-01\n",
       "2         SFO    2013-01\n",
       "3         ARN    2013-01\n",
       "4         MAD    2013-01"
      ]
     },
     "execution_count": 42,
     "metadata": {},
     "output_type": "execute_result"
    }
   ],
   "source": [
    "s.head()"
   ]
  },
  {
   "cell_type": "markdown",
   "metadata": {},
   "source": [
    "## Group by arr_port and month "
   ]
  },
  {
   "cell_type": "code",
   "execution_count": 71,
   "metadata": {
    "collapsed": false,
    "scrolled": true
   },
   "outputs": [
    {
     "data": {
      "text/plain": [
       "<matplotlib.axes._subplots.AxesSubplot at 0x7fb86e958210>"
      ]
     },
     "execution_count": 71,
     "metadata": {},
     "output_type": "execute_result"
    },
    {
     "data": {
      "image/png": "[encoded data removed]",
      "text/plain": [
       "<matplotlib.figure.Figure at 0x7fb86e8b6710>"
      ]
     },
     "metadata": {},
     "output_type": "display_data"
    }
   ],
   "source": [
    "\n",
    "sFilter_gr=sFilter.reset_index().groupby(['Year-Month', 'Destination']).count().reset_index()\n",
    "sFilter_gr.rename(columns={'index':'Num Searches'}, inplace=True)\n"
   ]
  },
  {
   "cell_type": "code",
   "execution_count": 64,
   "metadata": {
    "collapsed": false
   },
   "outputs": [
    {
     "data": {
      "text/html": [
       "<div>\n",
       "<table border=\"1\" class=\"dataframe\">\n",
       "  <thead>\n",
       "    <tr style=\"text-align: right;\">\n",
       "      <th></th>\n",
       "      <th>Year-Month</th>\n",
       "      <th>Destination</th>\n",
       "      <th>index</th>\n",
       "    </tr>\n",
       "  </thead>\n",
       "  <tbody>\n",
       "    <tr>\n",
       "      <th>0</th>\n",
       "      <td>2013-01</td>\n",
       "      <td>AGP</td>\n",
       "      <td>7</td>\n",
       "    </tr>\n",
       "    <tr>\n",
       "      <th>1</th>\n",
       "      <td>2013-01</td>\n",
       "      <td>BCN</td>\n",
       "      <td>26</td>\n",
       "    </tr>\n",
       "    <tr>\n",
       "      <th>2</th>\n",
       "      <td>2013-01</td>\n",
       "      <td>MAD</td>\n",
       "      <td>11</td>\n",
       "    </tr>\n",
       "  </tbody>\n",
       "</table>\n",
       "</div>"
      ],
      "text/plain": [
       "  Year-Month Destination  index\n",
       "0    2013-01         AGP      7\n",
       "1    2013-01         BCN     26\n",
       "2    2013-01         MAD     11"
      ]
     },
     "execution_count": 64,
     "metadata": {},
     "output_type": "execute_result"
    }
   ],
   "source": [
    "sFilter_gr.head()"
   ]
  },
  {
   "cell_type": "markdown",
   "metadata": {},
   "source": [
    "#### Aumentamos el tamaño del sample "
   ]
  },
  {
   "cell_type": "code",
   "execution_count": 56,
   "metadata": {
    "collapsed": false
   },
   "outputs": [
    {
     "name": "stdout",
     "output_type": "stream",
     "text": [
      "\r\n",
      "bzcat: I/O or other error, bailing out.  Possible reason follows.\r\n",
      "bzcat: Broken pipe\r\n",
      "\tInput file = /home/dsc/Data/challenge/searches.csv.bz2, output file = (stdout)\r\n"
     ]
    }
   ],
   "source": [
    "!bzcat /home/dsc/Data/challenge/searches.csv.bz2 | head -200000 > ./searches_sample2.csv\n"
   ]
  },
  {
   "cell_type": "code",
   "execution_count": 57,
   "metadata": {
    "collapsed": true
   },
   "outputs": [],
   "source": [
    "!bzip2 -f ./searches_sample2.csv"
   ]
  },
  {
   "cell_type": "code",
   "execution_count": 58,
   "metadata": {
    "collapsed": false
   },
   "outputs": [
    {
     "name": "stdout",
     "output_type": "stream",
     "text": [
      "/home/dsc/Repositories/M-ster---Data-Science\r\n"
     ]
    }
   ],
   "source": [
    "!pwd\n"
   ]
  },
  {
   "cell_type": "markdown",
   "metadata": {},
   "source": [
    "# Plotting "
   ]
  },
  {
   "cell_type": "code",
   "execution_count": 62,
   "metadata": {
    "collapsed": false
   },
   "outputs": [
    {
     "name": "stdout",
     "output_type": "stream",
     "text": [
      "Populating the interactive namespace from numpy and matplotlib\n"
     ]
    }
   ],
   "source": [
    "%pylab inline"
   ]
  },
  {
   "cell_type": "code",
   "execution_count": 67,
   "metadata": {
    "collapsed": false
   },
   "outputs": [],
   "source": [
    "sFilter_gr.rename(columns={'index':'Num Searches'}, inplace=True)"
   ]
  },
  {
   "cell_type": "code",
   "execution_count": 68,
   "metadata": {
    "collapsed": false
   },
   "outputs": [],
   "source": [
    "prepared_df=sFilter_gr.pivot('Year-Month','Destination','Num Searches')"
   ]
  },
  {
   "cell_type": "code",
   "execution_count": 72,
   "metadata": {
    "collapsed": false
   },
   "outputs": [
    {
     "data": {
      "text/plain": [
       "<matplotlib.axes._subplots.AxesSubplot at 0x7fb86e8d6190>"
      ]
     },
     "execution_count": 72,
     "metadata": {},
     "output_type": "execute_result"
    },
    {
     "data": {
      "image/png": "[encoded data removed]",
      "text/plain": [
       "<matplotlib.figure.Figure at 0x7fb86ee85e10>"
      ]
     },
     "metadata": {},
     "output_type": "display_data"
    }
   ],
   "source": [
    "prepared_df.plot(grid=True)"
   ]
  },
  {
   "cell_type": "code",
   "execution_count": 73,
   "metadata": {
    "collapsed": true
   },
   "outputs": [],
   "source": [
    "import seaborn as sns"
   ]
  },
  {
   "cell_type": "code",
   "execution_count": 75,
   "metadata": {
    "collapsed": false
   },
   "outputs": [
    {
     "data": {
      "image/png": "[encoded data removed]",
      "text/plain": [
       "<matplotlib.figure.Figure at 0x7fb861896050>"
      ]
     },
     "metadata": {},
     "output_type": "display_data"
    }
   ],
   "source": [
    "ax=sns.pointplot(x='Year-Month', y='Num Searches', hue='Destination', data=sFilter_gr)\n"
   ]
  },
  {
   "cell_type": "code",
   "execution_count": 76,
   "metadata": {
    "collapsed": false
   },
   "outputs": [
    {
     "data": {
      "text/plain": [
       "[<matplotlib.text.Text at 0x7fb8613cb890>,\n",
       " <matplotlib.text.Text at 0x7fb8613b6ad0>]"
      ]
     },
     "execution_count": 76,
     "metadata": {},
     "output_type": "execute_result"
    }
   ],
   "source": [
    "ax.set(xlabel='Month', ylabel='Number of searches')"
   ]
  },
  {
   "cell_type": "code",
   "execution_count": null,
   "metadata": {
    "collapsed": true
   },
   "outputs": [],
   "source": []
  },
  {
   "cell_type": "markdown",
   "metadata": {},
   "source": [
    "## Chunksize & append group by DF "
   ]
  },
  {
   "cell_type": "code",
   "execution_count": 83,
   "metadata": {
    "collapsed": true
   },
   "outputs": [],
   "source": [
    "all_results_gr=all_results.groupby(['Year-Month','Destination']).sum().reset_index()"
   ]
  },
  {
   "cell_type": "code",
   "execution_count": 84,
   "metadata": {
    "collapsed": false
   },
   "outputs": [],
   "source": [
    "all_results_gr.rename(columns={'index':'Num Searches'}, inplace=True)"
   ]
  },
  {
   "cell_type": "code",
   "execution_count": 85,
   "metadata": {
    "collapsed": false
   },
   "outputs": [
    {
     "data": {
      "text/plain": [
       "[<matplotlib.text.Text at 0x7fb86e03ff50>,\n",
       " <matplotlib.text.Text at 0x7fb8613b41d0>]"
      ]
     },
     "execution_count": 85,
     "metadata": {},
     "output_type": "execute_result"
    },
    {
     "data": {
      "image/png": "[encoded data removed]",
      "text/plain": [
       "<matplotlib.figure.Figure at 0x7fb861106850>"
      ]
     },
     "metadata": {},
     "output_type": "display_data"
    }
   ],
   "source": [
    "import seaborn as sns\n",
    "ax=sns.pointplot(x='Year-Month',y='Num Searches', hue='Destination', data=all_results_gr)\n",
    "ax.set(xlabel='Month', ylabel='Number of Searches')"
   ]
  },
  {
   "cell_type": "code",
   "execution_count": 88,
   "metadata": {
    "collapsed": false
   },
   "outputs": [
    {
     "name": "stdout",
     "output_type": "stream",
     "text": [
      "Chunk 1 with size 1000000\n",
      "Chunk 2 with size 1000000\n",
      "Chunk 3 with size 1000000\n",
      "Chunk 4 with size 1000000\n",
      "Chunk 5 with size 1000000\n",
      "Chunk 6 with size 1000000\n",
      "Chunk 7 with size 1000000\n",
      "Chunk 8 with size 1000000\n",
      "Chunk 9 with size 1000000\n",
      "Chunk 10 with size 1000000\n",
      "Chunk 11 with size 1000000\n",
      "Chunk 12 with size 1000000\n",
      "Chunk 13 with size 1000000\n",
      "Chunk 14 with size 1000000\n",
      "Chunk 15 with size 1000000\n",
      "Chunk 16 with size 1000000\n",
      "Chunk 17 with size 1000000\n",
      "Chunk 18 with size 1000000\n",
      "Chunk 19 with size 1000000\n",
      "Chunk 20 with size 1000000\n",
      "Chunk 21 with size 390198\n",
      "CPU times: user 3min 10s, sys: 4.19 s, total: 3min 14s\n",
      "Wall time: 3min 18s\n"
     ]
    },
    {
     "data": {
      "image/png": "[encoded data removed]",
      "text/plain": [
       "<matplotlib.figure.Figure at 0x7fb860da0a50>"
      ]
     },
     "metadata": {},
     "output_type": "display_data"
    }
   ],
   "source": [
    "%%time\n",
    "sc=pd.read_csv('/home/dsc/Data/challenge/searches.csv.bz2', sep='^',usecols=['Date','Destination'], chunksize=1000000)\n",
    "\n",
    "all_results=pd.DataFrame()\n",
    "\n",
    "\n",
    "for i, chunk in enumerate(sc):\n",
    "    print \"Chunk %d with size %d\"%(i+1, len(chunk))\n",
    "    s = s.dropna()\n",
    "    sFilter=s[s['Destination'].isin(['MAD','BCN','AGP'])].copy()\n",
    "    sFilter['Year-Month']=sFilter['Date'].str[0:7]\n",
    "    sFilter.drop('Date', axis=1, inplace=True)\n",
    "    sFilter_gr=sFilter.reset_index().groupby(['Year-Month', 'Destination']).count().reset_index()\n",
    "    all_results=all_results.append(sFilter_gr)\n",
    "\n",
    "all_results_gr=all_results.groupby(['Year-Month','Destination']).sum().reset_index()\n",
    "all_results_gr.rename(columns={'index':'Num Searches'}, inplace=True)\n",
    "ax=sns.pointplot(x='Year-Month',y='Num Searches', hue='Destination', data=all_results_gr)\n",
    "ax.set(xlabel='Month', ylabel='Number of Searches')\n",
    "\n",
    "#sFilter_gr.rename(columns={'index':'Num Searches'}, inplace=True)\n",
    "#prepared_df=sFilter_gr.pivot('Year-Month','Destination','Num Searches')\n",
    "#prepared_df.plot(grid=True)"
   ]
  },
  {
   "cell_type": "markdown",
   "metadata": {},
   "source": [
    "# Booking "
   ]
  },
  {
   "cell_type": "code",
   "execution_count": 89,
   "metadata": {
    "collapsed": true
   },
   "outputs": [],
   "source": [
    "import pandas as pd"
   ]
  },
  {
   "cell_type": "code",
   "execution_count": 90,
   "metadata": {
    "collapsed": false
   },
   "outputs": [
    {
     "name": "stdout",
     "output_type": "stream",
     "text": [
      "/home/dsc/Data/challenge\n"
     ]
    }
   ],
   "source": [
    "cd ~/Data/challenge/"
   ]
  },
  {
   "cell_type": "code",
   "execution_count": 98,
   "metadata": {
    "collapsed": true
   },
   "outputs": [],
   "source": [
    "bc = pd.read_csv('/home/dsc/Data/challenge/searches.csv.bz2', sep='^',chunksize=300000, low_memory=False)"
   ]
  },
  {
   "cell_type": "code",
   "execution_count": 99,
   "metadata": {
    "collapsed": false
   },
   "outputs": [
    {
     "name": "stdout",
     "output_type": "stream",
     "text": [
      "Chunk 1, keeping 299999 lines\n",
      "Chunk 2, keeping 358999 lines\n",
      "Chunk 3, keeping 358999 lines\n",
      "Chunk 4, keeping 358999 lines\n",
      "Chunk 5, keeping 658992 lines\n",
      "Chunk 6, keeping 718002 lines\n",
      "Chunk 7, keeping 718002 lines\n",
      "Chunk 8, keeping 718002 lines\n",
      "Chunk 9, keeping 718002 lines\n",
      "Chunk 10, keeping 718002 lines\n",
      "Chunk 11, keeping 718002 lines\n",
      "Chunk 12, keeping 718002 lines\n",
      "Chunk 13, keeping 718002 lines\n",
      "Chunk 14, keeping 718002 lines\n",
      "Chunk 15, keeping 718002 lines\n",
      "Chunk 16, keeping 718002 lines\n",
      "Chunk 17, keeping 718002 lines\n",
      "Chunk 18, keeping 718002 lines\n",
      "Chunk 19, keeping 718002 lines\n",
      "Chunk 20, keeping 718002 lines\n",
      "Chunk 21, keeping 718002 lines\n",
      "Chunk 22, keeping 718002 lines\n",
      "Chunk 23, keeping 718002 lines\n",
      "Chunk 24, keeping 718002 lines\n",
      "Chunk 25, keeping 718002 lines\n",
      "Chunk 26, keeping 718002 lines\n",
      "Chunk 27, keeping 718002 lines\n",
      "Chunk 28, keeping 718002 lines\n",
      "Chunk 29, keeping 718002 lines\n",
      "Chunk 30, keeping 718002 lines\n",
      "Chunk 31, keeping 718002 lines\n",
      "Chunk 32, keeping 718002 lines\n",
      "Chunk 33, keeping 718002 lines\n",
      "Chunk 34, keeping 718002 lines\n",
      "Chunk 35, keeping 718002 lines\n",
      "Chunk 36, keeping 718002 lines\n",
      "Chunk 37, keeping 718002 lines\n",
      "Chunk 38, keeping 718002 lines\n",
      "Chunk 39, keeping 718002 lines\n",
      "Chunk 40, keeping 718002 lines\n",
      "Chunk 41, keeping 718002 lines\n",
      "Chunk 42, keeping 718002 lines\n",
      "Chunk 43, keeping 718002 lines\n",
      "Chunk 44, keeping 718002 lines\n",
      "Chunk 45, keeping 718002 lines\n",
      "Chunk 46, keeping 718002 lines\n",
      "Chunk 47, keeping 718002 lines\n",
      "Chunk 48, keeping 718002 lines\n",
      "Chunk 49, keeping 718002 lines\n",
      "Chunk 50, keeping 718002 lines\n",
      "Chunk 51, keeping 718002 lines\n",
      "Chunk 52, keeping 718002 lines\n",
      "Chunk 53, keeping 718002 lines\n",
      "Chunk 54, keeping 718002 lines\n",
      "Chunk 55, keeping 718002 lines\n",
      "Chunk 56, keeping 718002 lines\n",
      "Chunk 57, keeping 718002 lines\n",
      "Chunk 58, keeping 718002 lines\n",
      "Chunk 59, keeping 718002 lines\n",
      "Chunk 60, keeping 718002 lines\n",
      "Chunk 61, keeping 718002 lines\n",
      "Chunk 62, keeping 718002 lines\n",
      "Chunk 63, keeping 718002 lines\n",
      "Chunk 64, keeping 718002 lines\n",
      "Chunk 65, keeping 718002 lines\n",
      "Chunk 66, keeping 718002 lines\n",
      "Chunk 67, keeping 718002 lines\n",
      "Chunk 68, keeping 718003 lines\n"
     ]
    }
   ],
   "source": [
    "all_chunks=pd.DataFrame()\n",
    "for i, chunk in enumerate(bc):\n",
    "    all_chunks=all_chunks.append(chunk)\n",
    "    all_chunks=all_chunks.drop_duplicates()\n",
    "    print \"Chunk %d, keeping %d lines\"%(i+1, len(all_chunks))"
   ]
  },
  {
   "cell_type": "code",
   "execution_count": 100,
   "metadata": {
    "collapsed": true
   },
   "outputs": [],
   "source": [
    "all_chunks.to_csv('./searches.no_dup.csv', sep='^', index=False)"
   ]
  },
  {
   "cell_type": "code",
   "execution_count": 101,
   "metadata": {
    "collapsed": true
   },
   "outputs": [],
   "source": [
    "!bzip2 -f searches.no_dup.csv"
   ]
  },
  {
   "cell_type": "markdown",
   "metadata": {},
   "source": [
    " # Preparing for "
   ]
  },
  {
   "cell_type": "markdown",
   "metadata": {},
   "source": [
    "### We have seen that we have white space in some columns... "
   ]
  },
  {
   "cell_type": "markdown",
   "metadata": {},
   "source": [
    "1) Bookings: [act_date, dep_port, arr_port]\n",
    "   Searches: [search_date, origin, destination]\n",
    "\n",
    "2) dates de string a datetime object\n",
    "3) remove whitespaces (from column names and content)\n",
    "4) remove NaN\n",
    "5) match Bookings % Searches -> put 1 if search_date, O&D == booking_date, =&D"
   ]
  },
  {
   "cell_type": "code",
   "execution_count": 102,
   "metadata": {
    "collapsed": false
   },
   "outputs": [
    {
     "name": "stdout",
     "output_type": "stream",
     "text": [
      "Once deleted, variables cannot be recovered. Proceed (y/[n])? y\n"
     ]
    }
   ],
   "source": [
    "%reset"
   ]
  },
  {
   "cell_type": "code",
   "execution_count": 103,
   "metadata": {
    "collapsed": true
   },
   "outputs": [],
   "source": [
    "import pandas as pd"
   ]
  },
  {
   "cell_type": "code",
   "execution_count": 106,
   "metadata": {
    "collapsed": true
   },
   "outputs": [],
   "source": [
    "b = pd.read_csv('./bookings.no_dup.csv.bz2', sep='^', usecols=['act_date           ','arr_port','dep_port'])"
   ]
  },
  {
   "cell_type": "code",
   "execution_count": 105,
   "metadata": {
    "collapsed": false
   },
   "outputs": [
    {
     "data": {
      "text/plain": [
       "['act_date           ',\n",
       " 'source',\n",
       " 'pos_ctry',\n",
       " 'pos_iata',\n",
       " 'pos_oid  ',\n",
       " 'rloc          ',\n",
       " 'cre_date           ',\n",
       " 'duration',\n",
       " 'distance',\n",
       " 'dep_port',\n",
       " 'dep_city',\n",
       " 'dep_ctry',\n",
       " 'arr_port',\n",
       " 'arr_city',\n",
       " 'arr_ctry',\n",
       " 'lst_port',\n",
       " 'lst_city',\n",
       " 'lst_ctry',\n",
       " 'brd_port',\n",
       " 'brd_city',\n",
       " 'brd_ctry',\n",
       " 'off_port',\n",
       " 'off_city',\n",
       " 'off_ctry',\n",
       " 'mkt_port',\n",
       " 'mkt_city',\n",
       " 'mkt_ctry',\n",
       " 'intl',\n",
       " 'route          ',\n",
       " 'carrier',\n",
       " 'bkg_class',\n",
       " 'cab_class',\n",
       " 'brd_time           ',\n",
       " 'off_time           ',\n",
       " 'pax',\n",
       " 'year',\n",
       " 'month',\n",
       " 'oid      ']"
      ]
     },
     "execution_count": 105,
     "metadata": {},
     "output_type": "execute_result"
    }
   ],
   "source": [
    "b.columns.tolist()"
   ]
  },
  {
   "cell_type": "code",
   "execution_count": 107,
   "metadata": {
    "collapsed": true
   },
   "outputs": [],
   "source": [
    "s = pd.read_csv('./searches.no_dup.csv.bz2', sep='^', usecols=['Date','Origin','Destination'])"
   ]
  },
  {
   "cell_type": "code",
   "execution_count": 108,
   "metadata": {
    "collapsed": false
   },
   "outputs": [
    {
     "data": {
      "text/plain": [
       "['2013-03-05 00:00:00', 'ZRH     ', 'LHR     ']"
      ]
     },
     "execution_count": 108,
     "metadata": {},
     "output_type": "execute_result"
    }
   ],
   "source": [
    "b.iloc[0].tolist()"
   ]
  },
  {
   "cell_type": "code",
   "execution_count": 109,
   "metadata": {
    "collapsed": false
   },
   "outputs": [
    {
     "data": {
      "text/plain": [
       "['2013-01-01', 'TXL', 'AUH']"
      ]
     },
     "execution_count": 109,
     "metadata": {},
     "output_type": "execute_result"
    }
   ],
   "source": [
    "s.iloc[0].tolist()"
   ]
  },
  {
   "cell_type": "markdown",
   "metadata": {},
   "source": [
    "## Search "
   ]
  },
  {
   "cell_type": "code",
   "execution_count": 110,
   "metadata": {
    "collapsed": false
   },
   "outputs": [
    {
     "data": {
      "text/plain": [
       "'LHR'"
      ]
     },
     "execution_count": 110,
     "metadata": {},
     "output_type": "execute_result"
    }
   ],
   "source": [
    "b.iloc[0]['arr_port'].strip()"
   ]
  },
  {
   "cell_type": "code",
   "execution_count": 111,
   "metadata": {
    "collapsed": true
   },
   "outputs": [],
   "source": [
    "b['arr_port']=b['arr_port'].map(lambda x:str(x).strip())"
   ]
  },
  {
   "cell_type": "code",
   "execution_count": 112,
   "metadata": {
    "collapsed": true
   },
   "outputs": [],
   "source": [
    "b['dep_port']=b['dep_port'].map(lambda x:str(x).strip())"
   ]
  },
  {
   "cell_type": "code",
   "execution_count": 113,
   "metadata": {
    "collapsed": false
   },
   "outputs": [
    {
     "data": {
      "text/plain": [
       "['2013-03-05 00:00:00', 'ZRH', 'LHR']"
      ]
     },
     "execution_count": 113,
     "metadata": {},
     "output_type": "execute_result"
    }
   ],
   "source": [
    "b.iloc[0].tolist()"
   ]
  },
  {
   "cell_type": "code",
   "execution_count": 114,
   "metadata": {
    "collapsed": true
   },
   "outputs": [],
   "source": [
    "b.columns=b.columns.str.strip()"
   ]
  },
  {
   "cell_type": "code",
   "execution_count": 115,
   "metadata": {
    "collapsed": false
   },
   "outputs": [
    {
     "data": {
      "text/plain": [
       "['act_date', 'dep_port', 'arr_port']"
      ]
     },
     "execution_count": 115,
     "metadata": {},
     "output_type": "execute_result"
    }
   ],
   "source": [
    "b.columns.tolist()"
   ]
  },
  {
   "cell_type": "code",
   "execution_count": 118,
   "metadata": {
    "collapsed": false
   },
   "outputs": [],
   "source": [
    "b['act_date']=b['act_date'].str[0:10].head()"
   ]
  },
  {
   "cell_type": "code",
   "execution_count": 119,
   "metadata": {
    "collapsed": false
   },
   "outputs": [
    {
     "data": {
      "text/plain": [
       "['2013-03-05', 'ZRH', 'LHR']"
      ]
     },
     "execution_count": 119,
     "metadata": {},
     "output_type": "execute_result"
    }
   ],
   "source": [
    "b.iloc[0].tolist()"
   ]
  },
  {
   "cell_type": "code",
   "execution_count": 120,
   "metadata": {
    "collapsed": false
   },
   "outputs": [
    {
     "data": {
      "text/plain": [
       "['2013-01-01', 'TXL', 'AUH']"
      ]
     },
     "execution_count": 120,
     "metadata": {},
     "output_type": "execute_result"
    }
   ],
   "source": [
    "s.iloc[0].tolist()"
   ]
  },
  {
   "cell_type": "code",
   "execution_count": 123,
   "metadata": {
    "collapsed": false
   },
   "outputs": [
    {
     "name": "stdout",
     "output_type": "stream",
     "text": [
      "before drop b=1299993, s=718003\n",
      "after drop b=1299993, s=718002\n"
     ]
    }
   ],
   "source": [
    "b = pd.read_csv('./bookings.no_dup.csv.bz2', sep='^', usecols=['act_date           ','arr_port','dep_port'])\n",
    "s = pd.read_csv('./searches.no_dup.csv.bz2', sep='^', usecols=['Date','Origin','Destination'])\n",
    "b['arr_port']=b['arr_port'].str.strip()\n",
    "b['dep_port']=b['dep_port'].map(lambda x:str(x).strip())\n",
    "b.columns=b.columns.str.strip()\n",
    "b['act_date']=b['act_date'].str[0:10]\n",
    "\n",
    "print \"before drop b=%d, s=%d\"%(len(b),len(s))\n",
    "b=b.dropna()\n",
    "s=s.dropna()\n",
    "print \"after drop b=%d, s=%d\"%(len(b),len(s))"
   ]
  },
  {
   "cell_type": "code",
   "execution_count": 128,
   "metadata": {
    "collapsed": false
   },
   "outputs": [],
   "source": [
    "b_gr=b.reset_index().groupby(['dep_port','arr_port','act_date']).count().reset_index()"
   ]
  },
  {
   "cell_type": "code",
   "execution_count": 129,
   "metadata": {
    "collapsed": false
   },
   "outputs": [
    {
     "data": {
      "text/html": [
       "<div>\n",
       "<table border=\"1\" class=\"dataframe\">\n",
       "  <thead>\n",
       "    <tr style=\"text-align: right;\">\n",
       "      <th></th>\n",
       "      <th>dep_port</th>\n",
       "      <th>arr_port</th>\n",
       "      <th>act_date</th>\n",
       "      <th>index</th>\n",
       "    </tr>\n",
       "  </thead>\n",
       "  <tbody>\n",
       "    <tr>\n",
       "      <th>0</th>\n",
       "      <td>AAB</td>\n",
       "      <td>ROV</td>\n",
       "      <td>2013-05-29</td>\n",
       "      <td>2</td>\n",
       "    </tr>\n",
       "    <tr>\n",
       "      <th>1</th>\n",
       "      <td>AAB</td>\n",
       "      <td>ROV</td>\n",
       "      <td>2013-08-24</td>\n",
       "      <td>2</td>\n",
       "    </tr>\n",
       "    <tr>\n",
       "      <th>2</th>\n",
       "      <td>AAE</td>\n",
       "      <td>ALG</td>\n",
       "      <td>2013-01-07</td>\n",
       "      <td>1</td>\n",
       "    </tr>\n",
       "    <tr>\n",
       "      <th>3</th>\n",
       "      <td>AAE</td>\n",
       "      <td>ALG</td>\n",
       "      <td>2013-01-08</td>\n",
       "      <td>2</td>\n",
       "    </tr>\n",
       "    <tr>\n",
       "      <th>4</th>\n",
       "      <td>AAE</td>\n",
       "      <td>ALG</td>\n",
       "      <td>2013-01-09</td>\n",
       "      <td>6</td>\n",
       "    </tr>\n",
       "  </tbody>\n",
       "</table>\n",
       "</div>"
      ],
      "text/plain": [
       "  dep_port arr_port    act_date  index\n",
       "0      AAB      ROV  2013-05-29      2\n",
       "1      AAB      ROV  2013-08-24      2\n",
       "2      AAE      ALG  2013-01-07      1\n",
       "3      AAE      ALG  2013-01-08      2\n",
       "4      AAE      ALG  2013-01-09      6"
      ]
     },
     "execution_count": 129,
     "metadata": {},
     "output_type": "execute_result"
    }
   ],
   "source": [
    "b_gr.head()"
   ]
  },
  {
   "cell_type": "code",
   "execution_count": 130,
   "metadata": {
    "collapsed": true
   },
   "outputs": [],
   "source": [
    "s_with_index = s.reset_index()"
   ]
  },
  {
   "cell_type": "code",
   "execution_count": 131,
   "metadata": {
    "collapsed": false
   },
   "outputs": [
    {
     "data": {
      "text/html": [
       "<div>\n",
       "<table border=\"1\" class=\"dataframe\">\n",
       "  <thead>\n",
       "    <tr style=\"text-align: right;\">\n",
       "      <th></th>\n",
       "      <th>index</th>\n",
       "      <th>Date</th>\n",
       "      <th>Origin</th>\n",
       "      <th>Destination</th>\n",
       "    </tr>\n",
       "  </thead>\n",
       "  <tbody>\n",
       "    <tr>\n",
       "      <th>717997</th>\n",
       "      <td>717998</td>\n",
       "      <td>2013-05-03</td>\n",
       "      <td>CPH</td>\n",
       "      <td>AYT</td>\n",
       "    </tr>\n",
       "    <tr>\n",
       "      <th>717998</th>\n",
       "      <td>717999</td>\n",
       "      <td>2013-05-03</td>\n",
       "      <td>NYC</td>\n",
       "      <td>YTO</td>\n",
       "    </tr>\n",
       "    <tr>\n",
       "      <th>717999</th>\n",
       "      <td>718000</td>\n",
       "      <td>2013-05-03</td>\n",
       "      <td>TRF</td>\n",
       "      <td>TRD</td>\n",
       "    </tr>\n",
       "    <tr>\n",
       "      <th>718000</th>\n",
       "      <td>718001</td>\n",
       "      <td>2013-05-03</td>\n",
       "      <td>IAH</td>\n",
       "      <td>RDU</td>\n",
       "    </tr>\n",
       "    <tr>\n",
       "      <th>718001</th>\n",
       "      <td>718002</td>\n",
       "      <td>2013-10-13</td>\n",
       "      <td>VIE</td>\n",
       "      <td>HA</td>\n",
       "    </tr>\n",
       "  </tbody>\n",
       "</table>\n",
       "</div>"
      ],
      "text/plain": [
       "         index        Date Origin Destination\n",
       "717997  717998  2013-05-03    CPH         AYT\n",
       "717998  717999  2013-05-03    NYC         YTO\n",
       "717999  718000  2013-05-03    TRF         TRD\n",
       "718000  718001  2013-05-03    IAH         RDU\n",
       "718001  718002  2013-10-13    VIE          HA"
      ]
     },
     "execution_count": 131,
     "metadata": {},
     "output_type": "execute_result"
    }
   ],
   "source": [
    "s_with_index.tail()"
   ]
  },
  {
   "cell_type": "code",
   "execution_count": 133,
   "metadata": {
    "collapsed": false
   },
   "outputs": [],
   "source": [
    "s_with_b = s_with_index.merge(b_gr,how='left',left_on=['Date', 'Origin', 'Destination'], right_on=['act_date','dep_port','arr_port'])"
   ]
  },
  {
   "cell_type": "code",
   "execution_count": 134,
   "metadata": {
    "collapsed": false
   },
   "outputs": [
    {
     "data": {
      "text/plain": [
       "718002"
      ]
     },
     "execution_count": 134,
     "metadata": {},
     "output_type": "execute_result"
    }
   ],
   "source": [
    "len(s_with_index)"
   ]
  },
  {
   "cell_type": "code",
   "execution_count": 135,
   "metadata": {
    "collapsed": false
   },
   "outputs": [
    {
     "data": {
      "text/plain": [
       "718002"
      ]
     },
     "execution_count": 135,
     "metadata": {},
     "output_type": "execute_result"
    }
   ],
   "source": [
    "len(s_with_b)"
   ]
  },
  {
   "cell_type": "code",
   "execution_count": 136,
   "metadata": {
    "collapsed": false
   },
   "outputs": [
    {
     "data": {
      "text/html": [
       "<div>\n",
       "<table border=\"1\" class=\"dataframe\">\n",
       "  <thead>\n",
       "    <tr style=\"text-align: right;\">\n",
       "      <th></th>\n",
       "      <th>index_x</th>\n",
       "      <th>Date</th>\n",
       "      <th>Origin</th>\n",
       "      <th>Destination</th>\n",
       "      <th>dep_port</th>\n",
       "      <th>arr_port</th>\n",
       "      <th>act_date</th>\n",
       "      <th>index_y</th>\n",
       "    </tr>\n",
       "  </thead>\n",
       "  <tbody>\n",
       "    <tr>\n",
       "      <th>0</th>\n",
       "      <td>0</td>\n",
       "      <td>2013-01-01</td>\n",
       "      <td>TXL</td>\n",
       "      <td>AUH</td>\n",
       "      <td>NaN</td>\n",
       "      <td>NaN</td>\n",
       "      <td>NaN</td>\n",
       "      <td>NaN</td>\n",
       "    </tr>\n",
       "    <tr>\n",
       "      <th>1</th>\n",
       "      <td>1</td>\n",
       "      <td>2013-01-01</td>\n",
       "      <td>ATH</td>\n",
       "      <td>MIL</td>\n",
       "      <td>NaN</td>\n",
       "      <td>NaN</td>\n",
       "      <td>NaN</td>\n",
       "      <td>NaN</td>\n",
       "    </tr>\n",
       "    <tr>\n",
       "      <th>2</th>\n",
       "      <td>2</td>\n",
       "      <td>2013-01-01</td>\n",
       "      <td>ICT</td>\n",
       "      <td>SFO</td>\n",
       "      <td>NaN</td>\n",
       "      <td>NaN</td>\n",
       "      <td>NaN</td>\n",
       "      <td>NaN</td>\n",
       "    </tr>\n",
       "    <tr>\n",
       "      <th>3</th>\n",
       "      <td>3</td>\n",
       "      <td>2013-01-01</td>\n",
       "      <td>RNB</td>\n",
       "      <td>ARN</td>\n",
       "      <td>NaN</td>\n",
       "      <td>NaN</td>\n",
       "      <td>NaN</td>\n",
       "      <td>NaN</td>\n",
       "    </tr>\n",
       "    <tr>\n",
       "      <th>4</th>\n",
       "      <td>4</td>\n",
       "      <td>2013-01-01</td>\n",
       "      <td>OSL</td>\n",
       "      <td>MAD</td>\n",
       "      <td>NaN</td>\n",
       "      <td>NaN</td>\n",
       "      <td>NaN</td>\n",
       "      <td>NaN</td>\n",
       "    </tr>\n",
       "  </tbody>\n",
       "</table>\n",
       "</div>"
      ],
      "text/plain": [
       "   index_x        Date Origin Destination dep_port arr_port act_date  index_y\n",
       "0        0  2013-01-01    TXL         AUH      NaN      NaN      NaN      NaN\n",
       "1        1  2013-01-01    ATH         MIL      NaN      NaN      NaN      NaN\n",
       "2        2  2013-01-01    ICT         SFO      NaN      NaN      NaN      NaN\n",
       "3        3  2013-01-01    RNB         ARN      NaN      NaN      NaN      NaN\n",
       "4        4  2013-01-01    OSL         MAD      NaN      NaN      NaN      NaN"
      ]
     },
     "execution_count": 136,
     "metadata": {},
     "output_type": "execute_result"
    }
   ],
   "source": [
    "s_with_b.head()"
   ]
  },
  {
   "cell_type": "code",
   "execution_count": 137,
   "metadata": {
    "collapsed": false
   },
   "outputs": [
    {
     "data": {
      "text/html": [
       "<div>\n",
       "<table border=\"1\" class=\"dataframe\">\n",
       "  <thead>\n",
       "    <tr style=\"text-align: right;\">\n",
       "      <th></th>\n",
       "      <th>index_x</th>\n",
       "      <th>Date</th>\n",
       "      <th>Origin</th>\n",
       "      <th>Destination</th>\n",
       "      <th>dep_port</th>\n",
       "      <th>arr_port</th>\n",
       "      <th>act_date</th>\n",
       "      <th>index_y</th>\n",
       "    </tr>\n",
       "  </thead>\n",
       "  <tbody>\n",
       "    <tr>\n",
       "      <th>23</th>\n",
       "      <td>23</td>\n",
       "      <td>2013-01-01</td>\n",
       "      <td>DUS</td>\n",
       "      <td>IST</td>\n",
       "      <td>DUS</td>\n",
       "      <td>IST</td>\n",
       "      <td>2013-01-01</td>\n",
       "      <td>1.0</td>\n",
       "    </tr>\n",
       "    <tr>\n",
       "      <th>27</th>\n",
       "      <td>27</td>\n",
       "      <td>2013-01-01</td>\n",
       "      <td>RUH</td>\n",
       "      <td>JED</td>\n",
       "      <td>RUH</td>\n",
       "      <td>JED</td>\n",
       "      <td>2013-01-01</td>\n",
       "      <td>17.0</td>\n",
       "    </tr>\n",
       "    <tr>\n",
       "      <th>40</th>\n",
       "      <td>40</td>\n",
       "      <td>2013-01-01</td>\n",
       "      <td>DMM</td>\n",
       "      <td>MNL</td>\n",
       "      <td>DMM</td>\n",
       "      <td>MNL</td>\n",
       "      <td>2013-01-01</td>\n",
       "      <td>1.0</td>\n",
       "    </tr>\n",
       "    <tr>\n",
       "      <th>59</th>\n",
       "      <td>59</td>\n",
       "      <td>2013-01-01</td>\n",
       "      <td>ATL</td>\n",
       "      <td>MIA</td>\n",
       "      <td>ATL</td>\n",
       "      <td>MIA</td>\n",
       "      <td>2013-01-01</td>\n",
       "      <td>4.0</td>\n",
       "    </tr>\n",
       "    <tr>\n",
       "      <th>94</th>\n",
       "      <td>94</td>\n",
       "      <td>2013-01-01</td>\n",
       "      <td>DXB</td>\n",
       "      <td>KUL</td>\n",
       "      <td>DXB</td>\n",
       "      <td>KUL</td>\n",
       "      <td>2013-01-01</td>\n",
       "      <td>1.0</td>\n",
       "    </tr>\n",
       "  </tbody>\n",
       "</table>\n",
       "</div>"
      ],
      "text/plain": [
       "    index_x        Date Origin Destination dep_port arr_port    act_date  \\\n",
       "23       23  2013-01-01    DUS         IST      DUS      IST  2013-01-01   \n",
       "27       27  2013-01-01    RUH         JED      RUH      JED  2013-01-01   \n",
       "40       40  2013-01-01    DMM         MNL      DMM      MNL  2013-01-01   \n",
       "59       59  2013-01-01    ATL         MIA      ATL      MIA  2013-01-01   \n",
       "94       94  2013-01-01    DXB         KUL      DXB      KUL  2013-01-01   \n",
       "\n",
       "    index_y  \n",
       "23      1.0  \n",
       "27     17.0  \n",
       "40      1.0  \n",
       "59      4.0  \n",
       "94      1.0  "
      ]
     },
     "execution_count": 137,
     "metadata": {},
     "output_type": "execute_result"
    }
   ],
   "source": [
    "s_with_b[s_with_b['index_y']>0].head()"
   ]
  },
  {
   "cell_type": "code",
   "execution_count": 139,
   "metadata": {
    "collapsed": true
   },
   "outputs": [],
   "source": [
    "s_file = pd.read_csv('./searches.no_dup.csv.bz2', sep='^', low_memory=False)"
   ]
  },
  {
   "cell_type": "code",
   "execution_count": 140,
   "metadata": {
    "collapsed": true
   },
   "outputs": [],
   "source": [
    "result=s_file.merge(s_with_b, how='left', left_index=True, right_on='index_x')"
   ]
  },
  {
   "cell_type": "code",
   "execution_count": 141,
   "metadata": {
    "collapsed": false
   },
   "outputs": [
    {
     "data": {
      "text/html": [
       "<div>\n",
       "<table border=\"1\" class=\"dataframe\">\n",
       "  <thead>\n",
       "    <tr style=\"text-align: right;\">\n",
       "      <th></th>\n",
       "      <th>Date_x</th>\n",
       "      <th>Time</th>\n",
       "      <th>TxnCode</th>\n",
       "      <th>OfficeID</th>\n",
       "      <th>Country</th>\n",
       "      <th>Origin_x</th>\n",
       "      <th>Destination_x</th>\n",
       "      <th>RoundTrip</th>\n",
       "      <th>NbSegments</th>\n",
       "      <th>Seg1Departure</th>\n",
       "      <th>Seg1Arrival</th>\n",
       "      <th>Seg1Date</th>\n",
       "      <th>Seg1Carrier</th>\n",
       "      <th>Seg1BookingCode</th>\n",
       "      <th>Seg2Departure</th>\n",
       "      <th>Seg2Arrival</th>\n",
       "      <th>Seg2Date</th>\n",
       "      <th>Seg2Carrier</th>\n",
       "      <th>Seg2BookingCode</th>\n",
       "      <th>Seg3Departure</th>\n",
       "      <th>Seg3Arrival</th>\n",
       "      <th>Seg3Date</th>\n",
       "      <th>Seg3Carrier</th>\n",
       "      <th>Seg3BookingCode</th>\n",
       "      <th>Seg4Departure</th>\n",
       "      <th>Seg4Arrival</th>\n",
       "      <th>Seg4Date</th>\n",
       "      <th>Seg4Carrier</th>\n",
       "      <th>Seg4BookingCode</th>\n",
       "      <th>Seg5Departure</th>\n",
       "      <th>Seg5Arrival</th>\n",
       "      <th>Seg5Date</th>\n",
       "      <th>Seg5Carrier</th>\n",
       "      <th>Seg5BookingCode</th>\n",
       "      <th>Seg6Departure</th>\n",
       "      <th>Seg6Arrival</th>\n",
       "      <th>Seg6Date</th>\n",
       "      <th>Seg6Carrier</th>\n",
       "      <th>Seg6BookingCode</th>\n",
       "      <th>From</th>\n",
       "      <th>IsPublishedForNeg</th>\n",
       "      <th>IsFromInternet</th>\n",
       "      <th>IsFromVista</th>\n",
       "      <th>TerminalID</th>\n",
       "      <th>InternetOffice</th>\n",
       "      <th>index_x</th>\n",
       "      <th>Date_y</th>\n",
       "      <th>Origin_y</th>\n",
       "      <th>Destination_y</th>\n",
       "      <th>dep_port</th>\n",
       "      <th>arr_port</th>\n",
       "      <th>act_date</th>\n",
       "      <th>index_y</th>\n",
       "    </tr>\n",
       "  </thead>\n",
       "  <tbody>\n",
       "    <tr>\n",
       "      <th>717997</th>\n",
       "      <td>2013-05-03</td>\n",
       "      <td>10:28:25</td>\n",
       "      <td>MPT</td>\n",
       "      <td>01a4373dc0878961ab038a4089f8d4a7</td>\n",
       "      <td>DK</td>\n",
       "      <td>CPH</td>\n",
       "      <td>AYT</td>\n",
       "      <td>1.0</td>\n",
       "      <td>2.0</td>\n",
       "      <td>CPH</td>\n",
       "      <td>AYT</td>\n",
       "      <td>2013-08-03</td>\n",
       "      <td>NaN</td>\n",
       "      <td>NaN</td>\n",
       "      <td>AYT</td>\n",
       "      <td>CPH</td>\n",
       "      <td>2013-08-17</td>\n",
       "      <td>NaN</td>\n",
       "      <td>NaN</td>\n",
       "      <td>NaN</td>\n",
       "      <td>NaN</td>\n",
       "      <td>NaN</td>\n",
       "      <td>NaN</td>\n",
       "      <td>NaN</td>\n",
       "      <td>NaN</td>\n",
       "      <td>NaN</td>\n",
       "      <td>NaN</td>\n",
       "      <td>NaN</td>\n",
       "      <td>NaN</td>\n",
       "      <td>NaN</td>\n",
       "      <td>NaN</td>\n",
       "      <td>NaN</td>\n",
       "      <td>NaN</td>\n",
       "      <td>NaN</td>\n",
       "      <td>NaN</td>\n",
       "      <td>NaN</td>\n",
       "      <td>NaN</td>\n",
       "      <td>NaN</td>\n",
       "      <td>NaN</td>\n",
       "      <td>1ASI</td>\n",
       "      <td>0</td>\n",
       "      <td>0</td>\n",
       "      <td>0</td>\n",
       "      <td>d41d8cd98f00b204e9800998ecf8427e</td>\n",
       "      <td>CPH</td>\n",
       "      <td>717998</td>\n",
       "      <td>2013-05-03</td>\n",
       "      <td>CPH</td>\n",
       "      <td>AYT</td>\n",
       "      <td>NaN</td>\n",
       "      <td>NaN</td>\n",
       "      <td>NaN</td>\n",
       "      <td>NaN</td>\n",
       "    </tr>\n",
       "    <tr>\n",
       "      <th>717998</th>\n",
       "      <td>2013-05-03</td>\n",
       "      <td>15:00:52</td>\n",
       "      <td>MPT</td>\n",
       "      <td>4e93208c7efe7d16455c6a887367cdbd</td>\n",
       "      <td>US</td>\n",
       "      <td>NYC</td>\n",
       "      <td>YTO</td>\n",
       "      <td>0.0</td>\n",
       "      <td>1.0</td>\n",
       "      <td>NYC</td>\n",
       "      <td>YTO</td>\n",
       "      <td>2013-05-24</td>\n",
       "      <td>NaN</td>\n",
       "      <td>NaN</td>\n",
       "      <td>NaN</td>\n",
       "      <td>NaN</td>\n",
       "      <td>NaN</td>\n",
       "      <td>NaN</td>\n",
       "      <td>NaN</td>\n",
       "      <td>NaN</td>\n",
       "      <td>NaN</td>\n",
       "      <td>NaN</td>\n",
       "      <td>NaN</td>\n",
       "      <td>NaN</td>\n",
       "      <td>NaN</td>\n",
       "      <td>NaN</td>\n",
       "      <td>NaN</td>\n",
       "      <td>NaN</td>\n",
       "      <td>NaN</td>\n",
       "      <td>NaN</td>\n",
       "      <td>NaN</td>\n",
       "      <td>NaN</td>\n",
       "      <td>NaN</td>\n",
       "      <td>NaN</td>\n",
       "      <td>NaN</td>\n",
       "      <td>NaN</td>\n",
       "      <td>NaN</td>\n",
       "      <td>NaN</td>\n",
       "      <td>NaN</td>\n",
       "      <td>1ASI</td>\n",
       "      <td>0</td>\n",
       "      <td>0</td>\n",
       "      <td>0</td>\n",
       "      <td>d41d8cd98f00b204e9800998ecf8427e</td>\n",
       "      <td>DCA</td>\n",
       "      <td>717999</td>\n",
       "      <td>2013-05-03</td>\n",
       "      <td>NYC</td>\n",
       "      <td>YTO</td>\n",
       "      <td>NaN</td>\n",
       "      <td>NaN</td>\n",
       "      <td>NaN</td>\n",
       "      <td>NaN</td>\n",
       "    </tr>\n",
       "    <tr>\n",
       "      <th>717999</th>\n",
       "      <td>2013-05-03</td>\n",
       "      <td>00:40:36</td>\n",
       "      <td>FXP</td>\n",
       "      <td>439c0bb10ec8b58c68da567c40399a05</td>\n",
       "      <td>NO</td>\n",
       "      <td>TRF</td>\n",
       "      <td>TRD</td>\n",
       "      <td>0.0</td>\n",
       "      <td>1.0</td>\n",
       "      <td>TRF</td>\n",
       "      <td>TRD</td>\n",
       "      <td>2013-08-01</td>\n",
       "      <td>HP</td>\n",
       "      <td>O</td>\n",
       "      <td>NaN</td>\n",
       "      <td>NaN</td>\n",
       "      <td>NaN</td>\n",
       "      <td>NaN</td>\n",
       "      <td>NaN</td>\n",
       "      <td>NaN</td>\n",
       "      <td>NaN</td>\n",
       "      <td>NaN</td>\n",
       "      <td>NaN</td>\n",
       "      <td>NaN</td>\n",
       "      <td>NaN</td>\n",
       "      <td>NaN</td>\n",
       "      <td>NaN</td>\n",
       "      <td>NaN</td>\n",
       "      <td>NaN</td>\n",
       "      <td>NaN</td>\n",
       "      <td>NaN</td>\n",
       "      <td>NaN</td>\n",
       "      <td>NaN</td>\n",
       "      <td>NaN</td>\n",
       "      <td>NaN</td>\n",
       "      <td>NaN</td>\n",
       "      <td>NaN</td>\n",
       "      <td>NaN</td>\n",
       "      <td>NaN</td>\n",
       "      <td>1ASI</td>\n",
       "      <td>0</td>\n",
       "      <td>0</td>\n",
       "      <td>0</td>\n",
       "      <td>d41d8cd98f00b204e9800998ecf8427e</td>\n",
       "      <td>OSL</td>\n",
       "      <td>718000</td>\n",
       "      <td>2013-05-03</td>\n",
       "      <td>TRF</td>\n",
       "      <td>TRD</td>\n",
       "      <td>NaN</td>\n",
       "      <td>NaN</td>\n",
       "      <td>NaN</td>\n",
       "      <td>NaN</td>\n",
       "    </tr>\n",
       "    <tr>\n",
       "      <th>718000</th>\n",
       "      <td>2013-05-03</td>\n",
       "      <td>21:10:30</td>\n",
       "      <td>MPT</td>\n",
       "      <td>3561a60621de06ab1badc8ca55699ef3</td>\n",
       "      <td>US</td>\n",
       "      <td>IAH</td>\n",
       "      <td>RDU</td>\n",
       "      <td>1.0</td>\n",
       "      <td>2.0</td>\n",
       "      <td>IAH</td>\n",
       "      <td>RDU</td>\n",
       "      <td>2013-07-04</td>\n",
       "      <td>NaN</td>\n",
       "      <td>NaN</td>\n",
       "      <td>RDU</td>\n",
       "      <td>IAH</td>\n",
       "      <td>2013-07-14</td>\n",
       "      <td>NaN</td>\n",
       "      <td>NaN</td>\n",
       "      <td>NaN</td>\n",
       "      <td>NaN</td>\n",
       "      <td>NaN</td>\n",
       "      <td>NaN</td>\n",
       "      <td>NaN</td>\n",
       "      <td>NaN</td>\n",
       "      <td>NaN</td>\n",
       "      <td>NaN</td>\n",
       "      <td>NaN</td>\n",
       "      <td>NaN</td>\n",
       "      <td>NaN</td>\n",
       "      <td>NaN</td>\n",
       "      <td>NaN</td>\n",
       "      <td>NaN</td>\n",
       "      <td>NaN</td>\n",
       "      <td>NaN</td>\n",
       "      <td>NaN</td>\n",
       "      <td>NaN</td>\n",
       "      <td>NaN</td>\n",
       "      <td>NaN</td>\n",
       "      <td>1ASIWS</td>\n",
       "      <td>0</td>\n",
       "      <td>0</td>\n",
       "      <td>0</td>\n",
       "      <td>d41d8cd98f00b204e9800998ecf8427e</td>\n",
       "      <td>NYC</td>\n",
       "      <td>718001</td>\n",
       "      <td>2013-05-03</td>\n",
       "      <td>IAH</td>\n",
       "      <td>RDU</td>\n",
       "      <td>NaN</td>\n",
       "      <td>NaN</td>\n",
       "      <td>NaN</td>\n",
       "      <td>NaN</td>\n",
       "    </tr>\n",
       "    <tr>\n",
       "      <th>718001</th>\n",
       "      <td>2013-10-13</td>\n",
       "      <td>18:57:54</td>\n",
       "      <td>MTP</td>\n",
       "      <td>e41c9d833aa74600552f2ed688b67d81</td>\n",
       "      <td>AT</td>\n",
       "      <td>VIE</td>\n",
       "      <td>HA</td>\n",
       "      <td>NaN</td>\n",
       "      <td>NaN</td>\n",
       "      <td>NaN</td>\n",
       "      <td>NaN</td>\n",
       "      <td>NaN</td>\n",
       "      <td>NaN</td>\n",
       "      <td>NaN</td>\n",
       "      <td>NaN</td>\n",
       "      <td>NaN</td>\n",
       "      <td>NaN</td>\n",
       "      <td>NaN</td>\n",
       "      <td>NaN</td>\n",
       "      <td>NaN</td>\n",
       "      <td>NaN</td>\n",
       "      <td>NaN</td>\n",
       "      <td>NaN</td>\n",
       "      <td>NaN</td>\n",
       "      <td>NaN</td>\n",
       "      <td>NaN</td>\n",
       "      <td>NaN</td>\n",
       "      <td>NaN</td>\n",
       "      <td>NaN</td>\n",
       "      <td>NaN</td>\n",
       "      <td>NaN</td>\n",
       "      <td>NaN</td>\n",
       "      <td>NaN</td>\n",
       "      <td>NaN</td>\n",
       "      <td>NaN</td>\n",
       "      <td>NaN</td>\n",
       "      <td>NaN</td>\n",
       "      <td>NaN</td>\n",
       "      <td>NaN</td>\n",
       "      <td>NaN</td>\n",
       "      <td>NaN</td>\n",
       "      <td>NaN</td>\n",
       "      <td>NaN</td>\n",
       "      <td>NaN</td>\n",
       "      <td>NaN</td>\n",
       "      <td>718002</td>\n",
       "      <td>2013-10-13</td>\n",
       "      <td>VIE</td>\n",
       "      <td>HA</td>\n",
       "      <td>NaN</td>\n",
       "      <td>NaN</td>\n",
       "      <td>NaN</td>\n",
       "      <td>NaN</td>\n",
       "    </tr>\n",
       "  </tbody>\n",
       "</table>\n",
       "</div>"
      ],
      "text/plain": [
       "            Date_x      Time TxnCode                          OfficeID  \\\n",
       "717997  2013-05-03  10:28:25     MPT  01a4373dc0878961ab038a4089f8d4a7   \n",
       "717998  2013-05-03  15:00:52     MPT  4e93208c7efe7d16455c6a887367cdbd   \n",
       "717999  2013-05-03  00:40:36     FXP  439c0bb10ec8b58c68da567c40399a05   \n",
       "718000  2013-05-03  21:10:30     MPT  3561a60621de06ab1badc8ca55699ef3   \n",
       "718001  2013-10-13  18:57:54     MTP  e41c9d833aa74600552f2ed688b67d81   \n",
       "\n",
       "       Country Origin_x Destination_x  RoundTrip  NbSegments Seg1Departure  \\\n",
       "717997      DK      CPH           AYT        1.0         2.0           CPH   \n",
       "717998      US      NYC           YTO        0.0         1.0           NYC   \n",
       "717999      NO      TRF           TRD        0.0         1.0           TRF   \n",
       "718000      US      IAH           RDU        1.0         2.0           IAH   \n",
       "718001      AT      VIE            HA        NaN         NaN           NaN   \n",
       "\n",
       "       Seg1Arrival    Seg1Date Seg1Carrier Seg1BookingCode Seg2Departure  \\\n",
       "717997         AYT  2013-08-03         NaN             NaN           AYT   \n",
       "717998         YTO  2013-05-24         NaN             NaN           NaN   \n",
       "717999         TRD  2013-08-01          HP               O           NaN   \n",
       "718000         RDU  2013-07-04         NaN             NaN           RDU   \n",
       "718001         NaN         NaN         NaN             NaN           NaN   \n",
       "\n",
       "       Seg2Arrival    Seg2Date Seg2Carrier Seg2BookingCode Seg3Departure  \\\n",
       "717997         CPH  2013-08-17         NaN             NaN           NaN   \n",
       "717998         NaN         NaN         NaN             NaN           NaN   \n",
       "717999         NaN         NaN         NaN             NaN           NaN   \n",
       "718000         IAH  2013-07-14         NaN             NaN           NaN   \n",
       "718001         NaN         NaN         NaN             NaN           NaN   \n",
       "\n",
       "       Seg3Arrival Seg3Date Seg3Carrier Seg3BookingCode Seg4Departure  \\\n",
       "717997         NaN      NaN         NaN             NaN           NaN   \n",
       "717998         NaN      NaN         NaN             NaN           NaN   \n",
       "717999         NaN      NaN         NaN             NaN           NaN   \n",
       "718000         NaN      NaN         NaN             NaN           NaN   \n",
       "718001         NaN      NaN         NaN             NaN           NaN   \n",
       "\n",
       "       Seg4Arrival Seg4Date Seg4Carrier Seg4BookingCode Seg5Departure  \\\n",
       "717997         NaN      NaN         NaN             NaN           NaN   \n",
       "717998         NaN      NaN         NaN             NaN           NaN   \n",
       "717999         NaN      NaN         NaN             NaN           NaN   \n",
       "718000         NaN      NaN         NaN             NaN           NaN   \n",
       "718001         NaN      NaN         NaN             NaN           NaN   \n",
       "\n",
       "       Seg5Arrival Seg5Date Seg5Carrier Seg5BookingCode Seg6Departure  \\\n",
       "717997         NaN      NaN         NaN             NaN           NaN   \n",
       "717998         NaN      NaN         NaN             NaN           NaN   \n",
       "717999         NaN      NaN         NaN             NaN           NaN   \n",
       "718000         NaN      NaN         NaN             NaN           NaN   \n",
       "718001         NaN      NaN         NaN             NaN           NaN   \n",
       "\n",
       "       Seg6Arrival Seg6Date Seg6Carrier Seg6BookingCode    From  \\\n",
       "717997         NaN      NaN         NaN             NaN    1ASI   \n",
       "717998         NaN      NaN         NaN             NaN    1ASI   \n",
       "717999         NaN      NaN         NaN             NaN    1ASI   \n",
       "718000         NaN      NaN         NaN             NaN  1ASIWS   \n",
       "718001         NaN      NaN         NaN             NaN     NaN   \n",
       "\n",
       "       IsPublishedForNeg IsFromInternet IsFromVista  \\\n",
       "717997                 0              0           0   \n",
       "717998                 0              0           0   \n",
       "717999                 0              0           0   \n",
       "718000                 0              0           0   \n",
       "718001               NaN            NaN         NaN   \n",
       "\n",
       "                              TerminalID InternetOffice  index_x      Date_y  \\\n",
       "717997  d41d8cd98f00b204e9800998ecf8427e            CPH   717998  2013-05-03   \n",
       "717998  d41d8cd98f00b204e9800998ecf8427e            DCA   717999  2013-05-03   \n",
       "717999  d41d8cd98f00b204e9800998ecf8427e            OSL   718000  2013-05-03   \n",
       "718000  d41d8cd98f00b204e9800998ecf8427e            NYC   718001  2013-05-03   \n",
       "718001                               NaN            NaN   718002  2013-10-13   \n",
       "\n",
       "       Origin_y Destination_y dep_port arr_port act_date  index_y  \n",
       "717997      CPH           AYT      NaN      NaN      NaN      NaN  \n",
       "717998      NYC           YTO      NaN      NaN      NaN      NaN  \n",
       "717999      TRF           TRD      NaN      NaN      NaN      NaN  \n",
       "718000      IAH           RDU      NaN      NaN      NaN      NaN  \n",
       "718001      VIE            HA      NaN      NaN      NaN      NaN  "
      ]
     },
     "execution_count": 141,
     "metadata": {},
     "output_type": "execute_result"
    }
   ],
   "source": [
    "result.tail()"
   ]
  },
  {
   "cell_type": "code",
   "execution_count": null,
   "metadata": {
    "collapsed": true
   },
   "outputs": [],
   "source": []
  }
 ],
 "metadata": {
  "kernelspec": {
   "display_name": "Python 2",
   "language": "python",
   "name": "python2"
  },
  "language_info": {
   "codemirror_mode": {
    "name": "ipython",
    "version": 2
   },
   "file_extension": ".py",
   "mimetype": "text/x-python",
   "name": "python",
   "nbconvert_exporter": "python",
   "pygments_lexer": "ipython2",
   "version": "2.7.13"
  }
 },
 "nbformat": 4,
 "nbformat_minor": 2
}
